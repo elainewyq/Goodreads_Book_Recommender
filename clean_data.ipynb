{
 "cells": [
  {
   "cell_type": "code",
   "execution_count": 1,
   "metadata": {},
   "outputs": [],
   "source": [
    "import gzip\n",
    "import json\n",
    "import re\n",
    "import os\n",
    "import sys\n",
    "import numpy as np\n",
    "import pandas as pd\n",
    "import matplotlib.pyplot as plt\n",
    "%matplotlib inline\n",
    "from IPython import display\n",
    "\n",
    "\n",
    "from src.clean_data import clean_books, clean_reviews, scale_data, review_map_id\n",
    "from src.load_data import read_reviews, read_books"
   ]
  },
  {
   "cell_type": "markdown",
   "metadata": {},
   "source": [
    "### Load book data"
   ]
  },
  {
   "cell_type": "code",
   "execution_count": 2,
   "metadata": {},
   "outputs": [
    {
     "name": "stdout",
     "output_type": "stream",
     "text": [
      "counting file: data/goodreads_books_mystery_thriller_crime.json.gz\n",
      "current line: 0,complete\n",
      "done!\n"
     ]
    }
   ],
   "source": [
    "books_df = read_books(os.path.join('data/', 'goodreads_books_mystery_thriller_crime.json.gz'), head=False)"
   ]
  },
  {
   "cell_type": "code",
   "execution_count": 3,
   "metadata": {},
   "outputs": [],
   "source": [
    "books_df1 = books_df.copy()"
   ]
  },
  {
   "cell_type": "code",
   "execution_count": 4,
   "metadata": {},
   "outputs": [
    {
     "data": {
      "text/plain": [
       "219235"
      ]
     },
     "execution_count": 4,
     "metadata": {},
     "output_type": "execute_result"
    }
   ],
   "source": [
    "len(books_df1)"
   ]
  },
  {
   "cell_type": "code",
   "execution_count": 5,
   "metadata": {},
   "outputs": [],
   "source": [
    "cleaned_books = clean_books(books_df1)"
   ]
  },
  {
   "cell_type": "code",
   "execution_count": 55,
   "metadata": {},
   "outputs": [
    {
     "data": {
      "text/plain": [
       "182904"
      ]
     },
     "execution_count": 55,
     "metadata": {},
     "output_type": "execute_result"
    }
   ],
   "source": [
    "len(cleaned_books)"
   ]
  },
  {
   "cell_type": "code",
   "execution_count": 48,
   "metadata": {},
   "outputs": [
    {
     "data": {
      "text/html": [
       "<div>\n",
       "<style scoped>\n",
       "    .dataframe tbody tr th:only-of-type {\n",
       "        vertical-align: middle;\n",
       "    }\n",
       "\n",
       "    .dataframe tbody tr th {\n",
       "        vertical-align: top;\n",
       "    }\n",
       "\n",
       "    .dataframe thead th {\n",
       "        text-align: right;\n",
       "    }\n",
       "</style>\n",
       "<table border=\"1\" class=\"dataframe\">\n",
       "  <thead>\n",
       "    <tr style=\"text-align: right;\">\n",
       "      <th></th>\n",
       "      <th>book_id</th>\n",
       "      <th>work_id</th>\n",
       "      <th>isbn</th>\n",
       "      <th>asin</th>\n",
       "      <th>title</th>\n",
       "      <th>description</th>\n",
       "      <th>num_pages</th>\n",
       "      <th>is_ebook</th>\n",
       "      <th>link</th>\n",
       "      <th>country_code</th>\n",
       "      <th>language_code</th>\n",
       "      <th>average_rating</th>\n",
       "      <th>ratings_count</th>\n",
       "      <th>text_reviews_count</th>\n",
       "      <th>author_id</th>\n",
       "      <th>publisher</th>\n",
       "      <th>publication_year</th>\n",
       "      <th>similar_books</th>\n",
       "    </tr>\n",
       "  </thead>\n",
       "  <tbody>\n",
       "    <tr>\n",
       "      <th>1478</th>\n",
       "      <td>12639858</td>\n",
       "      <td>1222101</td>\n",
       "      <td>161293028X</td>\n",
       "      <td></td>\n",
       "      <td>The Adventures of Sherlock Holmes</td>\n",
       "      <td>This is a beautifully-designed new edition of the definitive \"Adventures of Sherlock Holmes\" by Sir Arthur Conan Doyle. Includes 12 complete short stories, comprising the best-known cases of the world's best-loved sleuth.</td>\n",
       "      <td>236</td>\n",
       "      <td>0</td>\n",
       "      <td>https://www.goodreads.com/book/show/12639858-the-adventures-of-sherlock-holmes</td>\n",
       "      <td>US</td>\n",
       "      <td>NaN</td>\n",
       "      <td>4.3</td>\n",
       "      <td>29</td>\n",
       "      <td>1</td>\n",
       "      <td>2448</td>\n",
       "      <td>Tribeca Books</td>\n",
       "      <td>2011</td>\n",
       "      <td>[184594, 359251, 1474865, 192887, 141270, 567550, 18626865, 122646, 278854, 93276]</td>\n",
       "    </tr>\n",
       "    <tr>\n",
       "      <th>1654</th>\n",
       "      <td>24564118</td>\n",
       "      <td>1222101</td>\n",
       "      <td>0140661008</td>\n",
       "      <td></td>\n",
       "      <td>The Adventures of Sherlock Holmes</td>\n",
       "      <td>The Adventures of Sherlock Holmes is a collection of twelve stories by Sir Arthur Conan Doyle, featuring his famous detective and illustrated by Sidney Paget.\\nThese are the first of the Sherlock Holmes short stories, originally published as single stories in the Strand Magazine from July 1891 to June 1892. The book was published in England on October 14, 1892 by George Newnes Ltd and in a US Edition on October 15 by Harper. The initial combined print run was 14,500 copies.</td>\n",
       "      <td>302</td>\n",
       "      <td>0</td>\n",
       "      <td>https://www.goodreads.com/book/show/24564118-the-adventures-of-sherlock-holmes</td>\n",
       "      <td>US</td>\n",
       "      <td>eng</td>\n",
       "      <td>4.3</td>\n",
       "      <td>1</td>\n",
       "      <td>1</td>\n",
       "      <td>2448</td>\n",
       "      <td>Penguin Group</td>\n",
       "      <td>1994</td>\n",
       "      <td>[184594, 359251, 1474865, 192887, 141270, 567550, 18626865, 122646, 278854, 93276]</td>\n",
       "    </tr>\n",
       "    <tr>\n",
       "      <th>2827</th>\n",
       "      <td>11196320</td>\n",
       "      <td>1222101</td>\n",
       "      <td>0786105119</td>\n",
       "      <td></td>\n",
       "      <td>The Adventures of Sherlock Holmes</td>\n",
       "      <td>First published in 1891-1892, stories read include The Red-Headed League, The Man With the Twisted Lip, The Five Orange Pips, The Notable Bachelor, A Scandal in Bohemia, and The Engineer's Thumb.</td>\n",
       "      <td>10</td>\n",
       "      <td>0</td>\n",
       "      <td>https://www.goodreads.com/book/show/11196320-the-adventures-of-sherlock-holmes</td>\n",
       "      <td>US</td>\n",
       "      <td>NaN</td>\n",
       "      <td>4.3</td>\n",
       "      <td>6</td>\n",
       "      <td>2</td>\n",
       "      <td>2448</td>\n",
       "      <td>Blackstone Audiobooks</td>\n",
       "      <td>1980</td>\n",
       "      <td>[184594, 359251, 1474865, 192887, 141270, 567550, 18626865, 122646, 278854, 93276]</td>\n",
       "    </tr>\n",
       "    <tr>\n",
       "      <th>5583</th>\n",
       "      <td>5774655</td>\n",
       "      <td>1222101</td>\n",
       "      <td></td>\n",
       "      <td>B001LF3366</td>\n",
       "      <td>The Adventures of Sherlock Holmes</td>\n",
       "      <td>Complete in nine handsome volumes, each with an introduction by a Doyle scholar, a chronology, a selected bibliography, and explanatory notes, the Oxford Sherlock Holmes series offers a definitive collection of the famous detective's adventures. No home library is complete without it.\\nComprising the series of short stories that made the fortunes of the Strand, the magazine in which they were first published, this volume won even more popularity for Sherlock Holmes and Dr. Watson. Holmes is at the height of his powers in many of his most famous cases, including The Red-Headed League, The Speckled Band, and The Blue Carbuncle.</td>\n",
       "      <td>0</td>\n",
       "      <td>1</td>\n",
       "      <td>https://www.goodreads.com/book/show/5774655-the-adventures-of-sherlock-holmes</td>\n",
       "      <td>US</td>\n",
       "      <td>eng</td>\n",
       "      <td>4.3</td>\n",
       "      <td>8</td>\n",
       "      <td>2</td>\n",
       "      <td>2448</td>\n",
       "      <td></td>\n",
       "      <td></td>\n",
       "      <td>[184594, 359251, 1474865, 192887, 141270, 567550, 18626865, 122646, 278854, 93276]</td>\n",
       "    </tr>\n",
       "    <tr>\n",
       "      <th>14122</th>\n",
       "      <td>12320698</td>\n",
       "      <td>1222101</td>\n",
       "      <td>1849903670</td>\n",
       "      <td></td>\n",
       "      <td>The Adventures of Sherlock Holmes</td>\n",
       "      <td>A Sherlock tie-in edition of Conan Doyle's first collection of Sherlock Holmes stories, with an introduction by show cocreator Mark Gatiss\\nIn this new edition of Conan Doyle's first collection of short stories, Mark Gatiss explains how these gripping tales inspired and influenced the new series. This collection contains 12 short stories first published in theStrandmagazine between 1891 and 1892, and then published as a collection in October 1892. It includes some of Conan Doyle's best tales of murder and mystery, such as \"The Adventures of the Speckled Band,\" in which the strange last words of a dying woman \"It was the band, the speckled band!\" and an inexplicable whistling in the night are the only clues Sherlock Holmes has to prevent another murder; and \"The Five Orange Pips,\" in which an untimely death and the discovery of the letter containing five orange pips lead to a cross-Atlantic conspiracy.</td>\n",
       "      <td>324</td>\n",
       "      <td>0</td>\n",
       "      <td>https://www.goodreads.com/book/show/12320698-the-adventures-of-sherlock-holmes</td>\n",
       "      <td>US</td>\n",
       "      <td>NaN</td>\n",
       "      <td>4.3</td>\n",
       "      <td>367</td>\n",
       "      <td>37</td>\n",
       "      <td>2448</td>\n",
       "      <td>BBC Books</td>\n",
       "      <td>2012</td>\n",
       "      <td>[184594, 359251, 1474865, 192887, 141270, 567550, 18626865, 122646, 278854, 93276]</td>\n",
       "    </tr>\n",
       "    <tr>\n",
       "      <th>...</th>\n",
       "      <td>...</td>\n",
       "      <td>...</td>\n",
       "      <td>...</td>\n",
       "      <td>...</td>\n",
       "      <td>...</td>\n",
       "      <td>...</td>\n",
       "      <td>...</td>\n",
       "      <td>...</td>\n",
       "      <td>...</td>\n",
       "      <td>...</td>\n",
       "      <td>...</td>\n",
       "      <td>...</td>\n",
       "      <td>...</td>\n",
       "      <td>...</td>\n",
       "      <td>...</td>\n",
       "      <td>...</td>\n",
       "      <td>...</td>\n",
       "      <td>...</td>\n",
       "    </tr>\n",
       "    <tr>\n",
       "      <th>211367</th>\n",
       "      <td>13503565</td>\n",
       "      <td>1222101</td>\n",
       "      <td></td>\n",
       "      <td></td>\n",
       "      <td>The Adventures of Sherlock Holmes</td>\n",
       "      <td>Complete in nine handsome volumes, each with an introduction by a Doyle scholar, a chronology, a selected bibliography, and explanatory notes, the Oxford Sherlock Holmes series offers a definitive collection of the famous detective's adventures. No home library is complete without it.\\nComprising the series of short stories that made the fortunes of the Strand, the magazine in which they were first published, this volume won even more popularity for Sherlock Holmes and Dr. Watson. Holmes is at the height of his powers in many of his most famous cases, including The Red-Headed League, The Speckled Band, and The Blue Carbuncle.</td>\n",
       "      <td>11</td>\n",
       "      <td>0</td>\n",
       "      <td>https://www.goodreads.com/book/show/13503565-the-adventures-of-sherlock-holmes</td>\n",
       "      <td>US</td>\n",
       "      <td>eng</td>\n",
       "      <td>4.3</td>\n",
       "      <td>21</td>\n",
       "      <td>3</td>\n",
       "      <td>2448</td>\n",
       "      <td>Librivox Audio</td>\n",
       "      <td>2010</td>\n",
       "      <td>[184594, 359251, 1474865, 192887, 141270, 567550, 18626865, 122646, 278854, 93276]</td>\n",
       "    </tr>\n",
       "    <tr>\n",
       "      <th>215762</th>\n",
       "      <td>962730</td>\n",
       "      <td>1222101</td>\n",
       "      <td></td>\n",
       "      <td></td>\n",
       "      <td>The Adventures of Sherlock Holmes</td>\n",
       "      <td>This edition of The Adventures of Sherlock Holmescontains the earliest cases of the greatest fictional detective of all time. It comprises A Study in Scarlet, The Sign of Fourand the complete Adventures of Sherlock Holmes, reprinted from the Strand Magazine. It is illustrated by Sidney Paget, the finest of illustrators, and the man from whom our images of Sherlock Holmes and his world derive.\\nThis is the first of three volumes of The Complete Sherlock Holmes. The three books will present all the Holmes stories arranged chronologically in order of first publication.</td>\n",
       "      <td>0</td>\n",
       "      <td>0</td>\n",
       "      <td>https://www.goodreads.com/book/show/962730.The_Adventures_of_Sherlock_Holmes</td>\n",
       "      <td>US</td>\n",
       "      <td>NaN</td>\n",
       "      <td>4.3</td>\n",
       "      <td>597</td>\n",
       "      <td>16</td>\n",
       "      <td>2448</td>\n",
       "      <td>Wordsworth Editions</td>\n",
       "      <td></td>\n",
       "      <td>[184594, 359251, 1474865, 192887, 141270, 567550, 18626865, 122646, 278854, 93276]</td>\n",
       "    </tr>\n",
       "    <tr>\n",
       "      <th>216362</th>\n",
       "      <td>22620243</td>\n",
       "      <td>1222101</td>\n",
       "      <td></td>\n",
       "      <td>B00JQG8NYY</td>\n",
       "      <td>The Adventures of Sherlock Holmes</td>\n",
       "      <td>Sir Arthur Ignatius Conan Doyle, DL (22 May 1859 - 7 July 1930)\\nwas a Scottish author most noted for his stories about the\\ndetective Sherlock Holmes, which are generally considered a major\\ninnovation in the field of crime fiction, and the adventures of\\nProfessor Challenger. He was a prolific writer whose other works\\ninclude science fiction stories, historical novels, plays and\\nromances, poetry, and non-fiction. Conan was originally a given\\nname, but Doyle used it as part of his surname in his later years.</td>\n",
       "      <td>0</td>\n",
       "      <td>1</td>\n",
       "      <td>https://www.goodreads.com/book/show/22620243-the-adventures-of-sherlock-holmes</td>\n",
       "      <td>US</td>\n",
       "      <td>eng</td>\n",
       "      <td>4.3</td>\n",
       "      <td>1488</td>\n",
       "      <td>7</td>\n",
       "      <td>2448</td>\n",
       "      <td>Arthur Conan Doyle</td>\n",
       "      <td></td>\n",
       "      <td>[184594, 359251, 1474865, 192887, 141270, 567550, 18626865, 122646, 278854, 93276]</td>\n",
       "    </tr>\n",
       "    <tr>\n",
       "      <th>217873</th>\n",
       "      <td>13635969</td>\n",
       "      <td>1222101</td>\n",
       "      <td></td>\n",
       "      <td></td>\n",
       "      <td>The Adventures of Sherlock Holmes</td>\n",
       "      <td>ISBN: 1853260339\\nWith an Introduction by Dr. Julian Wolfreys\\nThis edition of 'The Adventures of Sherlock Holmes' contains the earliest cases of the greatest fictional detective of all time. It comprises 'A Study in Scarlet', 'The Sign of Four' and the complete 'Adventures of Sherlock Holmes', reprinted from 'The Strand Magazine'. It is illustrated by Sidney Paget, the finest of illustrators, from whom our images of Sherlock Holmes and his world derive.\\nThis is the first of three volumes of 'The Complete Sherlock Holmes' reproduced from original copies of 'The Strand Magazine'. The three books present all the Holmes stories arranged chronologically in order of first publication.\\n(contains both \"The Adventures of Sherlock Holmes\" and \"The Memoirs of Sherlock Holmes\")</td>\n",
       "      <td>450</td>\n",
       "      <td>0</td>\n",
       "      <td>https://www.goodreads.com/book/show/13635969-the-adventures-of-sherlock-holmes</td>\n",
       "      <td>US</td>\n",
       "      <td>eng</td>\n",
       "      <td>4.3</td>\n",
       "      <td>29</td>\n",
       "      <td>5</td>\n",
       "      <td>2448</td>\n",
       "      <td>Wordsworth Classics</td>\n",
       "      <td>1992</td>\n",
       "      <td>[184594, 359251, 1474865, 192887, 141270, 567550, 18626865, 122646, 278854, 93276]</td>\n",
       "    </tr>\n",
       "    <tr>\n",
       "      <th>218916</th>\n",
       "      <td>28288045</td>\n",
       "      <td>21482542</td>\n",
       "      <td></td>\n",
       "      <td>B019IOS80C</td>\n",
       "      <td>The Adventures of Sherlock Holmes</td>\n",
       "      <td>Arthur Conan Doyle\\nHow is this book unique?\\nIllustrations Included\\nFree Audiobook\\nUnabridged Edition\\nOriginal Edition\\nE-Reader friendly\\nThe Adventures of Sherlock Holmes is a collection of twelve short stories by Arthur Conan Doyle, featuring his fictional detective Sherlock Holmes. It was first published on 14 October 1892, though the individual stories had been serialised in The Strand Magazine between June 1891 and July 1892. The stories are not in chronological order, and the only characters common to all twelve are Holmes and Dr. Watson. As with all but four of the Sherlock Holmes stories, those contained within The Adventures of Sherlock Holmes are told by a first-person narrative from the point of view of Dr. Watson. In general the stories in The Adventures of Sherlock Holmes identify, and try to correct, social injustices. Holmes is portrayed as offering a new, fairer sense of justice. The stories were well received, and boosted the subscriptions figures of The Strand Magazine, prompting Doyle to be able to demand more money for his next set of stories. The first story, \"A Scandal in Bohemia\", includes the character of Irene Adler, who, despite being featured only within this one story by Doyle, is a prominent character in modern Sherlock Holmes adaptations, generally as a love interest for Holmes. Doyle included four of the twelve stories from this collection in his twelve favourite Sherlock Holmes stories, picking \"The Adventure of the Speckled Band\" as his overall favourite.</td>\n",
       "      <td>0</td>\n",
       "      <td>1</td>\n",
       "      <td>https://www.goodreads.com/book/show/28288045-the-adventures-of-sherlock-holmes</td>\n",
       "      <td>US</td>\n",
       "      <td>eng</td>\n",
       "      <td>4.48</td>\n",
       "      <td>1</td>\n",
       "      <td>1</td>\n",
       "      <td>2448</td>\n",
       "      <td></td>\n",
       "      <td></td>\n",
       "      <td>[]</td>\n",
       "    </tr>\n",
       "  </tbody>\n",
       "</table>\n",
       "<p>93 rows × 18 columns</p>\n",
       "</div>"
      ],
      "text/plain": [
       "         book_id   work_id        isbn        asin  \\\n",
       "1478    12639858  1222101   161293028X               \n",
       "1654    24564118  1222101   0140661008               \n",
       "2827    11196320  1222101   0786105119               \n",
       "5583    5774655   1222101               B001LF3366   \n",
       "14122   12320698  1222101   1849903670               \n",
       "...          ...      ...          ... ..            \n",
       "211367  13503565  1222101                            \n",
       "215762  962730    1222101                            \n",
       "216362  22620243  1222101               B00JQG8NYY   \n",
       "217873  13635969  1222101                            \n",
       "218916  28288045  21482542              B019IOS80C   \n",
       "\n",
       "                                    title  \\\n",
       "1478    The Adventures of Sherlock Holmes   \n",
       "1654    The Adventures of Sherlock Holmes   \n",
       "2827    The Adventures of Sherlock Holmes   \n",
       "5583    The Adventures of Sherlock Holmes   \n",
       "14122   The Adventures of Sherlock Holmes   \n",
       "...                                   ...   \n",
       "211367  The Adventures of Sherlock Holmes   \n",
       "215762  The Adventures of Sherlock Holmes   \n",
       "216362  The Adventures of Sherlock Holmes   \n",
       "217873  The Adventures of Sherlock Holmes   \n",
       "218916  The Adventures of Sherlock Holmes   \n",
       "\n",
       "                                                                                                                                                                                                                                                                                                                                                                                                                                                                                                                                                                                                                                                                                                                                                                                                                                                                                                                                                                                                                                                                                                                                                                                                                                                                                                                                                                                                                                                                                                                                                                          description  \\\n",
       "1478    This is a beautifully-designed new edition of the definitive \"Adventures of Sherlock Holmes\" by Sir Arthur Conan Doyle. Includes 12 complete short stories, comprising the best-known cases of the world's best-loved sleuth.                                                                                                                                                                                                                                                                                                                                                                                                                                                                                                                                                                                                                                                                                                                                                                                                                                                                                                                                                                                                                                                                                                                                                                                                                                                                                                                                                   \n",
       "1654    The Adventures of Sherlock Holmes is a collection of twelve stories by Sir Arthur Conan Doyle, featuring his famous detective and illustrated by Sidney Paget.\\nThese are the first of the Sherlock Holmes short stories, originally published as single stories in the Strand Magazine from July 1891 to June 1892. The book was published in England on October 14, 1892 by George Newnes Ltd and in a US Edition on October 15 by Harper. The initial combined print run was 14,500 copies.                                                                                                                                                                                                                                                                                                                                                                                                                                                                                                                                                                                                                                                                                                                                                                                                                                                                                                                                                                                                                                                                                  \n",
       "2827    First published in 1891-1892, stories read include The Red-Headed League, The Man With the Twisted Lip, The Five Orange Pips, The Notable Bachelor, A Scandal in Bohemia, and The Engineer's Thumb.                                                                                                                                                                                                                                                                                                                                                                                                                                                                                                                                                                                                                                                                                                                                                                                                                                                                                                                                                                                                                                                                                                                                                                                                                                                                                                                                                                             \n",
       "5583    Complete in nine handsome volumes, each with an introduction by a Doyle scholar, a chronology, a selected bibliography, and explanatory notes, the Oxford Sherlock Holmes series offers a definitive collection of the famous detective's adventures. No home library is complete without it.\\nComprising the series of short stories that made the fortunes of the Strand, the magazine in which they were first published, this volume won even more popularity for Sherlock Holmes and Dr. Watson. Holmes is at the height of his powers in many of his most famous cases, including The Red-Headed League, The Speckled Band, and The Blue Carbuncle.                                                                                                                                                                                                                                                                                                                                                                                                                                                                                                                                                                                                                                                                                                                                                                                                                                                                                                                       \n",
       "14122   A Sherlock tie-in edition of Conan Doyle's first collection of Sherlock Holmes stories, with an introduction by show cocreator Mark Gatiss\\nIn this new edition of Conan Doyle's first collection of short stories, Mark Gatiss explains how these gripping tales inspired and influenced the new series. This collection contains 12 short stories first published in theStrandmagazine between 1891 and 1892, and then published as a collection in October 1892. It includes some of Conan Doyle's best tales of murder and mystery, such as \"The Adventures of the Speckled Band,\" in which the strange last words of a dying woman \"It was the band, the speckled band!\" and an inexplicable whistling in the night are the only clues Sherlock Holmes has to prevent another murder; and \"The Five Orange Pips,\" in which an untimely death and the discovery of the letter containing five orange pips lead to a cross-Atlantic conspiracy.                                                                                                                                                                                                                                                                                                                                                                                                                                                                                                                                                                                                                              \n",
       "...                                                                                                                                                                                                                                                                                                                                                                                                                                                                                                                                                                                                                                                                                                                                                                                                                                                                                                                                                    ...                                                                                                                                                                                                                                                                                                                                                                                                                                                                                                                                                                                                                              \n",
       "211367  Complete in nine handsome volumes, each with an introduction by a Doyle scholar, a chronology, a selected bibliography, and explanatory notes, the Oxford Sherlock Holmes series offers a definitive collection of the famous detective's adventures. No home library is complete without it.\\nComprising the series of short stories that made the fortunes of the Strand, the magazine in which they were first published, this volume won even more popularity for Sherlock Holmes and Dr. Watson. Holmes is at the height of his powers in many of his most famous cases, including The Red-Headed League, The Speckled Band, and The Blue Carbuncle.                                                                                                                                                                                                                                                                                                                                                                                                                                                                                                                                                                                                                                                                                                                                                                                                                                                                                                                       \n",
       "215762  This edition of The Adventures of Sherlock Holmescontains the earliest cases of the greatest fictional detective of all time. It comprises A Study in Scarlet, The Sign of Fourand the complete Adventures of Sherlock Holmes, reprinted from the Strand Magazine. It is illustrated by Sidney Paget, the finest of illustrators, and the man from whom our images of Sherlock Holmes and his world derive.\\nThis is the first of three volumes of The Complete Sherlock Holmes. The three books will present all the Holmes stories arranged chronologically in order of first publication.                                                                                                                                                                                                                                                                                                                                                                                                                                                                                                                                                                                                                                                                                                                                                                                                                                                                                                                                                                                    \n",
       "216362  Sir Arthur Ignatius Conan Doyle, DL (22 May 1859 - 7 July 1930)\\nwas a Scottish author most noted for his stories about the\\ndetective Sherlock Holmes, which are generally considered a major\\ninnovation in the field of crime fiction, and the adventures of\\nProfessor Challenger. He was a prolific writer whose other works\\ninclude science fiction stories, historical novels, plays and\\nromances, poetry, and non-fiction. Conan was originally a given\\nname, but Doyle used it as part of his surname in his later years.                                                                                                                                                                                                                                                                                                                                                                                                                                                                                                                                                                                                                                                                                                                                                                                                                                                                                                                                                                                                                                           \n",
       "217873  ISBN: 1853260339\\nWith an Introduction by Dr. Julian Wolfreys\\nThis edition of 'The Adventures of Sherlock Holmes' contains the earliest cases of the greatest fictional detective of all time. It comprises 'A Study in Scarlet', 'The Sign of Four' and the complete 'Adventures of Sherlock Holmes', reprinted from 'The Strand Magazine'. It is illustrated by Sidney Paget, the finest of illustrators, from whom our images of Sherlock Holmes and his world derive.\\nThis is the first of three volumes of 'The Complete Sherlock Holmes' reproduced from original copies of 'The Strand Magazine'. The three books present all the Holmes stories arranged chronologically in order of first publication.\\n(contains both \"The Adventures of Sherlock Holmes\" and \"The Memoirs of Sherlock Holmes\")                                                                                                                                                                                                                                                                                                                                                                                                                                                                                                                                                                                                                                                                                                                                                                     \n",
       "218916  Arthur Conan Doyle\\nHow is this book unique?\\nIllustrations Included\\nFree Audiobook\\nUnabridged Edition\\nOriginal Edition\\nE-Reader friendly\\nThe Adventures of Sherlock Holmes is a collection of twelve short stories by Arthur Conan Doyle, featuring his fictional detective Sherlock Holmes. It was first published on 14 October 1892, though the individual stories had been serialised in The Strand Magazine between June 1891 and July 1892. The stories are not in chronological order, and the only characters common to all twelve are Holmes and Dr. Watson. As with all but four of the Sherlock Holmes stories, those contained within The Adventures of Sherlock Holmes are told by a first-person narrative from the point of view of Dr. Watson. In general the stories in The Adventures of Sherlock Holmes identify, and try to correct, social injustices. Holmes is portrayed as offering a new, fairer sense of justice. The stories were well received, and boosted the subscriptions figures of The Strand Magazine, prompting Doyle to be able to demand more money for his next set of stories. The first story, \"A Scandal in Bohemia\", includes the character of Irene Adler, who, despite being featured only within this one story by Doyle, is a prominent character in modern Sherlock Holmes adaptations, generally as a love interest for Holmes. Doyle included four of the twelve stories from this collection in his twelve favourite Sherlock Holmes stories, picking \"The Adventure of the Speckled Band\" as his overall favourite.   \n",
       "\n",
       "        num_pages  is_ebook  \\\n",
       "1478    236        0          \n",
       "1654    302        0          \n",
       "2827    10         0          \n",
       "5583    0          1          \n",
       "14122   324        0          \n",
       "...     ...       ..          \n",
       "211367  11         0          \n",
       "215762  0          0          \n",
       "216362  0          1          \n",
       "217873  450        0          \n",
       "218916  0          1          \n",
       "\n",
       "                                                                                  link  \\\n",
       "1478    https://www.goodreads.com/book/show/12639858-the-adventures-of-sherlock-holmes   \n",
       "1654    https://www.goodreads.com/book/show/24564118-the-adventures-of-sherlock-holmes   \n",
       "2827    https://www.goodreads.com/book/show/11196320-the-adventures-of-sherlock-holmes   \n",
       "5583    https://www.goodreads.com/book/show/5774655-the-adventures-of-sherlock-holmes    \n",
       "14122   https://www.goodreads.com/book/show/12320698-the-adventures-of-sherlock-holmes   \n",
       "...                                                                                ...   \n",
       "211367  https://www.goodreads.com/book/show/13503565-the-adventures-of-sherlock-holmes   \n",
       "215762  https://www.goodreads.com/book/show/962730.The_Adventures_of_Sherlock_Holmes     \n",
       "216362  https://www.goodreads.com/book/show/22620243-the-adventures-of-sherlock-holmes   \n",
       "217873  https://www.goodreads.com/book/show/13635969-the-adventures-of-sherlock-holmes   \n",
       "218916  https://www.goodreads.com/book/show/28288045-the-adventures-of-sherlock-holmes   \n",
       "\n",
       "       country_code language_code  average_rating  ratings_count  \\\n",
       "1478    US           NaN          4.3              29              \n",
       "1654    US           eng          4.3              1               \n",
       "2827    US           NaN          4.3              6               \n",
       "5583    US           eng          4.3              8               \n",
       "14122   US           NaN          4.3              367             \n",
       "...     ..           ...           ..              ...             \n",
       "211367  US           eng          4.3              21              \n",
       "215762  US           NaN          4.3              597             \n",
       "216362  US           eng          4.3              1488            \n",
       "217873  US           eng          4.3              29              \n",
       "218916  US           eng          4.48             1               \n",
       "\n",
       "        text_reviews_count author_id              publisher publication_year  \\\n",
       "1478    1                   2448      Tribeca Books          2011              \n",
       "1654    1                   2448      Penguin Group          1994              \n",
       "2827    2                   2448      Blackstone Audiobooks  1980              \n",
       "5583    2                   2448                                               \n",
       "14122   37                  2448      BBC Books              2012              \n",
       "...     ..                   ...            ...               ...              \n",
       "211367  3                   2448      Librivox Audio         2010              \n",
       "215762  16                  2448      Wordsworth Editions                      \n",
       "216362  7                   2448      Arthur Conan Doyle                       \n",
       "217873  5                   2448      Wordsworth Classics    1992              \n",
       "218916  1                   2448                                               \n",
       "\n",
       "                                                                             similar_books  \n",
       "1478    [184594, 359251, 1474865, 192887, 141270, 567550, 18626865, 122646, 278854, 93276]  \n",
       "1654    [184594, 359251, 1474865, 192887, 141270, 567550, 18626865, 122646, 278854, 93276]  \n",
       "2827    [184594, 359251, 1474865, 192887, 141270, 567550, 18626865, 122646, 278854, 93276]  \n",
       "5583    [184594, 359251, 1474865, 192887, 141270, 567550, 18626865, 122646, 278854, 93276]  \n",
       "14122   [184594, 359251, 1474865, 192887, 141270, 567550, 18626865, 122646, 278854, 93276]  \n",
       "...                                                                                    ...  \n",
       "211367  [184594, 359251, 1474865, 192887, 141270, 567550, 18626865, 122646, 278854, 93276]  \n",
       "215762  [184594, 359251, 1474865, 192887, 141270, 567550, 18626865, 122646, 278854, 93276]  \n",
       "216362  [184594, 359251, 1474865, 192887, 141270, 567550, 18626865, 122646, 278854, 93276]  \n",
       "217873  [184594, 359251, 1474865, 192887, 141270, 567550, 18626865, 122646, 278854, 93276]  \n",
       "218916  []                                                                                  \n",
       "\n",
       "[93 rows x 18 columns]"
      ]
     },
     "execution_count": 48,
     "metadata": {},
     "output_type": "execute_result"
    }
   ],
   "source": [
    "# we notice there are different versions of same book. Since they have different publisher/average rating, we treat\n",
    "# them as different book\n",
    "books_df1[books_df1.title == 'The Adventures of Sherlock Holmes']"
   ]
  },
  {
   "cell_type": "code",
   "execution_count": 22,
   "metadata": {},
   "outputs": [],
   "source": [
    "title = cleaned_books.groupby('title').max()['ratings_count']"
   ]
  },
  {
   "cell_type": "code",
   "execution_count": 58,
   "metadata": {},
   "outputs": [
    {
     "data": {
      "text/plain": [
       "title\n",
       "you don't exist                                 13 \n",
       "¿Quién mató a Alex?: El misterio que nos une    8  \n",
       "¿Quién mató a Palomino Molero?                  207\n",
       "¿Tienes miedo a la oscuridad?                   36 \n",
       "À couteaux tirés                                2  \n",
       "                                               ..  \n",
       "簪中录（3）                                          24 \n",
       "簪中录（4）                                          18 \n",
       "聖女の救済 (ガリレオ, #5)                                13 \n",
       "모차르트의 악보 (39 클루스. 2)                            25 \n",
       "스노우맨                                            46 \n",
       "Name: ratings_count, Length: 215, dtype: int64"
      ]
     },
     "execution_count": 58,
     "metadata": {},
     "output_type": "execute_result"
    }
   ],
   "source": [
    "title.iloc[-215:]"
   ]
  },
  {
   "cell_type": "code",
   "execution_count": 60,
   "metadata": {},
   "outputs": [
    {
     "data": {
      "text/plain": [
       "(11019, 0.060244718540873904)"
      ]
     },
     "execution_count": 60,
     "metadata": {},
     "output_type": "execute_result"
    }
   ],
   "source": [
    "# after delete all books with language_code 'non english', there are still around 11k (6%) non english books\n",
    "# with missing language_code. We will leave them since the amount is fairly small and it's hard to incorporate to pipeline to delete\n",
    "# these books\n",
    "title.iloc[-214:].sum(),  title.iloc[-214:].sum()/len(cleaned_books)"
   ]
  },
  {
   "cell_type": "markdown",
   "metadata": {},
   "source": [
    "### Load review data"
   ]
  },
  {
   "cell_type": "code",
   "execution_count": 7,
   "metadata": {},
   "outputs": [
    {
     "name": "stdout",
     "output_type": "stream",
     "text": [
      "counting file: data/goodreads_reviews_mystery_thriller_crime.json.gz\n",
      "current line: 0,1000000,complete\n",
      "done!\n"
     ]
    }
   ],
   "source": [
    "reviews_df = read_reviews(os.path.join('data/', 'goodreads_reviews_mystery_thriller_crime.json.gz'))"
   ]
  },
  {
   "cell_type": "code",
   "execution_count": 8,
   "metadata": {
    "scrolled": true
   },
   "outputs": [
    {
     "name": "stderr",
     "output_type": "stream",
     "text": [
      "/Users/elainewu/anaconda3/lib/python3.7/site-packages/pandas/core/generic.py:5208: SettingWithCopyWarning: \n",
      "A value is trying to be set on a copy of a slice from a DataFrame.\n",
      "Try using .loc[row_indexer,col_indexer] = value instead\n",
      "\n",
      "See the caveats in the documentation: http://pandas.pydata.org/pandas-docs/stable/user_guide/indexing.html#returning-a-view-versus-a-copy\n",
      "  self[name] = value\n"
     ]
    }
   ],
   "source": [
    "cleaned_reviews = clean_reviews(reviews_df)"
   ]
  },
  {
   "cell_type": "markdown",
   "metadata": {},
   "source": [
    "### book ids that are english and have non-zero ratings"
   ]
  },
  {
   "cell_type": "code",
   "execution_count": 9,
   "metadata": {},
   "outputs": [
    {
     "data": {
      "text/plain": [
       "(182904,)"
      ]
     },
     "execution_count": 9,
     "metadata": {},
     "output_type": "execute_result"
    }
   ],
   "source": [
    "#books in english\n",
    "book_ids = cleaned_books.index.values\n",
    "book_ids.shape"
   ]
  },
  {
   "cell_type": "code",
   "execution_count": 10,
   "metadata": {},
   "outputs": [
    {
     "data": {
      "text/plain": [
       "(214260,)"
      ]
     },
     "execution_count": 10,
     "metadata": {},
     "output_type": "execute_result"
    }
   ],
   "source": [
    "# books that have non-zero ratings\n",
    "book_in_reviews = cleaned_reviews.book_id.unique()\n",
    "book_in_reviews.shape"
   ]
  },
  {
   "cell_type": "code",
   "execution_count": 11,
   "metadata": {},
   "outputs": [
    {
     "data": {
      "text/plain": [
       "178443"
      ]
     },
     "execution_count": 11,
     "metadata": {},
     "output_type": "execute_result"
    }
   ],
   "source": [
    "#get the ids for books that are in english and have non zero ratings\n",
    "total_book = np.intersect1d(book_ids, book_in_reviews)\n",
    "len(total_book)"
   ]
  },
  {
   "cell_type": "code",
   "execution_count": 12,
   "metadata": {},
   "outputs": [
    {
     "data": {
      "text/plain": [
       "178443"
      ]
     },
     "execution_count": 12,
     "metadata": {},
     "output_type": "execute_result"
    }
   ],
   "source": [
    "# final clean book data\n",
    "cleaned_books1 = cleaned_books.loc[total_book]\n",
    "len(cleaned_books1)"
   ]
  },
  {
   "cell_type": "code",
   "execution_count": 13,
   "metadata": {},
   "outputs": [],
   "source": [
    "# final clean review data\n",
    "cleaned_reviews1 = cleaned_reviews[cleaned_reviews.book_id.isin(total_book)]"
   ]
  },
  {
   "cell_type": "code",
   "execution_count": 14,
   "metadata": {},
   "outputs": [
    {
     "data": {
      "text/plain": [
       "178443"
      ]
     },
     "execution_count": 14,
     "metadata": {},
     "output_type": "execute_result"
    }
   ],
   "source": [
    "len(cleaned_reviews1.book_id.unique())"
   ]
  },
  {
   "cell_type": "code",
   "execution_count": 15,
   "metadata": {},
   "outputs": [
    {
     "name": "stderr",
     "output_type": "stream",
     "text": [
      "/Users/elainewu/Documents/Projects/Assignments/Capstone/Capstone Three/GoodRead Recommender/src/clean_data.py:90: SettingWithCopyWarning: \n",
      "A value is trying to be set on a copy of a slice from a DataFrame.\n",
      "Try using .loc[row_indexer,col_indexer] = value instead\n",
      "\n",
      "See the caveats in the documentation: http://pandas.pydata.org/pandas-docs/stable/user_guide/indexing.html#returning-a-view-versus-a-copy\n",
      "  df['old_user_id'] = df['user_id']\n",
      "/Users/elainewu/Documents/Projects/Assignments/Capstone/Capstone Three/GoodRead Recommender/src/clean_data.py:91: SettingWithCopyWarning: \n",
      "A value is trying to be set on a copy of a slice from a DataFrame.\n",
      "Try using .loc[row_indexer,col_indexer] = value instead\n",
      "\n",
      "See the caveats in the documentation: http://pandas.pydata.org/pandas-docs/stable/user_guide/indexing.html#returning-a-view-versus-a-copy\n",
      "  df['user_id'] = map_id(df['old_user_id'])\n",
      "/Users/elainewu/Documents/Projects/Assignments/Capstone/Capstone Three/GoodRead Recommender/src/clean_data.py:93: SettingWithCopyWarning: \n",
      "A value is trying to be set on a copy of a slice from a DataFrame.\n",
      "Try using .loc[row_indexer,col_indexer] = value instead\n",
      "\n",
      "See the caveats in the documentation: http://pandas.pydata.org/pandas-docs/stable/user_guide/indexing.html#returning-a-view-versus-a-copy\n",
      "  df['old_book_id'] = df['book_id']\n",
      "/Users/elainewu/Documents/Projects/Assignments/Capstone/Capstone Three/GoodRead Recommender/src/clean_data.py:94: SettingWithCopyWarning: \n",
      "A value is trying to be set on a copy of a slice from a DataFrame.\n",
      "Try using .loc[row_indexer,col_indexer] = value instead\n",
      "\n",
      "See the caveats in the documentation: http://pandas.pydata.org/pandas-docs/stable/user_guide/indexing.html#returning-a-view-versus-a-copy\n",
      "  df['book_id'] = map_id(df['old_book_id'])\n"
     ]
    }
   ],
   "source": [
    "# remap the user id and book id for matrix factorization\n",
    "cleaned_reviews2 = review_map_id(cleaned_reviews1).copy()"
   ]
  },
  {
   "cell_type": "code",
   "execution_count": 16,
   "metadata": {},
   "outputs": [
    {
     "data": {
      "text/html": [
       "<div>\n",
       "<style scoped>\n",
       "    .dataframe tbody tr th:only-of-type {\n",
       "        vertical-align: middle;\n",
       "    }\n",
       "\n",
       "    .dataframe tbody tr th {\n",
       "        vertical-align: top;\n",
       "    }\n",
       "\n",
       "    .dataframe thead th {\n",
       "        text-align: right;\n",
       "    }\n",
       "</style>\n",
       "<table border=\"1\" class=\"dataframe\">\n",
       "  <thead>\n",
       "    <tr style=\"text-align: right;\">\n",
       "      <th></th>\n",
       "      <th>review_id</th>\n",
       "      <th>user_id</th>\n",
       "      <th>book_id</th>\n",
       "      <th>rating</th>\n",
       "      <th>timestamp</th>\n",
       "      <th>n_votes</th>\n",
       "      <th>n_comments</th>\n",
       "      <th>old_user_id</th>\n",
       "      <th>old_book_id</th>\n",
       "    </tr>\n",
       "  </thead>\n",
       "  <tbody>\n",
       "    <tr>\n",
       "      <th>620327</th>\n",
       "      <td>d23dc89ab32cd864e54d18369751163b</td>\n",
       "      <td>158142</td>\n",
       "      <td>63529</td>\n",
       "      <td>3</td>\n",
       "      <td>2001-01-01 00:00:00</td>\n",
       "      <td>0</td>\n",
       "      <td>0</td>\n",
       "      <td>d889b42d9eb7b80e02f24830e27c6389</td>\n",
       "      <td>196084</td>\n",
       "    </tr>\n",
       "    <tr>\n",
       "      <th>620326</th>\n",
       "      <td>c7613da4cbd48baa83efec99b4dd6a41</td>\n",
       "      <td>158142</td>\n",
       "      <td>163000</td>\n",
       "      <td>3</td>\n",
       "      <td>2001-01-11 00:00:00</td>\n",
       "      <td>0</td>\n",
       "      <td>0</td>\n",
       "      <td>d889b42d9eb7b80e02f24830e27c6389</td>\n",
       "      <td>79030</td>\n",
       "    </tr>\n",
       "    <tr>\n",
       "      <th>620325</th>\n",
       "      <td>469b9d160ad68ce84b6cac4585fb226a</td>\n",
       "      <td>158142</td>\n",
       "      <td>140825</td>\n",
       "      <td>4</td>\n",
       "      <td>2001-01-25 00:00:00</td>\n",
       "      <td>0</td>\n",
       "      <td>0</td>\n",
       "      <td>d889b42d9eb7b80e02f24830e27c6389</td>\n",
       "      <td>442783</td>\n",
       "    </tr>\n",
       "    <tr>\n",
       "      <th>620324</th>\n",
       "      <td>9f4fd2c20177f66fe5832ec299fb4bbf</td>\n",
       "      <td>158142</td>\n",
       "      <td>145138</td>\n",
       "      <td>2</td>\n",
       "      <td>2001-01-29 00:00:00</td>\n",
       "      <td>0</td>\n",
       "      <td>0</td>\n",
       "      <td>d889b42d9eb7b80e02f24830e27c6389</td>\n",
       "      <td>552719</td>\n",
       "    </tr>\n",
       "    <tr>\n",
       "      <th>620323</th>\n",
       "      <td>0c7a29c98c4f11b409235d9c22a2455b</td>\n",
       "      <td>158142</td>\n",
       "      <td>85564</td>\n",
       "      <td>4</td>\n",
       "      <td>2001-02-02 00:00:00</td>\n",
       "      <td>1</td>\n",
       "      <td>0</td>\n",
       "      <td>d889b42d9eb7b80e02f24830e27c6389</td>\n",
       "      <td>238117</td>\n",
       "    </tr>\n",
       "  </tbody>\n",
       "</table>\n",
       "</div>"
      ],
      "text/plain": [
       "                               review_id  user_id  book_id  rating  \\\n",
       "620327  d23dc89ab32cd864e54d18369751163b  158142   63529    3        \n",
       "620326  c7613da4cbd48baa83efec99b4dd6a41  158142   163000   3        \n",
       "620325  469b9d160ad68ce84b6cac4585fb226a  158142   140825   4        \n",
       "620324  9f4fd2c20177f66fe5832ec299fb4bbf  158142   145138   2        \n",
       "620323  0c7a29c98c4f11b409235d9c22a2455b  158142   85564    4        \n",
       "\n",
       "                  timestamp  n_votes  n_comments  \\\n",
       "620327  2001-01-01 00:00:00  0        0            \n",
       "620326  2001-01-11 00:00:00  0        0            \n",
       "620325  2001-01-25 00:00:00  0        0            \n",
       "620324  2001-01-29 00:00:00  0        0            \n",
       "620323  2001-02-02 00:00:00  1        0            \n",
       "\n",
       "                             old_user_id old_book_id  \n",
       "620327  d889b42d9eb7b80e02f24830e27c6389  196084      \n",
       "620326  d889b42d9eb7b80e02f24830e27c6389  79030       \n",
       "620325  d889b42d9eb7b80e02f24830e27c6389  442783      \n",
       "620324  d889b42d9eb7b80e02f24830e27c6389  552719      \n",
       "620323  d889b42d9eb7b80e02f24830e27c6389  238117      "
      ]
     },
     "execution_count": 16,
     "metadata": {},
     "output_type": "execute_result"
    }
   ],
   "source": [
    "cleaned_reviews2.head()"
   ]
  },
  {
   "cell_type": "markdown",
   "metadata": {},
   "source": [
    "### save the cleaned books and reviews"
   ]
  },
  {
   "cell_type": "code",
   "execution_count": 17,
   "metadata": {},
   "outputs": [],
   "source": [
    "cleaned_books1.to_csv('data/cleaned_books_mystery.csv', header=cleaned_books1.columns)"
   ]
  },
  {
   "cell_type": "code",
   "execution_count": 19,
   "metadata": {},
   "outputs": [],
   "source": [
    "cleaned_reviews2.to_csv('data/cleaned_reviews_mystery.csv', header=cleaned_reviews1.columns, index=False)"
   ]
  },
  {
   "cell_type": "code",
   "execution_count": null,
   "metadata": {},
   "outputs": [],
   "source": []
  }
 ],
 "metadata": {
  "kernelspec": {
   "display_name": "Python 3",
   "language": "python",
   "name": "python3"
  },
  "language_info": {
   "codemirror_mode": {
    "name": "ipython",
    "version": 3
   },
   "file_extension": ".py",
   "mimetype": "text/x-python",
   "name": "python",
   "nbconvert_exporter": "python",
   "pygments_lexer": "ipython3",
   "version": "3.7.3"
  }
 },
 "nbformat": 4,
 "nbformat_minor": 2
}
