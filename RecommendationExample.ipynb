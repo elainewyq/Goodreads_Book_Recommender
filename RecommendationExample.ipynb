{
 "cells": [
  {
   "cell_type": "code",
   "execution_count": 19,
   "metadata": {},
   "outputs": [],
   "source": [
    "import gzip\n",
    "import json\n",
    "import re\n",
    "import os\n",
    "import sys\n",
    "import numpy as np\n",
    "import pandas as pd\n",
    "import matplotlib.pyplot as plt\n",
    "%matplotlib inline\n",
    "from IPython import display\n",
    "\n",
    "import tensorflow as tf\n",
    "import altair as alt\n",
    "import collections\n",
    "from sklearn.model_selection import train_test_split\n",
    "\n",
    "\n",
    "from src.clean_data import clean_books, clean_reviews, scale_data, review_map_id\n",
    "from src.load_data import read_reviews, read_books\n",
    "from src.item_recommender import ItemRecommender\n",
    "from src.CFModel import CFModel, build_model, compute_scores, book_neighbors, user_recommendations"
   ]
  },
  {
   "cell_type": "code",
   "execution_count": 2,
   "metadata": {},
   "outputs": [],
   "source": [
    "books = pd.read_csv('data/cleaned_books_mystery.csv')"
   ]
  },
  {
   "cell_type": "code",
   "execution_count": 3,
   "metadata": {},
   "outputs": [],
   "source": [
    "books.set_index('book_id', drop=True, inplace=True)"
   ]
  },
  {
   "cell_type": "code",
   "execution_count": 4,
   "metadata": {},
   "outputs": [
    {
     "name": "stdout",
     "output_type": "stream",
     "text": [
      "<class 'pandas.core.frame.DataFrame'>\n",
      "Int64Index: 178443 entries, 10000063 to 9999847\n",
      "Data columns (total 10 columns):\n",
      "title                 178443 non-null object\n",
      "num_pages             178443 non-null int64\n",
      "is_ebook              178443 non-null int64\n",
      "link                  178443 non-null object\n",
      "average_rating        178443 non-null float64\n",
      "ratings_count         178443 non-null int64\n",
      "text_reviews_count    178443 non-null int64\n",
      "author_id             178443 non-null int64\n",
      "publisher             125093 non-null object\n",
      "similar_books         178443 non-null object\n",
      "dtypes: float64(1), int64(5), object(4)\n",
      "memory usage: 15.0+ MB\n"
     ]
    }
   ],
   "source": [
    "books.info()"
   ]
  },
  {
   "cell_type": "code",
   "execution_count": 5,
   "metadata": {},
   "outputs": [],
   "source": [
    "reviews = pd.read_csv('data/cleaned_reviews_mystery.csv')"
   ]
  },
  {
   "cell_type": "code",
   "execution_count": 6,
   "metadata": {},
   "outputs": [
    {
     "data": {
      "text/plain": [
       "178443"
      ]
     },
     "execution_count": 6,
     "metadata": {},
     "output_type": "execute_result"
    }
   ],
   "source": [
    "len(books)"
   ]
  },
  {
   "cell_type": "code",
   "execution_count": 7,
   "metadata": {},
   "outputs": [
    {
     "data": {
      "text/html": [
       "<div>\n",
       "<style scoped>\n",
       "    .dataframe tbody tr th:only-of-type {\n",
       "        vertical-align: middle;\n",
       "    }\n",
       "\n",
       "    .dataframe tbody tr th {\n",
       "        vertical-align: top;\n",
       "    }\n",
       "\n",
       "    .dataframe thead th {\n",
       "        text-align: right;\n",
       "    }\n",
       "</style>\n",
       "<table border=\"1\" class=\"dataframe\">\n",
       "  <thead>\n",
       "    <tr style=\"text-align: right;\">\n",
       "      <th></th>\n",
       "      <th>review_id</th>\n",
       "      <th>user_id</th>\n",
       "      <th>book_id</th>\n",
       "      <th>rating</th>\n",
       "      <th>timestamp</th>\n",
       "      <th>n_votes</th>\n",
       "      <th>n_comments</th>\n",
       "      <th>old_user_id</th>\n",
       "      <th>old_book_id</th>\n",
       "    </tr>\n",
       "  </thead>\n",
       "  <tbody>\n",
       "    <tr>\n",
       "      <th>0</th>\n",
       "      <td>d23dc89ab32cd864e54d18369751163b</td>\n",
       "      <td>158142</td>\n",
       "      <td>63529</td>\n",
       "      <td>3</td>\n",
       "      <td>2001-01-01 00:00:00</td>\n",
       "      <td>0</td>\n",
       "      <td>0</td>\n",
       "      <td>d889b42d9eb7b80e02f24830e27c6389</td>\n",
       "      <td>196084</td>\n",
       "    </tr>\n",
       "    <tr>\n",
       "      <th>1</th>\n",
       "      <td>c7613da4cbd48baa83efec99b4dd6a41</td>\n",
       "      <td>158142</td>\n",
       "      <td>163000</td>\n",
       "      <td>3</td>\n",
       "      <td>2001-01-11 00:00:00</td>\n",
       "      <td>0</td>\n",
       "      <td>0</td>\n",
       "      <td>d889b42d9eb7b80e02f24830e27c6389</td>\n",
       "      <td>79030</td>\n",
       "    </tr>\n",
       "    <tr>\n",
       "      <th>2</th>\n",
       "      <td>469b9d160ad68ce84b6cac4585fb226a</td>\n",
       "      <td>158142</td>\n",
       "      <td>140825</td>\n",
       "      <td>4</td>\n",
       "      <td>2001-01-25 00:00:00</td>\n",
       "      <td>0</td>\n",
       "      <td>0</td>\n",
       "      <td>d889b42d9eb7b80e02f24830e27c6389</td>\n",
       "      <td>442783</td>\n",
       "    </tr>\n",
       "    <tr>\n",
       "      <th>3</th>\n",
       "      <td>9f4fd2c20177f66fe5832ec299fb4bbf</td>\n",
       "      <td>158142</td>\n",
       "      <td>145138</td>\n",
       "      <td>2</td>\n",
       "      <td>2001-01-29 00:00:00</td>\n",
       "      <td>0</td>\n",
       "      <td>0</td>\n",
       "      <td>d889b42d9eb7b80e02f24830e27c6389</td>\n",
       "      <td>552719</td>\n",
       "    </tr>\n",
       "    <tr>\n",
       "      <th>4</th>\n",
       "      <td>0c7a29c98c4f11b409235d9c22a2455b</td>\n",
       "      <td>158142</td>\n",
       "      <td>85564</td>\n",
       "      <td>4</td>\n",
       "      <td>2001-02-02 00:00:00</td>\n",
       "      <td>1</td>\n",
       "      <td>0</td>\n",
       "      <td>d889b42d9eb7b80e02f24830e27c6389</td>\n",
       "      <td>238117</td>\n",
       "    </tr>\n",
       "  </tbody>\n",
       "</table>\n",
       "</div>"
      ],
      "text/plain": [
       "                          review_id  user_id  book_id  rating  \\\n",
       "0  d23dc89ab32cd864e54d18369751163b  158142   63529    3        \n",
       "1  c7613da4cbd48baa83efec99b4dd6a41  158142   163000   3        \n",
       "2  469b9d160ad68ce84b6cac4585fb226a  158142   140825   4        \n",
       "3  9f4fd2c20177f66fe5832ec299fb4bbf  158142   145138   2        \n",
       "4  0c7a29c98c4f11b409235d9c22a2455b  158142   85564    4        \n",
       "\n",
       "             timestamp  n_votes  n_comments                       old_user_id  \\\n",
       "0  2001-01-01 00:00:00  0        0           d889b42d9eb7b80e02f24830e27c6389   \n",
       "1  2001-01-11 00:00:00  0        0           d889b42d9eb7b80e02f24830e27c6389   \n",
       "2  2001-01-25 00:00:00  0        0           d889b42d9eb7b80e02f24830e27c6389   \n",
       "3  2001-01-29 00:00:00  0        0           d889b42d9eb7b80e02f24830e27c6389   \n",
       "4  2001-02-02 00:00:00  1        0           d889b42d9eb7b80e02f24830e27c6389   \n",
       "\n",
       "   old_book_id  \n",
       "0  196084       \n",
       "1  79030        \n",
       "2  442783       \n",
       "3  552719       \n",
       "4  238117       "
      ]
     },
     "execution_count": 7,
     "metadata": {},
     "output_type": "execute_result"
    }
   ],
   "source": [
    "reviews.head()"
   ]
  },
  {
   "cell_type": "code",
   "execution_count": 8,
   "metadata": {},
   "outputs": [
    {
     "name": "stdout",
     "output_type": "stream",
     "text": [
      "<class 'pandas.core.frame.DataFrame'>\n",
      "RangeIndex: 1688495 entries, 0 to 1688494\n",
      "Data columns (total 9 columns):\n",
      "review_id      1688495 non-null object\n",
      "user_id        1688495 non-null int64\n",
      "book_id        1688495 non-null int64\n",
      "rating         1688495 non-null int64\n",
      "timestamp      1688495 non-null object\n",
      "n_votes        1688495 non-null int64\n",
      "n_comments     1688495 non-null int64\n",
      "old_user_id    1688495 non-null object\n",
      "old_book_id    1688495 non-null int64\n",
      "dtypes: int64(6), object(3)\n",
      "memory usage: 115.9+ MB\n"
     ]
    }
   ],
   "source": [
    "reviews.info()"
   ]
  },
  {
   "cell_type": "markdown",
   "metadata": {},
   "source": [
    "### CF baseline with normal gradient descent"
   ]
  },
  {
   "cell_type": "code",
   "execution_count": 21,
   "metadata": {},
   "outputs": [],
   "source": [
    "# model_base = build_model(reviews, embedding_dim=30, init_stddev=0.05, \n",
    "#                     regularization_coeff=0.0,\n",
    "#                     gravity_coeff=0.0, optimizer = tf.train.GradientDescentOptimizer)"
   ]
  },
  {
   "cell_type": "code",
   "execution_count": null,
   "metadata": {},
   "outputs": [],
   "source": [
    "model_base.train(num_iterations=50)"
   ]
  },
  {
   "cell_type": "markdown",
   "metadata": {},
   "source": [
    "### CF model with adam optimizer"
   ]
  },
  {
   "cell_type": "code",
   "execution_count": 13,
   "metadata": {},
   "outputs": [
    {
     "name": "stdout",
     "output_type": "stream",
     "text": [
      "WARNING:tensorflow:`tf.train.start_queue_runners()` was called when no queue runners were defined. You can safely remove the call to this deprecated function.\n"
     ]
    }
   ],
   "source": [
    "# matrix factorization without regularization with adam optimizer\n",
    "# adam optimizer -> adaptive moment estimation with changing learning rate \n",
    "# https://machinelearningmastery.com/adam-optimization-algorithm-for-deep-learning/\n",
    "\n",
    "model_adam = build_model(reviews, embedding_dim=30, init_stddev=0.05, \n",
    "                    regularization_coeff=0.0,\n",
    "                    gravity_coeff=0.0)"
   ]
  },
  {
   "cell_type": "code",
   "execution_count": 14,
   "metadata": {},
   "outputs": [
    {
     "name": "stdout",
     "output_type": "stream",
     "text": [
      " iteration 50: train_error=0.243675, regularization_error=0.000000, gravity_loss=0.000000, test_error=31.052099"
     ]
    },
    {
     "data": {
      "text/plain": [
       "[{'train_error': 0.24367544,\n",
       "  'regularization_error': 0.0,\n",
       "  'gravity_loss': 0.0,\n",
       "  'test_error': 31.0521}]"
      ]
     },
     "execution_count": 14,
     "metadata": {},
     "output_type": "execute_result"
    },
    {
     "data": {
      "image/png": "[encoded data removed]",
      "text/plain": [
       "<Figure size 1440x576 with 1 Axes>"
      ]
     },
     "metadata": {
      "needs_background": "light"
     },
     "output_type": "display_data"
    }
   ],
   "source": [
    "model_adam.train(num_iterations=50)"
   ]
  },
  {
   "cell_type": "markdown",
   "metadata": {},
   "source": [
    "### CF model with regularization, gravity and adam optimizer"
   ]
  },
  {
   "cell_type": "code",
   "execution_count": 11,
   "metadata": {},
   "outputs": [
    {
     "name": "stdout",
     "output_type": "stream",
     "text": [
      "WARNING:tensorflow:From /Users/elainewu/Documents/Projects/Assignments/Capstone/Capstone Three/GoodRead Recommender/src/CFModel.py:173: The name tf.random_normal is deprecated. Please use tf.random.normal instead.\n",
      "\n",
      "WARNING:tensorflow:From /Users/elainewu/Documents/Projects/Assignments/Capstone/Capstone Three/GoodRead Recommender/src/CFModel.py:44: The name tf.losses.mean_squared_error is deprecated. Please use tf.compat.v1.losses.mean_squared_error instead.\n",
      "\n",
      "WARNING:tensorflow:From /Users/elainewu/anaconda3/lib/python3.7/site-packages/tensorflow/python/ops/losses/losses_impl.py:121: add_dispatch_support.<locals>.wrapper (from tensorflow.python.ops.array_ops) is deprecated and will be removed in a future version.\n",
      "Instructions for updating:\n",
      "Use tf.where in 2.0, which has the same broadcast rule as np.where\n",
      "WARNING:tensorflow:From /Users/elainewu/Documents/Projects/Assignments/Capstone/Capstone Three/GoodRead Recommender/src/CFModel.py:81: The name tf.variables_initializer is deprecated. Please use tf.compat.v1.variables_initializer instead.\n",
      "\n",
      "WARNING:tensorflow:From /Users/elainewu/Documents/Projects/Assignments/Capstone/Capstone Three/GoodRead Recommender/src/CFModel.py:82: The name tf.local_variables_initializer is deprecated. Please use tf.compat.v1.local_variables_initializer instead.\n",
      "\n",
      "WARNING:tensorflow:From /Users/elainewu/Documents/Projects/Assignments/Capstone/Capstone Three/GoodRead Recommender/src/CFModel.py:83: The name tf.Session is deprecated. Please use tf.compat.v1.Session instead.\n",
      "\n",
      "WARNING:tensorflow:From /Users/elainewu/Documents/Projects/Assignments/Capstone/Capstone Three/GoodRead Recommender/src/CFModel.py:85: The name tf.global_variables_initializer is deprecated. Please use tf.compat.v1.global_variables_initializer instead.\n",
      "\n",
      "WARNING:tensorflow:From /Users/elainewu/Documents/Projects/Assignments/Capstone/Capstone Three/GoodRead Recommender/src/CFModel.py:88: start_queue_runners (from tensorflow.python.training.queue_runner_impl) is deprecated and will be removed in a future version.\n",
      "Instructions for updating:\n",
      "To construct input pipelines, use the `tf.data` module.\n",
      "WARNING:tensorflow:`tf.train.start_queue_runners()` was called when no queue runners were defined. You can safely remove the call to this deprecated function.\n"
     ]
    }
   ],
   "source": [
    "# A CFModel object that uses a regularized loss, gravity loss with adam optimizer\n",
    "model = build_model(reviews, embedding_dim=30, init_stddev=0.05, \n",
    "                    regularization_coeff=0.1,\n",
    "                    gravity_coeff=1.0)"
   ]
  },
  {
   "cell_type": "code",
   "execution_count": 12,
   "metadata": {},
   "outputs": [
    {
     "name": "stdout",
     "output_type": "stream",
     "text": [
      " iteration 50: train_error=0.182489, regularization_error=0.572702, gravity_loss=0.313470, test_error=9.5439936"
     ]
    },
    {
     "data": {
      "text/plain": [
       "[{'train_error': 0.18248917,\n",
       "  'regularization_error': 0.5727021,\n",
       "  'gravity_loss': 0.3134698,\n",
       "  'test_error': 9.543993}]"
      ]
     },
     "execution_count": 12,
     "metadata": {},
     "output_type": "execute_result"
    },
    {
     "data": {
      "image/png": "[encoded data removed]",
      "text/plain": [
       "<Figure size 1440x576 with 1 Axes>"
      ]
     },
     "metadata": {
      "needs_background": "light"
     },
     "output_type": "display_data"
    }
   ],
   "source": [
    "model.train(num_iterations=50)"
   ]
  },
  {
   "cell_type": "markdown",
   "metadata": {},
   "source": [
    "### get recommendations for a given user"
   ]
  },
  {
   "cell_type": "code",
   "execution_count": 22,
   "metadata": {},
   "outputs": [
    {
     "name": "stdout",
     "output_type": "stream",
     "text": [
      "The highest recommendations for user d889b42d9eb7b80e02f24830e27c6389.\n"
     ]
    },
    {
     "data": {
      "text/html": [
       "<div>\n",
       "<style scoped>\n",
       "    .dataframe tbody tr th:only-of-type {\n",
       "        vertical-align: middle;\n",
       "    }\n",
       "\n",
       "    .dataframe tbody tr th {\n",
       "        vertical-align: top;\n",
       "    }\n",
       "\n",
       "    .dataframe thead th {\n",
       "        text-align: right;\n",
       "    }\n",
       "</style>\n",
       "<table border=\"1\" class=\"dataframe\">\n",
       "  <thead>\n",
       "    <tr style=\"text-align: right;\">\n",
       "      <th></th>\n",
       "      <th>cosine score</th>\n",
       "      <th>titles</th>\n",
       "      <th>is_ebook</th>\n",
       "      <th>average_rating</th>\n",
       "      <th>ratings_count</th>\n",
       "    </tr>\n",
       "    <tr>\n",
       "      <th>book_id</th>\n",
       "      <th></th>\n",
       "      <th></th>\n",
       "      <th></th>\n",
       "      <th></th>\n",
       "      <th></th>\n",
       "    </tr>\n",
       "  </thead>\n",
       "  <tbody>\n",
       "    <tr>\n",
       "      <th>442783</th>\n",
       "      <td>0.8637782335281372</td>\n",
       "      <td>The Empty Hours (87th Precinct, #15)</td>\n",
       "      <td>0</td>\n",
       "      <td>3.75</td>\n",
       "      <td>343</td>\n",
       "    </tr>\n",
       "    <tr>\n",
       "      <th>592177</th>\n",
       "      <td>0.8270640969276428</td>\n",
       "      <td>Straight Cut (Hard Case Crime #21)</td>\n",
       "      <td>0</td>\n",
       "      <td>3.18</td>\n",
       "      <td>212</td>\n",
       "    </tr>\n",
       "    <tr>\n",
       "      <th>137556</th>\n",
       "      <td>0.7606433629989624</td>\n",
       "      <td>Fade to Blonde (Hard Case Crime #2)</td>\n",
       "      <td>0</td>\n",
       "      <td>3.6</td>\n",
       "      <td>758</td>\n",
       "    </tr>\n",
       "    <tr>\n",
       "      <th>629521</th>\n",
       "      <td>0.72339928150177</td>\n",
       "      <td>Wild to Possess/A Taste for Sin</td>\n",
       "      <td>0</td>\n",
       "      <td>4.25</td>\n",
       "      <td>26</td>\n",
       "    </tr>\n",
       "    <tr>\n",
       "      <th>196084</th>\n",
       "      <td>0.7136276960372925</td>\n",
       "      <td>Night Walker (Hard Case Crime #16)</td>\n",
       "      <td>0</td>\n",
       "      <td>3.41</td>\n",
       "      <td>228</td>\n",
       "    </tr>\n",
       "    <tr>\n",
       "      <th>1061855</th>\n",
       "      <td>0.7128523588180542</td>\n",
       "      <td>Cuba Libre</td>\n",
       "      <td>0</td>\n",
       "      <td>3.62</td>\n",
       "      <td>135</td>\n",
       "    </tr>\n",
       "    <tr>\n",
       "      <th>595894</th>\n",
       "      <td>0.7119606733322144</td>\n",
       "      <td>The Killing Moon</td>\n",
       "      <td>0</td>\n",
       "      <td>3.42</td>\n",
       "      <td>431</td>\n",
       "    </tr>\n",
       "    <tr>\n",
       "      <th>190523</th>\n",
       "      <td>0.705325722694397</td>\n",
       "      <td>Suicide Squeeze</td>\n",
       "      <td>0</td>\n",
       "      <td>3.83</td>\n",
       "      <td>255</td>\n",
       "    </tr>\n",
       "    <tr>\n",
       "      <th>236212</th>\n",
       "      <td>0.7011841535568237</td>\n",
       "      <td>From the Corner of His Eye</td>\n",
       "      <td>0</td>\n",
       "      <td>4.0</td>\n",
       "      <td>271</td>\n",
       "    </tr>\n",
       "    <tr>\n",
       "      <th>238117</th>\n",
       "      <td>0.6922435760498047</td>\n",
       "      <td>A Touch of Death (Hard Case Crime #17)</td>\n",
       "      <td>0</td>\n",
       "      <td>3.82</td>\n",
       "      <td>575</td>\n",
       "    </tr>\n",
       "  </tbody>\n",
       "</table>\n",
       "</div>"
      ],
      "text/plain": [
       "              cosine score                                  titles  is_ebook  \\\n",
       "book_id                                                                        \n",
       "442783  0.8637782335281372  The Empty Hours (87th Precinct, #15)    0          \n",
       "592177  0.8270640969276428  Straight Cut (Hard Case Crime #21)      0          \n",
       "137556  0.7606433629989624  Fade to Blonde (Hard Case Crime #2)     0          \n",
       "629521  0.72339928150177    Wild to Possess/A Taste for Sin         0          \n",
       "196084  0.7136276960372925  Night Walker (Hard Case Crime #16)      0          \n",
       "1061855 0.7128523588180542  Cuba Libre                              0          \n",
       "595894  0.7119606733322144  The Killing Moon                        0          \n",
       "190523  0.705325722694397   Suicide Squeeze                         0          \n",
       "236212  0.7011841535568237  From the Corner of His Eye              0          \n",
       "238117  0.6922435760498047  A Touch of Death (Hard Case Crime #17)  0          \n",
       "\n",
       "         average_rating  ratings_count  \n",
       "book_id                                 \n",
       "442783  3.75             343            \n",
       "592177  3.18             212            \n",
       "137556  3.6              758            \n",
       "629521  4.25             26             \n",
       "196084  3.41             228            \n",
       "1061855 3.62             135            \n",
       "595894  3.42             431            \n",
       "190523  3.83             255            \n",
       "236212  4.0              271            \n",
       "238117  3.82             575            "
      ]
     },
     "metadata": {},
     "output_type": "display_data"
    }
   ],
   "source": [
    "#example with user 'd889b42d9eb7b80e02f24830e27c6389'\n",
    "user_id = 'd889b42d9eb7b80e02f24830e27c6389'\n",
    "user_recommendations(books, reviews, model, user_id, measure='cosine', k=10)"
   ]
  },
  {
   "cell_type": "markdown",
   "metadata": {},
   "source": [
    "### get neighbors of a book which contains a given substring"
   ]
  },
  {
   "cell_type": "code",
   "execution_count": 23,
   "metadata": {},
   "outputs": [
    {
     "name": "stdout",
     "output_type": "stream",
     "text": [
      "[25572694]\n",
      "Nearest neighbors of : Harry Potter and the Half-Blood Prince by J.K. Rowling | Summary & Study Guide.\n"
     ]
    },
    {
     "data": {
      "text/html": [
       "<div>\n",
       "<style scoped>\n",
       "    .dataframe tbody tr th:only-of-type {\n",
       "        vertical-align: middle;\n",
       "    }\n",
       "\n",
       "    .dataframe tbody tr th {\n",
       "        vertical-align: top;\n",
       "    }\n",
       "\n",
       "    .dataframe thead th {\n",
       "        text-align: right;\n",
       "    }\n",
       "</style>\n",
       "<table border=\"1\" class=\"dataframe\">\n",
       "  <thead>\n",
       "    <tr style=\"text-align: right;\">\n",
       "      <th></th>\n",
       "      <th>cosine score</th>\n",
       "      <th>titles</th>\n",
       "      <th>is_ebook</th>\n",
       "      <th>average_rating</th>\n",
       "      <th>ratings_count</th>\n",
       "    </tr>\n",
       "    <tr>\n",
       "      <th>book_id</th>\n",
       "      <th></th>\n",
       "      <th></th>\n",
       "      <th></th>\n",
       "      <th></th>\n",
       "      <th></th>\n",
       "    </tr>\n",
       "  </thead>\n",
       "  <tbody>\n",
       "    <tr>\n",
       "      <th>25572694</th>\n",
       "      <td>0.9999998807907104</td>\n",
       "      <td>Harry Potter and the Half-Blood Prince by J.K. Rowling | Summary &amp; Study Guide</td>\n",
       "      <td>1</td>\n",
       "      <td>5.0</td>\n",
       "      <td>2</td>\n",
       "    </tr>\n",
       "    <tr>\n",
       "      <th>9149773</th>\n",
       "      <td>0.999690055847168</td>\n",
       "      <td>L.A. Dead (Stone Barrington, #6)</td>\n",
       "      <td>1</td>\n",
       "      <td>3.93</td>\n",
       "      <td>11</td>\n",
       "    </tr>\n",
       "    <tr>\n",
       "      <th>29057198</th>\n",
       "      <td>0.9995408058166504</td>\n",
       "      <td>Spells and Scones</td>\n",
       "      <td>0</td>\n",
       "      <td>4.1</td>\n",
       "      <td>14</td>\n",
       "    </tr>\n",
       "    <tr>\n",
       "      <th>25561901</th>\n",
       "      <td>0.9995187520980835</td>\n",
       "      <td>The Adventures of Sherlock Holmes</td>\n",
       "      <td>0</td>\n",
       "      <td>4.3</td>\n",
       "      <td>4</td>\n",
       "    </tr>\n",
       "    <tr>\n",
       "      <th>26005955</th>\n",
       "      <td>0.9993808269500732</td>\n",
       "      <td>The Job:</td>\n",
       "      <td>0</td>\n",
       "      <td>3.95</td>\n",
       "      <td>8</td>\n",
       "    </tr>\n",
       "    <tr>\n",
       "      <th>31433541</th>\n",
       "      <td>0.9992083311080933</td>\n",
       "      <td>Ice Wolf</td>\n",
       "      <td>1</td>\n",
       "      <td>4.0</td>\n",
       "      <td>9</td>\n",
       "    </tr>\n",
       "    <tr>\n",
       "      <th>10302490</th>\n",
       "      <td>0.9986937046051025</td>\n",
       "      <td>Suspense Magazine June 2010</td>\n",
       "      <td>1</td>\n",
       "      <td>4.9</td>\n",
       "      <td>10</td>\n",
       "    </tr>\n",
       "    <tr>\n",
       "      <th>33258453</th>\n",
       "      <td>0.9984890222549438</td>\n",
       "      <td>Lie to Me</td>\n",
       "      <td>0</td>\n",
       "      <td>3.84</td>\n",
       "      <td>2197</td>\n",
       "    </tr>\n",
       "    <tr>\n",
       "      <th>20448475</th>\n",
       "      <td>0.9734480381011963</td>\n",
       "      <td>Gray Lady, Lady Gray</td>\n",
       "      <td>1</td>\n",
       "      <td>4.0</td>\n",
       "      <td>7</td>\n",
       "    </tr>\n",
       "    <tr>\n",
       "      <th>12191934</th>\n",
       "      <td>0.8242570757865906</td>\n",
       "      <td>Sentenced to Death (A Booktown Mystery #5)</td>\n",
       "      <td>0</td>\n",
       "      <td>3.91</td>\n",
       "      <td>21</td>\n",
       "    </tr>\n",
       "  </tbody>\n",
       "</table>\n",
       "</div>"
      ],
      "text/plain": [
       "               cosine score  \\\n",
       "book_id                       \n",
       "25572694 0.9999998807907104   \n",
       "9149773  0.999690055847168    \n",
       "29057198 0.9995408058166504   \n",
       "25561901 0.9995187520980835   \n",
       "26005955 0.9993808269500732   \n",
       "31433541 0.9992083311080933   \n",
       "10302490 0.9986937046051025   \n",
       "33258453 0.9984890222549438   \n",
       "20448475 0.9734480381011963   \n",
       "12191934 0.8242570757865906   \n",
       "\n",
       "                                                                                  titles  \\\n",
       "book_id                                                                                    \n",
       "25572694  Harry Potter and the Half-Blood Prince by J.K. Rowling | Summary & Study Guide   \n",
       "9149773   L.A. Dead (Stone Barrington, #6)                                                 \n",
       "29057198  Spells and Scones                                                                \n",
       "25561901  The Adventures of Sherlock Holmes                                                \n",
       "26005955  The Job:                                                                         \n",
       "31433541  Ice Wolf                                                                         \n",
       "10302490  Suspense Magazine June 2010                                                      \n",
       "33258453  Lie to Me                                                                        \n",
       "20448475  Gray Lady, Lady Gray                                                             \n",
       "12191934  Sentenced to Death (A Booktown Mystery #5)                                       \n",
       "\n",
       "          is_ebook  average_rating  ratings_count  \n",
       "book_id                                            \n",
       "25572694  1        5.0              2              \n",
       "9149773   1        3.93             11             \n",
       "29057198  0        4.1              14             \n",
       "25561901  0        4.3              4              \n",
       "26005955  0        3.95             8              \n",
       "31433541  1        4.0              9              \n",
       "10302490  1        4.9              10             \n",
       "33258453  0        3.84             2197           \n",
       "20448475  1        4.0              7              \n",
       "12191934  0        3.91             21             "
      ]
     },
     "metadata": {},
     "output_type": "display_data"
    }
   ],
   "source": [
    "#example with book 'Harry Potter'\n",
    "title_substring ='Harry Potter'\n",
    "book_neighbors(books, reviews, model, title_substring, measure='cosine', k=10)"
   ]
  },
  {
   "cell_type": "code",
   "execution_count": null,
   "metadata": {},
   "outputs": [],
   "source": [
    "title_substring ='The Midsummer Crown'\n",
    "book_neighbors(books, reviews, model, title_substring, measure='cosine', k=10)"
   ]
  },
  {
   "cell_type": "code",
   "execution_count": null,
   "metadata": {},
   "outputs": [],
   "source": [
    "books.loc[10057976]"
   ]
  },
  {
   "cell_type": "code",
   "execution_count": null,
   "metadata": {},
   "outputs": [],
   "source": [
    "books.loc[12263607]"
   ]
  },
  {
   "cell_type": "markdown",
   "metadata": {},
   "source": [
    "### inspect neighbor clustering"
   ]
  },
  {
   "cell_type": "code",
   "execution_count": null,
   "metadata": {},
   "outputs": [],
   "source": [
    "def book_embedding_norm(models):\n",
    "    \"\"\"\n",
    "    visualizes the norm and number of ratings of the book\n",
    "    Args:\n",
    "        model: a MFmodel object\n",
    "    \"\"\"\n",
    "    if not isinstance(models, list):\n",
    "        models = [models]\n",
    "    df=pd.DataFrame({\n",
    "        'title': cleaned_books1['title'],\n",
    "        'average_rating': cleaned_books1['average_rating'],\n",
    "        'ratings_count':cleaned_books1['ratings_count']\n",
    "    })\n",
    "    charts = []\n",
    "    brush = alt.selection_interval()\n",
    "    for i, model in enumerate(models):\n",
    "        norm_key = 'norm' +str(i)\n",
    "        df[norm_key] = np.linalg.norm(model.embeddings['book_id'], axis=1)\n",
    "        nearest = alt.selection(\n",
    "                type='single', encodings=['x', 'y'], on='mouseover', nearest=True,\n",
    "                empty='none')\n",
    "        base = alt.Chart().mark_circle().encode(\n",
    "                x='ratings_count',\n",
    "                y=norm_key,\n",
    "               color=alt.condition(brush, alt.value('#4c78a8'), alt.value('lightgray'))\n",
    "            ).properties(\n",
    "            selection=nearest).add_selection(brush)\n",
    "        text = alt.Chart().mark_text(align='center', dx=5, dy=-5).encode(\n",
    "        x='ratings_count', y=norm_key,\n",
    "        text=alt.condition(nearest, 'title', alt.value('')))\n",
    "        charts.append(alt.layer(base, text))\n",
    "    return alt.hconcat(*charts, data=df)\n",
    "    \n",
    "    "
   ]
  },
  {
   "cell_type": "code",
   "execution_count": null,
   "metadata": {},
   "outputs": [],
   "source": [
    "book_embedding_norm(model)"
   ]
  },
  {
   "cell_type": "code",
   "execution_count": null,
   "metadata": {},
   "outputs": [],
   "source": [
    "from scipy.sparse import csr_matrix\n",
    "# csr_matrix((train_reviews.rating.values, (train_reviews.user_id.values, train_reviews.book_id.values)), \n",
    "#            shape=(len(train_reviews.user_id.unique()), len(train_reviews.book_id.unique()))).toarray()\n",
    "\n",
    "#rating matrix will be too sparse if we convert the rating data into a pd pivot table \n",
    "#rating_mat = pd.pivot_table(train_reviews, values=['rating'], index=['user_id'], columns =['book_id'])"
   ]
  }
 ],
 "metadata": {
  "kernelspec": {
   "display_name": "Python 3",
   "language": "python",
   "name": "python3"
  },
  "language_info": {
   "codemirror_mode": {
    "name": "ipython",
    "version": 3
   },
   "file_extension": ".py",
   "mimetype": "text/x-python",
   "name": "python",
   "nbconvert_exporter": "python",
   "pygments_lexer": "ipython3",
   "version": "3.7.3"
  }
 },
 "nbformat": 4,
 "nbformat_minor": 2
}
