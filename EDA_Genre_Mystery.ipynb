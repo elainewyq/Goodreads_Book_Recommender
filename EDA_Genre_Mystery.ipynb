{
 "cells": [
  {
   "cell_type": "code",
   "execution_count": 2,
   "metadata": {},
   "outputs": [],
   "source": [
    "import gzip\n",
    "import json\n",
    "import re\n",
    "import os\n",
    "import sys\n",
    "import numpy as np\n",
    "import pandas as pd\n",
    "import matplotlib.pyplot as plt\n",
    "%matplotlib inline\n",
    "\n",
    "import seaborn as sns\n",
    "\n",
    "\n",
    "from src.load_data import read_reviews, read_books, clean_reviews, clean_books\n",
    "\n",
    "from sklearn.preprocessing import StandardScaler\n",
    "from sklearn.feature_extraction.text import CountVectorizer, TfidfVectorizer\n",
    "\n",
    "pd.options.display.float_format = '{:,}'.format\n",
    "# pd.set_option('display.max_colwidth', -1)"
   ]
  },
  {
   "cell_type": "markdown",
   "metadata": {},
   "source": [
    "### Load reviews dataset"
   ]
  },
  {
   "cell_type": "code",
   "execution_count": 3,
   "metadata": {},
   "outputs": [
    {
     "name": "stdout",
     "output_type": "stream",
     "text": [
      "counting file: data/goodreads_reviews_mystery_thriller_crime.json.gz\n",
      "current line: 0,1000000,complete\n",
      "done!\n"
     ]
    }
   ],
   "source": [
    "reviews_df = read_reviews(os.path.join('data/', 'goodreads_reviews_mystery_thriller_crime.json.gz'))"
   ]
  },
  {
   "cell_type": "code",
   "execution_count": 4,
   "metadata": {},
   "outputs": [
    {
     "name": "stdout",
     "output_type": "stream",
     "text": [
      "<class 'pandas.core.frame.DataFrame'>\n",
      "RangeIndex: 1849236 entries, 0 to 1849235\n",
      "Data columns (total 7 columns):\n",
      "review_id     object\n",
      "user_id       object\n",
      "book_id       object\n",
      "rating        int64\n",
      "timestamp     object\n",
      "n_votes       int64\n",
      "n_comments    int64\n",
      "dtypes: int64(3), object(4)\n",
      "memory usage: 98.8+ MB\n"
     ]
    }
   ],
   "source": [
    "reviews_df.info()"
   ]
  },
  {
   "cell_type": "code",
   "execution_count": 5,
   "metadata": {},
   "outputs": [
    {
     "data": {
      "text/plain": [
       "1849236"
      ]
     },
     "execution_count": 5,
     "metadata": {},
     "output_type": "execute_result"
    }
   ],
   "source": [
    "num_reviews = len(reviews_df)\n",
    "num_reviews"
   ]
  },
  {
   "cell_type": "code",
   "execution_count": 6,
   "metadata": {},
   "outputs": [],
   "source": [
    "num_book = reviews_df.book_id.nunique()\n",
    "num_user = reviews_df.user_id.nunique()"
   ]
  },
  {
   "cell_type": "code",
   "execution_count": 7,
   "metadata": {},
   "outputs": [
    {
     "data": {
      "text/html": [
       "<div>\n",
       "<style scoped>\n",
       "    .dataframe tbody tr th:only-of-type {\n",
       "        vertical-align: middle;\n",
       "    }\n",
       "\n",
       "    .dataframe tbody tr th {\n",
       "        vertical-align: top;\n",
       "    }\n",
       "\n",
       "    .dataframe thead th {\n",
       "        text-align: right;\n",
       "    }\n",
       "</style>\n",
       "<table border=\"1\" class=\"dataframe\">\n",
       "  <thead>\n",
       "    <tr style=\"text-align: right;\">\n",
       "      <th></th>\n",
       "      <th>review_id</th>\n",
       "      <th>user_id</th>\n",
       "      <th>book_id</th>\n",
       "      <th>rating</th>\n",
       "      <th>timestamp</th>\n",
       "      <th>n_votes</th>\n",
       "      <th>n_comments</th>\n",
       "    </tr>\n",
       "  </thead>\n",
       "  <tbody>\n",
       "    <tr>\n",
       "      <th>0</th>\n",
       "      <td>5e212a62bced17b4dbe41150e5bb9037</td>\n",
       "      <td>8842281e1d1347389f2ab93d60773d4d</td>\n",
       "      <td>6392944</td>\n",
       "      <td>3</td>\n",
       "      <td>Mon Jul 24 02:48:17 -0700 2017</td>\n",
       "      <td>6</td>\n",
       "      <td>0</td>\n",
       "    </tr>\n",
       "    <tr>\n",
       "      <th>1</th>\n",
       "      <td>2ede853b14dc4583f96cf5d120af636f</td>\n",
       "      <td>8842281e1d1347389f2ab93d60773d4d</td>\n",
       "      <td>28684704</td>\n",
       "      <td>3</td>\n",
       "      <td>Tue Nov 15 11:29:22 -0800 2016</td>\n",
       "      <td>22</td>\n",
       "      <td>0</td>\n",
       "    </tr>\n",
       "    <tr>\n",
       "      <th>2</th>\n",
       "      <td>8e4d61801907e591018bdc3442a9cf2b</td>\n",
       "      <td>8842281e1d1347389f2ab93d60773d4d</td>\n",
       "      <td>32283133</td>\n",
       "      <td>0</td>\n",
       "      <td>Tue Nov 01 11:09:18 -0700 2016</td>\n",
       "      <td>9</td>\n",
       "      <td>0</td>\n",
       "    </tr>\n",
       "    <tr>\n",
       "      <th>3</th>\n",
       "      <td>022bb6daffa49adc27f6b20b6ebeb37d</td>\n",
       "      <td>8842281e1d1347389f2ab93d60773d4d</td>\n",
       "      <td>17860739</td>\n",
       "      <td>4</td>\n",
       "      <td>Wed Mar 26 13:51:30 -0700 2014</td>\n",
       "      <td>7</td>\n",
       "      <td>0</td>\n",
       "    </tr>\n",
       "    <tr>\n",
       "      <th>4</th>\n",
       "      <td>0e317947e1fd341f573192111bb2921d</td>\n",
       "      <td>8842281e1d1347389f2ab93d60773d4d</td>\n",
       "      <td>8694005</td>\n",
       "      <td>3</td>\n",
       "      <td>Wed Sep 08 01:22:27 -0700 2010</td>\n",
       "      <td>17</td>\n",
       "      <td>6</td>\n",
       "    </tr>\n",
       "  </tbody>\n",
       "</table>\n",
       "</div>"
      ],
      "text/plain": [
       "                          review_id                           user_id  \\\n",
       "0  5e212a62bced17b4dbe41150e5bb9037  8842281e1d1347389f2ab93d60773d4d   \n",
       "1  2ede853b14dc4583f96cf5d120af636f  8842281e1d1347389f2ab93d60773d4d   \n",
       "2  8e4d61801907e591018bdc3442a9cf2b  8842281e1d1347389f2ab93d60773d4d   \n",
       "3  022bb6daffa49adc27f6b20b6ebeb37d  8842281e1d1347389f2ab93d60773d4d   \n",
       "4  0e317947e1fd341f573192111bb2921d  8842281e1d1347389f2ab93d60773d4d   \n",
       "\n",
       "    book_id  rating                       timestamp  n_votes  n_comments  \n",
       "0   6392944       3  Mon Jul 24 02:48:17 -0700 2017        6           0  \n",
       "1  28684704       3  Tue Nov 15 11:29:22 -0800 2016       22           0  \n",
       "2  32283133       0  Tue Nov 01 11:09:18 -0700 2016        9           0  \n",
       "3  17860739       4  Wed Mar 26 13:51:30 -0700 2014        7           0  \n",
       "4   8694005       3  Wed Sep 08 01:22:27 -0700 2010       17           6  "
      ]
     },
     "execution_count": 7,
     "metadata": {},
     "output_type": "execute_result"
    }
   ],
   "source": [
    "reviews_df.head()"
   ]
  },
  {
   "cell_type": "code",
   "execution_count": 8,
   "metadata": {},
   "outputs": [
    {
     "data": {
      "text/plain": [
       "count\n",
       "1     0.36383589894674817\n",
       "2     0.15935282708502124\n",
       "3     0.09285310942525349\n",
       "4    0.061127887849549485\n",
       "5     0.04442316662983968\n",
       "6     0.03416071297046476\n",
       "7    0.026299378851489037\n",
       "8      0.0216346271881368\n",
       "9    0.017549286784021997\n",
       "10   0.015045051680538164\n",
       "11   0.012928727504848886\n",
       "12   0.010689646706439812\n",
       "13   0.009658491075593528\n",
       "14   0.008484937762392281\n",
       "15   0.007242640740467948\n",
       "16   0.006623947361960178\n",
       "17   0.006029805307996366\n",
       "18   0.005695907294198522\n",
       "19   0.004826790405342368\n",
       "20   0.004762956961528075\n",
       "dtype: float64"
      ]
     },
     "execution_count": 8,
     "metadata": {},
     "output_type": "execute_result"
    }
   ],
   "source": [
    "user_dist = pd.DataFrame(reviews_df.user_id.value_counts()).reset_index()\n",
    "user_dist.columns =['user_id', 'count']\n",
    "user_dist.groupby('count').size()[:20]/num_user#.hist(bins=5)"
   ]
  },
  {
   "cell_type": "code",
   "execution_count": 9,
   "metadata": {},
   "outputs": [
    {
     "data": {
      "text/html": [
       "<div>\n",
       "<style scoped>\n",
       "    .dataframe tbody tr th:only-of-type {\n",
       "        vertical-align: middle;\n",
       "    }\n",
       "\n",
       "    .dataframe tbody tr th {\n",
       "        vertical-align: top;\n",
       "    }\n",
       "\n",
       "    .dataframe thead th {\n",
       "        text-align: right;\n",
       "    }\n",
       "</style>\n",
       "<table border=\"1\" class=\"dataframe\">\n",
       "  <thead>\n",
       "    <tr style=\"text-align: right;\">\n",
       "      <th></th>\n",
       "      <th>user_id</th>\n",
       "      <th>count</th>\n",
       "    </tr>\n",
       "  </thead>\n",
       "  <tbody>\n",
       "    <tr>\n",
       "      <th>0</th>\n",
       "      <td>a2d6dd1685e5aa0a72c9410f8f55e056</td>\n",
       "      <td>3485</td>\n",
       "    </tr>\n",
       "    <tr>\n",
       "      <th>1</th>\n",
       "      <td>fca26c34be8fe623ee340061f1281796</td>\n",
       "      <td>2377</td>\n",
       "    </tr>\n",
       "    <tr>\n",
       "      <th>2</th>\n",
       "      <td>795595616d3dbd81bd16b617c9a1fa48</td>\n",
       "      <td>1927</td>\n",
       "    </tr>\n",
       "    <tr>\n",
       "      <th>3</th>\n",
       "      <td>da1e69dbd8e0016bc5d39a9de2c3c753</td>\n",
       "      <td>1436</td>\n",
       "    </tr>\n",
       "    <tr>\n",
       "      <th>4</th>\n",
       "      <td>a45fb5d39a6a9857ff8362900790510a</td>\n",
       "      <td>1375</td>\n",
       "    </tr>\n",
       "  </tbody>\n",
       "</table>\n",
       "</div>"
      ],
      "text/plain": [
       "                            user_id  count\n",
       "0  a2d6dd1685e5aa0a72c9410f8f55e056   3485\n",
       "1  fca26c34be8fe623ee340061f1281796   2377\n",
       "2  795595616d3dbd81bd16b617c9a1fa48   1927\n",
       "3  da1e69dbd8e0016bc5d39a9de2c3c753   1436\n",
       "4  a45fb5d39a6a9857ff8362900790510a   1375"
      ]
     },
     "execution_count": 9,
     "metadata": {},
     "output_type": "execute_result"
    }
   ],
   "source": [
    "user_dist.head()"
   ]
  },
  {
   "cell_type": "code",
   "execution_count": 10,
   "metadata": {},
   "outputs": [],
   "source": [
    "user_dist['count_bins'] = pd.cut(x=user_dist['count'], bins=[0, 1, 5, 10, 15, 20, 3485])"
   ]
  },
  {
   "cell_type": "code",
   "execution_count": 14,
   "metadata": {},
   "outputs": [],
   "source": [
    "user_dist_count = user_dist.groupby('count_bins').count()"
   ]
  },
  {
   "cell_type": "code",
   "execution_count": 17,
   "metadata": {},
   "outputs": [
    {
     "data": {
      "text/plain": [
       "count\n",
       "1        94626\n",
       "2        35435\n",
       "3        19418\n",
       "4        12277\n",
       "5         8629\n",
       "         ...  \n",
       "4541         1\n",
       "4875         1\n",
       "6702         1\n",
       "9316         1\n",
       "13402        1\n",
       "Length: 636, dtype: int64"
      ]
     },
     "execution_count": 17,
     "metadata": {},
     "output_type": "execute_result"
    }
   ],
   "source": [
    "book_dist = pd.DataFrame(reviews_df.book_id.value_counts()).reset_index()\n",
    "book_dist.columns =['book_id', 'count']\n",
    "book_dist.groupby('count').size()#.hist(bins=5)"
   ]
  },
  {
   "cell_type": "code",
   "execution_count": 22,
   "metadata": {},
   "outputs": [
    {
     "data": {
      "text/plain": [
       "Index(['book_id', 'count'], dtype='object')"
      ]
     },
     "execution_count": 22,
     "metadata": {},
     "output_type": "execute_result"
    }
   ],
   "source": [
    "book_dist['count_bins'] = pd.cut(x=book_dist['count'], bins=[0, 1, 5, 10, 15, 20, 13402])\n",
    "book_dist_count = book_dist.groupby('count_bins').count()\n",
    "book_dist_count\n",
    "book_dist_count.columns"
   ]
  },
  {
   "cell_type": "code",
   "execution_count": 46,
   "metadata": {},
   "outputs": [
    {
     "data": {
      "text/html": [
       "<div>\n",
       "<style scoped>\n",
       "    .dataframe tbody tr th:only-of-type {\n",
       "        vertical-align: middle;\n",
       "    }\n",
       "\n",
       "    .dataframe tbody tr th {\n",
       "        vertical-align: top;\n",
       "    }\n",
       "\n",
       "    .dataframe thead th {\n",
       "        text-align: right;\n",
       "    }\n",
       "</style>\n",
       "<table border=\"1\" class=\"dataframe\">\n",
       "  <thead>\n",
       "    <tr style=\"text-align: right;\">\n",
       "      <th></th>\n",
       "      <th>num_users</th>\n",
       "      <th>num_books</th>\n",
       "    </tr>\n",
       "  </thead>\n",
       "  <tbody>\n",
       "    <tr>\n",
       "      <th>0</th>\n",
       "      <td>74097</td>\n",
       "      <td>94626</td>\n",
       "    </tr>\n",
       "    <tr>\n",
       "      <th>1</th>\n",
       "      <td>72859</td>\n",
       "      <td>75759</td>\n",
       "    </tr>\n",
       "    <tr>\n",
       "      <th>2</th>\n",
       "      <td>23357</td>\n",
       "      <td>21150</td>\n",
       "    </tr>\n",
       "    <tr>\n",
       "      <th>3</th>\n",
       "      <td>9980</td>\n",
       "      <td>8479</td>\n",
       "    </tr>\n",
       "    <tr>\n",
       "      <th>4</th>\n",
       "      <td>5690</td>\n",
       "      <td>4547</td>\n",
       "    </tr>\n",
       "    <tr>\n",
       "      <th>5</th>\n",
       "      <td>17672</td>\n",
       "      <td>14426</td>\n",
       "    </tr>\n",
       "  </tbody>\n",
       "</table>\n",
       "</div>"
      ],
      "text/plain": [
       "   num_users  num_books\n",
       "0      74097      94626\n",
       "1      72859      75759\n",
       "2      23357      21150\n",
       "3       9980       8479\n",
       "4       5690       4547\n",
       "5      17672      14426"
      ]
     },
     "execution_count": 46,
     "metadata": {},
     "output_type": "execute_result"
    }
   ],
   "source": [
    "user_book_count = pd.DataFrame({'num_users':user_dist_count['count'].values, 'num_books':book_dist_count['count'].values})\n",
    "user_book_count"
   ]
  },
  {
   "cell_type": "code",
   "execution_count": 57,
   "metadata": {},
   "outputs": [
    {
     "data": {
      "image/png": "[encoded data removed]",
      "text/plain": [
       "<Figure size 576x504 with 1 Axes>"
      ]
     },
     "metadata": {
      "needs_background": "light"
     },
     "output_type": "display_data"
    }
   ],
   "source": [
    "user_book_count['count_bins'] = ['1', '2-5', '6-10', '11-15', '16-20', '>20']\n",
    "user_book_count.plot(kind='bar', x='count_bins', y= ['num_users', 'num_books'], fontsize = 12, figsize=(8,7))\n",
    "plt.title('Distribution of Number of Ratings Per User/Book', fontsize = 14)\n",
    "plt.xlabel('num of ratings', fontsize = 12)\n",
    "plt.legend()\n",
    "plt.ylabel('num of users/books',fontsize = 12)\n",
    "plt.savefig('visualization/dist_of_num_ratings.png')\n"
   ]
  },
  {
   "cell_type": "code",
   "execution_count": 77,
   "metadata": {},
   "outputs": [
    {
     "data": {
      "image/png": "[encoded data removed]",
      "text/plain": [
       "<Figure size 360x360 with 1 Axes>"
      ]
     },
     "metadata": {},
     "output_type": "display_data"
    }
   ],
   "source": [
    "fig = plt.gcf()\n",
    "fig.set_size_inches(5,5)\n",
    "plt.pie(user_book_count.num_users, labels=user_book_count.count_bins, startangle=90, autopct='%.1f%%', textprops={'fontsize': 12})\n",
    "plt.title('Distribution of Num_of_Ratings Per User', fontsize = 14)\n",
    "plt.savefig('visualization/pie_of_num_ratings_users.png');"
   ]
  },
  {
   "cell_type": "code",
   "execution_count": 76,
   "metadata": {},
   "outputs": [
    {
     "data": {
      "image/png": "[encoded data removed]",
      "text/plain": [
       "<Figure size 360x360 with 1 Axes>"
      ]
     },
     "metadata": {},
     "output_type": "display_data"
    }
   ],
   "source": [
    "fig = plt.gcf()\n",
    "fig.set_size_inches(5,5)\n",
    "plt.pie(user_book_count.num_books, labels=user_book_count.count_bins, startangle=90, autopct='%.1f%%', textprops={'fontsize': 12})\n",
    "plt.title('Distribution of Num_of_Ratings Per Book', fontsize = 14)\n",
    "plt.savefig('visualization/pie_of_num_ratings_books.png');"
   ]
  },
  {
   "cell_type": "code",
   "execution_count": 10,
   "metadata": {},
   "outputs": [
    {
     "data": {
      "text/plain": [
       "0.03121126778842722"
      ]
     },
     "execution_count": 10,
     "metadata": {},
     "output_type": "execute_result"
    }
   ],
   "source": [
    "#We noticed there are reviews with a rate of zero.\n",
    "#In Goodreads, the rating is from 1 to 5, so zero means missing value.\n",
    "#We are going to delete those reviews considering the amount is small (3%)\n",
    "\n",
    "reviews_df.rating[reviews_df.rating == 0].count()/num_reviews"
   ]
  },
  {
   "cell_type": "code",
   "execution_count": 11,
   "metadata": {},
   "outputs": [],
   "source": [
    "reviews_df1 = reviews_df[reviews_df.rating != 0]"
   ]
  },
  {
   "cell_type": "code",
   "execution_count": 12,
   "metadata": {
    "scrolled": true
   },
   "outputs": [
    {
     "data": {
      "text/html": [
       "<div>\n",
       "<style scoped>\n",
       "    .dataframe tbody tr th:only-of-type {\n",
       "        vertical-align: middle;\n",
       "    }\n",
       "\n",
       "    .dataframe tbody tr th {\n",
       "        vertical-align: top;\n",
       "    }\n",
       "\n",
       "    .dataframe thead th {\n",
       "        text-align: right;\n",
       "    }\n",
       "</style>\n",
       "<table border=\"1\" class=\"dataframe\">\n",
       "  <thead>\n",
       "    <tr style=\"text-align: right;\">\n",
       "      <th></th>\n",
       "      <th>rating</th>\n",
       "      <th>n_votes</th>\n",
       "      <th>n_comments</th>\n",
       "    </tr>\n",
       "  </thead>\n",
       "  <tbody>\n",
       "    <tr>\n",
       "      <th>count</th>\n",
       "      <td>1,791,519.0</td>\n",
       "      <td>1,791,519.0</td>\n",
       "      <td>1,791,519.0</td>\n",
       "    </tr>\n",
       "    <tr>\n",
       "      <th>mean</th>\n",
       "      <td>3.802666898871851</td>\n",
       "      <td>1.105045494912418</td>\n",
       "      <td>0.27077859626384093</td>\n",
       "    </tr>\n",
       "    <tr>\n",
       "      <th>std</th>\n",
       "      <td>1.0281259804676335</td>\n",
       "      <td>6.3391224896565035</td>\n",
       "      <td>2.051866561544186</td>\n",
       "    </tr>\n",
       "    <tr>\n",
       "      <th>min</th>\n",
       "      <td>1.0</td>\n",
       "      <td>-3.0</td>\n",
       "      <td>-1.0</td>\n",
       "    </tr>\n",
       "    <tr>\n",
       "      <th>25%</th>\n",
       "      <td>3.0</td>\n",
       "      <td>0.0</td>\n",
       "      <td>0.0</td>\n",
       "    </tr>\n",
       "    <tr>\n",
       "      <th>50%</th>\n",
       "      <td>4.0</td>\n",
       "      <td>0.0</td>\n",
       "      <td>0.0</td>\n",
       "    </tr>\n",
       "    <tr>\n",
       "      <th>75%</th>\n",
       "      <td>5.0</td>\n",
       "      <td>1.0</td>\n",
       "      <td>0.0</td>\n",
       "    </tr>\n",
       "    <tr>\n",
       "      <th>max</th>\n",
       "      <td>5.0</td>\n",
       "      <td>904.0</td>\n",
       "      <td>348.0</td>\n",
       "    </tr>\n",
       "  </tbody>\n",
       "</table>\n",
       "</div>"
      ],
      "text/plain": [
       "                  rating            n_votes          n_comments\n",
       "count        1,791,519.0        1,791,519.0         1,791,519.0\n",
       "mean   3.802666898871851  1.105045494912418 0.27077859626384093\n",
       "std   1.0281259804676335 6.3391224896565035   2.051866561544186\n",
       "min                  1.0               -3.0                -1.0\n",
       "25%                  3.0                0.0                 0.0\n",
       "50%                  4.0                0.0                 0.0\n",
       "75%                  5.0                1.0                 0.0\n",
       "max                  5.0              904.0               348.0"
      ]
     },
     "execution_count": 12,
     "metadata": {},
     "output_type": "execute_result"
    }
   ],
   "source": [
    "reviews_df1.describe()"
   ]
  },
  {
   "cell_type": "code",
   "execution_count": 13,
   "metadata": {},
   "outputs": [
    {
     "data": {
      "text/plain": [
       "(199757, 214260)"
      ]
     },
     "execution_count": 13,
     "metadata": {},
     "output_type": "execute_result"
    }
   ],
   "source": [
    "len(reviews_df1.user_id.unique()), len(reviews_df1.book_id.unique())"
   ]
  },
  {
   "cell_type": "markdown",
   "metadata": {},
   "source": [
    "### rating distribution"
   ]
  },
  {
   "cell_type": "code",
   "execution_count": 14,
   "metadata": {
    "scrolled": true
   },
   "outputs": [
    {
     "data": {
      "image/png": "[encoded data removed]",
      "text/plain": [
       "<Figure size 432x288 with 1 Axes>"
      ]
     },
     "metadata": {
      "needs_background": "light"
     },
     "output_type": "display_data"
    }
   ],
   "source": [
    "# rating distribution\n",
    "reviews_df1.groupby('rating').size().plot(kind='bar')\n",
    "plt.title('rating distribution of genre mystery thriller crime', fontsize=14)\n",
    "plt.xlabel('ratings', fontsize=14)\n",
    "plt.ylabel('frequency', fontsize=14)\n",
    "plt.savefig('genre_crime_rating_dist.png');"
   ]
  },
  {
   "cell_type": "markdown",
   "metadata": {},
   "source": [
    "### n_votes"
   ]
  },
  {
   "cell_type": "code",
   "execution_count": 15,
   "metadata": {},
   "outputs": [
    {
     "name": "stdout",
     "output_type": "stream",
     "text": [
      "0.258 of reviews received votes\n"
     ]
    }
   ],
   "source": [
    "pct = reviews_df1[reviews_df1.n_votes > 0].groupby('n_votes').size().sum()/len(reviews_df1[reviews_df1.n_votes >= 0])\n",
    "print('%.3f of reviews received votes'%pct)"
   ]
  },
  {
   "cell_type": "code",
   "execution_count": 16,
   "metadata": {},
   "outputs": [
    {
     "name": "stdout",
     "output_type": "stream",
     "text": [
      "the max number of votes a review received is 904\n"
     ]
    }
   ],
   "source": [
    "print('the max number of votes a review received is %d'%reviews_df1.n_votes.max())"
   ]
  },
  {
   "cell_type": "code",
   "execution_count": 18,
   "metadata": {},
   "outputs": [],
   "source": [
    "# reviews_df1[reviews_df1.n_votes == reviews_df1.n_votes.max()].review_text"
   ]
  },
  {
   "cell_type": "code",
   "execution_count": 19,
   "metadata": {},
   "outputs": [
    {
     "data": {
      "image/png": "[encoded data removed]",
      "text/plain": [
       "<Figure size 432x288 with 1 Axes>"
      ]
     },
     "metadata": {
      "needs_background": "light"
     },
     "output_type": "display_data"
    }
   ],
   "source": [
    "len(reviews_df1.n_votes.unique())\n",
    "len(reviews_df1[reviews_df1.n_votes >= 0])\n",
    "reviews_df1[reviews_df1.n_votes >= 0].groupby('n_votes').size()[1:11].plot(kind='bar')\n",
    "plt.title('n_vote distribution of genre mystery thriller crime', fontsize=14)\n",
    "plt.xlabel('n_vote', fontsize=14)\n",
    "plt.ylabel('frequency', fontsize=14)\n",
    "plt.savefig('genre_crime_n_vote_dist.png');"
   ]
  },
  {
   "cell_type": "markdown",
   "metadata": {},
   "source": [
    "### n_comments"
   ]
  },
  {
   "cell_type": "code",
   "execution_count": 20,
   "metadata": {},
   "outputs": [
    {
     "name": "stdout",
     "output_type": "stream",
     "text": [
      "0.075 of reviews received comments\n"
     ]
    }
   ],
   "source": [
    "pct = reviews_df1[reviews_df1.n_comments > 0].groupby('n_votes').size().sum()/len(reviews_df1[reviews_df1.n_comments >= 0])\n",
    "print('%.3f of reviews received comments'%pct)"
   ]
  },
  {
   "cell_type": "code",
   "execution_count": 21,
   "metadata": {},
   "outputs": [
    {
     "name": "stdout",
     "output_type": "stream",
     "text": [
      "the max number of votes a review received is 348\n"
     ]
    }
   ],
   "source": [
    "print('the max number of votes a review received is %d'%reviews_df1.n_comments.max())"
   ]
  },
  {
   "cell_type": "code",
   "execution_count": 23,
   "metadata": {},
   "outputs": [],
   "source": [
    "# reviews_df1[reviews_df1.n_comments == reviews_df1.n_comments.max()].review_text"
   ]
  },
  {
   "cell_type": "code",
   "execution_count": 24,
   "metadata": {},
   "outputs": [
    {
     "data": {
      "image/png": "[encoded data removed]",
      "text/plain": [
       "<Figure size 432x288 with 1 Axes>"
      ]
     },
     "metadata": {
      "needs_background": "light"
     },
     "output_type": "display_data"
    }
   ],
   "source": [
    "reviews_df1[reviews_df1.n_comments >= 0].groupby('n_comments').size()[1:11].plot(kind='bar')\n",
    "plt.title('n_comments distribution of genre mystery thriller crime', fontsize=14)\n",
    "plt.xlabel('n_comments', fontsize=14)\n",
    "plt.ylabel('frequency', fontsize=14)\n",
    "# plt.ylim(0, 200000)\n",
    "plt.savefig('genre_crime_n_comments_dist.png');"
   ]
  },
  {
   "cell_type": "markdown",
   "metadata": {},
   "source": [
    "### Load books dataset"
   ]
  },
  {
   "cell_type": "code",
   "execution_count": 25,
   "metadata": {},
   "outputs": [
    {
     "name": "stdout",
     "output_type": "stream",
     "text": [
      "counting file: data/goodreads_books_mystery_thriller_crime.json.gz\n",
      "current line: 0,complete\n",
      "done!\n"
     ]
    }
   ],
   "source": [
    "books_df = read_books(os.path.join('data/', 'goodreads_books_mystery_thriller_crime.json.gz'), head=False)"
   ]
  },
  {
   "cell_type": "code",
   "execution_count": 26,
   "metadata": {},
   "outputs": [
    {
     "name": "stdout",
     "output_type": "stream",
     "text": [
      "<class 'pandas.core.frame.DataFrame'>\n",
      "RangeIndex: 219235 entries, 0 to 219234\n",
      "Data columns (total 19 columns):\n",
      "book_id               219235 non-null object\n",
      "work_id               219235 non-null object\n",
      "isbn                  219235 non-null object\n",
      "asin                  219235 non-null object\n",
      "title                 219235 non-null object\n",
      "description           219235 non-null object\n",
      "num_pages             219235 non-null object\n",
      "is_ebook              219235 non-null object\n",
      "link                  219235 non-null object\n",
      "country_code          219235 non-null object\n",
      "language_code         219235 non-null object\n",
      "average_rating        219235 non-null object\n",
      "ratings_count         219235 non-null object\n",
      "text_reviews_count    219235 non-null object\n",
      "author_id             219235 non-null object\n",
      "publisher             219235 non-null object\n",
      "publication_year      219235 non-null object\n",
      "genre                 219235 non-null object\n",
      "similar_books         219235 non-null object\n",
      "dtypes: object(19)\n",
      "memory usage: 31.8+ MB\n"
     ]
    }
   ],
   "source": [
    "books_df.info()"
   ]
  },
  {
   "cell_type": "code",
   "execution_count": 27,
   "metadata": {},
   "outputs": [
    {
     "data": {
      "text/plain": [
       "219235"
      ]
     },
     "execution_count": 27,
     "metadata": {},
     "output_type": "execute_result"
    }
   ],
   "source": [
    "num_books = len(books_df)\n",
    "num_books"
   ]
  },
  {
   "cell_type": "code",
   "execution_count": 28,
   "metadata": {},
   "outputs": [],
   "source": [
    "books_df1 = books_df.copy()"
   ]
  },
  {
   "cell_type": "markdown",
   "metadata": {},
   "source": [
    "### fill in missing page num with zero"
   ]
  },
  {
   "cell_type": "code",
   "execution_count": 29,
   "metadata": {},
   "outputs": [],
   "source": [
    "books_df1.num_pages = books_df1.num_pages.replace(r'^\\s*$', 0, regex=True)"
   ]
  },
  {
   "cell_type": "code",
   "execution_count": 30,
   "metadata": {},
   "outputs": [
    {
     "data": {
      "text/plain": [
       "1158"
      ]
     },
     "execution_count": 30,
     "metadata": {},
     "output_type": "execute_result"
    }
   ],
   "source": [
    "len(books_df1.num_pages.unique())"
   ]
  },
  {
   "cell_type": "markdown",
   "metadata": {},
   "source": [
    "### concat genre"
   ]
  },
  {
   "cell_type": "code",
   "execution_count": 31,
   "metadata": {},
   "outputs": [
    {
     "data": {
      "text/plain": [
       "array([list([{'count': '159', 'name': 'to-read'}, {'count': '12', 'name': 'historical-fiction'}, {'count': '11', 'name': 'mystery'}, {'count': '10', 'name': 'historical-mystery'}, {'count': '7', 'name': 'medieval'}, {'count': '6', 'name': 'historical'}, {'count': '5', 'name': 'crime'}, {'count': '3', 'name': 'series'}, {'count': '3', 'name': 'ebook'}, {'count': '3', 'name': 'fiction'}, {'count': '3', 'name': 'crowner-john'}, {'count': '2', 'name': 'default'}, {'count': '2', 'name': 'books'}, {'count': '2', 'name': 'owned'}, {'count': '2', 'name': 'mystery-thrillers'}, {'count': '2', 'name': 'c'}, {'count': '2', 'name': 'library'}, {'count': '2', 'name': 'wish-list'}, {'count': '2', 'name': 'england'}, {'count': '2', 'name': 'medieval-england'}, {'count': '2', 'name': 'mystery-historical'}, {'count': '2', 'name': 'audiobook'}, {'count': '1', 'name': 'recs-not-interested'}, {'count': '1', 'name': 'available'}, {'count': '1', 'name': 'public-library'}, {'count': '1', 'name': 'boulder'}, {'count': '1', 'name': 'fiction-historical'}, {'count': '1', 'name': 'fiction-crime'}, {'count': '1', 'name': 'downloadable-audio'}, {'count': '1', 'name': 'detectives'}, {'count': '1', 'name': 'need-to-obtain'}, {'count': '1', 'name': 'read-2017'}, {'count': '1', 'name': 'r-f'}, {'count': '1', 'name': 'hist-myst'}, {'count': '1', 'name': 'currently-reading'}, {'count': '1', 'name': 'historic'}, {'count': '1', 'name': 'e-reader-suspense'}, {'count': '1', 'name': 'historical-murder-mystery'}, {'count': '1', 'name': 'historic-fiction'}, {'count': '1', 'name': 'crowner-john-mystery'}, {'count': '1', 'name': 'mideaval-mystery'}, {'count': '1', 'name': 'crime-historical'}, {'count': '1', 'name': 'on-my-shelf'}, {'count': '1', 'name': 'need-to-buy'}, {'count': '1', 'name': 'zenigma-crowner-john'}, {'count': '1', 'name': 'warehouse-sinc'}, {'count': '1', 'name': 'a-missing-piece'}, {'count': '1', 'name': 'library-audiobooks'}, {'count': '1', 'name': 'physical-currently-owned'}, {'count': '1', 'name': 'no-loan'}, {'count': '1', 'name': 'tbr-busting-2015'}, {'count': '1', 'name': 'spring-2015'}, {'count': '1', 'name': 'plantagenet-1154-1485'}, {'count': '1', 'name': 'medieval5c-16c'}, {'count': '1', 'name': 'forensics'}, {'count': '1', 'name': 'zscribd'}, {'count': '1', 'name': 'tbr-2014'}, {'count': '1', 'name': 'pub-simon-schuster'}, {'count': '1', 'name': 'pc-400-499'}, {'count': '1', 'name': 'e-book'}, {'count': '1', 'name': 'c-green'}, {'count': '1', 'name': 'author-k'}, {'count': '1', 'name': 'murder-mystery'}, {'count': '1', 'name': 'knight-b'}, {'count': '1', 'name': 'british'}, {'count': '1', 'name': 'tbr-busting-2014'}, {'count': '1', 'name': 'fraudio'}, {'count': '1', 'name': 'under-500-ratings'}, {'count': '1', 'name': 'winter-20142015'}, {'count': '1', 'name': 'published-2009'}, {'count': '1', 'name': 'historcal-mysteries'}, {'count': '1', 'name': 'in-library'}, {'count': '1', 'name': 'tbr'}, {'count': '1', 'name': 'one-click-dig'}, {'count': '1', 'name': 'dropped'}, {'count': '1', 'name': 'e-library'}, {'count': '1', 'name': 'library-book'}, {'count': '1', 'name': 'read-prior-to-2014'}, {'count': '1', 'name': 'historical-crime-fiction'}, {'count': '1', 'name': 'historical-who-dunnit'}, {'count': '1', 'name': 'lcpl-eaudio'}, {'count': '1', 'name': 'pinossa'}, {'count': '1', 'name': 'b-cher-2012'}, {'count': '1', 'name': 'purchasesaug2013'}, {'count': '1', 'name': 'histmyst'}, {'count': '1', 'name': 'books-i-own'}, {'count': '1', 'name': 'historical-novels'}, {'count': '1', 'name': 'should-read'}, {'count': '1', 'name': 'mystery-historical-all'}, {'count': '1', 'name': 'peter'}, {'count': '1', 'name': 'books-to-get-list'}, {'count': '1', 'name': 'knight-bernard'}, {'count': '1', 'name': 'mp3'}, {'count': '1', 'name': 'needed-mysteries'}, {'count': '1', 'name': 'historical-hoodunits'}, {'count': '1', 'name': 'detective-crowner-john'}, {'count': '1', 'name': 'books-in-english'}, {'count': '1', 'name': 'to'}, {'count': '1', 'name': 'need'}, {'count': '1', 'name': '1100s-ad'}])],\n",
       "      dtype=object)"
      ]
     },
     "execution_count": 31,
     "metadata": {},
     "output_type": "execute_result"
    }
   ],
   "source": [
    "books_df1.genre[:1].values"
   ]
  },
  {
   "cell_type": "code",
   "execution_count": 32,
   "metadata": {},
   "outputs": [],
   "source": [
    "def genre_list(x):\n",
    "    genre = ''\n",
    "    try:\n",
    "        for i in x:\n",
    "            if int(i['count']) >= 1:\n",
    "                genre += i['name'] +' '\n",
    "        return genre\n",
    "    except:\n",
    "        return 'mystery thriller crime'"
   ]
  },
  {
   "cell_type": "code",
   "execution_count": 33,
   "metadata": {},
   "outputs": [],
   "source": [
    "books_df1.genre = books_df1.genre.apply(lambda x: genre_list(x))"
   ]
  },
  {
   "cell_type": "code",
   "execution_count": 34,
   "metadata": {},
   "outputs": [
    {
     "data": {
      "text/plain": [
       "0    to-read historical-fiction mystery historical-...\n",
       "1    currently-reading netgalley kindle read-2017 r...\n",
       "2    to-read currently-reading humor kindle on-my-k...\n",
       "3    to-read mystery england mysteries currently-re...\n",
       "4    to-read historical-fiction currently-reading m...\n",
       "5    mystery to-read fiction crime mysteries classi...\n",
       "6    to-read currently-reading kindle indie-barely-...\n",
       "7    to-read mystery crime fiction mysteries curren...\n",
       "8    to-read currently-reading crime a-novel to-rea...\n",
       "9    mystery crime mysteries classics owned favorit...\n",
       "Name: genre, dtype: object"
      ]
     },
     "execution_count": 34,
     "metadata": {},
     "output_type": "execute_result"
    }
   ],
   "source": [
    "books_df1.genre[:10]"
   ]
  },
  {
   "cell_type": "code",
   "execution_count": 35,
   "metadata": {
    "scrolled": false
   },
   "outputs": [],
   "source": [
    "genre_len = books_df1.genre.apply(lambda x: len(x))"
   ]
  },
  {
   "cell_type": "code",
   "execution_count": 36,
   "metadata": {},
   "outputs": [
    {
     "data": {
      "text/plain": [
       "count            219,235.0\n",
       "mean     959.6314821994663\n",
       "std     394.67689452970086\n",
       "min                    8.0\n",
       "25%                  665.0\n",
       "50%                1,128.0\n",
       "75%                1,234.0\n",
       "max                2,141.0\n",
       "Name: genre, dtype: float64"
      ]
     },
     "execution_count": 36,
     "metadata": {},
     "output_type": "execute_result"
    }
   ],
   "source": [
    "genre_len.describe()"
   ]
  },
  {
   "cell_type": "code",
   "execution_count": 37,
   "metadata": {},
   "outputs": [],
   "source": [
    "count = CountVectorizer()\n",
    "count_matrix = count.fit_transform(books_df1.genre)\n",
    "genre_df = pd.DataFrame(count_matrix.todense(), index=books_df.book_id)\n",
    "# sc = StandardScaler()\n",
    "# scaled_count_matrix = sc.fit_transform(count_matrix.todense())\n",
    "# genre_df = pd.DataFrame(scaled_count_matrix, index=books_df.book_id)\n",
    "\n",
    "# final_df = pd.concat([genre_df,books_df1],axis=1)\n",
    "    "
   ]
  },
  {
   "cell_type": "code",
   "execution_count": 38,
   "metadata": {},
   "outputs": [
    {
     "data": {
      "text/plain": [
       "(219235, 87531)"
      ]
     },
     "execution_count": 38,
     "metadata": {},
     "output_type": "execute_result"
    }
   ],
   "source": [
    "genre_df.shape"
   ]
  },
  {
   "cell_type": "markdown",
   "metadata": {},
   "source": [
    "### extract the first author id"
   ]
  },
  {
   "cell_type": "code",
   "execution_count": 39,
   "metadata": {},
   "outputs": [],
   "source": [
    "author = books_df1.author_id.apply(lambda x: len(x))"
   ]
  },
  {
   "cell_type": "code",
   "execution_count": 40,
   "metadata": {},
   "outputs": [
    {
     "data": {
      "text/plain": [
       "(44710, 7065, 2113)"
      ]
     },
     "execution_count": 40,
     "metadata": {},
     "output_type": "execute_result"
    }
   ],
   "source": [
    "(author>1).sum(),  (author>2).sum(), (author>3).sum()"
   ]
  },
  {
   "cell_type": "code",
   "execution_count": 41,
   "metadata": {},
   "outputs": [],
   "source": [
    "books_df1.author_id = books_df1.author_id.apply(lambda x:x[0]['author_id'])"
   ]
  },
  {
   "cell_type": "code",
   "execution_count": 42,
   "metadata": {},
   "outputs": [
    {
     "data": {
      "text/plain": [
       "31761"
      ]
     },
     "execution_count": 42,
     "metadata": {},
     "output_type": "execute_result"
    }
   ],
   "source": [
    "len(books_df1.author_id.unique())"
   ]
  },
  {
   "cell_type": "code",
   "execution_count": 43,
   "metadata": {},
   "outputs": [
    {
     "data": {
      "text/plain": [
       "2     15104629\n",
       "4       337108\n",
       "5       123715\n",
       "9       123715\n",
       "10       12577\n",
       "Name: author_id, dtype: object"
      ]
     },
     "execution_count": 43,
     "metadata": {},
     "output_type": "execute_result"
    }
   ],
   "source": [
    "mask = author>1\n",
    "books_df1.author_id[mask][:5]"
   ]
  },
  {
   "cell_type": "code",
   "execution_count": 44,
   "metadata": {},
   "outputs": [
    {
     "data": {
      "text/plain": [
       "'37778'"
      ]
     },
     "execution_count": 44,
     "metadata": {},
     "output_type": "execute_result"
    }
   ],
   "source": [
    "books_df1.author_id.loc[0]"
   ]
  },
  {
   "cell_type": "code",
   "execution_count": 45,
   "metadata": {},
   "outputs": [
    {
     "data": {
      "text/plain": [
       "'12471'"
      ]
     },
     "execution_count": 45,
     "metadata": {},
     "output_type": "execute_result"
    }
   ],
   "source": [
    "books_df1.author_id.loc[34606]"
   ]
  },
  {
   "cell_type": "code",
   "execution_count": 46,
   "metadata": {},
   "outputs": [],
   "source": [
    "# books_df.asin.loc[0] == '' #check and confirm the blank space is empty string\n",
    "# replace all emppty string with nan\n",
    "# books_df1 = books_df.replace(r'^\\s*$', np.nan, regex=True)"
   ]
  },
  {
   "cell_type": "code",
   "execution_count": 47,
   "metadata": {},
   "outputs": [
    {
     "name": "stdout",
     "output_type": "stream",
     "text": [
      "<class 'pandas.core.frame.DataFrame'>\n",
      "RangeIndex: 219235 entries, 0 to 219234\n",
      "Data columns (total 19 columns):\n",
      "book_id               219235 non-null object\n",
      "work_id               219235 non-null object\n",
      "isbn                  219235 non-null object\n",
      "asin                  219235 non-null object\n",
      "title                 219235 non-null object\n",
      "description           219235 non-null object\n",
      "num_pages             219235 non-null object\n",
      "is_ebook              219235 non-null object\n",
      "link                  219235 non-null object\n",
      "country_code          219235 non-null object\n",
      "language_code         219235 non-null object\n",
      "average_rating        219235 non-null object\n",
      "ratings_count         219235 non-null object\n",
      "text_reviews_count    219235 non-null object\n",
      "author_id             219235 non-null object\n",
      "publisher             219235 non-null object\n",
      "publication_year      219235 non-null object\n",
      "genre                 219235 non-null object\n",
      "similar_books         219235 non-null object\n",
      "dtypes: object(19)\n",
      "memory usage: 31.8+ MB\n"
     ]
    }
   ],
   "source": [
    "books_df1.info()"
   ]
  },
  {
   "cell_type": "code",
   "execution_count": 48,
   "metadata": {},
   "outputs": [
    {
     "data": {
      "text/plain": [
       "book_id              0.0\n",
       "work_id              0.0\n",
       "isbn                 0.0\n",
       "asin                 0.0\n",
       "title                0.0\n",
       "description          0.0\n",
       "num_pages            0.0\n",
       "is_ebook             0.0\n",
       "link                 0.0\n",
       "country_code         0.0\n",
       "language_code        0.0\n",
       "average_rating       0.0\n",
       "ratings_count        0.0\n",
       "text_reviews_count   0.0\n",
       "author_id            0.0\n",
       "publisher            0.0\n",
       "publication_year     0.0\n",
       "genre                0.0\n",
       "similar_books        0.0\n",
       "dtype: float64"
      ]
     },
     "execution_count": 48,
     "metadata": {},
     "output_type": "execute_result"
    }
   ],
   "source": [
    "books_df1.isnull().sum()/len(books_df1)"
   ]
  },
  {
   "cell_type": "code",
   "execution_count": 49,
   "metadata": {},
   "outputs": [
    {
     "data": {
      "text/plain": [
       "(89869, 20678, 192)"
      ]
     },
     "execution_count": 49,
     "metadata": {},
     "output_type": "execute_result"
    }
   ],
   "source": [
    "len(books_df1.work_id.unique()), len(books_df1.publisher.unique()), len(books_df1.publication_year.unique())"
   ]
  },
  {
   "cell_type": "code",
   "execution_count": 50,
   "metadata": {},
   "outputs": [],
   "source": [
    "# convert average_rating, ratings_count, text_reviews_count to float/integer\n",
    "books_df1.average_rating =books_df1.average_rating.astype('float')\n",
    "books_df1.ratings_count =books_df1.ratings_count.astype('int')\n",
    "books_df1.text_reviews_count =books_df1.text_reviews_count.astype('int')"
   ]
  },
  {
   "cell_type": "code",
   "execution_count": 51,
   "metadata": {},
   "outputs": [],
   "source": [
    "# In order to convert num_pages to integer, we replace nan with zero. \n",
    "# With the data type of integer, we can replace zero with mean.\n",
    "books_df1.num_pages = books_df1.num_pages.fillna(0)\n",
    "books_df1.num_pages =books_df1.num_pages.astype('int')\n",
    "mean = round(books_df1.num_pages[books_df1.num_pages != 0].mean())\n",
    "books_df1.num_pages = books_df1.num_pages.replace(0, mean)"
   ]
  },
  {
   "cell_type": "code",
   "execution_count": 52,
   "metadata": {},
   "outputs": [
    {
     "data": {
      "text/html": [
       "<div>\n",
       "<style scoped>\n",
       "    .dataframe tbody tr th:only-of-type {\n",
       "        vertical-align: middle;\n",
       "    }\n",
       "\n",
       "    .dataframe tbody tr th {\n",
       "        vertical-align: top;\n",
       "    }\n",
       "\n",
       "    .dataframe thead th {\n",
       "        text-align: right;\n",
       "    }\n",
       "</style>\n",
       "<table border=\"1\" class=\"dataframe\">\n",
       "  <thead>\n",
       "    <tr style=\"text-align: right;\">\n",
       "      <th></th>\n",
       "      <th>book_id</th>\n",
       "      <th>work_id</th>\n",
       "      <th>isbn</th>\n",
       "      <th>asin</th>\n",
       "      <th>title</th>\n",
       "      <th>description</th>\n",
       "      <th>num_pages</th>\n",
       "      <th>is_ebook</th>\n",
       "      <th>link</th>\n",
       "      <th>country_code</th>\n",
       "      <th>language_code</th>\n",
       "      <th>average_rating</th>\n",
       "      <th>ratings_count</th>\n",
       "      <th>text_reviews_count</th>\n",
       "      <th>author_id</th>\n",
       "      <th>publisher</th>\n",
       "      <th>publication_year</th>\n",
       "      <th>genre</th>\n",
       "      <th>similar_books</th>\n",
       "    </tr>\n",
       "  </thead>\n",
       "  <tbody>\n",
       "    <tr>\n",
       "      <th>0</th>\n",
       "      <td>6066814</td>\n",
       "      <td>6243149</td>\n",
       "      <td>184737297X</td>\n",
       "      <td></td>\n",
       "      <td>Crowner Royal (Crowner John Mystery, #13)</td>\n",
       "      <td>London, 1196. At the command of Richard the Li...</td>\n",
       "      <td>400</td>\n",
       "      <td>false</td>\n",
       "      <td>https://www.goodreads.com/book/show/6066814-cr...</td>\n",
       "      <td>US</td>\n",
       "      <td></td>\n",
       "      <td>3.93</td>\n",
       "      <td>186</td>\n",
       "      <td>15</td>\n",
       "      <td>37778</td>\n",
       "      <td>Simon &amp; Schuster UK</td>\n",
       "      <td>2009</td>\n",
       "      <td>to-read historical-fiction mystery historical-...</td>\n",
       "      <td>[439108, 522621, 116770, 1275927, 6202655, 840...</td>\n",
       "    </tr>\n",
       "    <tr>\n",
       "      <th>1</th>\n",
       "      <td>33394837</td>\n",
       "      <td>54143148</td>\n",
       "      <td></td>\n",
       "      <td>B01NCIKAQX</td>\n",
       "      <td>The House of Memory (Pluto's Snitch #2)</td>\n",
       "      <td></td>\n",
       "      <td>318</td>\n",
       "      <td>true</td>\n",
       "      <td>https://www.goodreads.com/book/show/33394837-t...</td>\n",
       "      <td>US</td>\n",
       "      <td>eng</td>\n",
       "      <td>4.33</td>\n",
       "      <td>269</td>\n",
       "      <td>60</td>\n",
       "      <td>242185</td>\n",
       "      <td></td>\n",
       "      <td></td>\n",
       "      <td>currently-reading netgalley kindle read-2017 r...</td>\n",
       "      <td>[]</td>\n",
       "    </tr>\n",
       "    <tr>\n",
       "      <th>2</th>\n",
       "      <td>29074697</td>\n",
       "      <td>49305010</td>\n",
       "      <td></td>\n",
       "      <td>B01ALOWJN0</td>\n",
       "      <td>The Slaughtered Virgin of Zenopolis (Inspector...</td>\n",
       "      <td>BATHS, BANKS AND ROMAN INSURRECTION\\nDetective...</td>\n",
       "      <td>321</td>\n",
       "      <td>true</td>\n",
       "      <td>https://www.goodreads.com/book/show/29074697-t...</td>\n",
       "      <td>US</td>\n",
       "      <td>eng</td>\n",
       "      <td>3.49</td>\n",
       "      <td>192</td>\n",
       "      <td>23</td>\n",
       "      <td>15104629</td>\n",
       "      <td>Amazon Digital Services</td>\n",
       "      <td></td>\n",
       "      <td>to-read currently-reading humor kindle on-my-k...</td>\n",
       "      <td>[]</td>\n",
       "    </tr>\n",
       "    <tr>\n",
       "      <th>3</th>\n",
       "      <td>1902202</td>\n",
       "      <td>1903897</td>\n",
       "      <td>0854563903</td>\n",
       "      <td></td>\n",
       "      <td>Dead in the Morning (Patrick Grant, #1)</td>\n",
       "      <td>Gerald breezily introduced his wife, Helen, to...</td>\n",
       "      <td>321</td>\n",
       "      <td>false</td>\n",
       "      <td>https://www.goodreads.com/book/show/1902202.De...</td>\n",
       "      <td>US</td>\n",
       "      <td></td>\n",
       "      <td>3.3</td>\n",
       "      <td>52</td>\n",
       "      <td>8</td>\n",
       "      <td>190988</td>\n",
       "      <td>Ulverscroft</td>\n",
       "      <td>1975</td>\n",
       "      <td>to-read mystery england mysteries currently-re...</td>\n",
       "      <td>[]</td>\n",
       "    </tr>\n",
       "    <tr>\n",
       "      <th>4</th>\n",
       "      <td>9671977</td>\n",
       "      <td>2152906</td>\n",
       "      <td>8838920931</td>\n",
       "      <td></td>\n",
       "      <td>Aristotele e i misteri di Eleusi</td>\n",
       "      <td>\"I misteri di Eleusi\" e il quinto romanzo di A...</td>\n",
       "      <td>659</td>\n",
       "      <td>false</td>\n",
       "      <td>https://www.goodreads.com/book/show/9671977-ar...</td>\n",
       "      <td>US</td>\n",
       "      <td>ita</td>\n",
       "      <td>3.54</td>\n",
       "      <td>22</td>\n",
       "      <td>3</td>\n",
       "      <td>337108</td>\n",
       "      <td>Sellerio</td>\n",
       "      <td>2006</td>\n",
       "      <td>to-read historical-fiction currently-reading m...</td>\n",
       "      <td>[]</td>\n",
       "    </tr>\n",
       "  </tbody>\n",
       "</table>\n",
       "</div>"
      ],
      "text/plain": [
       "    book_id   work_id        isbn        asin  \\\n",
       "0   6066814   6243149  184737297X               \n",
       "1  33394837  54143148              B01NCIKAQX   \n",
       "2  29074697  49305010              B01ALOWJN0   \n",
       "3   1902202   1903897  0854563903               \n",
       "4   9671977   2152906  8838920931               \n",
       "\n",
       "                                               title  \\\n",
       "0          Crowner Royal (Crowner John Mystery, #13)   \n",
       "1            The House of Memory (Pluto's Snitch #2)   \n",
       "2  The Slaughtered Virgin of Zenopolis (Inspector...   \n",
       "3            Dead in the Morning (Patrick Grant, #1)   \n",
       "4                   Aristotele e i misteri di Eleusi   \n",
       "\n",
       "                                         description  num_pages is_ebook  \\\n",
       "0  London, 1196. At the command of Richard the Li...        400    false   \n",
       "1                                                           318     true   \n",
       "2  BATHS, BANKS AND ROMAN INSURRECTION\\nDetective...        321     true   \n",
       "3  Gerald breezily introduced his wife, Helen, to...        321    false   \n",
       "4  \"I misteri di Eleusi\" e il quinto romanzo di A...        659    false   \n",
       "\n",
       "                                                link country_code  \\\n",
       "0  https://www.goodreads.com/book/show/6066814-cr...           US   \n",
       "1  https://www.goodreads.com/book/show/33394837-t...           US   \n",
       "2  https://www.goodreads.com/book/show/29074697-t...           US   \n",
       "3  https://www.goodreads.com/book/show/1902202.De...           US   \n",
       "4  https://www.goodreads.com/book/show/9671977-ar...           US   \n",
       "\n",
       "  language_code  average_rating  ratings_count  text_reviews_count author_id  \\\n",
       "0                          3.93            186                  15     37778   \n",
       "1           eng            4.33            269                  60    242185   \n",
       "2           eng            3.49            192                  23  15104629   \n",
       "3                           3.3             52                   8    190988   \n",
       "4           ita            3.54             22                   3    337108   \n",
       "\n",
       "                 publisher publication_year  \\\n",
       "0      Simon & Schuster UK             2009   \n",
       "1                                             \n",
       "2  Amazon Digital Services                    \n",
       "3              Ulverscroft             1975   \n",
       "4                 Sellerio             2006   \n",
       "\n",
       "                                               genre  \\\n",
       "0  to-read historical-fiction mystery historical-...   \n",
       "1  currently-reading netgalley kindle read-2017 r...   \n",
       "2  to-read currently-reading humor kindle on-my-k...   \n",
       "3  to-read mystery england mysteries currently-re...   \n",
       "4  to-read historical-fiction currently-reading m...   \n",
       "\n",
       "                                       similar_books  \n",
       "0  [439108, 522621, 116770, 1275927, 6202655, 840...  \n",
       "1                                                 []  \n",
       "2                                                 []  \n",
       "3                                                 []  \n",
       "4                                                 []  "
      ]
     },
     "execution_count": 52,
     "metadata": {},
     "output_type": "execute_result"
    }
   ],
   "source": [
    "books_df1.head()"
   ]
  },
  {
   "cell_type": "code",
   "execution_count": 53,
   "metadata": {},
   "outputs": [
    {
     "data": {
      "text/html": [
       "<div>\n",
       "<style scoped>\n",
       "    .dataframe tbody tr th:only-of-type {\n",
       "        vertical-align: middle;\n",
       "    }\n",
       "\n",
       "    .dataframe tbody tr th {\n",
       "        vertical-align: top;\n",
       "    }\n",
       "\n",
       "    .dataframe thead th {\n",
       "        text-align: right;\n",
       "    }\n",
       "</style>\n",
       "<table border=\"1\" class=\"dataframe\">\n",
       "  <thead>\n",
       "    <tr style=\"text-align: right;\">\n",
       "      <th></th>\n",
       "      <th>num_pages</th>\n",
       "      <th>average_rating</th>\n",
       "      <th>ratings_count</th>\n",
       "      <th>text_reviews_count</th>\n",
       "    </tr>\n",
       "  </thead>\n",
       "  <tbody>\n",
       "    <tr>\n",
       "      <th>count</th>\n",
       "      <td>219,235.0</td>\n",
       "      <td>219,235.0</td>\n",
       "      <td>219,235.0</td>\n",
       "      <td>219,235.0</td>\n",
       "    </tr>\n",
       "    <tr>\n",
       "      <th>mean</th>\n",
       "      <td>320.84569525851254</td>\n",
       "      <td>3.8315172303691902</td>\n",
       "      <td>523.902410655233</td>\n",
       "      <td>36.7153328619974</td>\n",
       "    </tr>\n",
       "    <tr>\n",
       "      <th>std</th>\n",
       "      <td>183.91814573137114</td>\n",
       "      <td>0.3320234420205335</td>\n",
       "      <td>9,129.935228537253</td>\n",
       "      <td>370.8191653925541</td>\n",
       "    </tr>\n",
       "    <tr>\n",
       "      <th>min</th>\n",
       "      <td>1.0</td>\n",
       "      <td>0.0</td>\n",
       "      <td>0.0</td>\n",
       "      <td>0.0</td>\n",
       "    </tr>\n",
       "    <tr>\n",
       "      <th>25%</th>\n",
       "      <td>279.0</td>\n",
       "      <td>3.65</td>\n",
       "      <td>10.0</td>\n",
       "      <td>2.0</td>\n",
       "    </tr>\n",
       "    <tr>\n",
       "      <th>50%</th>\n",
       "      <td>321.0</td>\n",
       "      <td>3.85</td>\n",
       "      <td>35.0</td>\n",
       "      <td>6.0</td>\n",
       "    </tr>\n",
       "    <tr>\n",
       "      <th>75%</th>\n",
       "      <td>352.0</td>\n",
       "      <td>4.04</td>\n",
       "      <td>128.0</td>\n",
       "      <td>17.0</td>\n",
       "    </tr>\n",
       "    <tr>\n",
       "      <th>max</th>\n",
       "      <td>52,015.0</td>\n",
       "      <td>5.0</td>\n",
       "      <td>2,046,499.0</td>\n",
       "      <td>78,438.0</td>\n",
       "    </tr>\n",
       "  </tbody>\n",
       "</table>\n",
       "</div>"
      ],
      "text/plain": [
       "               num_pages     average_rating      ratings_count  \\\n",
       "count          219,235.0          219,235.0          219,235.0   \n",
       "mean  320.84569525851254 3.8315172303691902   523.902410655233   \n",
       "std   183.91814573137114 0.3320234420205335 9,129.935228537253   \n",
       "min                  1.0                0.0                0.0   \n",
       "25%                279.0               3.65               10.0   \n",
       "50%                321.0               3.85               35.0   \n",
       "75%                352.0               4.04              128.0   \n",
       "max             52,015.0                5.0        2,046,499.0   \n",
       "\n",
       "       text_reviews_count  \n",
       "count           219,235.0  \n",
       "mean     36.7153328619974  \n",
       "std     370.8191653925541  \n",
       "min                   0.0  \n",
       "25%                   2.0  \n",
       "50%                   6.0  \n",
       "75%                  17.0  \n",
       "max              78,438.0  "
      ]
     },
     "execution_count": 53,
     "metadata": {},
     "output_type": "execute_result"
    }
   ],
   "source": [
    "books_df1.describe()"
   ]
  },
  {
   "cell_type": "markdown",
   "metadata": {},
   "source": [
    "#### Explore country and language code\n",
    "\n",
    "These books are 100% US country code.\n",
    "\n",
    "There are 85 languages. Except for the 37.6% missing values, 45% of books are in English, 10% are in Italy, Germany, Spanish, Dutch, French and Portuguese. (93% in total)"
   ]
  },
  {
   "cell_type": "code",
   "execution_count": 54,
   "metadata": {},
   "outputs": [
    {
     "data": {
      "text/plain": [
       "array(['US'], dtype=object)"
      ]
     },
     "execution_count": 54,
     "metadata": {},
     "output_type": "execute_result"
    }
   ],
   "source": [
    "books_df1.country_code.unique()"
   ]
  },
  {
   "cell_type": "code",
   "execution_count": 55,
   "metadata": {},
   "outputs": [
    {
     "data": {
      "text/plain": [
       "US   1.0\n",
       "Name: country_code, dtype: float64"
      ]
     },
     "execution_count": 55,
     "metadata": {},
     "output_type": "execute_result"
    }
   ],
   "source": [
    "books_df1.country_code.value_counts()/len(books_df1)"
   ]
  },
  {
   "cell_type": "code",
   "execution_count": 56,
   "metadata": {},
   "outputs": [
    {
     "data": {
      "text/plain": [
       "array(['', 'eng', 'ita', 'en-GB', 'en-CA', 'gre', 'lit', 'fin', 'en-US',\n",
       "       'per', 'bul', 'nl', 'spa', 'ger', 'swe', 'pes', 'cze', 'en', 'por',\n",
       "       'fre', 'nor', 'zho', 'ind', 'rum', 'slo', 'lav', 'hun', 'afr',\n",
       "       'heb', 'dan', 'pol', 'srp', 'tur', 'kat', 'jpn', 'ben', 'tha',\n",
       "       'nob', 'vie', 'rus', 'ara', 'cat', 'es-MX', 'ukr', 'kan', 'scr',\n",
       "       'msa', 'est', 'isl', 'pra', 'urd', 'mal', 'tam', 'glg', 'hin',\n",
       "       'vls', 'din', 'pt-BR', 'slv', 'aze', 'nld', 'mkd', 'aus', 'mul',\n",
       "       'eus', 'guj', 'mon', 'hye', 'fil', 'tgl', 'mus', 'abk', 'nno',\n",
       "       'kor', 'frs', '--', 'mlt', 'grc', 'egy', 'jbo', 'mar', 'sin',\n",
       "       'peo', 'sqi', 'bos', 'tel', 'ady'], dtype=object)"
      ]
     },
     "execution_count": 56,
     "metadata": {},
     "output_type": "execute_result"
    }
   ],
   "source": [
    "books_df1.language_code.unique()"
   ]
  },
  {
   "cell_type": "code",
   "execution_count": 57,
   "metadata": {},
   "outputs": [
    {
     "data": {
      "text/plain": [
       "87"
      ]
     },
     "execution_count": 57,
     "metadata": {},
     "output_type": "execute_result"
    }
   ],
   "source": [
    "num_language = len(books_df1.language_code.unique())\n",
    "num_language"
   ]
  },
  {
   "cell_type": "code",
   "execution_count": 58,
   "metadata": {},
   "outputs": [
    {
     "data": {
      "text/plain": [
       "           0.3760850229206103\n",
       "eng       0.36588136018427714\n",
       "en-US      0.0546719273838575\n",
       "en-GB     0.03257691518233859\n",
       "ita      0.025219513307637925\n",
       "ger      0.020740301502953452\n",
       "spa      0.017789130385203092\n",
       "nl       0.012242570757406436\n",
       "fre      0.011686090268433416\n",
       "por      0.010427167195019044\n",
       "swe      0.007635642119187174\n",
       "ind      0.006819166647661186\n",
       "fin     0.0060209364380687394\n",
       "gre      0.005177093073642438\n",
       "en-CA    0.004698154947886971\n",
       "cze      0.004561315483385409\n",
       "pol      0.003566948708007389\n",
       "tur     0.0033708121422218167\n",
       "ara       0.00323853399320364\n",
       "dan     0.0029876616416174423\n",
       "Name: language_code, dtype: float64"
      ]
     },
     "execution_count": 58,
     "metadata": {},
     "output_type": "execute_result"
    }
   ],
   "source": [
    "# the percentage of each language\n",
    "books_lg = books_df1[~books_df1.language_code.isnull()]\n",
    "(books_lg.language_code.value_counts()/len(books_lg.language_code))[:20]"
   ]
  },
  {
   "cell_type": "code",
   "execution_count": 59,
   "metadata": {},
   "outputs": [],
   "source": [
    "import scipy.stats as stats"
   ]
  },
  {
   "cell_type": "code",
   "execution_count": 60,
   "metadata": {},
   "outputs": [],
   "source": [
    "books_lg['english'] = books_lg.language_code.apply(lambda x:1 if 'en' in x else 0)"
   ]
  },
  {
   "cell_type": "code",
   "execution_count": 61,
   "metadata": {},
   "outputs": [],
   "source": [
    "en_book_rate = books_lg[books_lg['english'] == 1].average_rating.astype('int').values\n",
    "nonen_book_rate = books_lg[books_lg['english'] == 0].average_rating.astype('int').values"
   ]
  },
  {
   "cell_type": "code",
   "execution_count": 62,
   "metadata": {},
   "outputs": [
    {
     "data": {
      "image/png": "[encoded data removed]",
      "text/plain": [
       "<Figure size 432x288 with 1 Axes>"
      ]
     },
     "metadata": {
      "needs_background": "light"
     },
     "output_type": "display_data"
    }
   ],
   "source": [
    "import seaborn as sns\n",
    "sns.kdeplot(books_lg[books_lg['english'] == 1].average_rating, label='english')\n",
    "sns.kdeplot(books_lg[books_lg['english'] == 0].average_rating, label='nonenglish')\n",
    "plt.title('average rating distribution for diff language groups')\n",
    "plt.xlabel('average rating');"
   ]
  },
  {
   "cell_type": "code",
   "execution_count": 63,
   "metadata": {},
   "outputs": [],
   "source": [
    "# stats.mannwhitneyu(en_book_rate, nonen_book_rate, 'two-sided' )"
   ]
  },
  {
   "cell_type": "code",
   "execution_count": 64,
   "metadata": {},
   "outputs": [
    {
     "data": {
      "image/png": "[encoded data removed]",
      "text/plain": [
       "<Figure size 432x288 with 1 Axes>"
      ]
     },
     "metadata": {
      "needs_background": "light"
     },
     "output_type": "display_data"
    }
   ],
   "source": [
    "#Rating Distribution Across Difference Language\n",
    "books_df1[books_df1.language_code == 'eng'].average_rating.hist(bins=10,label='eng', alpha =0.3)\n",
    "books_df1[books_df1.language_code == 'en-US'].average_rating.hist(bins=10, label='en-US', alpha =0.3)\n",
    "books_df1[books_df1.language_code == 'en-GB'].average_rating.hist(bins=10, label='en-GB', alpha =0.3)\n",
    "books_df1[books_df1.language_code == 'ita'].average_rating.hist(bins=10, label='ita', alpha =0.3)\n",
    "books_df1[books_df1.language_code == 'ger'].average_rating.hist(bins=10, label='ger', alpha =0.3)\n",
    "books_df1[books_df1.language_code == 'spa'].average_rating.hist(bins=10, label='spa', alpha =0.3)\n",
    "books_df1[books_df1.language_code.isnull()].average_rating.hist(bins=10, label='NaN', alpha =0.3)\n",
    "plt.legend()\n",
    "plt.title('Rating Distribution Across Difference Language');\n"
   ]
  },
  {
   "cell_type": "code",
   "execution_count": 65,
   "metadata": {},
   "outputs": [
    {
     "data": {
      "text/plain": [
       "(6966, array([  186,   269,   192, ..., 13605, 14232,  2312]))"
      ]
     },
     "execution_count": 65,
     "metadata": {},
     "output_type": "execute_result"
    }
   ],
   "source": [
    "len(books_df1.ratings_count.unique()), books_df1.ratings_count.unique()"
   ]
  },
  {
   "cell_type": "code",
   "execution_count": 66,
   "metadata": {},
   "outputs": [
    {
     "data": {
      "image/png": "[encoded data removed]",
      "text/plain": [
       "<Figure size 432x288 with 1 Axes>"
      ]
     },
     "metadata": {
      "needs_background": "light"
     },
     "output_type": "display_data"
    }
   ],
   "source": [
    "#Rating counts Distribution Across Difference Language\n",
    "# books_df1[books_df1.language_code == 'eng'].groupby('ratings_count').size().plot(kind='bar', label='eng', alpha =0.3)\n",
    "books_df1[books_df1.language_code == 'en-US'].ratings_count.hist(bins=5, label='en-US', alpha =0.3)\n",
    "books_df1[books_df1.language_code == 'en-GB'].ratings_count.hist(bins=5, label='en-GB', alpha =0.3)\n",
    "books_df1[books_df1.language_code == 'ita'].ratings_count.hist(bins=5, label='ita', alpha =0.3)\n",
    "books_df1[books_df1.language_code == 'ger'].ratings_count.hist(bins=5, label='ger', alpha =0.3)\n",
    "books_df1[books_df1.language_code == 'spa'].ratings_count.hist(bins=5, label='spa', alpha =0.3)\n",
    "books_df1[books_df1.language_code.isnull()].ratings_count.hist(bins=5, label='NaN', alpha =0.3)\n",
    "plt.legend()\n",
    "plt.title('ratings_count Distribution Across Difference Language');"
   ]
  },
  {
   "cell_type": "code",
   "execution_count": 67,
   "metadata": {},
   "outputs": [
    {
     "data": {
      "text/plain": [
       "(1719, array([  15,   60,   23, ..., 4071, 2179, 1795]))"
      ]
     },
     "execution_count": 67,
     "metadata": {},
     "output_type": "execute_result"
    }
   ],
   "source": [
    "len(books_df1.text_reviews_count.unique()), books_df1.text_reviews_count.unique()"
   ]
  },
  {
   "cell_type": "markdown",
   "metadata": {},
   "source": [
    "#### num_pages, is_ebook, rating counts and text review counts"
   ]
  },
  {
   "cell_type": "code",
   "execution_count": 68,
   "metadata": {},
   "outputs": [
    {
     "data": {
      "text/plain": [
       "(1156, array([ 400,  318,  321, ..., 1712, 1103, 1239]))"
      ]
     },
     "execution_count": 68,
     "metadata": {},
     "output_type": "execute_result"
    }
   ],
   "source": [
    "len(books_df1.num_pages.unique()), books_df1.num_pages.unique()"
   ]
  },
  {
   "cell_type": "code",
   "execution_count": 69,
   "metadata": {},
   "outputs": [
    {
     "data": {
      "image/png": "[encoded data removed]",
      "text/plain": [
       "<Figure size 432x288 with 1 Axes>"
      ]
     },
     "metadata": {
      "needs_background": "light"
     },
     "output_type": "display_data"
    }
   ],
   "source": [
    "#Rating Distribution Across ebook or not ebook\n",
    "books_df1[books_df1.is_ebook == 'true'].average_rating.hist(bins=10,label='ebook', alpha =0.3)\n",
    "books_df1[books_df1.is_ebook == 'false'].average_rating.hist(bins=10, label='not ebook', alpha =0.3)\n",
    "plt.legend()\n",
    "plt.title('ratings_count Distribution Across ebook or not ebook');"
   ]
  },
  {
   "cell_type": "code",
   "execution_count": 70,
   "metadata": {},
   "outputs": [],
   "source": [
    "books_df1.drop(['book_id', 'work_id','isbn','asin', 'country_code'], axis = 1, inplace=True)"
   ]
  },
  {
   "cell_type": "markdown",
   "metadata": {},
   "source": [
    "### Merge reviews and book graph"
   ]
  },
  {
   "cell_type": "code",
   "execution_count": 71,
   "metadata": {},
   "outputs": [],
   "source": [
    "book_review = pd.merge(reviews_df1, books_df, on=['book_id'])"
   ]
  },
  {
   "cell_type": "code",
   "execution_count": 72,
   "metadata": {},
   "outputs": [
    {
     "data": {
      "text/plain": [
       "1791519"
      ]
     },
     "execution_count": 72,
     "metadata": {},
     "output_type": "execute_result"
    }
   ],
   "source": [
    "len(book_review)"
   ]
  },
  {
   "cell_type": "code",
   "execution_count": 73,
   "metadata": {},
   "outputs": [
    {
     "data": {
      "text/plain": [
       "Index(['review_id', 'user_id', 'book_id', 'rating', 'timestamp', 'n_votes',\n",
       "       'n_comments', 'work_id', 'isbn', 'asin', 'title', 'description',\n",
       "       'num_pages', 'is_ebook', 'link', 'country_code', 'language_code',\n",
       "       'average_rating', 'ratings_count', 'text_reviews_count', 'author_id',\n",
       "       'publisher', 'publication_year', 'genre', 'similar_books'],\n",
       "      dtype='object')"
      ]
     },
     "execution_count": 73,
     "metadata": {},
     "output_type": "execute_result"
    }
   ],
   "source": [
    "book_review.columns"
   ]
  },
  {
   "cell_type": "code",
   "execution_count": 74,
   "metadata": {},
   "outputs": [
    {
     "data": {
      "text/html": [
       "<div>\n",
       "<style scoped>\n",
       "    .dataframe tbody tr th:only-of-type {\n",
       "        vertical-align: middle;\n",
       "    }\n",
       "\n",
       "    .dataframe tbody tr th {\n",
       "        vertical-align: top;\n",
       "    }\n",
       "\n",
       "    .dataframe thead th {\n",
       "        text-align: right;\n",
       "    }\n",
       "</style>\n",
       "<table border=\"1\" class=\"dataframe\">\n",
       "  <thead>\n",
       "    <tr style=\"text-align: right;\">\n",
       "      <th></th>\n",
       "      <th>review_id</th>\n",
       "      <th>user_id</th>\n",
       "      <th>book_id</th>\n",
       "      <th>rating</th>\n",
       "      <th>timestamp</th>\n",
       "      <th>n_votes</th>\n",
       "      <th>n_comments</th>\n",
       "      <th>work_id</th>\n",
       "      <th>isbn</th>\n",
       "      <th>asin</th>\n",
       "      <th>...</th>\n",
       "      <th>country_code</th>\n",
       "      <th>language_code</th>\n",
       "      <th>average_rating</th>\n",
       "      <th>ratings_count</th>\n",
       "      <th>text_reviews_count</th>\n",
       "      <th>author_id</th>\n",
       "      <th>publisher</th>\n",
       "      <th>publication_year</th>\n",
       "      <th>genre</th>\n",
       "      <th>similar_books</th>\n",
       "    </tr>\n",
       "  </thead>\n",
       "  <tbody>\n",
       "    <tr>\n",
       "      <th>0</th>\n",
       "      <td>5e212a62bced17b4dbe41150e5bb9037</td>\n",
       "      <td>8842281e1d1347389f2ab93d60773d4d</td>\n",
       "      <td>6392944</td>\n",
       "      <td>3</td>\n",
       "      <td>Mon Jul 24 02:48:17 -0700 2017</td>\n",
       "      <td>6</td>\n",
       "      <td>0</td>\n",
       "      <td>625995</td>\n",
       "      <td></td>\n",
       "      <td>B000FC2NH6</td>\n",
       "      <td>...</td>\n",
       "      <td>US</td>\n",
       "      <td>eng</td>\n",
       "      <td>3.80</td>\n",
       "      <td>675</td>\n",
       "      <td>42</td>\n",
       "      <td>[{'author_id': '123715', 'role': ''}]</td>\n",
       "      <td></td>\n",
       "      <td></td>\n",
       "      <td>[{'count': '1572', 'name': 'mystery'}, {'count...</td>\n",
       "      <td>[280990, 1332179, 2008927, 383223, 192888, 311...</td>\n",
       "    </tr>\n",
       "    <tr>\n",
       "      <th>1</th>\n",
       "      <td>ee9cf5e49795718b9bb086c1cde23116</td>\n",
       "      <td>24d87e891f6f60ae101c1de158cbe672</td>\n",
       "      <td>6392944</td>\n",
       "      <td>4</td>\n",
       "      <td>Fri Jun 24 10:34:25 -0700 2011</td>\n",
       "      <td>0</td>\n",
       "      <td>0</td>\n",
       "      <td>625995</td>\n",
       "      <td></td>\n",
       "      <td>B000FC2NH6</td>\n",
       "      <td>...</td>\n",
       "      <td>US</td>\n",
       "      <td>eng</td>\n",
       "      <td>3.80</td>\n",
       "      <td>675</td>\n",
       "      <td>42</td>\n",
       "      <td>[{'author_id': '123715', 'role': ''}]</td>\n",
       "      <td></td>\n",
       "      <td></td>\n",
       "      <td>[{'count': '1572', 'name': 'mystery'}, {'count...</td>\n",
       "      <td>[280990, 1332179, 2008927, 383223, 192888, 311...</td>\n",
       "    </tr>\n",
       "    <tr>\n",
       "      <th>2</th>\n",
       "      <td>b5a6af59482018d0814c373723080adb</td>\n",
       "      <td>d083ade0fb4502508b1f3ce59bf1c7db</td>\n",
       "      <td>6392944</td>\n",
       "      <td>4</td>\n",
       "      <td>Wed Aug 27 11:42:41 -0700 2014</td>\n",
       "      <td>0</td>\n",
       "      <td>0</td>\n",
       "      <td>625995</td>\n",
       "      <td></td>\n",
       "      <td>B000FC2NH6</td>\n",
       "      <td>...</td>\n",
       "      <td>US</td>\n",
       "      <td>eng</td>\n",
       "      <td>3.80</td>\n",
       "      <td>675</td>\n",
       "      <td>42</td>\n",
       "      <td>[{'author_id': '123715', 'role': ''}]</td>\n",
       "      <td></td>\n",
       "      <td></td>\n",
       "      <td>[{'count': '1572', 'name': 'mystery'}, {'count...</td>\n",
       "      <td>[280990, 1332179, 2008927, 383223, 192888, 311...</td>\n",
       "    </tr>\n",
       "    <tr>\n",
       "      <th>3</th>\n",
       "      <td>4339e08a4eefd80a4e38fb86d50a1ad8</td>\n",
       "      <td>74cd9e03b81085c69ae2dc9fcce17f48</td>\n",
       "      <td>6392944</td>\n",
       "      <td>4</td>\n",
       "      <td>Tue Jan 27 07:05:17 -0800 2015</td>\n",
       "      <td>1</td>\n",
       "      <td>0</td>\n",
       "      <td>625995</td>\n",
       "      <td></td>\n",
       "      <td>B000FC2NH6</td>\n",
       "      <td>...</td>\n",
       "      <td>US</td>\n",
       "      <td>eng</td>\n",
       "      <td>3.80</td>\n",
       "      <td>675</td>\n",
       "      <td>42</td>\n",
       "      <td>[{'author_id': '123715', 'role': ''}]</td>\n",
       "      <td></td>\n",
       "      <td></td>\n",
       "      <td>[{'count': '1572', 'name': 'mystery'}, {'count...</td>\n",
       "      <td>[280990, 1332179, 2008927, 383223, 192888, 311...</td>\n",
       "    </tr>\n",
       "    <tr>\n",
       "      <th>4</th>\n",
       "      <td>994211c385e1989f034944dc1e113acb</td>\n",
       "      <td>b6c9716c71c8bfb757a3aee18c1d0be7</td>\n",
       "      <td>6392944</td>\n",
       "      <td>3</td>\n",
       "      <td>Sat Apr 01 13:45:00 -0700 2017</td>\n",
       "      <td>0</td>\n",
       "      <td>0</td>\n",
       "      <td>625995</td>\n",
       "      <td></td>\n",
       "      <td>B000FC2NH6</td>\n",
       "      <td>...</td>\n",
       "      <td>US</td>\n",
       "      <td>eng</td>\n",
       "      <td>3.80</td>\n",
       "      <td>675</td>\n",
       "      <td>42</td>\n",
       "      <td>[{'author_id': '123715', 'role': ''}]</td>\n",
       "      <td></td>\n",
       "      <td></td>\n",
       "      <td>[{'count': '1572', 'name': 'mystery'}, {'count...</td>\n",
       "      <td>[280990, 1332179, 2008927, 383223, 192888, 311...</td>\n",
       "    </tr>\n",
       "  </tbody>\n",
       "</table>\n",
       "<p>5 rows × 25 columns</p>\n",
       "</div>"
      ],
      "text/plain": [
       "                          review_id                           user_id  \\\n",
       "0  5e212a62bced17b4dbe41150e5bb9037  8842281e1d1347389f2ab93d60773d4d   \n",
       "1  ee9cf5e49795718b9bb086c1cde23116  24d87e891f6f60ae101c1de158cbe672   \n",
       "2  b5a6af59482018d0814c373723080adb  d083ade0fb4502508b1f3ce59bf1c7db   \n",
       "3  4339e08a4eefd80a4e38fb86d50a1ad8  74cd9e03b81085c69ae2dc9fcce17f48   \n",
       "4  994211c385e1989f034944dc1e113acb  b6c9716c71c8bfb757a3aee18c1d0be7   \n",
       "\n",
       "   book_id  rating                       timestamp  n_votes  n_comments  \\\n",
       "0  6392944       3  Mon Jul 24 02:48:17 -0700 2017        6           0   \n",
       "1  6392944       4  Fri Jun 24 10:34:25 -0700 2011        0           0   \n",
       "2  6392944       4  Wed Aug 27 11:42:41 -0700 2014        0           0   \n",
       "3  6392944       4  Tue Jan 27 07:05:17 -0800 2015        1           0   \n",
       "4  6392944       3  Sat Apr 01 13:45:00 -0700 2017        0           0   \n",
       "\n",
       "  work_id isbn        asin  ... country_code language_code average_rating  \\\n",
       "0  625995       B000FC2NH6  ...           US           eng           3.80   \n",
       "1  625995       B000FC2NH6  ...           US           eng           3.80   \n",
       "2  625995       B000FC2NH6  ...           US           eng           3.80   \n",
       "3  625995       B000FC2NH6  ...           US           eng           3.80   \n",
       "4  625995       B000FC2NH6  ...           US           eng           3.80   \n",
       "\n",
       "  ratings_count text_reviews_count                              author_id  \\\n",
       "0           675                 42  [{'author_id': '123715', 'role': ''}]   \n",
       "1           675                 42  [{'author_id': '123715', 'role': ''}]   \n",
       "2           675                 42  [{'author_id': '123715', 'role': ''}]   \n",
       "3           675                 42  [{'author_id': '123715', 'role': ''}]   \n",
       "4           675                 42  [{'author_id': '123715', 'role': ''}]   \n",
       "\n",
       "  publisher publication_year  \\\n",
       "0                              \n",
       "1                              \n",
       "2                              \n",
       "3                              \n",
       "4                              \n",
       "\n",
       "                                               genre  \\\n",
       "0  [{'count': '1572', 'name': 'mystery'}, {'count...   \n",
       "1  [{'count': '1572', 'name': 'mystery'}, {'count...   \n",
       "2  [{'count': '1572', 'name': 'mystery'}, {'count...   \n",
       "3  [{'count': '1572', 'name': 'mystery'}, {'count...   \n",
       "4  [{'count': '1572', 'name': 'mystery'}, {'count...   \n",
       "\n",
       "                                       similar_books  \n",
       "0  [280990, 1332179, 2008927, 383223, 192888, 311...  \n",
       "1  [280990, 1332179, 2008927, 383223, 192888, 311...  \n",
       "2  [280990, 1332179, 2008927, 383223, 192888, 311...  \n",
       "3  [280990, 1332179, 2008927, 383223, 192888, 311...  \n",
       "4  [280990, 1332179, 2008927, 383223, 192888, 311...  \n",
       "\n",
       "[5 rows x 25 columns]"
      ]
     },
     "execution_count": 74,
     "metadata": {},
     "output_type": "execute_result"
    }
   ],
   "source": [
    "book_review.head()"
   ]
  }
 ],
 "metadata": {
  "kernelspec": {
   "display_name": "Python 3",
   "language": "python",
   "name": "python3"
  },
  "language_info": {
   "codemirror_mode": {
    "name": "ipython",
    "version": 3
   },
   "file_extension": ".py",
   "mimetype": "text/x-python",
   "name": "python",
   "nbconvert_exporter": "python",
   "pygments_lexer": "ipython3",
   "version": "3.7.3"
  }
 },
 "nbformat": 4,
 "nbformat_minor": 2
}
