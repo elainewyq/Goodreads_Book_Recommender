{
 "cells": [
  {
   "cell_type": "code",
   "execution_count": 8,
   "metadata": {},
   "outputs": [],
   "source": [
    "import gzip\n",
    "import json\n",
    "import re\n",
    "import os\n",
    "import sys\n",
    "import timeit\n",
    "import numpy as np\n",
    "import pandas as pd\n",
    "import matplotlib.pyplot as plt\n",
    "%matplotlib inline\n",
    "from IPython import display\n",
    "from collections import defaultdict\n",
    "import tensorflow as tf\n",
    "import altair as alt\n",
    "import collections\n",
    "\n",
    "from src.utils import split_dataframe, CFModel\n",
    "from src.load_data import read_tables\n",
    "from src.DNN_Model import generate_dataset, build_dnn_model, make_shared_embedding_col, make_embedding_col"
   ]
  },
  {
   "cell_type": "markdown",
   "metadata": {},
   "source": [
    "### load reviews and books data"
   ]
  },
  {
   "cell_type": "code",
   "execution_count": 3,
   "metadata": {},
   "outputs": [],
   "source": [
    "reviews = pd.read_csv('data/cleaned_reviews_mystery_1.csv')\n",
    "books = pd.read_csv('data/cleaned_books_mystery_1.csv')"
   ]
  },
  {
   "cell_type": "code",
   "execution_count": 4,
   "metadata": {},
   "outputs": [
    {
     "name": "stdout",
     "output_type": "stream",
     "text": [
      "<class 'pandas.core.frame.DataFrame'>\n",
      "RangeIndex: 1551765 entries, 0 to 1551764\n",
      "Data columns (total 9 columns):\n",
      "review_id      1551765 non-null object\n",
      "user_id        1551765 non-null int64\n",
      "book_id        1551765 non-null int64\n",
      "rating         1551765 non-null int64\n",
      "timestamp      1551765 non-null object\n",
      "n_votes        1551765 non-null int64\n",
      "n_comments     1551765 non-null int64\n",
      "old_user_id    1551765 non-null object\n",
      "old_book_id    1551765 non-null int64\n",
      "dtypes: int64(6), object(3)\n",
      "memory usage: 106.6+ MB\n"
     ]
    }
   ],
   "source": [
    "reviews.info()"
   ]
  },
  {
   "cell_type": "code",
   "execution_count": 29,
   "metadata": {},
   "outputs": [
    {
     "data": {
      "text/html": [
       "<div>\n",
       "<style scoped>\n",
       "    .dataframe tbody tr th:only-of-type {\n",
       "        vertical-align: middle;\n",
       "    }\n",
       "\n",
       "    .dataframe tbody tr th {\n",
       "        vertical-align: top;\n",
       "    }\n",
       "\n",
       "    .dataframe thead th {\n",
       "        text-align: right;\n",
       "    }\n",
       "</style>\n",
       "<table border=\"1\" class=\"dataframe\">\n",
       "  <thead>\n",
       "    <tr style=\"text-align: right;\">\n",
       "      <th></th>\n",
       "      <th>review_id</th>\n",
       "      <th>user_id</th>\n",
       "      <th>book_id</th>\n",
       "      <th>rating</th>\n",
       "      <th>timestamp</th>\n",
       "      <th>n_votes</th>\n",
       "      <th>n_comments</th>\n",
       "      <th>old_user_id</th>\n",
       "      <th>old_book_id</th>\n",
       "    </tr>\n",
       "  </thead>\n",
       "  <tbody>\n",
       "    <tr>\n",
       "      <th>0</th>\n",
       "      <td>d23dc89ab32cd864e54d18369751163b</td>\n",
       "      <td>102489</td>\n",
       "      <td>37120</td>\n",
       "      <td>3</td>\n",
       "      <td>2001-01-01 00:00:00</td>\n",
       "      <td>0</td>\n",
       "      <td>0</td>\n",
       "      <td>d889b42d9eb7b80e02f24830e27c6389</td>\n",
       "      <td>196084</td>\n",
       "    </tr>\n",
       "    <tr>\n",
       "      <th>1</th>\n",
       "      <td>c7613da4cbd48baa83efec99b4dd6a41</td>\n",
       "      <td>102489</td>\n",
       "      <td>96299</td>\n",
       "      <td>3</td>\n",
       "      <td>2001-01-11 00:00:00</td>\n",
       "      <td>0</td>\n",
       "      <td>0</td>\n",
       "      <td>d889b42d9eb7b80e02f24830e27c6389</td>\n",
       "      <td>79030</td>\n",
       "    </tr>\n",
       "  </tbody>\n",
       "</table>\n",
       "</div>"
      ],
      "text/plain": [
       "                          review_id  user_id  book_id  rating  \\\n",
       "0  d23dc89ab32cd864e54d18369751163b   102489    37120       3   \n",
       "1  c7613da4cbd48baa83efec99b4dd6a41   102489    96299       3   \n",
       "\n",
       "             timestamp  n_votes  n_comments                       old_user_id  \\\n",
       "0  2001-01-01 00:00:00        0           0  d889b42d9eb7b80e02f24830e27c6389   \n",
       "1  2001-01-11 00:00:00        0           0  d889b42d9eb7b80e02f24830e27c6389   \n",
       "\n",
       "   old_book_id  \n",
       "0       196084  \n",
       "1        79030  "
      ]
     },
     "execution_count": 29,
     "metadata": {},
     "output_type": "execute_result"
    }
   ],
   "source": [
    "reviews.head(2)"
   ]
  },
  {
   "cell_type": "code",
   "execution_count": 5,
   "metadata": {},
   "outputs": [
    {
     "name": "stdout",
     "output_type": "stream",
     "text": [
      "<class 'pandas.core.frame.DataFrame'>\n",
      "RangeIndex: 105365 entries, 0 to 105364\n",
      "Data columns (total 12 columns):\n",
      "book_id               105365 non-null int64\n",
      "title                 105365 non-null object\n",
      "num_pages             105365 non-null int64\n",
      "is_ebook              105365 non-null int64\n",
      "link                  105365 non-null object\n",
      "average_rating        105365 non-null float64\n",
      "ratings_count         105365 non-null int64\n",
      "text_reviews_count    105365 non-null int64\n",
      "author_id             105365 non-null int64\n",
      "publisher             76004 non-null object\n",
      "similar_books         105365 non-null object\n",
      "old_book_id           105365 non-null int64\n",
      "dtypes: float64(1), int64(7), object(4)\n",
      "memory usage: 9.6+ MB\n"
     ]
    }
   ],
   "source": [
    "books.info()"
   ]
  },
  {
   "cell_type": "code",
   "execution_count": 30,
   "metadata": {},
   "outputs": [
    {
     "data": {
      "text/html": [
       "<div>\n",
       "<style scoped>\n",
       "    .dataframe tbody tr th:only-of-type {\n",
       "        vertical-align: middle;\n",
       "    }\n",
       "\n",
       "    .dataframe tbody tr th {\n",
       "        vertical-align: top;\n",
       "    }\n",
       "\n",
       "    .dataframe thead th {\n",
       "        text-align: right;\n",
       "    }\n",
       "</style>\n",
       "<table border=\"1\" class=\"dataframe\">\n",
       "  <thead>\n",
       "    <tr style=\"text-align: right;\">\n",
       "      <th></th>\n",
       "      <th>book_id</th>\n",
       "      <th>title</th>\n",
       "      <th>num_pages</th>\n",
       "      <th>is_ebook</th>\n",
       "      <th>link</th>\n",
       "      <th>average_rating</th>\n",
       "      <th>ratings_count</th>\n",
       "      <th>text_reviews_count</th>\n",
       "      <th>author_id</th>\n",
       "      <th>publisher</th>\n",
       "      <th>similar_books</th>\n",
       "      <th>old_book_id</th>\n",
       "    </tr>\n",
       "  </thead>\n",
       "  <tbody>\n",
       "    <tr>\n",
       "      <th>0</th>\n",
       "      <td>75512</td>\n",
       "      <td>The House of Memory (Pluto's Snitch #2)</td>\n",
       "      <td>318</td>\n",
       "      <td>1</td>\n",
       "      <td>https://www.goodreads.com/book/show/33394837-t...</td>\n",
       "      <td>4.33</td>\n",
       "      <td>269</td>\n",
       "      <td>60</td>\n",
       "      <td>242185</td>\n",
       "      <td>NaN</td>\n",
       "      <td>[]</td>\n",
       "      <td>33394837</td>\n",
       "    </tr>\n",
       "    <tr>\n",
       "      <th>1</th>\n",
       "      <td>35550</td>\n",
       "      <td>Dead in the Morning (Patrick Grant, #1)</td>\n",
       "      <td>0</td>\n",
       "      <td>0</td>\n",
       "      <td>https://www.goodreads.com/book/show/1902202.De...</td>\n",
       "      <td>3.3</td>\n",
       "      <td>52</td>\n",
       "      <td>8</td>\n",
       "      <td>190988</td>\n",
       "      <td>Ulverscroft</td>\n",
       "      <td>[]</td>\n",
       "      <td>1902202</td>\n",
       "    </tr>\n",
       "  </tbody>\n",
       "</table>\n",
       "</div>"
      ],
      "text/plain": [
       "   book_id                                    title  num_pages  is_ebook  \\\n",
       "0    75512  The House of Memory (Pluto's Snitch #2)        318         1   \n",
       "1    35550  Dead in the Morning (Patrick Grant, #1)          0         0   \n",
       "\n",
       "                                                link  average_rating  \\\n",
       "0  https://www.goodreads.com/book/show/33394837-t...            4.33   \n",
       "1  https://www.goodreads.com/book/show/1902202.De...             3.3   \n",
       "\n",
       "   ratings_count  text_reviews_count author_id    publisher similar_books  \\\n",
       "0            269                  60    242185          NaN            []   \n",
       "1             52                   8    190988  Ulverscroft            []   \n",
       "\n",
       "   old_book_id  \n",
       "0     33394837  \n",
       "1      1902202  "
      ]
     },
     "execution_count": 30,
     "metadata": {},
     "output_type": "execute_result"
    }
   ],
   "source": [
    "books.head(2)"
   ]
  },
  {
   "cell_type": "markdown",
   "metadata": {},
   "source": [
    "### generate data for dnn model\n",
    "\n",
    "input layer: previously liked book, previously disliked book, book content features (here only include 'author_id')"
   ]
  },
  {
   "cell_type": "code",
   "execution_count": 6,
   "metadata": {},
   "outputs": [
    {
     "name": "stdout",
     "output_type": "stream",
     "text": [
      " processed 1551000 rows "
     ]
    }
   ],
   "source": [
    "# one-time code to generate dataset for dnn model, then save to pickle file\n",
    "\n",
    "# dataset = generate_dataset(reviews, books, min_good_rating =4, max_num_books_per_user=20) # processed 1551000 rows\n",
    "#dataset.to_pickle('data/dnn_dataset_w_books.pkl')"
   ]
  },
  {
   "cell_type": "code",
   "execution_count": 3,
   "metadata": {},
   "outputs": [],
   "source": [
    "# read saved dnn-ready data\n",
    "\n",
    "dataset = pd.read_pickle('data/dnn_dataset_w_books.pkl')"
   ]
  },
  {
   "cell_type": "code",
   "execution_count": 4,
   "metadata": {},
   "outputs": [
    {
     "data": {
      "text/html": [
       "<div>\n",
       "<style scoped>\n",
       "    .dataframe tbody tr th:only-of-type {\n",
       "        vertical-align: middle;\n",
       "    }\n",
       "\n",
       "    .dataframe tbody tr th {\n",
       "        vertical-align: top;\n",
       "    }\n",
       "\n",
       "    .dataframe thead th {\n",
       "        text-align: right;\n",
       "    }\n",
       "</style>\n",
       "<table border=\"1\" class=\"dataframe\">\n",
       "  <thead>\n",
       "    <tr style=\"text-align: right;\">\n",
       "      <th></th>\n",
       "      <th>user_id</th>\n",
       "      <th>book_id</th>\n",
       "      <th>rating</th>\n",
       "      <th>timestamp</th>\n",
       "      <th>author_id</th>\n",
       "      <th>prev_good_books</th>\n",
       "      <th>prev_bad_books</th>\n",
       "    </tr>\n",
       "  </thead>\n",
       "  <tbody>\n",
       "    <tr>\n",
       "      <th>1551763</th>\n",
       "      <td>34243</td>\n",
       "      <td>78523</td>\n",
       "      <td>5</td>\n",
       "      <td>2017-11-03 21:12:55</td>\n",
       "      <td>202905</td>\n",
       "      <td>[55927, 47953, 44562, 61742, 68857, 55357, 606...</td>\n",
       "      <td>[]</td>\n",
       "    </tr>\n",
       "    <tr>\n",
       "      <th>1551764</th>\n",
       "      <td>71677</td>\n",
       "      <td>82113</td>\n",
       "      <td>3</td>\n",
       "      <td>2017-11-03 22:17:08</td>\n",
       "      <td>3936</td>\n",
       "      <td>[46538, 83396, 13821]</td>\n",
       "      <td>[22731]</td>\n",
       "    </tr>\n",
       "  </tbody>\n",
       "</table>\n",
       "</div>"
      ],
      "text/plain": [
       "        user_id book_id  rating            timestamp author_id  \\\n",
       "1551763   34243   78523       5  2017-11-03 21:12:55    202905   \n",
       "1551764   71677   82113       3  2017-11-03 22:17:08      3936   \n",
       "\n",
       "                                           prev_good_books prev_bad_books  \n",
       "1551763  [55927, 47953, 44562, 61742, 68857, 55357, 606...             []  \n",
       "1551764                              [46538, 83396, 13821]        [22731]  "
      ]
     },
     "execution_count": 4,
     "metadata": {},
     "output_type": "execute_result"
    }
   ],
   "source": [
    "dataset.tail(2)"
   ]
  },
  {
   "cell_type": "markdown",
   "metadata": {},
   "source": [
    "### build model"
   ]
  },
  {
   "cell_type": "code",
   "execution_count": 10,
   "metadata": {},
   "outputs": [],
   "source": [
    "#constraint to two previously liked and disliked books to speed up iteration\n",
    "\n",
    "dataset['prev_good_books'] = dataset['prev_good_books'].apply(lambda x: x[:2])\n",
    "dataset['prev_bad_books'] = dataset['prev_bad_books'].apply(lambda x: x[:2])"
   ]
  },
  {
   "cell_type": "code",
   "execution_count": 28,
   "metadata": {},
   "outputs": [
    {
     "name": "stdout",
     "output_type": "stream",
     "text": [
      " iteration 10000: train_loss=2.825915, test_loss=6.460485\n",
      "time spent for the process is 347.25079\n"
     ]
    },
    {
     "data": {
      "image/png": "[encoded data removed]",
      "text/plain": [
       "<Figure size 1440x576 with 1 Axes>"
      ]
     },
     "metadata": {
      "needs_background": "light"
     },
     "output_type": "display_data"
    }
   ],
   "source": [
    "with tf.Graph().as_default():\n",
    "    print('embedding_cols start')\n",
    "    embedding_cols = make_shared_embedding_col(\n",
    "                ['prev_good_books','prev_bad_books'],\n",
    "                'book_id_embedding',\n",
    "                list(dataset['book_id'].unique()), 5) + [\n",
    "            make_embedding_col('author_id',list(dataset['author_id'].unique()), 5)] #input features should be string to create embedding\n",
    "             #make_embedding_col('publisher',10)\n",
    "        \n",
    "    print('embedding_cols done')\n",
    "    dnn_model = build_dnn_model(dataset,\n",
    "        embedding_cols = embedding_cols, hidden_dims=[5],\n",
    "        learning_rate = 0.1\n",
    "    )\n",
    "    \n",
    "start_time = timeit.default_timer()\n",
    "dnn_model.train( num_iterations =10000)\n",
    "print('\\ntime spent for the process is %.5f seconds'% (timeit.default_timer() - start_time))"
   ]
  },
  {
   "cell_type": "code",
   "execution_count": 4,
   "metadata": {},
   "outputs": [],
   "source": [
    "# constraint to 5 previously liked and disliked books\n",
    "\n",
    "dataset['prev_good_books'] = dataset['prev_good_books'].apply(lambda x: x[:5])\n",
    "dataset['prev_bad_books'] = dataset['prev_bad_books'].apply(lambda x: x[:5])"
   ]
  },
  {
   "cell_type": "code",
   "execution_count": 6,
   "metadata": {},
   "outputs": [
    {
     "name": "stdout",
     "output_type": "stream",
     "text": [
      "embedding_cols start\n",
      "embedding_cols done\n",
      "build_dnn_model#1 create_network\n",
      "build_dnn_model#2 split train_test dataset\n",
      "train_data mean rating: 3.80621\n",
      "make_batch#3\n",
      "WARNING:tensorflow:From /Users/elainewu/Documents/Projects/Assignments/Capstone/Capstone Three/Goodreads_Book_Recommender/src/DNN_Model.py:86: DatasetV1.make_one_shot_iterator (from tensorflow.python.data.ops.dataset_ops) is deprecated and will be removed in a future version.\n",
      "Instructions for updating:\n",
      "Use `for ... in dataset:` to iterate over a dataset. If using `tf.estimator`, return the `Dataset` object directly from your input function. As a last resort, you can use `tf.compat.v1.data.make_one_shot_iterator(dataset)`.\n",
      "make_batch#4\n",
      "make_batch#3\n",
      "make_batch#4\n",
      "build_dnn_model#3\n",
      "WARNING:tensorflow:From /Users/elainewu/Documents/Projects/Assignments/Capstone/Capstone Three/Goodreads_Book_Recommender/src/DNN_Model.py:152: The name tf.variable_scope is deprecated. Please use tf.compat.v1.variable_scope instead.\n",
      "\n",
      "WARNING:tensorflow:From /Users/elainewu/Documents/Projects/Assignments/Capstone/Capstone Three/Goodreads_Book_Recommender/src/DNN_Model.py:131: The name tf.feature_column.input_layer is deprecated. Please use tf.compat.v1.feature_column.input_layer instead.\n",
      "\n",
      "WARNING:tensorflow:From /Users/elainewu/anaconda3/lib/python3.7/site-packages/tensorflow/python/feature_column/feature_column.py:205: EmbeddingColumn._get_dense_tensor (from tensorflow.python.feature_column.feature_column_v2) is deprecated and will be removed in a future version.\n",
      "Instructions for updating:\n",
      "The old _FeatureColumn APIs are being deprecated. Please use the new FeatureColumn APIs instead.\n",
      "WARNING:tensorflow:From /Users/elainewu/anaconda3/lib/python3.7/site-packages/tensorflow/python/feature_column/feature_column_v2.py:3140: VocabularyListCategoricalColumn._get_sparse_tensors (from tensorflow.python.feature_column.feature_column_v2) is deprecated and will be removed in a future version.\n",
      "Instructions for updating:\n",
      "The old _FeatureColumn APIs are being deprecated. Please use the new FeatureColumn APIs instead.\n",
      "WARNING:tensorflow:From /Users/elainewu/anaconda3/lib/python3.7/site-packages/tensorflow/python/feature_column/feature_column.py:2115: VocabularyListCategoricalColumn._transform_feature (from tensorflow.python.feature_column.feature_column_v2) is deprecated and will be removed in a future version.\n",
      "Instructions for updating:\n",
      "The old _FeatureColumn APIs are being deprecated. Please use the new FeatureColumn APIs instead.\n",
      "WARNING:tensorflow:From /Users/elainewu/anaconda3/lib/python3.7/site-packages/tensorflow/python/feature_column/feature_column_v2.py:2655: add_dispatch_support.<locals>.wrapper (from tensorflow.python.ops.array_ops) is deprecated and will be removed in a future version.\n",
      "Instructions for updating:\n",
      "Use tf.where in 2.0, which has the same broadcast rule as np.where\n",
      "WARNING:tensorflow:From /Users/elainewu/anaconda3/lib/python3.7/site-packages/tensorflow/python/feature_column/feature_column.py:206: EmbeddingColumn._variable_shape (from tensorflow.python.feature_column.feature_column_v2) is deprecated and will be removed in a future version.\n",
      "Instructions for updating:\n",
      "The old _FeatureColumn APIs are being deprecated. Please use the new FeatureColumn APIs instead.\n",
      "WARNING:tensorflow:From /Users/elainewu/Documents/Projects/Assignments/Capstone/Capstone Three/Goodreads_Book_Recommender/src/DNN_Model.py:135: The name tf.get_variable is deprecated. Please use tf.compat.v1.get_variable instead.\n",
      "\n",
      "build_dnn_model#4 calculate train/test loss\n",
      "_train_init\n",
      "WARNING:tensorflow:From /Users/elainewu/Documents/Projects/Assignments/Capstone/Capstone Three/Goodreads_Book_Recommender/src/utils.py:66: The name tf.tables_initializer is deprecated. Please use tf.compat.v1.tables_initializer instead.\n",
      "\n",
      "WARNING:tensorflow:From /Users/elainewu/Documents/Projects/Assignments/Capstone/Capstone Three/Goodreads_Book_Recommender/src/utils.py:68: start_queue_runners (from tensorflow.python.training.queue_runner_impl) is deprecated and will be removed in a future version.\n",
      "Instructions for updating:\n",
      "To construct input pipelines, use the `tf.data` module.\n",
      "WARNING:tensorflow:`tf.train.start_queue_runners()` was called when no queue runners were defined. You can safely remove the call to this deprecated function.\n",
      "_train_init done\n",
      "\n",
      "time spent for the process is 328.98048 seconds\n"
     ]
    }
   ],
   "source": [
    "start_time = timeit.default_timer()\n",
    "with tf.Graph().as_default():\n",
    "    print('embedding_cols start')\n",
    "    embedding_cols = make_shared_embedding_col(\n",
    "                ['prev_good_books','prev_bad_books'],\n",
    "                'book_id_embedding',\n",
    "                list(dataset['book_id'].unique()), 5) + [\n",
    "            make_embedding_col('author_id',list(dataset['author_id'].unique()), 5)] #input features should be string to create embedding\n",
    "             #make_embedding_col('publisher',10)\n",
    "        \n",
    "    print('embedding_cols done')\n",
    "    dnn_model = build_dnn_model(dataset,\n",
    "        embedding_cols = embedding_cols, hidden_dims=[5],\n",
    "        learning_rate = 0.1\n",
    "    )\n",
    "    \n",
    "print('\\ntime spent for the process is %.5f seconds'% (timeit.default_timer() - start_time))"
   ]
  },
  {
   "cell_type": "code",
   "execution_count": 7,
   "metadata": {},
   "outputs": [
    {
     "name": "stdout",
     "output_type": "stream",
     "text": [
      " iteration 10000: train_loss=2.588658, test_loss=6.588341\n",
      "time spent for the process is 573.90401 seconds\n"
     ]
    },
    {
     "data": {
      "image/png": "[encoded data removed]",
      "text/plain": [
       "<Figure size 1440x576 with 1 Axes>"
      ]
     },
     "metadata": {
      "needs_background": "light"
     },
     "output_type": "display_data"
    }
   ],
   "source": [
    "start_time = timeit.default_timer()\n",
    "dnn_model.train( num_iterations =10000)\n",
    "print('\\ntime spent for the process is %.5f seconds'% (timeit.default_timer() - start_time))"
   ]
  }
 ],
 "metadata": {
  "kernelspec": {
   "display_name": "Python 3",
   "language": "python",
   "name": "python3"
  },
  "language_info": {
   "codemirror_mode": {
    "name": "ipython",
    "version": 3
   },
   "file_extension": ".py",
   "mimetype": "text/x-python",
   "name": "python",
   "nbconvert_exporter": "python",
   "pygments_lexer": "ipython3",
   "version": "3.7.3"
  }
 },
 "nbformat": 4,
 "nbformat_minor": 2
}
