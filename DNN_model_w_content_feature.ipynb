{
 "cells": [
  {
   "cell_type": "code",
   "execution_count": 2,
   "metadata": {},
   "outputs": [],
   "source": [
    "import gzip\n",
    "import json\n",
    "import re\n",
    "import os\n",
    "import sys\n",
    "import timeit\n",
    "import numpy as np\n",
    "import pandas as pd\n",
    "import matplotlib.pyplot as plt\n",
    "%matplotlib inline\n",
    "from IPython import display\n",
    "from collections import defaultdict\n",
    "import tensorflow as tf\n",
    "import altair as alt\n",
    "import collections\n",
    "\n",
    "from src.utils import split_dataframe, CFModel\n",
    "from src.load_data import read_tables\n",
    "from src.DNN_Model import generate_dataset, build_dnn_model, make_shared_embedding_col, make_embedding_col"
   ]
  },
  {
   "cell_type": "markdown",
   "metadata": {},
   "source": [
    "### load reviews and books data"
   ]
  },
  {
   "cell_type": "code",
   "execution_count": 3,
   "metadata": {},
   "outputs": [],
   "source": [
    "reviews = pd.read_csv('data/cleaned_reviews_mystery_1.csv')\n",
    "books = pd.read_csv('data/cleaned_books_mystery_1.csv')"
   ]
  },
  {
   "cell_type": "code",
   "execution_count": 4,
   "metadata": {},
   "outputs": [
    {
     "name": "stdout",
     "output_type": "stream",
     "text": [
      "<class 'pandas.core.frame.DataFrame'>\n",
      "RangeIndex: 1551765 entries, 0 to 1551764\n",
      "Data columns (total 9 columns):\n",
      "review_id      1551765 non-null object\n",
      "user_id        1551765 non-null int64\n",
      "book_id        1551765 non-null int64\n",
      "rating         1551765 non-null int64\n",
      "timestamp      1551765 non-null object\n",
      "n_votes        1551765 non-null int64\n",
      "n_comments     1551765 non-null int64\n",
      "old_user_id    1551765 non-null object\n",
      "old_book_id    1551765 non-null int64\n",
      "dtypes: int64(6), object(3)\n",
      "memory usage: 106.6+ MB\n"
     ]
    }
   ],
   "source": [
    "reviews.info()"
   ]
  },
  {
   "cell_type": "code",
   "execution_count": 29,
   "metadata": {},
   "outputs": [
    {
     "data": {
      "text/html": [
       "<div>\n",
       "<style scoped>\n",
       "    .dataframe tbody tr th:only-of-type {\n",
       "        vertical-align: middle;\n",
       "    }\n",
       "\n",
       "    .dataframe tbody tr th {\n",
       "        vertical-align: top;\n",
       "    }\n",
       "\n",
       "    .dataframe thead th {\n",
       "        text-align: right;\n",
       "    }\n",
       "</style>\n",
       "<table border=\"1\" class=\"dataframe\">\n",
       "  <thead>\n",
       "    <tr style=\"text-align: right;\">\n",
       "      <th></th>\n",
       "      <th>review_id</th>\n",
       "      <th>user_id</th>\n",
       "      <th>book_id</th>\n",
       "      <th>rating</th>\n",
       "      <th>timestamp</th>\n",
       "      <th>n_votes</th>\n",
       "      <th>n_comments</th>\n",
       "      <th>old_user_id</th>\n",
       "      <th>old_book_id</th>\n",
       "    </tr>\n",
       "  </thead>\n",
       "  <tbody>\n",
       "    <tr>\n",
       "      <th>0</th>\n",
       "      <td>d23dc89ab32cd864e54d18369751163b</td>\n",
       "      <td>102489</td>\n",
       "      <td>37120</td>\n",
       "      <td>3</td>\n",
       "      <td>2001-01-01 00:00:00</td>\n",
       "      <td>0</td>\n",
       "      <td>0</td>\n",
       "      <td>d889b42d9eb7b80e02f24830e27c6389</td>\n",
       "      <td>196084</td>\n",
       "    </tr>\n",
       "    <tr>\n",
       "      <th>1</th>\n",
       "      <td>c7613da4cbd48baa83efec99b4dd6a41</td>\n",
       "      <td>102489</td>\n",
       "      <td>96299</td>\n",
       "      <td>3</td>\n",
       "      <td>2001-01-11 00:00:00</td>\n",
       "      <td>0</td>\n",
       "      <td>0</td>\n",
       "      <td>d889b42d9eb7b80e02f24830e27c6389</td>\n",
       "      <td>79030</td>\n",
       "    </tr>\n",
       "  </tbody>\n",
       "</table>\n",
       "</div>"
      ],
      "text/plain": [
       "                          review_id  user_id  book_id  rating  \\\n",
       "0  d23dc89ab32cd864e54d18369751163b   102489    37120       3   \n",
       "1  c7613da4cbd48baa83efec99b4dd6a41   102489    96299       3   \n",
       "\n",
       "             timestamp  n_votes  n_comments                       old_user_id  \\\n",
       "0  2001-01-01 00:00:00        0           0  d889b42d9eb7b80e02f24830e27c6389   \n",
       "1  2001-01-11 00:00:00        0           0  d889b42d9eb7b80e02f24830e27c6389   \n",
       "\n",
       "   old_book_id  \n",
       "0       196084  \n",
       "1        79030  "
      ]
     },
     "execution_count": 29,
     "metadata": {},
     "output_type": "execute_result"
    }
   ],
   "source": [
    "reviews.head(2)"
   ]
  },
  {
   "cell_type": "code",
   "execution_count": 5,
   "metadata": {},
   "outputs": [
    {
     "name": "stdout",
     "output_type": "stream",
     "text": [
      "<class 'pandas.core.frame.DataFrame'>\n",
      "RangeIndex: 105365 entries, 0 to 105364\n",
      "Data columns (total 12 columns):\n",
      "book_id               105365 non-null int64\n",
      "title                 105365 non-null object\n",
      "num_pages             105365 non-null int64\n",
      "is_ebook              105365 non-null int64\n",
      "link                  105365 non-null object\n",
      "average_rating        105365 non-null float64\n",
      "ratings_count         105365 non-null int64\n",
      "text_reviews_count    105365 non-null int64\n",
      "author_id             105365 non-null int64\n",
      "publisher             76004 non-null object\n",
      "similar_books         105365 non-null object\n",
      "old_book_id           105365 non-null int64\n",
      "dtypes: float64(1), int64(7), object(4)\n",
      "memory usage: 9.6+ MB\n"
     ]
    }
   ],
   "source": [
    "books.info()"
   ]
  },
  {
   "cell_type": "code",
   "execution_count": 30,
   "metadata": {},
   "outputs": [
    {
     "data": {
      "text/html": [
       "<div>\n",
       "<style scoped>\n",
       "    .dataframe tbody tr th:only-of-type {\n",
       "        vertical-align: middle;\n",
       "    }\n",
       "\n",
       "    .dataframe tbody tr th {\n",
       "        vertical-align: top;\n",
       "    }\n",
       "\n",
       "    .dataframe thead th {\n",
       "        text-align: right;\n",
       "    }\n",
       "</style>\n",
       "<table border=\"1\" class=\"dataframe\">\n",
       "  <thead>\n",
       "    <tr style=\"text-align: right;\">\n",
       "      <th></th>\n",
       "      <th>book_id</th>\n",
       "      <th>title</th>\n",
       "      <th>num_pages</th>\n",
       "      <th>is_ebook</th>\n",
       "      <th>link</th>\n",
       "      <th>average_rating</th>\n",
       "      <th>ratings_count</th>\n",
       "      <th>text_reviews_count</th>\n",
       "      <th>author_id</th>\n",
       "      <th>publisher</th>\n",
       "      <th>similar_books</th>\n",
       "      <th>old_book_id</th>\n",
       "    </tr>\n",
       "  </thead>\n",
       "  <tbody>\n",
       "    <tr>\n",
       "      <th>0</th>\n",
       "      <td>75512</td>\n",
       "      <td>The House of Memory (Pluto's Snitch #2)</td>\n",
       "      <td>318</td>\n",
       "      <td>1</td>\n",
       "      <td>https://www.goodreads.com/book/show/33394837-t...</td>\n",
       "      <td>4.33</td>\n",
       "      <td>269</td>\n",
       "      <td>60</td>\n",
       "      <td>242185</td>\n",
       "      <td>NaN</td>\n",
       "      <td>[]</td>\n",
       "      <td>33394837</td>\n",
       "    </tr>\n",
       "    <tr>\n",
       "      <th>1</th>\n",
       "      <td>35550</td>\n",
       "      <td>Dead in the Morning (Patrick Grant, #1)</td>\n",
       "      <td>0</td>\n",
       "      <td>0</td>\n",
       "      <td>https://www.goodreads.com/book/show/1902202.De...</td>\n",
       "      <td>3.3</td>\n",
       "      <td>52</td>\n",
       "      <td>8</td>\n",
       "      <td>190988</td>\n",
       "      <td>Ulverscroft</td>\n",
       "      <td>[]</td>\n",
       "      <td>1902202</td>\n",
       "    </tr>\n",
       "  </tbody>\n",
       "</table>\n",
       "</div>"
      ],
      "text/plain": [
       "   book_id                                    title  num_pages  is_ebook  \\\n",
       "0    75512  The House of Memory (Pluto's Snitch #2)        318         1   \n",
       "1    35550  Dead in the Morning (Patrick Grant, #1)          0         0   \n",
       "\n",
       "                                                link  average_rating  \\\n",
       "0  https://www.goodreads.com/book/show/33394837-t...            4.33   \n",
       "1  https://www.goodreads.com/book/show/1902202.De...             3.3   \n",
       "\n",
       "   ratings_count  text_reviews_count author_id    publisher similar_books  \\\n",
       "0            269                  60    242185          NaN            []   \n",
       "1             52                   8    190988  Ulverscroft            []   \n",
       "\n",
       "   old_book_id  \n",
       "0     33394837  \n",
       "1      1902202  "
      ]
     },
     "execution_count": 30,
     "metadata": {},
     "output_type": "execute_result"
    }
   ],
   "source": [
    "books.head(2)"
   ]
  },
  {
   "cell_type": "markdown",
   "metadata": {},
   "source": [
    "### generate data for dnn model\n",
    "\n",
    "input layer: previously liked book, previously disliked book, book content features (here only include 'author_id')"
   ]
  },
  {
   "cell_type": "code",
   "execution_count": 6,
   "metadata": {},
   "outputs": [
    {
     "name": "stdout",
     "output_type": "stream",
     "text": [
      " processed 1551000 rows "
     ]
    }
   ],
   "source": [
    "# one-time code to generate dataset for dnn model, then save to pickle file\n",
    "\n",
    "# dataset = generate_dataset(reviews, books, min_good_rating =4, max_num_books_per_user=20) # processed 1551000 rows\n",
    "#dataset.to_pickle('data/dnn_dataset_w_books.pkl')"
   ]
  },
  {
   "cell_type": "code",
   "execution_count": 3,
   "metadata": {},
   "outputs": [],
   "source": [
    "# read saved dnn-ready data\n",
    "\n",
    "dataset = pd.read_pickle('data/dnn_dataset_w_books.pkl')"
   ]
  },
  {
   "cell_type": "code",
   "execution_count": 4,
   "metadata": {},
   "outputs": [
    {
     "data": {
      "text/html": [
       "<div>\n",
       "<style scoped>\n",
       "    .dataframe tbody tr th:only-of-type {\n",
       "        vertical-align: middle;\n",
       "    }\n",
       "\n",
       "    .dataframe tbody tr th {\n",
       "        vertical-align: top;\n",
       "    }\n",
       "\n",
       "    .dataframe thead th {\n",
       "        text-align: right;\n",
       "    }\n",
       "</style>\n",
       "<table border=\"1\" class=\"dataframe\">\n",
       "  <thead>\n",
       "    <tr style=\"text-align: right;\">\n",
       "      <th></th>\n",
       "      <th>user_id</th>\n",
       "      <th>book_id</th>\n",
       "      <th>rating</th>\n",
       "      <th>timestamp</th>\n",
       "      <th>author_id</th>\n",
       "      <th>prev_good_books</th>\n",
       "      <th>prev_bad_books</th>\n",
       "    </tr>\n",
       "  </thead>\n",
       "  <tbody>\n",
       "    <tr>\n",
       "      <th>1551763</th>\n",
       "      <td>34243</td>\n",
       "      <td>78523</td>\n",
       "      <td>5</td>\n",
       "      <td>2017-11-03 21:12:55</td>\n",
       "      <td>202905</td>\n",
       "      <td>[55927, 47953, 44562, 61742, 68857, 55357, 606...</td>\n",
       "      <td>[]</td>\n",
       "    </tr>\n",
       "    <tr>\n",
       "      <th>1551764</th>\n",
       "      <td>71677</td>\n",
       "      <td>82113</td>\n",
       "      <td>3</td>\n",
       "      <td>2017-11-03 22:17:08</td>\n",
       "      <td>3936</td>\n",
       "      <td>[46538, 83396, 13821]</td>\n",
       "      <td>[22731]</td>\n",
       "    </tr>\n",
       "  </tbody>\n",
       "</table>\n",
       "</div>"
      ],
      "text/plain": [
       "        user_id book_id  rating            timestamp author_id  \\\n",
       "1551763   34243   78523       5  2017-11-03 21:12:55    202905   \n",
       "1551764   71677   82113       3  2017-11-03 22:17:08      3936   \n",
       "\n",
       "                                           prev_good_books prev_bad_books  \n",
       "1551763  [55927, 47953, 44562, 61742, 68857, 55357, 606...             []  \n",
       "1551764                              [46538, 83396, 13821]        [22731]  "
      ]
     },
     "execution_count": 4,
     "metadata": {},
     "output_type": "execute_result"
    }
   ],
   "source": [
    "dataset.tail(2)"
   ]
  },
  {
   "cell_type": "markdown",
   "metadata": {},
   "source": [
    "### build model"
   ]
  },
  {
   "cell_type": "code",
   "execution_count": 10,
   "metadata": {},
   "outputs": [],
   "source": [
    "#constraint to two previously liked and disliked books to speed up iteration\n",
    "\n",
    "dataset['prev_good_books'] = dataset['prev_good_books'].apply(lambda x: x[:2])\n",
    "dataset['prev_bad_books'] = dataset['prev_bad_books'].apply(lambda x: x[:2])"
   ]
  },
  {
   "cell_type": "code",
   "execution_count": 28,
   "metadata": {},
   "outputs": [
    {
     "name": "stdout",
     "output_type": "stream",
     "text": [
      " iteration 10000: train_loss=2.825915, test_loss=6.460485\n",
      "time spent for the process is 347.25079\n"
     ]
    },
    {
     "data": {
      "image/png": "[encoded data removed]",
      "text/plain": [
       "<Figure size 1440x576 with 1 Axes>"
      ]
     },
     "metadata": {
      "needs_background": "light"
     },
     "output_type": "display_data"
    }
   ],
   "source": [
    "with tf.Graph().as_default():\n",
    "    print('embedding_cols start')\n",
    "    embedding_cols = make_shared_embedding_col(\n",
    "                ['prev_good_books','prev_bad_books'],\n",
    "                'book_id_embedding',\n",
    "                list(dataset['book_id'].unique()), 5) + [\n",
    "            make_embedding_col('author_id',list(dataset['author_id'].unique()), 5)] #input features should be string to create embedding\n",
    "             #make_embedding_col('publisher',10)\n",
    "        \n",
    "    print('embedding_cols done')\n",
    "    dnn_model = build_dnn_model(dataset,\n",
    "        embedding_cols = embedding_cols, hidden_dims=[5],\n",
    "        learning_rate = 0.1\n",
    "    )\n",
    "    \n",
    "start_time = timeit.default_timer()\n",
    "dnn_model.train( num_iterations =10000)\n",
    "print('\\ntime spent for the process is %.5f seconds'% (timeit.default_timer() - start_time))"
   ]
  },
  {
   "cell_type": "code",
   "execution_count": 4,
   "metadata": {},
   "outputs": [],
   "source": [
    "# constraint to 5 previously liked and disliked books\n",
    "\n",
    "dataset['prev_good_books'] = dataset['prev_good_books'].apply(lambda x: x[:5])\n",
    "dataset['prev_bad_books'] = dataset['prev_bad_books'].apply(lambda x: x[:5])"
   ]
  },
  {
   "cell_type": "code",
   "execution_count": 6,
   "metadata": {},
   "outputs": [
    {
     "name": "stdout",
     "output_type": "stream",
     "text": [
      "embedding_cols start\n",
      "embedding_cols done\n",
      "build_dnn_model#1 create_network\n",
      "build_dnn_model#2 split train_test dataset\n",
      "train_data mean rating: 3.80621\n",
      "make_batch#3\n",
      "WARNING:tensorflow:From /Users/elainewu/Documents/Projects/Assignments/Capstone/Capstone Three/Goodreads_Book_Recommender/src/DNN_Model.py:86: DatasetV1.make_one_shot_iterator (from tensorflow.python.data.ops.dataset_ops) is deprecated and will be removed in a future version.\n",
      "Instructions for updating:\n",
      "Use `for ... in dataset:` to iterate over a dataset. If using `tf.estimator`, return the `Dataset` object directly from your input function. As a last resort, you can use `tf.compat.v1.data.make_one_shot_iterator(dataset)`.\n",
      "make_batch#4\n",
      "make_batch#3\n",
      "make_batch#4\n",
      "build_dnn_model#3\n",
      "WARNING:tensorflow:From /Users/elainewu/Documents/Projects/Assignments/Capstone/Capstone Three/Goodreads_Book_Recommender/src/DNN_Model.py:152: The name tf.variable_scope is deprecated. Please use tf.compat.v1.variable_scope instead.\n",
      "\n",
      "WARNING:tensorflow:From /Users/elainewu/Documents/Projects/Assignments/Capstone/Capstone Three/Goodreads_Book_Recommender/src/DNN_Model.py:131: The name tf.feature_column.input_layer is deprecated. Please use tf.compat.v1.feature_column.input_layer instead.\n",
      "\n",
      "WARNING:tensorflow:From /Users/elainewu/anaconda3/lib/python3.7/site-packages/tensorflow/python/feature_column/feature_column.py:205: EmbeddingColumn._get_dense_tensor (from tensorflow.python.feature_column.feature_column_v2) is deprecated and will be removed in a future version.\n",
      "Instructions for updating:\n",
      "The old _FeatureColumn APIs are being deprecated. Please use the new FeatureColumn APIs instead.\n",
      "WARNING:tensorflow:From /Users/elainewu/anaconda3/lib/python3.7/site-packages/tensorflow/python/feature_column/feature_column_v2.py:3140: VocabularyListCategoricalColumn._get_sparse_tensors (from tensorflow.python.feature_column.feature_column_v2) is deprecated and will be removed in a future version.\n",
      "Instructions for updating:\n",
      "The old _FeatureColumn APIs are being deprecated. Please use the new FeatureColumn APIs instead.\n",
      "WARNING:tensorflow:From /Users/elainewu/anaconda3/lib/python3.7/site-packages/tensorflow/python/feature_column/feature_column.py:2115: VocabularyListCategoricalColumn._transform_feature (from tensorflow.python.feature_column.feature_column_v2) is deprecated and will be removed in a future version.\n",
      "Instructions for updating:\n",
      "The old _FeatureColumn APIs are being deprecated. Please use the new FeatureColumn APIs instead.\n",
      "WARNING:tensorflow:From /Users/elainewu/anaconda3/lib/python3.7/site-packages/tensorflow/python/feature_column/feature_column_v2.py:2655: add_dispatch_support.<locals>.wrapper (from tensorflow.python.ops.array_ops) is deprecated and will be removed in a future version.\n",
      "Instructions for updating:\n",
      "Use tf.where in 2.0, which has the same broadcast rule as np.where\n",
      "WARNING:tensorflow:From /Users/elainewu/anaconda3/lib/python3.7/site-packages/tensorflow/python/feature_column/feature_column.py:206: EmbeddingColumn._variable_shape (from tensorflow.python.feature_column.feature_column_v2) is deprecated and will be removed in a future version.\n",
      "Instructions for updating:\n",
      "The old _FeatureColumn APIs are being deprecated. Please use the new FeatureColumn APIs instead.\n",
      "WARNING:tensorflow:From /Users/elainewu/Documents/Projects/Assignments/Capstone/Capstone Three/Goodreads_Book_Recommender/src/DNN_Model.py:135: The name tf.get_variable is deprecated. Please use tf.compat.v1.get_variable instead.\n",
      "\n",
      "build_dnn_model#4 calculate train/test loss\n",
      "_train_init\n",
      "WARNING:tensorflow:From /Users/elainewu/Documents/Projects/Assignments/Capstone/Capstone Three/Goodreads_Book_Recommender/src/utils.py:66: The name tf.tables_initializer is deprecated. Please use tf.compat.v1.tables_initializer instead.\n",
      "\n",
      "WARNING:tensorflow:From /Users/elainewu/Documents/Projects/Assignments/Capstone/Capstone Three/Goodreads_Book_Recommender/src/utils.py:68: start_queue_runners (from tensorflow.python.training.queue_runner_impl) is deprecated and will be removed in a future version.\n",
      "Instructions for updating:\n",
      "To construct input pipelines, use the `tf.data` module.\n",
      "WARNING:tensorflow:`tf.train.start_queue_runners()` was called when no queue runners were defined. You can safely remove the call to this deprecated function.\n",
      "_train_init done\n",
      "\n",
      "time spent for the process is 328.98048 seconds\n"
     ]
    }
   ],
   "source": [
    "start_time = timeit.default_timer()\n",
    "with tf.Graph().as_default():\n",
    "    print('embedding_cols start')\n",
    "    embedding_cols = make_shared_embedding_col(\n",
    "                ['prev_good_books','prev_bad_books'],\n",
    "                'book_id_embedding',\n",
    "                list(dataset['book_id'].unique()), 5) + [\n",
    "            make_embedding_col('author_id',list(dataset['author_id'].unique()), 5)] #input features should be string to create embedding\n",
    "             #make_embedding_col('publisher',10)\n",
    "        \n",
    "    print('embedding_cols done')\n",
    "    dnn_model = build_dnn_model(dataset,\n",
    "        embedding_cols = embedding_cols, hidden_dims=[5],\n",
    "        learning_rate = 0.1\n",
    "    )\n",
    "    \n",
    "print('\\ntime spent for the process is %.5f seconds'% (timeit.default_timer() - start_time))"
   ]
  },
  {
   "cell_type": "code",
   "execution_count": 7,
   "metadata": {},
   "outputs": [
    {
     "name": "stdout",
     "output_type": "stream",
     "text": [
      " iteration 10000: train_loss=2.588658, test_loss=6.588341\n",
      "time spent for the process is 573.90401 seconds\n"
     ]
    },
    {
     "data": {
      "image/png": "[encoded data removed]",
      "text/plain": [
       "<Figure size 1440x576 with 1 Axes>"
      ]
     },
     "metadata": {
      "needs_background": "light"
     },
     "output_type": "display_data"
    }
   ],
   "source": [
    "start_time = timeit.default_timer()\n",
    "dnn_model.train( num_iterations =10000)\n",
    "print('\\ntime spent for the process is %.5f seconds'% (timeit.default_timer() - start_time))"
   ]
  },
  {
   "cell_type": "markdown",
   "metadata": {},
   "source": [
    "### TODO: below is testing code - to delete later"
   ]
  },
  {
   "cell_type": "code",
   "execution_count": 173,
   "metadata": {},
   "outputs": [],
   "source": [
    "SAMPLE = False\n",
    "if SAMPLE:\n",
    "    N = 10000\n",
    "    reviews = reviews[reviews['user_id']<N]\n",
    "#     books = books[books['book_id'] < N]"
   ]
  },
  {
   "cell_type": "code",
   "execution_count": 174,
   "metadata": {},
   "outputs": [],
   "source": [
    "def generate_dataset(reviews, books):\n",
    "    MIN_GOOD_RATING = 4\n",
    "    MAX_NUM_BOOKS_PER_USER = 20\n",
    "    \n",
    "    prev_good_books = defaultdict(set) # from user_id to a set of book_ids\n",
    "    prev_bad_books = defaultdict(set)\n",
    "    \n",
    "    reviews_books = reviews.merge(books, how='left', on=['book_id'])\n",
    "    \n",
    "    reviews_books['book_id'] = reviews_books['book_id'].astype(str)\n",
    "    reviews_books['user_id'] = reviews_books['user_id'].astype(str)\n",
    "    reviews_books['author_id'] = reviews_books['author_id'].astype(str)\n",
    "    \n",
    "    \n",
    "    data = []\n",
    "    reviews_books = reviews_books.sort_values(by=['timestamp'])\n",
    "    for i in range(reviews_books.shape[0]):\n",
    "        if i % 1000 == 0:\n",
    "            print(\"\\r processed %d rows \" % i, end='')\n",
    "        row = reviews_books.iloc[i]\n",
    "        user_id = row['user_id']\n",
    "        book_id = row['book_id']\n",
    "        rating = row['rating']\n",
    "        \n",
    "        entry = {\n",
    "            'user_id': user_id,\n",
    "            'book_id': book_id,\n",
    "            'rating': rating,\n",
    "            'timestamp': row['timestamp'],\n",
    "            'author_id': row['author_id'],\n",
    "            'prev_good_books':  list(prev_good_books[user_id]), # make a copy for each example\n",
    "            'prev_bad_books': list(prev_bad_books[user_id])\n",
    "        }\n",
    "        # TODO: remove this check\n",
    "        # if len(prev_good_books[user_id]) > 0 and len(prev_bad_books[user_id]) > 0:\n",
    "        data.append(entry)\n",
    "        \n",
    "        if rating >= MIN_GOOD_RATING and len(prev_good_books[user_id])< MAX_NUM_BOOKS_PER_USER:\n",
    "            prev_good_books[user_id].add(book_id)\n",
    "        elif rating < MIN_GOOD_RATING and len(prev_bad_books[user_id]) < MAX_NUM_BOOKS_PER_USER:\n",
    "            prev_bad_books[user_id].add(book_id)\n",
    "    return pd.DataFrame(data)\n"
   ]
  },
  {
   "cell_type": "code",
   "execution_count": null,
   "metadata": {},
   "outputs": [],
   "source": [
    "dataset = generate_dataset(reviews, books)"
   ]
  },
  {
   "cell_type": "code",
   "execution_count": null,
   "metadata": {},
   "outputs": [],
   "source": [
    "# dataset = pd.read_csv('data/dnn_dataset.csv')\n",
    "# import json\n",
    "# def load_str(x):\n",
    "#     return json.loads(x.replace(\"'\", '\"'))\n",
    "# dataset['prev_good_books'] = dataset['prev_good_books'].apply(lambda x: load_str(x))\n",
    "# dataset['prev_bad_books'] = dataset['prev_bad_books'].apply(lambda x: load_str(x))\n",
    "# dataset['book_id'] = dataset['book_id'].astype(str)\n",
    "\n"
   ]
  },
  {
   "cell_type": "code",
   "execution_count": 177,
   "metadata": {},
   "outputs": [
    {
     "data": {
      "text/html": [
       "<div>\n",
       "<style scoped>\n",
       "    .dataframe tbody tr th:only-of-type {\n",
       "        vertical-align: middle;\n",
       "    }\n",
       "\n",
       "    .dataframe tbody tr th {\n",
       "        vertical-align: top;\n",
       "    }\n",
       "\n",
       "    .dataframe thead th {\n",
       "        text-align: right;\n",
       "    }\n",
       "</style>\n",
       "<table border=\"1\" class=\"dataframe\">\n",
       "  <thead>\n",
       "    <tr style=\"text-align: right;\">\n",
       "      <th></th>\n",
       "      <th>user_id</th>\n",
       "      <th>book_id</th>\n",
       "      <th>rating</th>\n",
       "      <th>timestamp</th>\n",
       "      <th>author_id</th>\n",
       "      <th>prev_good_books</th>\n",
       "      <th>prev_bad_books</th>\n",
       "    </tr>\n",
       "  </thead>\n",
       "  <tbody>\n",
       "    <tr>\n",
       "      <th>0</th>\n",
       "      <td>102489</td>\n",
       "      <td>37120</td>\n",
       "      <td>3</td>\n",
       "      <td>2001-01-01 00:00:00</td>\n",
       "      <td>114241</td>\n",
       "      <td>[]</td>\n",
       "      <td>[]</td>\n",
       "    </tr>\n",
       "    <tr>\n",
       "      <th>1</th>\n",
       "      <td>102489</td>\n",
       "      <td>96299</td>\n",
       "      <td>3</td>\n",
       "      <td>2001-01-11 00:00:00</td>\n",
       "      <td>12608</td>\n",
       "      <td>[]</td>\n",
       "      <td>[37120]</td>\n",
       "    </tr>\n",
       "    <tr>\n",
       "      <th>2</th>\n",
       "      <td>102489</td>\n",
       "      <td>82887</td>\n",
       "      <td>4</td>\n",
       "      <td>2001-01-25 00:00:00</td>\n",
       "      <td>21318</td>\n",
       "      <td>[]</td>\n",
       "      <td>[37120, 96299]</td>\n",
       "    </tr>\n",
       "    <tr>\n",
       "      <th>3</th>\n",
       "      <td>102489</td>\n",
       "      <td>85615</td>\n",
       "      <td>2</td>\n",
       "      <td>2001-01-29 00:00:00</td>\n",
       "      <td>239471</td>\n",
       "      <td>[82887]</td>\n",
       "      <td>[37120, 96299]</td>\n",
       "    </tr>\n",
       "    <tr>\n",
       "      <th>4</th>\n",
       "      <td>102489</td>\n",
       "      <td>50050</td>\n",
       "      <td>4</td>\n",
       "      <td>2001-02-02 00:00:00</td>\n",
       "      <td>1499301</td>\n",
       "      <td>[82887]</td>\n",
       "      <td>[37120, 85615, 96299]</td>\n",
       "    </tr>\n",
       "  </tbody>\n",
       "</table>\n",
       "</div>"
      ],
      "text/plain": [
       "  user_id book_id  rating            timestamp author_id prev_good_books  \\\n",
       "0  102489   37120       3  2001-01-01 00:00:00    114241              []   \n",
       "1  102489   96299       3  2001-01-11 00:00:00     12608              []   \n",
       "2  102489   82887       4  2001-01-25 00:00:00     21318              []   \n",
       "3  102489   85615       2  2001-01-29 00:00:00    239471         [82887]   \n",
       "4  102489   50050       4  2001-02-02 00:00:00   1499301         [82887]   \n",
       "\n",
       "          prev_bad_books  \n",
       "0                     []  \n",
       "1                [37120]  \n",
       "2         [37120, 96299]  \n",
       "3         [37120, 96299]  \n",
       "4  [37120, 85615, 96299]  "
      ]
     },
     "execution_count": 177,
     "metadata": {},
     "output_type": "execute_result"
    }
   ],
   "source": [
    "book_id_vocab = books['book_id'].astype(str).unique()\n",
    "books['author_id'] = books['author_id'].astype(str)\n",
    "dataset[:5]"
   ]
  },
  {
   "cell_type": "code",
   "execution_count": 179,
   "metadata": {},
   "outputs": [],
   "source": [
    "dataset['prev_good_books'] = dataset['prev_good_books'].apply(lambda x: x[:2])\n",
    "dataset['prev_bad_books'] = dataset['prev_bad_books'].apply(lambda x: x[:2])"
   ]
  },
  {
   "cell_type": "code",
   "execution_count": 180,
   "metadata": {},
   "outputs": [
    {
     "data": {
      "text/html": [
       "<div>\n",
       "<style scoped>\n",
       "    .dataframe tbody tr th:only-of-type {\n",
       "        vertical-align: middle;\n",
       "    }\n",
       "\n",
       "    .dataframe tbody tr th {\n",
       "        vertical-align: top;\n",
       "    }\n",
       "\n",
       "    .dataframe thead th {\n",
       "        text-align: right;\n",
       "    }\n",
       "</style>\n",
       "<table border=\"1\" class=\"dataframe\">\n",
       "  <thead>\n",
       "    <tr style=\"text-align: right;\">\n",
       "      <th></th>\n",
       "      <th>user_id</th>\n",
       "      <th>book_id</th>\n",
       "      <th>rating</th>\n",
       "      <th>timestamp</th>\n",
       "      <th>author_id</th>\n",
       "      <th>prev_good_books</th>\n",
       "      <th>prev_bad_books</th>\n",
       "    </tr>\n",
       "  </thead>\n",
       "  <tbody>\n",
       "    <tr>\n",
       "      <th>1551760</th>\n",
       "      <td>95989</td>\n",
       "      <td>59221</td>\n",
       "      <td>3</td>\n",
       "      <td>2017-11-03 14:50:16</td>\n",
       "      <td>8509533</td>\n",
       "      <td>[46824, 62313]</td>\n",
       "      <td>[65024]</td>\n",
       "    </tr>\n",
       "    <tr>\n",
       "      <th>1551761</th>\n",
       "      <td>12115</td>\n",
       "      <td>80157</td>\n",
       "      <td>5</td>\n",
       "      <td>2017-11-03 17:29:55</td>\n",
       "      <td>7622802</td>\n",
       "      <td>[11848, 88370]</td>\n",
       "      <td>[]</td>\n",
       "    </tr>\n",
       "    <tr>\n",
       "      <th>1551762</th>\n",
       "      <td>46579</td>\n",
       "      <td>75852</td>\n",
       "      <td>4</td>\n",
       "      <td>2017-11-03 18:42:32</td>\n",
       "      <td>14772270</td>\n",
       "      <td>[77675, 74085]</td>\n",
       "      <td>[70445, 62583]</td>\n",
       "    </tr>\n",
       "    <tr>\n",
       "      <th>1551763</th>\n",
       "      <td>34243</td>\n",
       "      <td>78523</td>\n",
       "      <td>5</td>\n",
       "      <td>2017-11-03 21:12:55</td>\n",
       "      <td>202905</td>\n",
       "      <td>[55927, 47953]</td>\n",
       "      <td>[]</td>\n",
       "    </tr>\n",
       "    <tr>\n",
       "      <th>1551764</th>\n",
       "      <td>71677</td>\n",
       "      <td>82113</td>\n",
       "      <td>3</td>\n",
       "      <td>2017-11-03 22:17:08</td>\n",
       "      <td>3936</td>\n",
       "      <td>[46538, 83396]</td>\n",
       "      <td>[22731]</td>\n",
       "    </tr>\n",
       "  </tbody>\n",
       "</table>\n",
       "</div>"
      ],
      "text/plain": [
       "        user_id book_id  rating            timestamp author_id  \\\n",
       "1551760   95989   59221       3  2017-11-03 14:50:16   8509533   \n",
       "1551761   12115   80157       5  2017-11-03 17:29:55   7622802   \n",
       "1551762   46579   75852       4  2017-11-03 18:42:32  14772270   \n",
       "1551763   34243   78523       5  2017-11-03 21:12:55    202905   \n",
       "1551764   71677   82113       3  2017-11-03 22:17:08      3936   \n",
       "\n",
       "        prev_good_books  prev_bad_books  \n",
       "1551760  [46824, 62313]         [65024]  \n",
       "1551761  [11848, 88370]              []  \n",
       "1551762  [77675, 74085]  [70445, 62583]  \n",
       "1551763  [55927, 47953]              []  \n",
       "1551764  [46538, 83396]         [22731]  "
      ]
     },
     "execution_count": 180,
     "metadata": {},
     "output_type": "execute_result"
    }
   ],
   "source": [
    "dataset.tail(5)"
   ]
  },
  {
   "cell_type": "code",
   "execution_count": 181,
   "metadata": {},
   "outputs": [],
   "source": [
    "train_dataset, test_dataset = split_dataframe(dataset)"
   ]
  },
  {
   "cell_type": "code",
   "execution_count": 182,
   "metadata": {},
   "outputs": [
    {
     "name": "stdout",
     "output_type": "stream",
     "text": [
      "train_data mean rating: 3.80621\n"
     ]
    }
   ],
   "source": [
    "print('train_data mean rating: %.5f'%train_dataset.rating.mean())"
   ]
  },
  {
   "cell_type": "code",
   "execution_count": 183,
   "metadata": {},
   "outputs": [],
   "source": [
    "def make_batch(ratings, batch_size):\n",
    "    \"\"\"Creates a batch of examples.\n",
    "    Args:\n",
    "        ratings: A DataFrame of ratings such that examples[\"book_id\"] is a list of\n",
    "        books rated by a user.\n",
    "    batch_size: The batch size.\n",
    "    \"\"\"\n",
    "    def pad(x, fill):\n",
    "        return pd.DataFrame.from_dict(x).fillna(fill).values\n",
    "\n",
    "    features = {\n",
    "      \"prev_good_books\": pad(ratings['prev_good_books'].values.tolist(), \"\"),\n",
    "      \"prev_bad_books\": pad(ratings['prev_bad_books'].values.tolist(), \"\"),        \n",
    "      \"rating\": ratings['rating'].values,\n",
    "       \"book_id\": ratings['book_id'].values,\n",
    "        \"author_id\": pad(ratings['author_id'].values.tolist(), \"\")\n",
    "      }\n",
    "    print('make_batch#3')    \n",
    "    batch = (\n",
    "      tf.data.Dataset.from_tensor_slices(features)\n",
    "      .shuffle(1000)\n",
    "      .repeat()\n",
    "      .batch(batch_size)\n",
    "      .make_one_shot_iterator()\n",
    "      .get_next())\n",
    "    print('make_batch#4')    \n",
    "    return batch\n"
   ]
  },
  {
   "cell_type": "code",
   "execution_count": 184,
   "metadata": {
    "scrolled": false
   },
   "outputs": [
    {
     "name": "stdout",
     "output_type": "stream",
     "text": [
      "embedding_cols start\n",
      "embedding_cols done\n",
      "build_dnn_model#1\n",
      "build_dnn_model#2\n",
      "make_batch#3\n",
      "make_batch#4\n",
      "make_batch#3\n",
      "make_batch#4\n",
      "build_dnn_model#3\n",
      "build_dnn_model#4\n",
      "_train_init\n",
      "WARNING:tensorflow:`tf.train.start_queue_runners()` was called when no queue runners were defined. You can safely remove the call to this deprecated function.\n",
      "_train_init done\n"
     ]
    }
   ],
   "source": [
    "def make_shared_embedding_col(keys, shared_name, vocabulary_list, embedding_dim):\n",
    "    \"\"\"create shared embedding col for previously liked and disliked book_ids\"\"\"\n",
    "    columns = []\n",
    "    for key in keys:\n",
    "        columns.append(tf.feature_column.categorical_column_with_vocabulary_list(\n",
    "            key, vocabulary_list, num_oov_buckets=0))\n",
    "\n",
    "    return tf.feature_column.shared_embedding_columns(\n",
    "        columns, shared_embedding_collection_name=shared_name, dimension=embedding_dim)\n",
    "\n",
    "def make_embedding_col(key, embedding_dim):\n",
    "    \"\"\"create embedding col for book content features\"\"\"\n",
    "    categorical_col = tf.feature_column.categorical_column_with_vocabulary_list(\n",
    "        key=key, vocabulary_list=list(set(books[key].values)), num_oov_buckets=0)\n",
    "    return tf.feature_column.embedding_column(\n",
    "      categorical_column=categorical_col, dimension=embedding_dim,\n",
    "      # default initializer: trancated normal with stddev=1/sqrt(dimension)\n",
    "      combiner='mean')\n",
    "    \n",
    "def mean_square_error_loss(batch_user_embeddings, book_embeddings, batch_book_ids, labels):\n",
    "    user_emb_dim = batch_user_embeddings.shape[1].value\n",
    "    book_emb_dim = book_embeddings.shape[1].value\n",
    "    if user_emb_dim != book_emb_dim:\n",
    "        raise ValueError('The user embedding dimension %d should match the book embedding dimension %d' %(\n",
    "                user_emb_dim, book_emb_dim))\n",
    "        \n",
    "    batch_book_embeddings = tf.gather(book_embeddings, tf.strings.to_number(batch_book_ids, out_type=tf.dtypes.int32))\n",
    "    \n",
    "    batch_predictions = tf.reduce_sum(\n",
    "        batch_user_embeddings * batch_book_embeddings, axis=1)\n",
    "    \n",
    "    loss = tf.compat.v1.losses.mean_squared_error(labels, batch_predictions)\n",
    "    return loss\n",
    "\n",
    "def build_dnn_model(train_dataset, test_dataset, embedding_cols, hidden_dims, learning_rate =1,):\n",
    "    print('build_dnn_model#1')\n",
    "    def create_network(features):\n",
    "        #create a bog-of-words embedding for each sparse feature\n",
    "        inputs = tf.feature_column.input_layer(features, embedding_cols)\n",
    "        #hidden layer\n",
    "        input_dim = inputs.shape[1].value\n",
    "        for i, output_dim in enumerate(hidden_dims):\n",
    "            w = tf.get_variable(\n",
    "                'hidden%d_w_'% i, shape=[input_dim, output_dim],\n",
    "                initializer=tf.truncated_normal_initializer(\n",
    "                stddev=1./np.sqrt(output_dim)))/10\n",
    "            outputs = tf.matmul(inputs, w)\n",
    "            input_dim = output_dim\n",
    "            inputs = outputs\n",
    "        return outputs\n",
    "    \n",
    "    print('build_dnn_model#2')    \n",
    "    train_batch = make_batch(train_dataset, 200)\n",
    "    test_batch = make_batch(test_dataset, 100)\n",
    "    print('build_dnn_model#3')    \n",
    "    with tf.variable_scope('model', reuse=False):\n",
    "        #train\n",
    "        train_user_embeddings =create_network(train_batch)\n",
    "        train_labels = train_batch['rating']\n",
    "        train_book_ids = train_batch['book_id']\n",
    "        \n",
    "    with tf.variable_scope('model', reuse=True):\n",
    "        #test\n",
    "        test_user_embeddings = create_network(test_batch)\n",
    "        test_labels = test_batch['rating']\n",
    "        test_book_ids = test_batch['book_id']\n",
    "        \n",
    "        book_embeddings = tf.get_variable(\"input_layer/book_id_embedding/embedding_weights\")\n",
    "        \n",
    "    print('build_dnn_model#4')        \n",
    "    train_loss = mean_square_error_loss(train_user_embeddings, book_embeddings, train_book_ids, train_labels)\n",
    "    test_loss = mean_square_error_loss(test_user_embeddings, book_embeddings, test_book_ids, test_labels)\n",
    "    \n",
    "#     _, test_prediction_at_10 = tf.metrics.precision_at_k(\n",
    "#         labels=test_labels, predictions=tf.matmul(test_user_embeddings, book_embeddings, transpose_b=True),\n",
    "#         k=10)\n",
    "    \n",
    "    metrics=(\n",
    "        {'train_loss': train_loss, 'test_loss': test_loss},\n",
    "        # {'test_precision_at_10': test_prediction_at_10}\n",
    "    )\n",
    "    embeddings = {'book_id': book_embeddings}\n",
    "    return CFModel(embeddings, train_loss, metrics, learning_rate=learning_rate)\n",
    "\n",
    "\n",
    "with tf.Graph().as_default():\n",
    "    print('embedding_cols start')\n",
    "    embedding_cols = make_shared_embedding_col(\n",
    "                ['prev_good_books','prev_bad_books'],\n",
    "                'book_id_embedding',\n",
    "                book_id_vocab, 5) + [make_embedding_col('author_id',5)]\n",
    "             #make_embedding_col('publisher',10)\n",
    "        \n",
    "    print('embedding_cols done')\n",
    "    dnn_model = build_dnn_model(\n",
    "        train_dataset, test_dataset, \n",
    "        embedding_cols = embedding_cols, hidden_dims=[5],\n",
    "        learning_rate = 0.1\n",
    "    )\n",
    "    \n"
   ]
  },
  {
   "cell_type": "code",
   "execution_count": 185,
   "metadata": {},
   "outputs": [
    {
     "name": "stdout",
     "output_type": "stream",
     "text": [
      " iteration 10000: train_loss=3.033715, test_loss=4.769547"
     ]
    },
    {
     "name": "stderr",
     "output_type": "stream",
     "text": [
      "No handles with labels found to put in legend.\n"
     ]
    },
    {
     "data": {
      "text/plain": [
       "({'train_loss': 3.0337145, 'test_loss': 4.769547}, {})"
      ]
     },
     "execution_count": 185,
     "metadata": {},
     "output_type": "execute_result"
    },
    {
     "data": {
      "image/png": "[encoded data removed]",
      "text/plain": [
       "<Figure size 2160x576 with 2 Axes>"
      ]
     },
     "metadata": {
      "needs_background": "light"
     },
     "output_type": "display_data"
    }
   ],
   "source": [
    "dnn_model.train( num_iterations =10000)"
   ]
  },
  {
   "cell_type": "code",
   "execution_count": null,
   "metadata": {},
   "outputs": [],
   "source": []
  }
 ],
 "metadata": {
  "kernelspec": {
   "display_name": "Python 3",
   "language": "python",
   "name": "python3"
  },
  "language_info": {
   "codemirror_mode": {
    "name": "ipython",
    "version": 3
   },
   "file_extension": ".py",
   "mimetype": "text/x-python",
   "name": "python",
   "nbconvert_exporter": "python",
   "pygments_lexer": "ipython3",
   "version": "3.7.3"
  }
 },
 "nbformat": 4,
 "nbformat_minor": 2
}
