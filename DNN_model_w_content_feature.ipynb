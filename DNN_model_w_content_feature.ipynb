{
 "cells": [
  {
   "cell_type": "code",
   "execution_count": 96,
   "metadata": {},
   "outputs": [],
   "source": [
    "import gzip\n",
    "import json\n",
    "import re\n",
    "import os\n",
    "import sys\n",
    "import timeit\n",
    "import numpy as np\n",
    "import pandas as pd\n",
    "import matplotlib.pyplot as plt\n",
    "%matplotlib inline\n",
    "from IPython import display\n",
    "from collections import defaultdict\n",
    "import tensorflow as tf\n",
    "import altair as alt\n",
    "import collections\n",
    "\n",
    "pd.set_option('display.max_colwidth', 100) \n",
    "\n",
    "from src.utils import split_dataframe, CFModel, book_neighbors\n",
    "from src.load_data import read_tables\n",
    "from src.DNN_Model import generate_dataset, build_dnn_model, make_shared_embedding_col, make_embedding_col"
   ]
  },
  {
   "cell_type": "markdown",
   "metadata": {},
   "source": [
    "### load reviews and books data"
   ]
  },
  {
   "cell_type": "code",
   "execution_count": 25,
   "metadata": {},
   "outputs": [],
   "source": [
    "reviews = pd.read_csv('data/cleaned_reviews_mystery_1.csv')\n",
    "books = pd.read_csv('data/cleaned_books_mystery_1.csv')\n",
    "books.sort_values(by='book_id', inplace=True)"
   ]
  },
  {
   "cell_type": "code",
   "execution_count": 4,
   "metadata": {},
   "outputs": [
    {
     "name": "stdout",
     "output_type": "stream",
     "text": [
      "<class 'pandas.core.frame.DataFrame'>\n",
      "RangeIndex: 1551765 entries, 0 to 1551764\n",
      "Data columns (total 9 columns):\n",
      "review_id      1551765 non-null object\n",
      "user_id        1551765 non-null int64\n",
      "book_id        1551765 non-null int64\n",
      "rating         1551765 non-null int64\n",
      "timestamp      1551765 non-null object\n",
      "n_votes        1551765 non-null int64\n",
      "n_comments     1551765 non-null int64\n",
      "old_user_id    1551765 non-null object\n",
      "old_book_id    1551765 non-null int64\n",
      "dtypes: int64(6), object(3)\n",
      "memory usage: 106.6+ MB\n"
     ]
    }
   ],
   "source": [
    "reviews.info()"
   ]
  },
  {
   "cell_type": "code",
   "execution_count": 29,
   "metadata": {},
   "outputs": [
    {
     "data": {
      "text/html": [
       "<div>\n",
       "<style scoped>\n",
       "    .dataframe tbody tr th:only-of-type {\n",
       "        vertical-align: middle;\n",
       "    }\n",
       "\n",
       "    .dataframe tbody tr th {\n",
       "        vertical-align: top;\n",
       "    }\n",
       "\n",
       "    .dataframe thead th {\n",
       "        text-align: right;\n",
       "    }\n",
       "</style>\n",
       "<table border=\"1\" class=\"dataframe\">\n",
       "  <thead>\n",
       "    <tr style=\"text-align: right;\">\n",
       "      <th></th>\n",
       "      <th>review_id</th>\n",
       "      <th>user_id</th>\n",
       "      <th>book_id</th>\n",
       "      <th>rating</th>\n",
       "      <th>timestamp</th>\n",
       "      <th>n_votes</th>\n",
       "      <th>n_comments</th>\n",
       "      <th>old_user_id</th>\n",
       "      <th>old_book_id</th>\n",
       "    </tr>\n",
       "  </thead>\n",
       "  <tbody>\n",
       "    <tr>\n",
       "      <th>0</th>\n",
       "      <td>d23dc89ab32cd864e54d18369751163b</td>\n",
       "      <td>102489</td>\n",
       "      <td>37120</td>\n",
       "      <td>3</td>\n",
       "      <td>2001-01-01 00:00:00</td>\n",
       "      <td>0</td>\n",
       "      <td>0</td>\n",
       "      <td>d889b42d9eb7b80e02f24830e27c6389</td>\n",
       "      <td>196084</td>\n",
       "    </tr>\n",
       "    <tr>\n",
       "      <th>1</th>\n",
       "      <td>c7613da4cbd48baa83efec99b4dd6a41</td>\n",
       "      <td>102489</td>\n",
       "      <td>96299</td>\n",
       "      <td>3</td>\n",
       "      <td>2001-01-11 00:00:00</td>\n",
       "      <td>0</td>\n",
       "      <td>0</td>\n",
       "      <td>d889b42d9eb7b80e02f24830e27c6389</td>\n",
       "      <td>79030</td>\n",
       "    </tr>\n",
       "  </tbody>\n",
       "</table>\n",
       "</div>"
      ],
      "text/plain": [
       "                          review_id  user_id  book_id  rating  \\\n",
       "0  d23dc89ab32cd864e54d18369751163b   102489    37120       3   \n",
       "1  c7613da4cbd48baa83efec99b4dd6a41   102489    96299       3   \n",
       "\n",
       "             timestamp  n_votes  n_comments                       old_user_id  \\\n",
       "0  2001-01-01 00:00:00        0           0  d889b42d9eb7b80e02f24830e27c6389   \n",
       "1  2001-01-11 00:00:00        0           0  d889b42d9eb7b80e02f24830e27c6389   \n",
       "\n",
       "   old_book_id  \n",
       "0       196084  \n",
       "1        79030  "
      ]
     },
     "execution_count": 29,
     "metadata": {},
     "output_type": "execute_result"
    }
   ],
   "source": [
    "reviews.head(2)"
   ]
  },
  {
   "cell_type": "code",
   "execution_count": 5,
   "metadata": {},
   "outputs": [
    {
     "name": "stdout",
     "output_type": "stream",
     "text": [
      "<class 'pandas.core.frame.DataFrame'>\n",
      "RangeIndex: 105365 entries, 0 to 105364\n",
      "Data columns (total 12 columns):\n",
      "book_id               105365 non-null int64\n",
      "title                 105365 non-null object\n",
      "num_pages             105365 non-null int64\n",
      "is_ebook              105365 non-null int64\n",
      "link                  105365 non-null object\n",
      "average_rating        105365 non-null float64\n",
      "ratings_count         105365 non-null int64\n",
      "text_reviews_count    105365 non-null int64\n",
      "author_id             105365 non-null int64\n",
      "publisher             76004 non-null object\n",
      "similar_books         105365 non-null object\n",
      "old_book_id           105365 non-null int64\n",
      "dtypes: float64(1), int64(7), object(4)\n",
      "memory usage: 9.6+ MB\n"
     ]
    }
   ],
   "source": [
    "books.info()"
   ]
  },
  {
   "cell_type": "code",
   "execution_count": 30,
   "metadata": {},
   "outputs": [
    {
     "data": {
      "text/html": [
       "<div>\n",
       "<style scoped>\n",
       "    .dataframe tbody tr th:only-of-type {\n",
       "        vertical-align: middle;\n",
       "    }\n",
       "\n",
       "    .dataframe tbody tr th {\n",
       "        vertical-align: top;\n",
       "    }\n",
       "\n",
       "    .dataframe thead th {\n",
       "        text-align: right;\n",
       "    }\n",
       "</style>\n",
       "<table border=\"1\" class=\"dataframe\">\n",
       "  <thead>\n",
       "    <tr style=\"text-align: right;\">\n",
       "      <th></th>\n",
       "      <th>book_id</th>\n",
       "      <th>title</th>\n",
       "      <th>num_pages</th>\n",
       "      <th>is_ebook</th>\n",
       "      <th>link</th>\n",
       "      <th>average_rating</th>\n",
       "      <th>ratings_count</th>\n",
       "      <th>text_reviews_count</th>\n",
       "      <th>author_id</th>\n",
       "      <th>publisher</th>\n",
       "      <th>similar_books</th>\n",
       "      <th>old_book_id</th>\n",
       "    </tr>\n",
       "  </thead>\n",
       "  <tbody>\n",
       "    <tr>\n",
       "      <th>0</th>\n",
       "      <td>75512</td>\n",
       "      <td>The House of Memory (Pluto's Snitch #2)</td>\n",
       "      <td>318</td>\n",
       "      <td>1</td>\n",
       "      <td>https://www.goodreads.com/book/show/33394837-t...</td>\n",
       "      <td>4.33</td>\n",
       "      <td>269</td>\n",
       "      <td>60</td>\n",
       "      <td>242185</td>\n",
       "      <td>NaN</td>\n",
       "      <td>[]</td>\n",
       "      <td>33394837</td>\n",
       "    </tr>\n",
       "    <tr>\n",
       "      <th>1</th>\n",
       "      <td>35550</td>\n",
       "      <td>Dead in the Morning (Patrick Grant, #1)</td>\n",
       "      <td>0</td>\n",
       "      <td>0</td>\n",
       "      <td>https://www.goodreads.com/book/show/1902202.De...</td>\n",
       "      <td>3.3</td>\n",
       "      <td>52</td>\n",
       "      <td>8</td>\n",
       "      <td>190988</td>\n",
       "      <td>Ulverscroft</td>\n",
       "      <td>[]</td>\n",
       "      <td>1902202</td>\n",
       "    </tr>\n",
       "  </tbody>\n",
       "</table>\n",
       "</div>"
      ],
      "text/plain": [
       "   book_id                                    title  num_pages  is_ebook  \\\n",
       "0    75512  The House of Memory (Pluto's Snitch #2)        318         1   \n",
       "1    35550  Dead in the Morning (Patrick Grant, #1)          0         0   \n",
       "\n",
       "                                                link  average_rating  \\\n",
       "0  https://www.goodreads.com/book/show/33394837-t...            4.33   \n",
       "1  https://www.goodreads.com/book/show/1902202.De...             3.3   \n",
       "\n",
       "   ratings_count  text_reviews_count author_id    publisher similar_books  \\\n",
       "0            269                  60    242185          NaN            []   \n",
       "1             52                   8    190988  Ulverscroft            []   \n",
       "\n",
       "   old_book_id  \n",
       "0     33394837  \n",
       "1      1902202  "
      ]
     },
     "execution_count": 30,
     "metadata": {},
     "output_type": "execute_result"
    }
   ],
   "source": [
    "books.head(2)"
   ]
  },
  {
   "cell_type": "markdown",
   "metadata": {},
   "source": [
    "### generate data for dnn model\n",
    "\n",
    "input layer: previously liked book, previously disliked book, book content features (here only include 'author_id')"
   ]
  },
  {
   "cell_type": "code",
   "execution_count": 3,
   "metadata": {},
   "outputs": [],
   "source": [
    "# one-time code to generate dataset for dnn model, then save to pickle file\n",
    "\n",
    "# dataset = generate_dataset(reviews, books, min_good_rating =4, max_num_books_per_user=20) # processed 1551000 rows\n",
    "#dataset.to_pickle('data/dnn_dataset_w_books.pkl')"
   ]
  },
  {
   "cell_type": "code",
   "execution_count": 30,
   "metadata": {},
   "outputs": [],
   "source": [
    "# read saved dnn-ready data\n",
    "\n",
    "dataset = pd.read_pickle('data/dnn_dataset_w_books.pkl')"
   ]
  },
  {
   "cell_type": "code",
   "execution_count": 15,
   "metadata": {},
   "outputs": [
    {
     "data": {
      "text/html": [
       "<div>\n",
       "<style scoped>\n",
       "    .dataframe tbody tr th:only-of-type {\n",
       "        vertical-align: middle;\n",
       "    }\n",
       "\n",
       "    .dataframe tbody tr th {\n",
       "        vertical-align: top;\n",
       "    }\n",
       "\n",
       "    .dataframe thead th {\n",
       "        text-align: right;\n",
       "    }\n",
       "</style>\n",
       "<table border=\"1\" class=\"dataframe\">\n",
       "  <thead>\n",
       "    <tr style=\"text-align: right;\">\n",
       "      <th></th>\n",
       "      <th>user_id</th>\n",
       "      <th>book_id</th>\n",
       "      <th>rating</th>\n",
       "      <th>timestamp</th>\n",
       "      <th>author_id</th>\n",
       "      <th>prev_good_books</th>\n",
       "      <th>prev_bad_books</th>\n",
       "    </tr>\n",
       "  </thead>\n",
       "  <tbody>\n",
       "    <tr>\n",
       "      <th>1551763</th>\n",
       "      <td>34243</td>\n",
       "      <td>78523</td>\n",
       "      <td>5</td>\n",
       "      <td>2017-11-03 21:12:55</td>\n",
       "      <td>202905</td>\n",
       "      <td>[55927, 47953, 44562, 61742, 68857, 55357, 606...</td>\n",
       "      <td>[]</td>\n",
       "    </tr>\n",
       "    <tr>\n",
       "      <th>1551764</th>\n",
       "      <td>71677</td>\n",
       "      <td>82113</td>\n",
       "      <td>3</td>\n",
       "      <td>2017-11-03 22:17:08</td>\n",
       "      <td>3936</td>\n",
       "      <td>[46538, 83396, 13821]</td>\n",
       "      <td>[22731]</td>\n",
       "    </tr>\n",
       "  </tbody>\n",
       "</table>\n",
       "</div>"
      ],
      "text/plain": [
       "        user_id book_id  rating            timestamp author_id  \\\n",
       "1551763   34243   78523       5  2017-11-03 21:12:55    202905   \n",
       "1551764   71677   82113       3  2017-11-03 22:17:08      3936   \n",
       "\n",
       "                                           prev_good_books prev_bad_books  \n",
       "1551763  [55927, 47953, 44562, 61742, 68857, 55357, 606...             []  \n",
       "1551764                              [46538, 83396, 13821]        [22731]  "
      ]
     },
     "execution_count": 15,
     "metadata": {},
     "output_type": "execute_result"
    }
   ],
   "source": [
    "dataset.tail(2)"
   ]
  },
  {
   "cell_type": "markdown",
   "metadata": {},
   "source": [
    "### build model"
   ]
  },
  {
   "cell_type": "markdown",
   "metadata": {},
   "source": [
    "#### constraint to 2 previously liked and disliked books\n",
    "\n",
    "    * author_id, no regularization\n",
    "    * author_id, regularization\n",
    "    * no author_id, no regularization\n",
    "    * no author_id, regularization"
   ]
  },
  {
   "cell_type": "code",
   "execution_count": 31,
   "metadata": {},
   "outputs": [],
   "source": [
    "#constraint to two previously liked and disliked books to speed up iteration\n",
    "\n",
    "dataset['prev_good_books'] = dataset['prev_good_books'].apply(lambda x: x[:2])\n",
    "dataset['prev_bad_books'] = dataset['prev_bad_books'].apply(lambda x: x[:2])"
   ]
  },
  {
   "cell_type": "markdown",
   "metadata": {},
   "source": [
    "* author_id, no regularization"
   ]
  },
  {
   "cell_type": "code",
   "execution_count": 17,
   "metadata": {},
   "outputs": [
    {
     "name": "stdout",
     "output_type": "stream",
     "text": [
      "embedding_cols start\n",
      "embedding_cols done\n",
      "build_dnn_model#1 create_network\n",
      "build_dnn_model#2 split train_test dataset\n",
      "train_data mean rating: 3.80621\n",
      "make_batch#3\n",
      "make_batch#4\n",
      "make_batch#3\n",
      "make_batch#4\n",
      "build_dnn_model#3\n",
      "build_dnn_model#4 calculate train/test loss\n",
      "_train_init\n",
      "WARNING:tensorflow:`tf.train.start_queue_runners()` was called when no queue runners were defined. You can safely remove the call to this deprecated function.\n",
      "_train_init done\n",
      " iteration 10000: train_loss=2.535836, test_loss=5.912593\n",
      "time spent for the process is 159.62041 seconds\n"
     ]
    },
    {
     "data": {
      "image/png": "[encoded data removed]",
      "text/plain": [
       "<Figure size 1440x576 with 1 Axes>"
      ]
     },
     "metadata": {
      "needs_background": "light"
     },
     "output_type": "display_data"
    }
   ],
   "source": [
    "with tf.Graph().as_default():\n",
    "    print('embedding_cols start')\n",
    "    embedding_cols = make_shared_embedding_col(\n",
    "                ['prev_good_books','prev_bad_books'],\n",
    "                'book_id_embedding',\n",
    "                list(dataset['book_id'].unique()), 5) + [\n",
    "            make_embedding_col('author_id',list(dataset['author_id'].unique()), 5)] #input features should be string to create embedding\n",
    "             #make_embedding_col('publisher',10)\n",
    "        \n",
    "    print('embedding_cols done')\n",
    "    dnn_model_1 = build_dnn_model(dataset,\n",
    "        embedding_cols = embedding_cols, hidden_dims=[5],\n",
    "        learning_rate = 0.1\n",
    "    )\n",
    "    \n",
    "start_time = timeit.default_timer()\n",
    "dnn_model_1.train( num_iterations =10000)\n",
    "print('\\ntime spent for the process is %.5f seconds'% (timeit.default_timer() - start_time))"
   ]
  },
  {
   "cell_type": "code",
   "execution_count": 19,
   "metadata": {},
   "outputs": [
    {
     "data": {
      "text/plain": [
       "{'book_id': array([[-1.199591  , -0.20188786, -6.669064  ,  3.3778687 , -7.614459  ],\n",
       "        [-3.7793665 , -9.343442  ,  2.5409143 , -7.077965  , -0.1314554 ],\n",
       "        [ 9.907756  ,  6.331716  ,  4.065665  ,  2.0648074 ,  5.6550655 ],\n",
       "        ...,\n",
       "        [ 3.231779  , -2.5930002 ,  2.3235962 , -3.615927  , -3.650138  ],\n",
       "        [-5.996556  , -4.0184255 ,  2.1403103 , -7.964383  , -5.136962  ],\n",
       "        [ 4.3937187 , -1.2783953 ,  3.7339864 , -6.5928864 , -3.9058688 ]],\n",
       "       dtype=float32)}"
      ]
     },
     "execution_count": 19,
     "metadata": {},
     "output_type": "execute_result"
    }
   ],
   "source": [
    "dnn_model_1.embeddings"
   ]
  },
  {
   "cell_type": "markdown",
   "metadata": {},
   "source": [
    "* author_id, regularization"
   ]
  },
  {
   "cell_type": "code",
   "execution_count": null,
   "metadata": {},
   "outputs": [],
   "source": [
    "with tf.Graph().as_default():\n",
    "    print('embedding_cols start')\n",
    "    embedding_cols = make_shared_embedding_col(\n",
    "                ['prev_good_books','prev_bad_books'],\n",
    "                'book_id_embedding',\n",
    "                list(dataset['book_id'].unique()), 5) + [\n",
    "            make_embedding_col('author_id',list(dataset['author_id'].unique()), 5)] #input features should be string to create embedding\n",
    "             #make_embedding_col('publisher',10)\n",
    "        \n",
    "    print('embedding_cols done')\n",
    "    dnn_model_5 = build_dnn_model(dataset,\n",
    "        embedding_cols = embedding_cols, hidden_dims=[5],\n",
    "        learning_rate = 0.1, regularization_coeff = 0.1\n",
    "    )\n",
    "    \n",
    "start_time = timeit.default_timer()\n",
    "dnn_model_5.train( num_iterations =10000)\n",
    "print('\\ntime spent for the process is %.5f seconds'% (timeit.default_timer() - start_time))"
   ]
  },
  {
   "cell_type": "markdown",
   "metadata": {},
   "source": [
    "* exclude author_id, with regularization = 0"
   ]
  },
  {
   "cell_type": "code",
   "execution_count": null,
   "metadata": {},
   "outputs": [
    {
     "name": "stdout",
     "output_type": "stream",
     "text": [
      "embedding_cols start\n",
      "embedding_cols done\n",
      "build_dnn_model#1 create_network\n",
      "build_dnn_model#2 split train_test dataset\n",
      "train_data mean rating: 3.80621\n",
      "make_batch#3\n",
      "make_batch#4\n",
      "make_batch#3\n",
      "make_batch#4\n",
      "build_dnn_model#3\n",
      "build_dnn_model#4 calculate train/test loss\n",
      "_train_init\n",
      "WARNING:tensorflow:`tf.train.start_queue_runners()` was called when no queue runners were defined. You can safely remove the call to this deprecated function.\n",
      "_train_init done\n",
      " iteration 1870: train_loss=4.512528, test_loss=12.354737"
     ]
    }
   ],
   "source": [
    "with tf.Graph().as_default():\n",
    "    print('embedding_cols start')\n",
    "    embedding_cols = make_shared_embedding_col(\n",
    "                ['prev_good_books','prev_bad_books'],\n",
    "                'book_id_embedding',\n",
    "                list(dataset['book_id'].unique()), 5) \n",
    "             # + [make_embedding_col('author_id',list(dataset['author_id'].unique()), 5)] #input features should be string to create embedding\n",
    "             #make_embedding_col('publisher',10)\n",
    "        \n",
    "    print('embedding_cols done')\n",
    "    dnn_model_4 = build_dnn_model(dataset,\n",
    "        embedding_cols = embedding_cols, hidden_dims=[5],\n",
    "        learning_rate = 0.1, regularization_coeff = 0\n",
    "    )\n",
    "    \n",
    "start_time = timeit.default_timer()\n",
    "dnn_model_4.train( num_iterations =10000)\n",
    "print('\\ntime spent for the process is %.5f seconds'% (timeit.default_timer() - start_time))"
   ]
  },
  {
   "cell_type": "markdown",
   "metadata": {},
   "source": [
    "* exclude author_id, include regularization = 0.1"
   ]
  },
  {
   "cell_type": "code",
   "execution_count": 34,
   "metadata": {},
   "outputs": [
    {
     "name": "stdout",
     "output_type": "stream",
     "text": [
      "embedding_cols start\n",
      "embedding_cols done\n",
      "build_dnn_model#1 create_network\n",
      "build_dnn_model#2 split train_test dataset\n",
      "train_data mean rating: 3.80621\n",
      "make_batch#3\n",
      "make_batch#4\n",
      "make_batch#3\n",
      "make_batch#4\n",
      "build_dnn_model#3\n",
      "build_dnn_model#4 calculate train/test loss\n",
      "_train_init\n",
      "WARNING:tensorflow:`tf.train.start_queue_runners()` was called when no queue runners were defined. You can safely remove the call to this deprecated function.\n",
      "_train_init done\n",
      " iteration 10000: train_loss=4.885419, test_loss=9.217759\n",
      "time spent for the process is 2177.42523 seconds\n"
     ]
    },
    {
     "data": {
      "image/png": "[encoded data removed]",
      "text/plain": [
       "<Figure size 1440x576 with 1 Axes>"
      ]
     },
     "metadata": {
      "needs_background": "light"
     },
     "output_type": "display_data"
    }
   ],
   "source": [
    "with tf.Graph().as_default():\n",
    "    print('embedding_cols start')\n",
    "    embedding_cols = make_shared_embedding_col(\n",
    "                ['prev_good_books','prev_bad_books'],\n",
    "                'book_id_embedding',\n",
    "                list(dataset['book_id'].unique()), 5) \n",
    "             # + [make_embedding_col('author_id',list(dataset['author_id'].unique()), 5)] #input features should be string to create embedding\n",
    "             #make_embedding_col('publisher',10)\n",
    "        \n",
    "    print('embedding_cols done')\n",
    "    dnn_model_3 = build_dnn_model(dataset,\n",
    "        embedding_cols = embedding_cols, hidden_dims=[5],\n",
    "        learning_rate = 0.1, regularization_coeff = 0.1\n",
    "    )\n",
    "    \n",
    "start_time = timeit.default_timer()\n",
    "dnn_model_3.train( num_iterations =10000)\n",
    "print('\\ntime spent for the process is %.5f seconds'% (timeit.default_timer() - start_time))"
   ]
  },
  {
   "cell_type": "markdown",
   "metadata": {},
   "source": [
    "## get recommendations!"
   ]
  },
  {
   "cell_type": "code",
   "execution_count": 98,
   "metadata": {},
   "outputs": [
    {
     "name": "stdout",
     "output_type": "stream",
     "text": [
      "Nearest neighbors of : 98520    The Da Vinci Code (Robert Langdon, #2)\n",
      "Name: title, dtype: object.\n"
     ]
    },
    {
     "data": {
      "text/html": [
       "<div>\n",
       "<style scoped>\n",
       "    .dataframe tbody tr th:only-of-type {\n",
       "        vertical-align: middle;\n",
       "    }\n",
       "\n",
       "    .dataframe tbody tr th {\n",
       "        vertical-align: top;\n",
       "    }\n",
       "\n",
       "    .dataframe thead th {\n",
       "        text-align: right;\n",
       "    }\n",
       "</style>\n",
       "<table border=\"1\" class=\"dataframe\">\n",
       "  <thead>\n",
       "    <tr style=\"text-align: right;\">\n",
       "      <th></th>\n",
       "      <th>cosine score</th>\n",
       "      <th>book_id</th>\n",
       "      <th>titles</th>\n",
       "      <th>average_rating</th>\n",
       "      <th>ratings_count</th>\n",
       "      <th>link</th>\n",
       "    </tr>\n",
       "  </thead>\n",
       "  <tbody>\n",
       "    <tr>\n",
       "      <th>98520</th>\n",
       "      <td>0.9999998807907104</td>\n",
       "      <td>104081</td>\n",
       "      <td>The Da Vinci Code (Robert Langdon, #2)</td>\n",
       "      <td>3.79</td>\n",
       "      <td>1465770</td>\n",
       "      <td>https://www.goodreads.com/book/show/968.The_Da_Vinci_Code</td>\n",
       "    </tr>\n",
       "    <tr>\n",
       "      <th>4769</th>\n",
       "      <td>0.9992167949676514</td>\n",
       "      <td>66347</td>\n",
       "      <td>The Black Tower</td>\n",
       "      <td>3.74</td>\n",
       "      <td>3059</td>\n",
       "      <td>https://www.goodreads.com/book/show/2942664-the-black-tower</td>\n",
       "    </tr>\n",
       "    <tr>\n",
       "      <th>56187</th>\n",
       "      <td>0.9974238872528076</td>\n",
       "      <td>62365</td>\n",
       "      <td>Dark Matter</td>\n",
       "      <td>4.1</td>\n",
       "      <td>75794</td>\n",
       "      <td>https://www.goodreads.com/book/show/27833670-dark-matter</td>\n",
       "    </tr>\n",
       "    <tr>\n",
       "      <th>34209</th>\n",
       "      <td>0.9967134594917297</td>\n",
       "      <td>88411</td>\n",
       "      <td>Mortal Causes (Inspector Rebus, #6)</td>\n",
       "      <td>3.96</td>\n",
       "      <td>159</td>\n",
       "      <td>https://www.goodreads.com/book/show/634415.Mortal_Causes</td>\n",
       "    </tr>\n",
       "    <tr>\n",
       "      <th>16017</th>\n",
       "      <td>0.9966136813163757</td>\n",
       "      <td>96460</td>\n",
       "      <td>The Confession</td>\n",
       "      <td>3.81</td>\n",
       "      <td>42031</td>\n",
       "      <td>https://www.goodreads.com/book/show/7933437-the-confession</td>\n",
       "    </tr>\n",
       "    <tr>\n",
       "      <th>26165</th>\n",
       "      <td>0.9961009621620178</td>\n",
       "      <td>19343</td>\n",
       "      <td>Transfer of Power (Mitch Rapp, #3)</td>\n",
       "      <td>4.31</td>\n",
       "      <td>31</td>\n",
       "      <td>https://www.goodreads.com/book/show/15800107-transfer-of-power</td>\n",
       "    </tr>\n",
       "    <tr>\n",
       "      <th>78927</th>\n",
       "      <td>0.9957641959190369</td>\n",
       "      <td>55874</td>\n",
       "      <td>15th Affair (Women's Murder Club #15)</td>\n",
       "      <td>4.04</td>\n",
       "      <td>11813</td>\n",
       "      <td>https://www.goodreads.com/book/show/25613617-15th-affair</td>\n",
       "    </tr>\n",
       "    <tr>\n",
       "      <th>100903</th>\n",
       "      <td>0.9949195384979248</td>\n",
       "      <td>39500</td>\n",
       "      <td>Cold Cold Heart</td>\n",
       "      <td>3.85</td>\n",
       "      <td>46</td>\n",
       "      <td>https://www.goodreads.com/book/show/20792121-cold-cold-heart</td>\n",
       "    </tr>\n",
       "    <tr>\n",
       "      <th>94122</th>\n",
       "      <td>0.9948283433914185</td>\n",
       "      <td>23832</td>\n",
       "      <td>Consider Yourself Dead</td>\n",
       "      <td>3.67</td>\n",
       "      <td>116</td>\n",
       "      <td>https://www.goodreads.com/book/show/1672164.Consider_Yourself_Dead</td>\n",
       "    </tr>\n",
       "    <tr>\n",
       "      <th>30708</th>\n",
       "      <td>0.9945151805877686</td>\n",
       "      <td>61317</td>\n",
       "      <td>Shaken (Struck, #3)</td>\n",
       "      <td>4.14</td>\n",
       "      <td>248</td>\n",
       "      <td>https://www.goodreads.com/book/show/27254713-shaken</td>\n",
       "    </tr>\n",
       "  </tbody>\n",
       "</table>\n",
       "</div>"
      ],
      "text/plain": [
       "             cosine score  book_id                                  titles  \\\n",
       "98520  0.9999998807907104   104081  The Da Vinci Code (Robert Langdon, #2)   \n",
       "4769   0.9992167949676514    66347                         The Black Tower   \n",
       "56187  0.9974238872528076    62365                             Dark Matter   \n",
       "34209  0.9967134594917297    88411     Mortal Causes (Inspector Rebus, #6)   \n",
       "16017  0.9966136813163757    96460                          The Confession   \n",
       "26165  0.9961009621620178    19343      Transfer of Power (Mitch Rapp, #3)   \n",
       "78927  0.9957641959190369    55874   15th Affair (Women's Murder Club #15)   \n",
       "100903 0.9949195384979248    39500                         Cold Cold Heart   \n",
       "94122  0.9948283433914185    23832                  Consider Yourself Dead   \n",
       "30708  0.9945151805877686    61317                     Shaken (Struck, #3)   \n",
       "\n",
       "        average_rating  ratings_count  \\\n",
       "98520             3.79        1465770   \n",
       "4769              3.74           3059   \n",
       "56187              4.1          75794   \n",
       "34209             3.96            159   \n",
       "16017             3.81          42031   \n",
       "26165             4.31             31   \n",
       "78927             4.04          11813   \n",
       "100903            3.85             46   \n",
       "94122             3.67            116   \n",
       "30708             4.14            248   \n",
       "\n",
       "                                                                      link  \n",
       "98520            https://www.goodreads.com/book/show/968.The_Da_Vinci_Code  \n",
       "4769           https://www.goodreads.com/book/show/2942664-the-black-tower  \n",
       "56187             https://www.goodreads.com/book/show/27833670-dark-matter  \n",
       "34209             https://www.goodreads.com/book/show/634415.Mortal_Causes  \n",
       "16017           https://www.goodreads.com/book/show/7933437-the-confession  \n",
       "26165       https://www.goodreads.com/book/show/15800107-transfer-of-power  \n",
       "78927             https://www.goodreads.com/book/show/25613617-15th-affair  \n",
       "100903        https://www.goodreads.com/book/show/20792121-cold-cold-heart  \n",
       "94122   https://www.goodreads.com/book/show/1672164.Consider_Yourself_Dead  \n",
       "30708                  https://www.goodreads.com/book/show/27254713-shaken  "
      ]
     },
     "metadata": {},
     "output_type": "display_data"
    }
   ],
   "source": [
    "# get k recommendations by giving a title_substring of your favorate mystery/crime book\n",
    "\n",
    "title_substring = 'Da Vinci Code'\n",
    "k = 10\n",
    "neighbors_df_1 = book_neighbors(books, dnn_model_1, title_substring, measure='cosine', k=k)"
   ]
  },
  {
   "cell_type": "code",
   "execution_count": 64,
   "metadata": {},
   "outputs": [
    {
     "data": {
      "text/plain": [
       "cosine score                                             0.9999998807907104\n",
       "book_id                                                              104081\n",
       "titles                               The Da Vinci Code (Robert Langdon, #2)\n",
       "average_rating                                                         3.79\n",
       "ratings_count                                                       1465770\n",
       "link              https://www.goodreads.com/book/show/968.The_Da_Vinci_Code\n",
       "Name: 98520, dtype: object"
      ]
     },
     "execution_count": 64,
     "metadata": {},
     "output_type": "execute_result"
    }
   ],
   "source": [
    "# get the hyper link to the n-th nearest neighbor\n",
    "\n",
    "n=0\n",
    "\n",
    "neighbors_df_1.sort_values(['cosine score'], ascending=False).iloc[n]"
   ]
  },
  {
   "cell_type": "markdown",
   "metadata": {},
   "source": [
    "#### constraint to 5 previously liked and disliked books"
   ]
  },
  {
   "cell_type": "code",
   "execution_count": 20,
   "metadata": {},
   "outputs": [],
   "source": [
    "# read saved dnn-ready data\n",
    "\n",
    "dataset = pd.read_pickle('data/dnn_dataset_w_books.pkl')"
   ]
  },
  {
   "cell_type": "code",
   "execution_count": 21,
   "metadata": {},
   "outputs": [],
   "source": [
    "# constraint to 5 previously liked and disliked books\n",
    "\n",
    "dataset['prev_good_books'] = dataset['prev_good_books'].apply(lambda x: x[:5])\n",
    "dataset['prev_bad_books'] = dataset['prev_bad_books'].apply(lambda x: x[:5])"
   ]
  },
  {
   "cell_type": "code",
   "execution_count": 22,
   "metadata": {},
   "outputs": [
    {
     "name": "stdout",
     "output_type": "stream",
     "text": [
      "embedding_cols start\n",
      "embedding_cols done\n",
      "build_dnn_model#1 create_network\n",
      "build_dnn_model#2 split train_test dataset\n",
      "train_data mean rating: 3.80621\n",
      "make_batch#3\n",
      "make_batch#4\n",
      "make_batch#3\n",
      "make_batch#4\n",
      "build_dnn_model#3\n",
      "build_dnn_model#4 calculate train/test loss\n",
      "_train_init\n",
      "WARNING:tensorflow:`tf.train.start_queue_runners()` was called when no queue runners were defined. You can safely remove the call to this deprecated function.\n",
      "_train_init done\n",
      "\n",
      "time spent for the process is 323.47810 seconds\n"
     ]
    }
   ],
   "source": [
    "start_time = timeit.default_timer()\n",
    "with tf.Graph().as_default():\n",
    "    print('embedding_cols start')\n",
    "    embedding_cols = make_shared_embedding_col(\n",
    "                ['prev_good_books','prev_bad_books'],\n",
    "                'book_id_embedding',\n",
    "                list(dataset['book_id'].unique()), 5) + [\n",
    "            make_embedding_col('author_id',list(dataset['author_id'].unique()), 5)] #input features should be string to create embedding\n",
    "             #make_embedding_col('publisher',10)\n",
    "        \n",
    "    print('embedding_cols done')\n",
    "    dnn_model_2 = build_dnn_model(dataset,\n",
    "        embedding_cols = embedding_cols, hidden_dims=[5],\n",
    "        learning_rate = 0.1\n",
    "    )\n",
    "    \n",
    "print('\\ntime spent for the process is %.5f seconds'% (timeit.default_timer() - start_time))"
   ]
  },
  {
   "cell_type": "code",
   "execution_count": 23,
   "metadata": {},
   "outputs": [
    {
     "name": "stdout",
     "output_type": "stream",
     "text": [
      " iteration 10000: train_loss=2.515635, test_loss=6.094658\n",
      "time spent for the process is 573.14055 seconds\n"
     ]
    },
    {
     "data": {
      "image/png": "[encoded data removed]",
      "text/plain": [
       "<Figure size 1440x576 with 1 Axes>"
      ]
     },
     "metadata": {
      "needs_background": "light"
     },
     "output_type": "display_data"
    }
   ],
   "source": [
    "start_time = timeit.default_timer()\n",
    "dnn_model_2.train( num_iterations =10000)\n",
    "print('\\ntime spent for the process is %.5f seconds'% (timeit.default_timer() - start_time))"
   ]
  },
  {
   "cell_type": "code",
   "execution_count": 29,
   "metadata": {},
   "outputs": [
    {
     "name": "stdout",
     "output_type": "stream",
     "text": [
      "Nearest neighbors of : The Da Vinci Code (Robert Langdon, #2).\n"
     ]
    },
    {
     "data": {
      "text/html": [
       "<div>\n",
       "<style scoped>\n",
       "    .dataframe tbody tr th:only-of-type {\n",
       "        vertical-align: middle;\n",
       "    }\n",
       "\n",
       "    .dataframe tbody tr th {\n",
       "        vertical-align: top;\n",
       "    }\n",
       "\n",
       "    .dataframe thead th {\n",
       "        text-align: right;\n",
       "    }\n",
       "</style>\n",
       "<table border=\"1\" class=\"dataframe\">\n",
       "  <thead>\n",
       "    <tr style=\"text-align: right;\">\n",
       "      <th></th>\n",
       "      <th>cosine score</th>\n",
       "      <th>book_id</th>\n",
       "      <th>titles</th>\n",
       "      <th>is_ebook</th>\n",
       "      <th>average_rating</th>\n",
       "      <th>ratings_count</th>\n",
       "    </tr>\n",
       "  </thead>\n",
       "  <tbody>\n",
       "    <tr>\n",
       "      <th>98520</th>\n",
       "      <td>1.0</td>\n",
       "      <td>104081</td>\n",
       "      <td>The Da Vinci Code (Robert Langdon, #2)</td>\n",
       "      <td>0</td>\n",
       "      <td>3.79</td>\n",
       "      <td>1465770</td>\n",
       "    </tr>\n",
       "    <tr>\n",
       "      <th>94416</th>\n",
       "      <td>0.9973840713500977</td>\n",
       "      <td>91271</td>\n",
       "      <td>Fear the Worst</td>\n",
       "      <td>0</td>\n",
       "      <td>3.87</td>\n",
       "      <td>67</td>\n",
       "    </tr>\n",
       "    <tr>\n",
       "      <th>17253</th>\n",
       "      <td>0.9968851804733276</td>\n",
       "      <td>9488</td>\n",
       "      <td>All Necessary Force (Pike Logan, #2)</td>\n",
       "      <td>1</td>\n",
       "      <td>4.16</td>\n",
       "      <td>958</td>\n",
       "    </tr>\n",
       "    <tr>\n",
       "      <th>36713</th>\n",
       "      <td>0.9967859983444214</td>\n",
       "      <td>31087</td>\n",
       "      <td>Dark Paradise</td>\n",
       "      <td>0</td>\n",
       "      <td>3.06</td>\n",
       "      <td>41</td>\n",
       "    </tr>\n",
       "    <tr>\n",
       "      <th>65983</th>\n",
       "      <td>0.9964902997016907</td>\n",
       "      <td>30994</td>\n",
       "      <td>The Asylum</td>\n",
       "      <td>1</td>\n",
       "      <td>3.4</td>\n",
       "      <td>186</td>\n",
       "    </tr>\n",
       "    <tr>\n",
       "      <th>5370</th>\n",
       "      <td>0.9960483312606812</td>\n",
       "      <td>27912</td>\n",
       "      <td>Fall Guy (Rachel Alexander &amp; Dash, #7)</td>\n",
       "      <td>0</td>\n",
       "      <td>3.99</td>\n",
       "      <td>16</td>\n",
       "    </tr>\n",
       "    <tr>\n",
       "      <th>104980</th>\n",
       "      <td>0.9948335886001587</td>\n",
       "      <td>97249</td>\n",
       "      <td>Pretty Little Liars (Pretty Little Liars, #1)</td>\n",
       "      <td>1</td>\n",
       "      <td>3.9</td>\n",
       "      <td>2533</td>\n",
       "    </tr>\n",
       "    <tr>\n",
       "      <th>33475</th>\n",
       "      <td>0.9948229193687439</td>\n",
       "      <td>16764</td>\n",
       "      <td>The Brotherhood of the Holy Shroud</td>\n",
       "      <td>0</td>\n",
       "      <td>3.48</td>\n",
       "      <td>2805</td>\n",
       "    </tr>\n",
       "    <tr>\n",
       "      <th>64570</th>\n",
       "      <td>0.9943198561668396</td>\n",
       "      <td>83373</td>\n",
       "      <td>Void Moon (Harry Bosch Universe, #12)</td>\n",
       "      <td>0</td>\n",
       "      <td>3.95</td>\n",
       "      <td>314</td>\n",
       "    </tr>\n",
       "    <tr>\n",
       "      <th>78489</th>\n",
       "      <td>0.9938554763793945</td>\n",
       "      <td>96483</td>\n",
       "      <td>The Reversal (Harry Bosch, #16; Mickey Haller,...</td>\n",
       "      <td>0</td>\n",
       "      <td>4.13</td>\n",
       "      <td>35649</td>\n",
       "    </tr>\n",
       "  </tbody>\n",
       "</table>\n",
       "</div>"
      ],
      "text/plain": [
       "             cosine score  book_id  \\\n",
       "98520                 1.0   104081   \n",
       "94416  0.9973840713500977    91271   \n",
       "17253  0.9968851804733276     9488   \n",
       "36713  0.9967859983444214    31087   \n",
       "65983  0.9964902997016907    30994   \n",
       "5370   0.9960483312606812    27912   \n",
       "104980 0.9948335886001587    97249   \n",
       "33475  0.9948229193687439    16764   \n",
       "64570  0.9943198561668396    83373   \n",
       "78489  0.9938554763793945    96483   \n",
       "\n",
       "                                                   titles  is_ebook  \\\n",
       "98520              The Da Vinci Code (Robert Langdon, #2)         0   \n",
       "94416                                      Fear the Worst         0   \n",
       "17253                All Necessary Force (Pike Logan, #2)         1   \n",
       "36713                                       Dark Paradise         0   \n",
       "65983                                          The Asylum         1   \n",
       "5370               Fall Guy (Rachel Alexander & Dash, #7)         0   \n",
       "104980      Pretty Little Liars (Pretty Little Liars, #1)         1   \n",
       "33475                  The Brotherhood of the Holy Shroud         0   \n",
       "64570               Void Moon (Harry Bosch Universe, #12)         0   \n",
       "78489   The Reversal (Harry Bosch, #16; Mickey Haller,...         0   \n",
       "\n",
       "        average_rating  ratings_count  \n",
       "98520             3.79        1465770  \n",
       "94416             3.87             67  \n",
       "17253             4.16            958  \n",
       "36713             3.06             41  \n",
       "65983              3.4            186  \n",
       "5370              3.99             16  \n",
       "104980             3.9           2533  \n",
       "33475             3.48           2805  \n",
       "64570             3.95            314  \n",
       "78489             4.13          35649  "
      ]
     },
     "execution_count": 29,
     "metadata": {},
     "output_type": "execute_result"
    }
   ],
   "source": [
    "book_id = 104081\n",
    "neighbors_df_2 = book_neighbors(books, dnn_model_2, book_id, measure='cosine', k=10)\n",
    "neighbors_df_2.sort_values(['cosine score'], ascending=False)[:10]"
   ]
  }
 ],
 "metadata": {
  "kernelspec": {
   "display_name": "Python 3",
   "language": "python",
   "name": "python3"
  },
  "language_info": {
   "codemirror_mode": {
    "name": "ipython",
    "version": 3
   },
   "file_extension": ".py",
   "mimetype": "text/x-python",
   "name": "python",
   "nbconvert_exporter": "python",
   "pygments_lexer": "ipython3",
   "version": "3.7.3"
  }
 },
 "nbformat": 4,
 "nbformat_minor": 2
}
