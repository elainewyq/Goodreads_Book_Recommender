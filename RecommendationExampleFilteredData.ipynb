{
 "cells": [
  {
   "cell_type": "code",
   "execution_count": 13,
   "metadata": {},
   "outputs": [],
   "source": [
    "import gzip\n",
    "import json\n",
    "import re\n",
    "import os\n",
    "import sys\n",
    "import numpy as np\n",
    "import pandas as pd\n",
    "import matplotlib.pyplot as plt\n",
    "%matplotlib inline\n",
    "from IPython import display\n",
    "\n",
    "import pickle\n",
    "import tensorflow as tf\n",
    "import altair as alt\n",
    "import collections\n",
    "from sklearn.model_selection import train_test_split\n",
    "\n",
    "\n",
    "from src.clean_data import clean_books, clean_reviews, scale_data, review_map_id\n",
    "from src.load_data import read_reviews, read_books\n",
    "from src.item_recommender import ItemRecommender\n",
    "from src.CFModel import CFModel, build_model, compute_scores, book_neighbors, user_recommendations"
   ]
  },
  {
   "cell_type": "code",
   "execution_count": 5,
   "metadata": {},
   "outputs": [],
   "source": [
    "books = pd.read_csv('data/cleaned_wo_one_rating_books_mystery.csv')"
   ]
  },
  {
   "cell_type": "code",
   "execution_count": 6,
   "metadata": {},
   "outputs": [],
   "source": [
    "books.set_index('book_id', drop=True, inplace=True)"
   ]
  },
  {
   "cell_type": "code",
   "execution_count": 35,
   "metadata": {},
   "outputs": [
    {
     "data": {
      "text/html": [
       "<div>\n",
       "<style scoped>\n",
       "    .dataframe tbody tr th:only-of-type {\n",
       "        vertical-align: middle;\n",
       "    }\n",
       "\n",
       "    .dataframe tbody tr th {\n",
       "        vertical-align: top;\n",
       "    }\n",
       "\n",
       "    .dataframe thead th {\n",
       "        text-align: right;\n",
       "    }\n",
       "</style>\n",
       "<table border=\"1\" class=\"dataframe\">\n",
       "  <thead>\n",
       "    <tr style=\"text-align: right;\">\n",
       "      <th></th>\n",
       "      <th>title</th>\n",
       "      <th>num_pages</th>\n",
       "      <th>is_ebook</th>\n",
       "      <th>link</th>\n",
       "      <th>average_rating</th>\n",
       "      <th>ratings_count</th>\n",
       "      <th>text_reviews_count</th>\n",
       "      <th>author_id</th>\n",
       "      <th>publisher</th>\n",
       "      <th>similar_books</th>\n",
       "    </tr>\n",
       "    <tr>\n",
       "      <th>book_id</th>\n",
       "      <th></th>\n",
       "      <th></th>\n",
       "      <th></th>\n",
       "      <th></th>\n",
       "      <th></th>\n",
       "      <th></th>\n",
       "      <th></th>\n",
       "      <th></th>\n",
       "      <th></th>\n",
       "      <th></th>\n",
       "    </tr>\n",
       "  </thead>\n",
       "  <tbody>\n",
       "    <tr>\n",
       "      <th>10000063</th>\n",
       "      <td>The Two Deaths of Daniel Hayes</td>\n",
       "      <td>390</td>\n",
       "      <td>0</td>\n",
       "      <td>https://www.goodreads.com/book/show/10000063-the-two-deaths-of-daniel-hayes</td>\n",
       "      <td>3.49</td>\n",
       "      <td>1698</td>\n",
       "      <td>297</td>\n",
       "      <td>38652</td>\n",
       "      <td>NaN</td>\n",
       "      <td>['30195', '525677', '23154766', '9583669', '9843996', '349508', '17414656', '2187560', '6591518', '9526552', '17262454', '9999576', '6646102', '7950149', '11276223', '10038051', '9967897', '16066925']</td>\n",
       "    </tr>\n",
       "  </tbody>\n",
       "</table>\n",
       "</div>"
      ],
      "text/plain": [
       "                                   title  num_pages  is_ebook  \\\n",
       "book_id                                                         \n",
       "10000063  The Two Deaths of Daniel Hayes  390        0          \n",
       "\n",
       "                                                                                 link  \\\n",
       "book_id                                                                                 \n",
       "10000063  https://www.goodreads.com/book/show/10000063-the-two-deaths-of-daniel-hayes   \n",
       "\n",
       "          average_rating  ratings_count  text_reviews_count  author_id  \\\n",
       "book_id                                                                  \n",
       "10000063 3.49             1698           297                 38652       \n",
       "\n",
       "         publisher  \\\n",
       "book_id              \n",
       "10000063  NaN        \n",
       "\n",
       "                                                                                                                                                                                                     similar_books  \n",
       "book_id                                                                                                                                                                                                             \n",
       "10000063  ['30195', '525677', '23154766', '9583669', '9843996', '349508', '17414656', '2187560', '6591518', '9526552', '17262454', '9999576', '6646102', '7950149', '11276223', '10038051', '9967897', '16066925']  "
      ]
     },
     "execution_count": 35,
     "metadata": {},
     "output_type": "execute_result"
    }
   ],
   "source": [
    "books.head(1)"
   ]
  },
  {
   "cell_type": "code",
   "execution_count": 37,
   "metadata": {},
   "outputs": [
    {
     "data": {
      "text/plain": [
       "0.3314668058653253"
      ]
     },
     "execution_count": 37,
     "metadata": {},
     "output_type": "execute_result"
    }
   ],
   "source": [
    "books.is_ebook.sum()/len(books)"
   ]
  },
  {
   "cell_type": "code",
   "execution_count": 7,
   "metadata": {},
   "outputs": [],
   "source": [
    "reviews = pd.read_csv('data/cleaned_wo_one_rating_reviews_mystery.csv')"
   ]
  },
  {
   "cell_type": "code",
   "execution_count": 8,
   "metadata": {},
   "outputs": [
    {
     "data": {
      "text/html": [
       "<div>\n",
       "<style scoped>\n",
       "    .dataframe tbody tr th:only-of-type {\n",
       "        vertical-align: middle;\n",
       "    }\n",
       "\n",
       "    .dataframe tbody tr th {\n",
       "        vertical-align: top;\n",
       "    }\n",
       "\n",
       "    .dataframe thead th {\n",
       "        text-align: right;\n",
       "    }\n",
       "</style>\n",
       "<table border=\"1\" class=\"dataframe\">\n",
       "  <thead>\n",
       "    <tr style=\"text-align: right;\">\n",
       "      <th></th>\n",
       "      <th>review_id</th>\n",
       "      <th>user_id</th>\n",
       "      <th>book_id</th>\n",
       "      <th>rating</th>\n",
       "      <th>timestamp</th>\n",
       "      <th>n_votes</th>\n",
       "      <th>n_comments</th>\n",
       "      <th>old_user_id</th>\n",
       "      <th>old_book_id</th>\n",
       "    </tr>\n",
       "  </thead>\n",
       "  <tbody>\n",
       "    <tr>\n",
       "      <th>0</th>\n",
       "      <td>d23dc89ab32cd864e54d18369751163b</td>\n",
       "      <td>102489</td>\n",
       "      <td>37120</td>\n",
       "      <td>3</td>\n",
       "      <td>2001-01-01 00:00:00</td>\n",
       "      <td>0</td>\n",
       "      <td>0</td>\n",
       "      <td>d889b42d9eb7b80e02f24830e27c6389</td>\n",
       "      <td>196084</td>\n",
       "    </tr>\n",
       "    <tr>\n",
       "      <th>1</th>\n",
       "      <td>c7613da4cbd48baa83efec99b4dd6a41</td>\n",
       "      <td>102489</td>\n",
       "      <td>96299</td>\n",
       "      <td>3</td>\n",
       "      <td>2001-01-11 00:00:00</td>\n",
       "      <td>0</td>\n",
       "      <td>0</td>\n",
       "      <td>d889b42d9eb7b80e02f24830e27c6389</td>\n",
       "      <td>79030</td>\n",
       "    </tr>\n",
       "    <tr>\n",
       "      <th>2</th>\n",
       "      <td>469b9d160ad68ce84b6cac4585fb226a</td>\n",
       "      <td>102489</td>\n",
       "      <td>82887</td>\n",
       "      <td>4</td>\n",
       "      <td>2001-01-25 00:00:00</td>\n",
       "      <td>0</td>\n",
       "      <td>0</td>\n",
       "      <td>d889b42d9eb7b80e02f24830e27c6389</td>\n",
       "      <td>442783</td>\n",
       "    </tr>\n",
       "    <tr>\n",
       "      <th>3</th>\n",
       "      <td>9f4fd2c20177f66fe5832ec299fb4bbf</td>\n",
       "      <td>102489</td>\n",
       "      <td>85615</td>\n",
       "      <td>2</td>\n",
       "      <td>2001-01-29 00:00:00</td>\n",
       "      <td>0</td>\n",
       "      <td>0</td>\n",
       "      <td>d889b42d9eb7b80e02f24830e27c6389</td>\n",
       "      <td>552719</td>\n",
       "    </tr>\n",
       "    <tr>\n",
       "      <th>4</th>\n",
       "      <td>0c7a29c98c4f11b409235d9c22a2455b</td>\n",
       "      <td>102489</td>\n",
       "      <td>50050</td>\n",
       "      <td>4</td>\n",
       "      <td>2001-02-02 00:00:00</td>\n",
       "      <td>1</td>\n",
       "      <td>0</td>\n",
       "      <td>d889b42d9eb7b80e02f24830e27c6389</td>\n",
       "      <td>238117</td>\n",
       "    </tr>\n",
       "  </tbody>\n",
       "</table>\n",
       "</div>"
      ],
      "text/plain": [
       "                          review_id  user_id  book_id  rating  \\\n",
       "0  d23dc89ab32cd864e54d18369751163b  102489   37120    3        \n",
       "1  c7613da4cbd48baa83efec99b4dd6a41  102489   96299    3        \n",
       "2  469b9d160ad68ce84b6cac4585fb226a  102489   82887    4        \n",
       "3  9f4fd2c20177f66fe5832ec299fb4bbf  102489   85615    2        \n",
       "4  0c7a29c98c4f11b409235d9c22a2455b  102489   50050    4        \n",
       "\n",
       "             timestamp  n_votes  n_comments                       old_user_id  \\\n",
       "0  2001-01-01 00:00:00  0        0           d889b42d9eb7b80e02f24830e27c6389   \n",
       "1  2001-01-11 00:00:00  0        0           d889b42d9eb7b80e02f24830e27c6389   \n",
       "2  2001-01-25 00:00:00  0        0           d889b42d9eb7b80e02f24830e27c6389   \n",
       "3  2001-01-29 00:00:00  0        0           d889b42d9eb7b80e02f24830e27c6389   \n",
       "4  2001-02-02 00:00:00  1        0           d889b42d9eb7b80e02f24830e27c6389   \n",
       "\n",
       "   old_book_id  \n",
       "0  196084       \n",
       "1  79030        \n",
       "2  442783       \n",
       "3  552719       \n",
       "4  238117       "
      ]
     },
     "execution_count": 8,
     "metadata": {},
     "output_type": "execute_result"
    }
   ],
   "source": [
    "reviews.head()"
   ]
  },
  {
   "cell_type": "markdown",
   "metadata": {},
   "source": [
    "### CF baseline with normal gradient descent"
   ]
  },
  {
   "cell_type": "code",
   "execution_count": 9,
   "metadata": {},
   "outputs": [],
   "source": [
    "# model_base = build_model(reviews, embedding_dim=30, init_stddev=0.05, \n",
    "#                     regularization_coeff=0.0,\n",
    "#                     gravity_coeff=0.0, optimizer = tf.train.GradientDescentOptimizer)"
   ]
  },
  {
   "cell_type": "code",
   "execution_count": 11,
   "metadata": {},
   "outputs": [],
   "source": [
    "# model_base.train(num_iterations=50)"
   ]
  },
  {
   "cell_type": "markdown",
   "metadata": {},
   "source": [
    "### CF model with adam optimizer"
   ]
  },
  {
   "cell_type": "code",
   "execution_count": 14,
   "metadata": {},
   "outputs": [
    {
     "name": "stdout",
     "output_type": "stream",
     "text": [
      "WARNING:tensorflow:`tf.train.start_queue_runners()` was called when no queue runners were defined. You can safely remove the call to this deprecated function.\n"
     ]
    }
   ],
   "source": [
    "# matrix factorization without regularization with adam optimizer\n",
    "# adam optimizer -> adaptive moment estimation with changing learning rate \n",
    "# https://machinelearningmastery.com/adam-optimization-algorithm-for-deep-learning/\n",
    "\n",
    "model_adam = build_model(reviews, embedding_dim=30, init_stddev=0.05, \n",
    "                    regularization_coeff=0.0,\n",
    "                    gravity_coeff=0.0)"
   ]
  },
  {
   "cell_type": "code",
   "execution_count": 15,
   "metadata": {},
   "outputs": [
    {
     "name": "stdout",
     "output_type": "stream",
     "text": [
      " iteration 50: train_error=0.237671, regularization_error=0.000000, gravity_loss=0.000000, test_error=37.896072"
     ]
    },
    {
     "data": {
      "text/plain": [
       "[{'train_error': 0.23767081,\n",
       "  'regularization_error': 0.0,\n",
       "  'gravity_loss': 0.0,\n",
       "  'test_error': 37.896072}]"
      ]
     },
     "execution_count": 15,
     "metadata": {},
     "output_type": "execute_result"
    },
    {
     "data": {
      "image/png": "[encoded data removed]",
      "text/plain": [
       "<Figure size 1440x576 with 1 Axes>"
      ]
     },
     "metadata": {
      "needs_background": "light"
     },
     "output_type": "display_data"
    }
   ],
   "source": [
    "model_adam.train(num_iterations=50)"
   ]
  },
  {
   "cell_type": "code",
   "execution_count": 16,
   "metadata": {},
   "outputs": [
    {
     "name": "stdout",
     "output_type": "stream",
     "text": [
      " iteration 1000: train_error=0.061354, regularization_error=0.000000, gravity_loss=0.000000, test_error=272.3146972"
     ]
    },
    {
     "data": {
      "text/plain": [
       "[{'train_error': 0.061354138,\n",
       "  'regularization_error': 0.0,\n",
       "  'gravity_loss': 0.0,\n",
       "  'test_error': 272.3147}]"
      ]
     },
     "execution_count": 16,
     "metadata": {},
     "output_type": "execute_result"
    },
    {
     "data": {
      "image/png": "[encoded data removed]",
      "text/plain": [
       "<Figure size 1440x576 with 1 Axes>"
      ]
     },
     "metadata": {
      "needs_background": "light"
     },
     "output_type": "display_data"
    }
   ],
   "source": [
    "model_adam.train(num_iterations=1000)"
   ]
  },
  {
   "cell_type": "code",
   "execution_count": 18,
   "metadata": {},
   "outputs": [],
   "source": [
    "# save model to disk\n",
    "filename = 'model_adam.sav'\n",
    "pickle.dump(model_adam, open(filename, 'wb'))"
   ]
  },
  {
   "cell_type": "code",
   "execution_count": null,
   "metadata": {},
   "outputs": [],
   "source": [
    "# load the model from disk\n",
    "loaded_model = pickle.load(open(filename, 'rb'))\n",
    "# result = loaded_model.score(X_test, Y_test)\n",
    "# print(result)"
   ]
  },
  {
   "cell_type": "markdown",
   "metadata": {},
   "source": [
    "### CF model with regularization, gravity and adam optimizer"
   ]
  },
  {
   "cell_type": "code",
   "execution_count": 22,
   "metadata": {},
   "outputs": [
    {
     "name": "stdout",
     "output_type": "stream",
     "text": [
      "WARNING:tensorflow:`tf.train.start_queue_runners()` was called when no queue runners were defined. You can safely remove the call to this deprecated function.\n"
     ]
    }
   ],
   "source": [
    "# A CFModel object that uses a regularized loss, gravity loss with adam optimizer\n",
    "model = build_model(reviews, embedding_dim=30, init_stddev=0.05, \n",
    "                    regularization_coeff=0.1,\n",
    "                    gravity_coeff=1.0)"
   ]
  },
  {
   "cell_type": "code",
   "execution_count": 23,
   "metadata": {},
   "outputs": [
    {
     "name": "stdout",
     "output_type": "stream",
     "text": [
      " iteration 50: train_error=0.256318, regularization_error=0.681615, gravity_loss=0.437977, test_error=9.0513131"
     ]
    },
    {
     "data": {
      "text/plain": [
       "[{'train_error': 0.25631842,\n",
       "  'regularization_error': 0.6816148,\n",
       "  'gravity_loss': 0.4379768,\n",
       "  'test_error': 9.051313}]"
      ]
     },
     "execution_count": 23,
     "metadata": {},
     "output_type": "execute_result"
    },
    {
     "data": {
      "image/png": "[encoded data removed]",
      "text/plain": [
       "<Figure size 1440x576 with 1 Axes>"
      ]
     },
     "metadata": {
      "needs_background": "light"
     },
     "output_type": "display_data"
    }
   ],
   "source": [
    "model.train(num_iterations=50)"
   ]
  },
  {
   "cell_type": "code",
   "execution_count": 16,
   "metadata": {},
   "outputs": [
    {
     "name": "stdout",
     "output_type": "stream",
     "text": [
      " iteration 1000: train_error=0.191909, regularization_error=0.631692, gravity_loss=0.359475, test_error=9.45186761"
     ]
    },
    {
     "data": {
      "text/plain": [
       "[{'train_error': 0.191909,\n",
       "  'regularization_error': 0.63169193,\n",
       "  'gravity_loss': 0.35947484,\n",
       "  'test_error': 9.451867}]"
      ]
     },
     "execution_count": 16,
     "metadata": {},
     "output_type": "execute_result"
    },
    {
     "data": {
      "image/png": "[encoded data removed]",
      "text/plain": [
       "<Figure size 1440x576 with 1 Axes>"
      ]
     },
     "metadata": {
      "needs_background": "light"
     },
     "output_type": "display_data"
    }
   ],
   "source": [
    "model.train(num_iterations=1000)"
   ]
  },
  {
   "cell_type": "markdown",
   "metadata": {},
   "source": [
    "### get recommendations for a given user"
   ]
  },
  {
   "cell_type": "code",
   "execution_count": 75,
   "metadata": {},
   "outputs": [
    {
     "name": "stdout",
     "output_type": "stream",
     "text": [
      "The highest recommendations for user fca26c34be8fe623ee340061f1281796.\n"
     ]
    },
    {
     "data": {
      "text/html": [
       "<div>\n",
       "<style scoped>\n",
       "    .dataframe tbody tr th:only-of-type {\n",
       "        vertical-align: middle;\n",
       "    }\n",
       "\n",
       "    .dataframe tbody tr th {\n",
       "        vertical-align: top;\n",
       "    }\n",
       "\n",
       "    .dataframe thead th {\n",
       "        text-align: right;\n",
       "    }\n",
       "</style>\n",
       "<table border=\"1\" class=\"dataframe\">\n",
       "  <thead>\n",
       "    <tr style=\"text-align: right;\">\n",
       "      <th></th>\n",
       "      <th>cosine score</th>\n",
       "      <th>titles</th>\n",
       "      <th>is_ebook</th>\n",
       "      <th>average_rating</th>\n",
       "      <th>ratings_count</th>\n",
       "      <th>text_reviews_count</th>\n",
       "    </tr>\n",
       "    <tr>\n",
       "      <th>book_id</th>\n",
       "      <th></th>\n",
       "      <th></th>\n",
       "      <th></th>\n",
       "      <th></th>\n",
       "      <th></th>\n",
       "      <th></th>\n",
       "    </tr>\n",
       "  </thead>\n",
       "  <tbody>\n",
       "    <tr>\n",
       "      <th>747649</th>\n",
       "      <td>0.9096015691757202</td>\n",
       "      <td>Nervous Laughter (Thomas Black, #3)</td>\n",
       "      <td>0</td>\n",
       "      <td>3.88</td>\n",
       "      <td>227</td>\n",
       "      <td>9</td>\n",
       "    </tr>\n",
       "    <tr>\n",
       "      <th>6453167</th>\n",
       "      <td>0.904136061668396</td>\n",
       "      <td>Deception on His Mind (Inspector Lynley, #9)</td>\n",
       "      <td>1</td>\n",
       "      <td>4.03</td>\n",
       "      <td>381</td>\n",
       "      <td>8</td>\n",
       "    </tr>\n",
       "    <tr>\n",
       "      <th>26515223</th>\n",
       "      <td>0.8971420526504517</td>\n",
       "      <td>Cold Florida (Foggy Moskowitz, #1)</td>\n",
       "      <td>0</td>\n",
       "      <td>4.02</td>\n",
       "      <td>43</td>\n",
       "      <td>20</td>\n",
       "    </tr>\n",
       "    <tr>\n",
       "      <th>2564167</th>\n",
       "      <td>0.8938326835632324</td>\n",
       "      <td>Indigo Slam (Elvis Cole, #7)</td>\n",
       "      <td>0</td>\n",
       "      <td>4.16</td>\n",
       "      <td>88</td>\n",
       "      <td>8</td>\n",
       "    </tr>\n",
       "    <tr>\n",
       "      <th>1219864</th>\n",
       "      <td>0.8932629227638245</td>\n",
       "      <td>The Death Collectors (Carson Ryder, #2)</td>\n",
       "      <td>0</td>\n",
       "      <td>3.92</td>\n",
       "      <td>34</td>\n",
       "      <td>4</td>\n",
       "    </tr>\n",
       "    <tr>\n",
       "      <th>2239028</th>\n",
       "      <td>0.8918185234069824</td>\n",
       "      <td>A Cold-Blooded Business (Kate Shugak, #4)</td>\n",
       "      <td>0</td>\n",
       "      <td>4.12</td>\n",
       "      <td>47</td>\n",
       "      <td>5</td>\n",
       "    </tr>\n",
       "  </tbody>\n",
       "</table>\n",
       "</div>"
      ],
      "text/plain": [
       "               cosine score                                        titles  \\\n",
       "book_id                                                                     \n",
       "747649   0.9096015691757202  Nervous Laughter (Thomas Black, #3)            \n",
       "6453167  0.904136061668396   Deception on His Mind (Inspector Lynley, #9)   \n",
       "26515223 0.8971420526504517  Cold Florida (Foggy Moskowitz, #1)             \n",
       "2564167  0.8938326835632324  Indigo Slam (Elvis Cole, #7)                   \n",
       "1219864  0.8932629227638245  The Death Collectors (Carson Ryder, #2)        \n",
       "2239028  0.8918185234069824  A Cold-Blooded Business (Kate Shugak, #4)      \n",
       "\n",
       "          is_ebook  average_rating  ratings_count  text_reviews_count  \n",
       "book_id                                                                \n",
       "747649    0        3.88             227            9                   \n",
       "6453167   1        4.03             381            8                   \n",
       "26515223  0        4.02             43             20                  \n",
       "2564167   0        4.16             88             8                   \n",
       "1219864   0        3.92             34             4                   \n",
       "2239028   0        4.12             47             5                   "
      ]
     },
     "metadata": {},
     "output_type": "display_data"
    }
   ],
   "source": [
    "#example with user 'd889b42d9eb7b80e02f24830e27c6389'\n",
    "user_id = 'fca26c34be8fe623ee340061f1281796'\n",
    "user_recommendations(books, reviews, model, user_id, measure='cosine', k=6)"
   ]
  },
  {
   "cell_type": "code",
   "execution_count": 72,
   "metadata": {},
   "outputs": [
    {
     "data": {
      "text/html": [
       "<div>\n",
       "<style scoped>\n",
       "    .dataframe tbody tr th:only-of-type {\n",
       "        vertical-align: middle;\n",
       "    }\n",
       "\n",
       "    .dataframe tbody tr th {\n",
       "        vertical-align: top;\n",
       "    }\n",
       "\n",
       "    .dataframe thead th {\n",
       "        text-align: right;\n",
       "    }\n",
       "</style>\n",
       "<table border=\"1\" class=\"dataframe\">\n",
       "  <thead>\n",
       "    <tr style=\"text-align: right;\">\n",
       "      <th></th>\n",
       "      <th>review_id</th>\n",
       "      <th>user_id</th>\n",
       "      <th>book_id</th>\n",
       "      <th>rating</th>\n",
       "      <th>timestamp</th>\n",
       "      <th>n_votes</th>\n",
       "      <th>n_comments</th>\n",
       "      <th>old_user_id</th>\n",
       "      <th>old_book_id</th>\n",
       "    </tr>\n",
       "  </thead>\n",
       "  <tbody>\n",
       "    <tr>\n",
       "      <th>3765</th>\n",
       "      <td>fb89469b4f0bc239db8003b0989d0f9b</td>\n",
       "      <td>119717</td>\n",
       "      <td>23582</td>\n",
       "      <td>1</td>\n",
       "      <td>2007-08-06 06:06:11</td>\n",
       "      <td>0</td>\n",
       "      <td>0</td>\n",
       "      <td>fca26c34be8fe623ee340061f1281796</td>\n",
       "      <td>1653254</td>\n",
       "    </tr>\n",
       "    <tr>\n",
       "      <th>3844</th>\n",
       "      <td>714613442f497a577f9f5af133864142</td>\n",
       "      <td>119717</td>\n",
       "      <td>17437</td>\n",
       "      <td>4</td>\n",
       "      <td>2007-08-07 16:56:36</td>\n",
       "      <td>3</td>\n",
       "      <td>0</td>\n",
       "      <td>fca26c34be8fe623ee340061f1281796</td>\n",
       "      <td>149576</td>\n",
       "    </tr>\n",
       "    <tr>\n",
       "      <th>3846</th>\n",
       "      <td>0d9147c5c9f7fe6efd127743bd5b90fe</td>\n",
       "      <td>119717</td>\n",
       "      <td>12590</td>\n",
       "      <td>2</td>\n",
       "      <td>2007-08-07 16:58:55</td>\n",
       "      <td>1</td>\n",
       "      <td>0</td>\n",
       "      <td>fca26c34be8fe623ee340061f1281796</td>\n",
       "      <td>1328722</td>\n",
       "    </tr>\n",
       "    <tr>\n",
       "      <th>3847</th>\n",
       "      <td>bd0f80100980a41524fafc29cb41be20</td>\n",
       "      <td>119717</td>\n",
       "      <td>10680</td>\n",
       "      <td>5</td>\n",
       "      <td>2007-08-07 17:02:17</td>\n",
       "      <td>1</td>\n",
       "      <td>0</td>\n",
       "      <td>fca26c34be8fe623ee340061f1281796</td>\n",
       "      <td>1293660</td>\n",
       "    </tr>\n",
       "    <tr>\n",
       "      <th>3848</th>\n",
       "      <td>85eb8a30584cafb745d4df25b26a9ecf</td>\n",
       "      <td>119717</td>\n",
       "      <td>99148</td>\n",
       "      <td>3</td>\n",
       "      <td>2007-08-07 17:03:14</td>\n",
       "      <td>1</td>\n",
       "      <td>0</td>\n",
       "      <td>fca26c34be8fe623ee340061f1281796</td>\n",
       "      <td>84785</td>\n",
       "    </tr>\n",
       "    <tr>\n",
       "      <th>...</th>\n",
       "      <td>...</td>\n",
       "      <td>...</td>\n",
       "      <td>...</td>\n",
       "      <td>...</td>\n",
       "      <td>...</td>\n",
       "      <td>...</td>\n",
       "      <td>...</td>\n",
       "      <td>...</td>\n",
       "      <td>...</td>\n",
       "    </tr>\n",
       "    <tr>\n",
       "      <th>1543637</th>\n",
       "      <td>59c3e50f646e51b35d708b81771a7a2e</td>\n",
       "      <td>119717</td>\n",
       "      <td>77294</td>\n",
       "      <td>5</td>\n",
       "      <td>2017-10-07 10:05:19</td>\n",
       "      <td>2</td>\n",
       "      <td>0</td>\n",
       "      <td>fca26c34be8fe623ee340061f1281796</td>\n",
       "      <td>34330645</td>\n",
       "    </tr>\n",
       "    <tr>\n",
       "      <th>1543655</th>\n",
       "      <td>850137c0d775daf3ef23afdc8d8a0424</td>\n",
       "      <td>119717</td>\n",
       "      <td>76474</td>\n",
       "      <td>4</td>\n",
       "      <td>2017-10-07 10:41:41</td>\n",
       "      <td>1</td>\n",
       "      <td>0</td>\n",
       "      <td>fca26c34be8fe623ee340061f1281796</td>\n",
       "      <td>33946362</td>\n",
       "    </tr>\n",
       "    <tr>\n",
       "      <th>1543661</th>\n",
       "      <td>b06a67aafbc52b4ed5bebe89cce97e36</td>\n",
       "      <td>119717</td>\n",
       "      <td>76617</td>\n",
       "      <td>4</td>\n",
       "      <td>2017-10-07 10:47:10</td>\n",
       "      <td>1</td>\n",
       "      <td>0</td>\n",
       "      <td>fca26c34be8fe623ee340061f1281796</td>\n",
       "      <td>34014223</td>\n",
       "    </tr>\n",
       "    <tr>\n",
       "      <th>1543664</th>\n",
       "      <td>6b4c87294869d19573749f14aefbd07d</td>\n",
       "      <td>119717</td>\n",
       "      <td>76290</td>\n",
       "      <td>5</td>\n",
       "      <td>2017-10-07 10:53:18</td>\n",
       "      <td>3</td>\n",
       "      <td>0</td>\n",
       "      <td>fca26c34be8fe623ee340061f1281796</td>\n",
       "      <td>33843625</td>\n",
       "    </tr>\n",
       "    <tr>\n",
       "      <th>1543667</th>\n",
       "      <td>93b0be6d11540d5dacc8be1d1b578c1a</td>\n",
       "      <td>119717</td>\n",
       "      <td>75815</td>\n",
       "      <td>4</td>\n",
       "      <td>2017-10-07 11:02:04</td>\n",
       "      <td>4</td>\n",
       "      <td>0</td>\n",
       "      <td>fca26c34be8fe623ee340061f1281796</td>\n",
       "      <td>33590243</td>\n",
       "    </tr>\n",
       "  </tbody>\n",
       "</table>\n",
       "<p>1846 rows × 9 columns</p>\n",
       "</div>"
      ],
      "text/plain": [
       "                                review_id  user_id  book_id  rating  \\\n",
       "3765     fb89469b4f0bc239db8003b0989d0f9b  119717   23582    1        \n",
       "3844     714613442f497a577f9f5af133864142  119717   17437    4        \n",
       "3846     0d9147c5c9f7fe6efd127743bd5b90fe  119717   12590    2        \n",
       "3847     bd0f80100980a41524fafc29cb41be20  119717   10680    5        \n",
       "3848     85eb8a30584cafb745d4df25b26a9ecf  119717   99148    3        \n",
       "...                                   ...     ...     ...   ..        \n",
       "1543637  59c3e50f646e51b35d708b81771a7a2e  119717   77294    5        \n",
       "1543655  850137c0d775daf3ef23afdc8d8a0424  119717   76474    4        \n",
       "1543661  b06a67aafbc52b4ed5bebe89cce97e36  119717   76617    4        \n",
       "1543664  6b4c87294869d19573749f14aefbd07d  119717   76290    5        \n",
       "1543667  93b0be6d11540d5dacc8be1d1b578c1a  119717   75815    4        \n",
       "\n",
       "                   timestamp  n_votes  n_comments  \\\n",
       "3765     2007-08-06 06:06:11  0        0            \n",
       "3844     2007-08-07 16:56:36  3        0            \n",
       "3846     2007-08-07 16:58:55  1        0            \n",
       "3847     2007-08-07 17:02:17  1        0            \n",
       "3848     2007-08-07 17:03:14  1        0            \n",
       "...                      ... ..       ..            \n",
       "1543637  2017-10-07 10:05:19  2        0            \n",
       "1543655  2017-10-07 10:41:41  1        0            \n",
       "1543661  2017-10-07 10:47:10  1        0            \n",
       "1543664  2017-10-07 10:53:18  3        0            \n",
       "1543667  2017-10-07 11:02:04  4        0            \n",
       "\n",
       "                              old_user_id  old_book_id  \n",
       "3765     fca26c34be8fe623ee340061f1281796  1653254      \n",
       "3844     fca26c34be8fe623ee340061f1281796  149576       \n",
       "3846     fca26c34be8fe623ee340061f1281796  1328722      \n",
       "3847     fca26c34be8fe623ee340061f1281796  1293660      \n",
       "3848     fca26c34be8fe623ee340061f1281796  84785        \n",
       "...                                   ...    ...        \n",
       "1543637  fca26c34be8fe623ee340061f1281796  34330645     \n",
       "1543655  fca26c34be8fe623ee340061f1281796  33946362     \n",
       "1543661  fca26c34be8fe623ee340061f1281796  34014223     \n",
       "1543664  fca26c34be8fe623ee340061f1281796  33843625     \n",
       "1543667  fca26c34be8fe623ee340061f1281796  33590243     \n",
       "\n",
       "[1846 rows x 9 columns]"
      ]
     },
     "execution_count": 72,
     "metadata": {},
     "output_type": "execute_result"
    }
   ],
   "source": [
    "reviews[reviews.old_user_id == 'fca26c34be8fe623ee340061f1281796']"
   ]
  },
  {
   "cell_type": "code",
   "execution_count": 62,
   "metadata": {},
   "outputs": [
    {
     "data": {
      "text/plain": [
       "old_user_id\n",
       "00009e46d18f223a82b22da38586b605    15\n",
       "0000c3d51aa099745e93a4e99c4856c8    4 \n",
       "000192962b87d560f00b06fdcbd71681    2 \n",
       "000253cf1077f203bca050637f2ec7f7    6 \n",
       "00048fe3297cbb92a6e9fb78a6dce421    2 \n",
       "Name: rating, dtype: int64"
      ]
     },
     "execution_count": 62,
     "metadata": {},
     "output_type": "execute_result"
    }
   ],
   "source": [
    "user_df = reviews.groupby('old_user_id').count()['rating']\n",
    "user_df.head()\n"
   ]
  },
  {
   "cell_type": "code",
   "execution_count": 69,
   "metadata": {},
   "outputs": [
    {
     "data": {
      "text/plain": [
       "0.08478319995384603"
      ]
     },
     "execution_count": 69,
     "metadata": {},
     "output_type": "execute_result"
    }
   ],
   "source": [
    "(user_df.sort_values(ascending=False) > 30).sum()/len(user_df)"
   ]
  },
  {
   "cell_type": "code",
   "execution_count": 70,
   "metadata": {},
   "outputs": [
    {
     "data": {
      "text/plain": [
       "old_user_id\n",
       "fca26c34be8fe623ee340061f1281796    True \n",
       "795595616d3dbd81bd16b617c9a1fa48    True \n",
       "da1e69dbd8e0016bc5d39a9de2c3c753    True \n",
       "a45fb5d39a6a9857ff8362900790510a    True \n",
       "ba7f50286295186a87feaeb42af2ebc1    True \n",
       "                                    ...  \n",
       "35e294edf62166c1e8ccfcef45c5f392    False\n",
       "215ef5505ff9ac2b7b2abdfe913e6d76    False\n",
       "215d9642849e73d67676431aa28516a0    False\n",
       "0d41532480bd79738e5ab52a705087ef    False\n",
       "21f61a8d0e5c0fabf6bf0dc1733311c0    False\n",
       "Name: rating, Length: 121333, dtype: bool"
      ]
     },
     "execution_count": 70,
     "metadata": {},
     "output_type": "execute_result"
    }
   ],
   "source": [
    "user_df.sort_values(ascending=False) > 30"
   ]
  },
  {
   "cell_type": "markdown",
   "metadata": {},
   "source": [
    "### get neighbors of a book which contains a given substring"
   ]
  },
  {
   "cell_type": "code",
   "execution_count": 19,
   "metadata": {},
   "outputs": [],
   "source": [
    "#example with book 'Harry Potter'\n",
    "title_substring ='Harry Potter'\n",
    "book_neighbors(books, reviews, model, title_substring, measure='cosine', k=10)"
   ]
  },
  {
   "cell_type": "code",
   "execution_count": 19,
   "metadata": {},
   "outputs": [
    {
     "name": "stdout",
     "output_type": "stream",
     "text": [
      "[10057976]\n",
      "Nearest neighbors of : The Midsummer Crown (Roger the Chapman #20).\n"
     ]
    },
    {
     "data": {
      "text/html": [
       "<div>\n",
       "<style scoped>\n",
       "    .dataframe tbody tr th:only-of-type {\n",
       "        vertical-align: middle;\n",
       "    }\n",
       "\n",
       "    .dataframe tbody tr th {\n",
       "        vertical-align: top;\n",
       "    }\n",
       "\n",
       "    .dataframe thead th {\n",
       "        text-align: right;\n",
       "    }\n",
       "</style>\n",
       "<table border=\"1\" class=\"dataframe\">\n",
       "  <thead>\n",
       "    <tr style=\"text-align: right;\">\n",
       "      <th></th>\n",
       "      <th>cosine score</th>\n",
       "      <th>titles</th>\n",
       "      <th>is_ebook</th>\n",
       "      <th>average_rating</th>\n",
       "      <th>ratings_count</th>\n",
       "    </tr>\n",
       "    <tr>\n",
       "      <th>book_id</th>\n",
       "      <th></th>\n",
       "      <th></th>\n",
       "      <th></th>\n",
       "      <th></th>\n",
       "      <th></th>\n",
       "    </tr>\n",
       "  </thead>\n",
       "  <tbody>\n",
       "    <tr>\n",
       "      <th>10057976</th>\n",
       "      <td>0.5773502588272095</td>\n",
       "      <td>The Midsummer Crown (Roger the Chapman #20)</td>\n",
       "      <td>0</td>\n",
       "      <td>3.86</td>\n",
       "      <td>110</td>\n",
       "    </tr>\n",
       "    <tr>\n",
       "      <th>2554140</th>\n",
       "      <td>0.4749241769313812</td>\n",
       "      <td>A Vigil of Spies (Owen Archer, #10)</td>\n",
       "      <td>0</td>\n",
       "      <td>4.24</td>\n",
       "      <td>215</td>\n",
       "    </tr>\n",
       "    <tr>\n",
       "      <th>13226994</th>\n",
       "      <td>0.4707019031047821</td>\n",
       "      <td>The Tintern Treasure (Roger the Chapman #21)</td>\n",
       "      <td>0</td>\n",
       "      <td>3.9</td>\n",
       "      <td>110</td>\n",
       "    </tr>\n",
       "    <tr>\n",
       "      <th>16280793</th>\n",
       "      <td>0.4598272442817688</td>\n",
       "      <td>The Christmas Wassail (Roger the Chapman #22)</td>\n",
       "      <td>0</td>\n",
       "      <td>3.92</td>\n",
       "      <td>113</td>\n",
       "    </tr>\n",
       "    <tr>\n",
       "      <th>32191844</th>\n",
       "      <td>0.4530879557132721</td>\n",
       "      <td>A Twisted Vengeance (Kate Clifford #2)</td>\n",
       "      <td>0</td>\n",
       "      <td>3.96</td>\n",
       "      <td>53</td>\n",
       "    </tr>\n",
       "    <tr>\n",
       "      <th>1211424</th>\n",
       "      <td>0.4484943747520447</td>\n",
       "      <td>The Guilt of Innocents (Owen Archer, #9)</td>\n",
       "      <td>0</td>\n",
       "      <td>4.13</td>\n",
       "      <td>198</td>\n",
       "    </tr>\n",
       "    <tr>\n",
       "      <th>185628</th>\n",
       "      <td>0.448285847902298</td>\n",
       "      <td>The Boy's Tale (Sister Frevisse, #5)</td>\n",
       "      <td>0</td>\n",
       "      <td>4.05</td>\n",
       "      <td>622</td>\n",
       "    </tr>\n",
       "    <tr>\n",
       "      <th>32025744</th>\n",
       "      <td>0.44573861360549927</td>\n",
       "      <td>Murder in a Cornish Alehouse (A Mistress Jaffrey Mystery #3)</td>\n",
       "      <td>0</td>\n",
       "      <td>3.72</td>\n",
       "      <td>37</td>\n",
       "    </tr>\n",
       "    <tr>\n",
       "      <th>18167314</th>\n",
       "      <td>0.4383103549480438</td>\n",
       "      <td>Cross of Vengeance (Burren Mysteries #10)</td>\n",
       "      <td>0</td>\n",
       "      <td>3.95</td>\n",
       "      <td>86</td>\n",
       "    </tr>\n",
       "    <tr>\n",
       "      <th>166680</th>\n",
       "      <td>0.43698203563690186</td>\n",
       "      <td>The Wandering Arm (Catherine LeVendeur, #3)</td>\n",
       "      <td>0</td>\n",
       "      <td>3.99</td>\n",
       "      <td>537</td>\n",
       "    </tr>\n",
       "  </tbody>\n",
       "</table>\n",
       "</div>"
      ],
      "text/plain": [
       "                cosine score  \\\n",
       "book_id                        \n",
       "10057976 0.5773502588272095    \n",
       "2554140  0.4749241769313812    \n",
       "13226994 0.4707019031047821    \n",
       "16280793 0.4598272442817688    \n",
       "32191844 0.4530879557132721    \n",
       "1211424  0.4484943747520447    \n",
       "185628   0.448285847902298     \n",
       "32025744 0.44573861360549927   \n",
       "18167314 0.4383103549480438    \n",
       "166680   0.43698203563690186   \n",
       "\n",
       "                                                                titles  \\\n",
       "book_id                                                                  \n",
       "10057976  The Midsummer Crown (Roger the Chapman #20)                    \n",
       "2554140   A Vigil of Spies (Owen Archer, #10)                            \n",
       "13226994  The Tintern Treasure (Roger the Chapman #21)                   \n",
       "16280793  The Christmas Wassail (Roger the Chapman #22)                  \n",
       "32191844  A Twisted Vengeance (Kate Clifford #2)                         \n",
       "1211424   The Guilt of Innocents (Owen Archer, #9)                       \n",
       "185628    The Boy's Tale (Sister Frevisse, #5)                           \n",
       "32025744  Murder in a Cornish Alehouse (A Mistress Jaffrey Mystery #3)   \n",
       "18167314  Cross of Vengeance (Burren Mysteries #10)                      \n",
       "166680    The Wandering Arm (Catherine LeVendeur, #3)                    \n",
       "\n",
       "          is_ebook  average_rating  ratings_count  \n",
       "book_id                                            \n",
       "10057976  0        3.86             110            \n",
       "2554140   0        4.24             215            \n",
       "13226994  0        3.9              110            \n",
       "16280793  0        3.92             113            \n",
       "32191844  0        3.96             53             \n",
       "1211424   0        4.13             198            \n",
       "185628    0        4.05             622            \n",
       "32025744  0        3.72             37             \n",
       "18167314  0        3.95             86             \n",
       "166680    0        3.99             537            "
      ]
     },
     "metadata": {},
     "output_type": "display_data"
    }
   ],
   "source": [
    "title_substring ='The Midsummer Crown'\n",
    "book_neighbors(books, reviews, model, title_substring, measure='cosine', k=10)"
   ]
  },
  {
   "cell_type": "code",
   "execution_count": null,
   "metadata": {},
   "outputs": [],
   "source": [
    "books.loc[10057976]"
   ]
  },
  {
   "cell_type": "code",
   "execution_count": null,
   "metadata": {},
   "outputs": [],
   "source": [
    "books.loc[12263607]"
   ]
  },
  {
   "cell_type": "markdown",
   "metadata": {},
   "source": [
    "### inspect neighbor clustering"
   ]
  },
  {
   "cell_type": "code",
   "execution_count": 29,
   "metadata": {},
   "outputs": [],
   "source": [
    "def book_embedding_norm(models):\n",
    "    \"\"\"\n",
    "    visualizes the norm and number of ratings of the book\n",
    "    Args:\n",
    "        model: a MFmodel object\n",
    "    \"\"\"\n",
    "    if not isinstance(models, list):\n",
    "        models = [models]\n",
    "    df=pd.DataFrame({\n",
    "        'title': books['title'],\n",
    "        'average_rating': books['average_rating'],\n",
    "        'ratings_count':books['ratings_count']\n",
    "    })\n",
    "    charts = []\n",
    "    brush = alt.selection_interval()\n",
    "    for i, model in enumerate(models):\n",
    "        norm_key = 'norm' +str(i)\n",
    "        df[norm_key] = np.linalg.norm(model.embeddings['book_id'], axis=1)\n",
    "        nearest = alt.selection(\n",
    "                type='single', encodings=['x', 'y'], on='mouseover', nearest=True,\n",
    "                empty='none')\n",
    "        base = alt.Chart().mark_circle().encode(\n",
    "                x='ratings_count',\n",
    "                y=norm_key,\n",
    "               color=alt.condition(brush, alt.value('#4c78a8'), alt.value('lightgray'))\n",
    "            ).properties(\n",
    "            selection=nearest).add_selection(brush)\n",
    "        text = alt.Chart().mark_text(align='center', dx=5, dy=-5).encode(\n",
    "        x='ratings_count', y=norm_key,\n",
    "        text=alt.condition(nearest, 'title', alt.value('')))\n",
    "        charts.append(alt.layer(base, text))\n",
    "    return alt.hconcat(*charts, data=df)\n",
    "    \n",
    "    "
   ]
  },
  {
   "cell_type": "code",
   "execution_count": 30,
   "metadata": {},
   "outputs": [],
   "source": [
    "def visualize_movie_embeddings(data, x, y):\n",
    "    nearest = alt.selection(\n",
    "      type='single', encodings=['x', 'y'], on='mouseover', nearest=True,\n",
    "      empty='none')\n",
    "    base = alt.Chart().mark_circle().encode(\n",
    "      x=x,\n",
    "      y=y,\n",
    "      color=alt.condition(genre_filter, \"genre\", alt.value(\"whitesmoke\")),\n",
    "      ).properties(\n",
    "      width=600,\n",
    "      height=600,\n",
    "      selection=nearest)\n",
    "    text = alt.Chart().mark_text(align='left', dx=5, dy=-5).encode(\n",
    "      x=x,\n",
    "      y=y,\n",
    "      text=alt.condition(nearest, 'title', alt.value('')))\n",
    "    return alt.hconcat(alt.layer(base, text), genre_chart, data=data)\n"
   ]
  },
  {
   "cell_type": "code",
   "execution_count": 31,
   "metadata": {},
   "outputs": [],
   "source": [
    "def tsne_movie_embeddings(model, books):\n",
    "    \"\"\"Visualizes the movie embeddings, projected using t-SNE with Cosine measure.\n",
    "    Args:\n",
    "    model: A MFModel object.\n",
    "    \"\"\"\n",
    "    tsne = sklearn.manifold.TSNE(\n",
    "      n_components=2, perplexity=40, metric='cosine', early_exaggeration=10.0,\n",
    "      init='pca', verbose=True, n_iter=400)\n",
    "\n",
    "    print('Running t-SNE...')\n",
    "    V_proj = tsne.fit_transform(model.embeddings[\"book_id\"])\n",
    "    books.loc[:,'x'] = V_proj[:, 0]\n",
    "    books.loc[:,'y'] = V_proj[:, 1]\n",
    "    return visualize_movie_embeddings(books, 'x', 'y')"
   ]
  },
  {
   "cell_type": "code",
   "execution_count": 33,
   "metadata": {},
   "outputs": [],
   "source": [
    "# book_embedding_norm(model)"
   ]
  },
  {
   "cell_type": "code",
   "execution_count": null,
   "metadata": {},
   "outputs": [],
   "source": [
    "from scipy.sparse import csr_matrix\n",
    "# csr_matrix((train_reviews.rating.values, (train_reviews.user_id.values, train_reviews.book_id.values)), \n",
    "#            shape=(len(train_reviews.user_id.unique()), len(train_reviews.book_id.unique()))).toarray()\n",
    "\n",
    "#rating matrix will be too sparse if we convert the rating data into a pd pivot table \n",
    "#rating_mat = pd.pivot_table(train_reviews, values=['rating'], index=['user_id'], columns =['book_id'])"
   ]
  },
  {
   "cell_type": "markdown",
   "metadata": {},
   "source": [
    "### softmax model"
   ]
  },
  {
   "cell_type": "code",
   "execution_count": 39,
   "metadata": {},
   "outputs": [
    {
     "data": {
      "text/html": [
       "<div>\n",
       "<style scoped>\n",
       "    .dataframe tbody tr th:only-of-type {\n",
       "        vertical-align: middle;\n",
       "    }\n",
       "\n",
       "    .dataframe tbody tr th {\n",
       "        vertical-align: top;\n",
       "    }\n",
       "\n",
       "    .dataframe thead th {\n",
       "        text-align: right;\n",
       "    }\n",
       "</style>\n",
       "<table border=\"1\" class=\"dataframe\">\n",
       "  <thead>\n",
       "    <tr style=\"text-align: right;\">\n",
       "      <th></th>\n",
       "      <th>user_id</th>\n",
       "      <th>book_id</th>\n",
       "    </tr>\n",
       "  </thead>\n",
       "  <tbody>\n",
       "    <tr>\n",
       "      <th>0</th>\n",
       "      <td>0</td>\n",
       "      <td>[82014, 83650, 20417, 84776, 65947, 3912, 1016, 23365, 2724, 12991, 21534, 44449, 41186, 95668, 93301]</td>\n",
       "    </tr>\n",
       "    <tr>\n",
       "      <th>1</th>\n",
       "      <td>1</td>\n",
       "      <td>[17124, 43808, 52912, 55484]</td>\n",
       "    </tr>\n",
       "    <tr>\n",
       "      <th>2</th>\n",
       "      <td>2</td>\n",
       "      <td>[23301, 87786]</td>\n",
       "    </tr>\n",
       "    <tr>\n",
       "      <th>3</th>\n",
       "      <td>3</td>\n",
       "      <td>[41186, 16813, 31831, 22647, 30562, 82014]</td>\n",
       "    </tr>\n",
       "    <tr>\n",
       "      <th>4</th>\n",
       "      <td>4</td>\n",
       "      <td>[41982, 76229]</td>\n",
       "    </tr>\n",
       "  </tbody>\n",
       "</table>\n",
       "</div>"
      ],
      "text/plain": [
       "   user_id  \\\n",
       "0  0         \n",
       "1  1         \n",
       "2  2         \n",
       "3  3         \n",
       "4  4         \n",
       "\n",
       "                                                                                                  book_id  \n",
       "0  [82014, 83650, 20417, 84776, 65947, 3912, 1016, 23365, 2724, 12991, 21534, 44449, 41186, 95668, 93301]  \n",
       "1  [17124, 43808, 52912, 55484]                                                                            \n",
       "2  [23301, 87786]                                                                                          \n",
       "3  [41186, 16813, 31831, 22647, 30562, 82014]                                                              \n",
       "4  [41982, 76229]                                                                                          "
      ]
     },
     "execution_count": 39,
     "metadata": {},
     "output_type": "execute_result"
    }
   ],
   "source": [
    "rated_books =(reviews[['user_id', 'book_id']].groupby('user_id', as_index=False).aggregate(lambda x: list(x)))\n",
    "rated_books.head()"
   ]
  },
  {
   "cell_type": "code",
   "execution_count": 53,
   "metadata": {},
   "outputs": [],
   "source": [
    "for book, average_rating in zip(books['book_id'].values(), books['average_rating'].values()):\n",
    "    print(book, average_rating)\n",
    "    break\n",
    "# book id is index in books df"
   ]
  },
  {
   "cell_type": "code",
   "execution_count": 54,
   "metadata": {},
   "outputs": [],
   "source": [
    "average_rating_dict ={book: average_rating for book, average_rating in zip(books['book_id'].values, books['average_rating'])}\n",
    "ratings_count_dict ={book: ratings_count for book, ratings_count in zip(books['book_id'], books['ratings_count'])}\n",
    "text_reviews_count_dict ={book: text_reviews_count for book, text_reviews_count in zip(books['book_id'], books['text_reviews_count'])}\n",
    "is_ebook_dict = {book: is_ebook for book, is_ebook in zip(books['book_id'], books['is_ebook'])}"
   ]
  },
  {
   "cell_type": "code",
   "execution_count": null,
   "metadata": {},
   "outputs": [],
   "source": [
    "def make_batch(reviews, batch_size):\n",
    "    \"\"\"build a tensor input pipeline\n",
    "    creates a batch of examples\n",
    "    Args:\n",
    "    ratings: A DataFrame of ratings such that examples[\"book_id\"] is a list of\n",
    "    movies rated by a user.\n",
    "    batch_size: The batch size.\n",
    "    \"\"\"\n",
    "    def pad(x, fill):\n",
    "        return pd.DataFrame.from_dict(x).fillna(fill).values\n",
    "    \n",
    "    book = []\n",
    "    average_rating = []\n",
    "    ratings_count = []\n",
    "    text_reviews_count = []\n",
    "    label = []\n",
    "    for book_ids in reviews[\"book_id\"].values:\n",
    "        book_ids_1 = reviews[reviews['book_id'] == book_ids].old_book_ids.values[0]\n",
    "        book.append(book_ids)\n",
    "        average_rating.append([x for book_id in book_ids for x in average_rating_dict[book_id]])\n",
    "        ratings_count.append([ratings_count_dict[book_id] for book_id in book_ids])\n",
    "        text_reviews_count.append([text_reviews_count_dict[book_id] for book_id in book_ids])\n",
    "        label.append([int(book_id) for book_id in book_ids])\n",
    "    features = {\n",
    "      \"book_id\": pad(book, \"\"),\n",
    "      \"average_rating\": pad(average_rating, \"\"),\n",
    "      \"ratings_count\": pad(ratings_count, \"\"),\n",
    "      \"text_reviews_count\": pad(text_reviews_count, \"\"),\n",
    "        \"label\": pad(label, -1)\n",
    "        }\n",
    "    batch = (\n",
    "      tf.data.Dataset.from_tensor_slices(features)\n",
    "      .shuffle(1000)\n",
    "      .repeat()\n",
    "      .batch(batch_size)\n",
    "      .make_one_shot_iterator()\n",
    "      .get_next())\n",
    "    return batch\n",
    "    "
   ]
  }
 ],
 "metadata": {
  "kernelspec": {
   "display_name": "Python 3",
   "language": "python",
   "name": "python3"
  },
  "language_info": {
   "codemirror_mode": {
    "name": "ipython",
    "version": 3
   },
   "file_extension": ".py",
   "mimetype": "text/x-python",
   "name": "python",
   "nbconvert_exporter": "python",
   "pygments_lexer": "ipython3",
   "version": "3.7.3"
  }
 },
 "nbformat": 4,
 "nbformat_minor": 2
}
