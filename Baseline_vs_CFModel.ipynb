{
 "cells": [
  {
   "cell_type": "code",
   "execution_count": 272,
   "metadata": {},
   "outputs": [],
   "source": [
    "import gzip\n",
    "import json\n",
    "import re\n",
    "import os\n",
    "import sys\n",
    "import numpy as np\n",
    "import pandas as pd\n",
    "import matplotlib.pyplot as plt\n",
    "%matplotlib inline\n",
    "from IPython import display\n",
    "\n",
    "import tensorflow as tf\n",
    "import altair as alt\n",
    "import collections\n",
    "\n",
    "\n",
    "\n",
    "from src.load_data import read_tables\n",
    "from src.item_recommender import ItemRecommender\n",
    "from src.CFModel import CFModel, build_CF_model, compute_scores, book_neighbors, user_recommendations\n",
    "from src.Baseline_Model import build_baseline_model"
   ]
  },
  {
   "cell_type": "markdown",
   "metadata": {},
   "source": [
    "### load data"
   ]
  },
  {
   "cell_type": "code",
   "execution_count": 145,
   "metadata": {},
   "outputs": [
    {
     "name": "stdout",
     "output_type": "stream",
     "text": [
      "counting file: data/goodreads_reviews_mystery_thriller_crime.json.gz\n",
      "current line: 0,1000000,complete\n",
      "done!\n",
      "counting file: data/goodreads_books_mystery_thriller_crime.json.gz\n",
      "current line: 0,complete\n",
      "done!\n"
     ]
    }
   ],
   "source": [
    "books, reviews = read_tables('data')"
   ]
  },
  {
   "cell_type": "code",
   "execution_count": 147,
   "metadata": {},
   "outputs": [
    {
     "data": {
      "text/html": [
       "<div>\n",
       "<style scoped>\n",
       "    .dataframe tbody tr th:only-of-type {\n",
       "        vertical-align: middle;\n",
       "    }\n",
       "\n",
       "    .dataframe tbody tr th {\n",
       "        vertical-align: top;\n",
       "    }\n",
       "\n",
       "    .dataframe thead th {\n",
       "        text-align: right;\n",
       "    }\n",
       "</style>\n",
       "<table border=\"1\" class=\"dataframe\">\n",
       "  <thead>\n",
       "    <tr style=\"text-align: right;\">\n",
       "      <th></th>\n",
       "      <th>book_id</th>\n",
       "      <th>title</th>\n",
       "      <th>num_pages</th>\n",
       "      <th>is_ebook</th>\n",
       "      <th>link</th>\n",
       "      <th>average_rating</th>\n",
       "      <th>ratings_count</th>\n",
       "      <th>text_reviews_count</th>\n",
       "      <th>author_id</th>\n",
       "      <th>publisher</th>\n",
       "      <th>similar_books</th>\n",
       "      <th>old_book_id</th>\n",
       "    </tr>\n",
       "  </thead>\n",
       "  <tbody>\n",
       "    <tr>\n",
       "      <th>1</th>\n",
       "      <td>75512</td>\n",
       "      <td>The House of Memory (Pluto's Snitch #2)</td>\n",
       "      <td>318</td>\n",
       "      <td>1</td>\n",
       "      <td>https://www.goodreads.com/book/show/33394837-the-house-of-memory</td>\n",
       "      <td>4.33</td>\n",
       "      <td>269</td>\n",
       "      <td>60</td>\n",
       "      <td>242185</td>\n",
       "      <td></td>\n",
       "      <td>[]</td>\n",
       "      <td>33394837</td>\n",
       "    </tr>\n",
       "  </tbody>\n",
       "</table>\n",
       "</div>"
      ],
      "text/plain": [
       "   book_id                                    title  num_pages  is_ebook  \\\n",
       "1  75512    The House of Memory (Pluto's Snitch #2)  318        1          \n",
       "\n",
       "                                                               link  \\\n",
       "1  https://www.goodreads.com/book/show/33394837-the-house-of-memory   \n",
       "\n",
       "   average_rating  ratings_count  text_reviews_count author_id publisher  \\\n",
       "1 4.33             269            60                  242185               \n",
       "\n",
       "  similar_books old_book_id  \n",
       "1  []            33394837    "
      ]
     },
     "execution_count": 147,
     "metadata": {},
     "output_type": "execute_result"
    }
   ],
   "source": [
    "books.head(1)"
   ]
  },
  {
   "cell_type": "code",
   "execution_count": 148,
   "metadata": {},
   "outputs": [
    {
     "data": {
      "text/html": [
       "<div>\n",
       "<style scoped>\n",
       "    .dataframe tbody tr th:only-of-type {\n",
       "        vertical-align: middle;\n",
       "    }\n",
       "\n",
       "    .dataframe tbody tr th {\n",
       "        vertical-align: top;\n",
       "    }\n",
       "\n",
       "    .dataframe thead th {\n",
       "        text-align: right;\n",
       "    }\n",
       "</style>\n",
       "<table border=\"1\" class=\"dataframe\">\n",
       "  <thead>\n",
       "    <tr style=\"text-align: right;\">\n",
       "      <th></th>\n",
       "      <th>review_id</th>\n",
       "      <th>user_id</th>\n",
       "      <th>book_id</th>\n",
       "      <th>rating</th>\n",
       "      <th>timestamp</th>\n",
       "      <th>n_votes</th>\n",
       "      <th>n_comments</th>\n",
       "      <th>old_user_id</th>\n",
       "      <th>old_book_id</th>\n",
       "    </tr>\n",
       "  </thead>\n",
       "  <tbody>\n",
       "    <tr>\n",
       "      <th>620327</th>\n",
       "      <td>d23dc89ab32cd864e54d18369751163b</td>\n",
       "      <td>102489</td>\n",
       "      <td>37120</td>\n",
       "      <td>3</td>\n",
       "      <td>2001-01-01 00:00:00</td>\n",
       "      <td>0</td>\n",
       "      <td>0</td>\n",
       "      <td>d889b42d9eb7b80e02f24830e27c6389</td>\n",
       "      <td>196084</td>\n",
       "    </tr>\n",
       "  </tbody>\n",
       "</table>\n",
       "</div>"
      ],
      "text/plain": [
       "                               review_id  user_id  book_id  rating  \\\n",
       "620327  d23dc89ab32cd864e54d18369751163b  102489   37120    3        \n",
       "\n",
       "                  timestamp  n_votes  n_comments  \\\n",
       "620327  2001-01-01 00:00:00  0        0            \n",
       "\n",
       "                             old_user_id old_book_id  \n",
       "620327  d889b42d9eb7b80e02f24830e27c6389  196084      "
      ]
     },
     "execution_count": 148,
     "metadata": {},
     "output_type": "execute_result"
    }
   ],
   "source": [
    "reviews.head(1)"
   ]
  },
  {
   "cell_type": "markdown",
   "metadata": {},
   "source": [
    "## Models\n",
    "\n",
    "initially we wanted to use evaluation score: the mean of each user's top 5 recommended books' actual rating\n",
    "\n",
    "since 85% of the users in test data only have 1 ratings, the evaluation score is almost the same (3.865) no matter recommendations are based on which model. (will delete the score later)\n",
    "\n",
    "we will use mse as evaluation score considering our dataset is sparse"
   ]
  },
  {
   "cell_type": "markdown",
   "metadata": {},
   "source": [
    "### baseline model - global mean"
   ]
  },
  {
   "cell_type": "markdown",
   "metadata": {},
   "source": [
    "baseline estimate for r_xi = u + b_x + b_i\n",
    "\n",
    "u: global mean (overall mean book ratings)\n",
    "\n",
    "b_x: rating deviation of user x = (avg. rating of user x) - u\n",
    "\n",
    "b_i: rating deviation of book i = (avg. rating of book i) - u"
   ]
  },
  {
   "cell_type": "code",
   "execution_count": 174,
   "metadata": {},
   "outputs": [
    {
     "name": "stdout",
     "output_type": "stream",
     "text": [
      "train mse: 15.53125 n/ test_mse: 15.97210 n/ evaluation_score: 3.86546\n"
     ]
    }
   ],
   "source": [
    "train_mse, test_mse, eval_score = build_baseline_model(reviews)"
   ]
  },
  {
   "cell_type": "markdown",
   "metadata": {},
   "source": [
    "### CF model with adam optimizer"
   ]
  },
  {
   "cell_type": "code",
   "execution_count": 178,
   "metadata": {},
   "outputs": [],
   "source": [
    "from src.CFModel import build_rating_sparse_tensor, sparse_mean_square_error, compute_score, split_dataframe"
   ]
  },
  {
   "cell_type": "code",
   "execution_count": 198,
   "metadata": {},
   "outputs": [
    {
     "name": "stdout",
     "output_type": "stream",
     "text": [
      "WARNING:tensorflow:`tf.train.start_queue_runners()` was called when no queue runners were defined. You can safely remove the call to this deprecated function.\n"
     ]
    }
   ],
   "source": [
    "# matrix factorization without regularization with adam optimizer\n",
    "# adam optimizer -> adaptive moment estimation with changing learning rate \n",
    "# https://machinelearningmastery.com/adam-optimization-algorithm-for-deep-learning/\n",
    "\n",
    "model_adam = build_CF_model(reviews, embedding_dim=30, init_stddev=0.05)"
   ]
  },
  {
   "cell_type": "code",
   "execution_count": 199,
   "metadata": {
    "scrolled": true
   },
   "outputs": [
    {
     "name": "stdout",
     "output_type": "stream",
     "text": [
      " iteration 600: train_error=0.011513, regularization_error=0.000000, gravity_loss=0.000000, test_error=16.561686"
     ]
    },
    {
     "data": {
      "text/plain": [
       "[{'train_error': 0.0115134055,\n",
       "  'regularization_error': 0.0,\n",
       "  'gravity_loss': 0.0,\n",
       "  'test_error': 16.561686}]"
      ]
     },
     "execution_count": 199,
     "metadata": {},
     "output_type": "execute_result"
    },
    {
     "data": {
      "image/png": "[encoded data removed]",
      "text/plain": [
       "<Figure size 1440x576 with 1 Axes>"
      ]
     },
     "metadata": {
      "needs_background": "light"
     },
     "output_type": "display_data"
    }
   ],
   "source": [
    "model_adam.train(num_iterations=600)"
   ]
  },
  {
   "cell_type": "markdown",
   "metadata": {},
   "source": [
    "### CF model with regularization and adam optimizer"
   ]
  },
  {
   "cell_type": "code",
   "execution_count": 253,
   "metadata": {},
   "outputs": [
    {
     "name": "stdout",
     "output_type": "stream",
     "text": [
      "WARNING:tensorflow:`tf.train.start_queue_runners()` was called when no queue runners were defined. You can safely remove the call to this deprecated function.\n"
     ]
    }
   ],
   "source": [
    "# A CFModel object that uses a regularized loss with adam optimizer\n",
    "model_reg, test_ratings = build_CF_model(reviews, embedding_dim=30, init_stddev=0.05, \n",
    "                    regularization_coeff=0.1,\n",
    "                    gravity_coeff=0.0)"
   ]
  },
  {
   "cell_type": "code",
   "execution_count": 254,
   "metadata": {},
   "outputs": [
    {
     "name": "stdout",
     "output_type": "stream",
     "text": [
      " iteration 50: train_error=0.138442, regularization_error=0.749885, gravity_loss=0.000000, test_error=6.2360638"
     ]
    },
    {
     "data": {
      "text/plain": [
       "[{'train_error': 0.1384417,\n",
       "  'regularization_error': 0.7498854,\n",
       "  'gravity_loss': 0.0,\n",
       "  'test_error': 6.2360635}]"
      ]
     },
     "execution_count": 254,
     "metadata": {},
     "output_type": "execute_result"
    },
    {
     "data": {
      "image/png": "[encoded data removed]",
      "text/plain": [
       "<Figure size 1440x576 with 1 Axes>"
      ]
     },
     "metadata": {
      "needs_background": "light"
     },
     "output_type": "display_data"
    }
   ],
   "source": [
    "model_reg.train(num_iterations=50)"
   ]
  },
  {
   "cell_type": "code",
   "execution_count": 250,
   "metadata": {},
   "outputs": [
    {
     "name": "stdout",
     "output_type": "stream",
     "text": [
      "WARNING:tensorflow:`tf.train.start_queue_runners()` was called when no queue runners were defined. You can safely remove the call to this deprecated function.\n"
     ]
    }
   ],
   "source": [
    "# A CFModel object that uses a regularized loss, gravity loss with adam optimizer\n",
    "model_reg_grv, test_ratings = build_CF_model(reviews, embedding_dim=30, init_stddev=0.05, \n",
    "                    regularization_coeff=0.1,\n",
    "                    gravity_coeff=0.1)"
   ]
  },
  {
   "cell_type": "code",
   "execution_count": 252,
   "metadata": {
    "scrolled": true
   },
   "outputs": [
    {
     "name": "stdout",
     "output_type": "stream",
     "text": [
      " iteration 50: train_error=0.143481, regularization_error=0.742101, gravity_loss=0.099898, test_error=7.7050402"
     ]
    },
    {
     "data": {
      "text/plain": [
       "[{'train_error': 0.1434815,\n",
       "  'regularization_error': 0.74210066,\n",
       "  'gravity_loss': 0.09989754,\n",
       "  'test_error': 7.7050405}]"
      ]
     },
     "execution_count": 252,
     "metadata": {},
     "output_type": "execute_result"
    },
    {
     "data": {
      "image/png": "[encoded data removed]",
      "text/plain": [
       "<Figure size 1440x576 with 1 Axes>"
      ]
     },
     "metadata": {
      "needs_background": "light"
     },
     "output_type": "display_data"
    }
   ],
   "source": [
    "model_reg_grv.train(num_iterations=50)"
   ]
  },
  {
   "cell_type": "markdown",
   "metadata": {},
   "source": [
    "#### evaluation score is calculated based on  the mean of the top 5% recommended books' actual ratings\n",
    "\n",
    "since 85% of the users in test data only have 1 ratings, the evaluation score is almost the same (3.865) no matter recommendations are based on which model. (will delete the score later)"
   ]
  },
  {
   "cell_type": "code",
   "execution_count": 234,
   "metadata": {
    "scrolled": true
   },
   "outputs": [
    {
     "name": "stderr",
     "output_type": "stream",
     "text": [
      "/Users/elainewu/Documents/Projects/Assignments/Capstone/Capstone Three/GoodRead Recommender/src/CFModel.py:211: SettingWithCopyWarning: \n",
      "A value is trying to be set on a copy of a slice from a DataFrame.\n",
      "Try using .loc[row_indexer,col_indexer] = value instead\n",
      "\n",
      "See the caveats in the documentation: http://pandas.pydata.org/pandas-docs/stable/user_guide/indexing.html#returning-a-view-versus-a-copy\n",
      "  \"book_id\": V\n"
     ]
    },
    {
     "data": {
      "text/plain": [
       "3.8654559983502605"
      ]
     },
     "execution_count": 234,
     "metadata": {},
     "output_type": "execute_result"
    }
   ],
   "source": [
    "eval_score(test_ratings, model_reg.embeddings['user_id'], model_reg.embeddings['book_id'] )"
   ]
  },
  {
   "cell_type": "code",
   "execution_count": 248,
   "metadata": {},
   "outputs": [
    {
     "data": {
      "text/plain": [
       "0.14314713615507552"
      ]
     },
     "execution_count": 248,
     "metadata": {},
     "output_type": "execute_result"
    }
   ],
   "source": [
    "# 85% of the users in test data only have 1 ratings\n",
    "(test_ratings.user_id.value_counts() >1).sum()/len(test_ratings)"
   ]
  },
  {
   "cell_type": "code",
   "execution_count": 255,
   "metadata": {},
   "outputs": [],
   "source": [
    "# save model_embeddings\n",
    "np.savez('model/model_reg_embeddings.npz', model_reg.embeddings['user_id'], model_reg.embeddings['book_id'])"
   ]
  },
  {
   "cell_type": "code",
   "execution_count": 110,
   "metadata": {},
   "outputs": [],
   "source": [
    "# load model_embeddings\n",
    "\n",
    "# file = np.load('model/model_reg_embeddings.npz')\n",
    "# user_embeddings = file['arr_0']\n",
    "# book_embeddings = file['arr_1']"
   ]
  },
  {
   "cell_type": "markdown",
   "metadata": {},
   "source": [
    "### Explore model_reg performance"
   ]
  },
  {
   "cell_type": "markdown",
   "metadata": {},
   "source": [
    "#### get recommendations for a given user"
   ]
  },
  {
   "cell_type": "code",
   "execution_count": 256,
   "metadata": {},
   "outputs": [
    {
     "name": "stdout",
     "output_type": "stream",
     "text": [
      "The highest recommendations for user fca26c34be8fe623ee340061f1281796.\n"
     ]
    }
   ],
   "source": [
    "#example with user 'd889b42d9eb7b80e02f24830e27c6389'\n",
    "user_id = 'fca26c34be8fe623ee340061f1281796'\n",
    "sample_user_pred = user_recommendations(books, reviews, model_reg, user_id, measure='cosine', k=6)"
   ]
  },
  {
   "cell_type": "code",
   "execution_count": 259,
   "metadata": {},
   "outputs": [
    {
     "data": {
      "text/html": [
       "<div>\n",
       "<style scoped>\n",
       "    .dataframe tbody tr th:only-of-type {\n",
       "        vertical-align: middle;\n",
       "    }\n",
       "\n",
       "    .dataframe tbody tr th {\n",
       "        vertical-align: top;\n",
       "    }\n",
       "\n",
       "    .dataframe thead th {\n",
       "        text-align: right;\n",
       "    }\n",
       "</style>\n",
       "<table border=\"1\" class=\"dataframe\">\n",
       "  <thead>\n",
       "    <tr style=\"text-align: right;\">\n",
       "      <th></th>\n",
       "      <th>cosine score</th>\n",
       "      <th>titles</th>\n",
       "      <th>is_ebook</th>\n",
       "      <th>average_rating</th>\n",
       "      <th>ratings_count</th>\n",
       "      <th>text_reviews_count</th>\n",
       "    </tr>\n",
       "  </thead>\n",
       "  <tbody>\n",
       "    <tr>\n",
       "      <th>69225</th>\n",
       "      <td>0.9309219717979431</td>\n",
       "      <td>Seizure</td>\n",
       "      <td>0</td>\n",
       "      <td>4.16</td>\n",
       "      <td>7</td>\n",
       "      <td>4</td>\n",
       "    </tr>\n",
       "    <tr>\n",
       "      <th>49762</th>\n",
       "      <td>0.9274286031723022</td>\n",
       "      <td>Dear Mr. M</td>\n",
       "      <td>1</td>\n",
       "      <td>3.29</td>\n",
       "      <td>220</td>\n",
       "      <td>19</td>\n",
       "    </tr>\n",
       "    <tr>\n",
       "      <th>198366</th>\n",
       "      <td>0.9250509738922119</td>\n",
       "      <td>Carrots (Shelby Nichols, #1)</td>\n",
       "      <td>0</td>\n",
       "      <td>3.75</td>\n",
       "      <td>16</td>\n",
       "      <td>7</td>\n",
       "    </tr>\n",
       "    <tr>\n",
       "      <th>171115</th>\n",
       "      <td>0.9231846928596497</td>\n",
       "      <td>Dead Is Better</td>\n",
       "      <td>0</td>\n",
       "      <td>4.12</td>\n",
       "      <td>18</td>\n",
       "      <td>7</td>\n",
       "    </tr>\n",
       "    <tr>\n",
       "      <th>170228</th>\n",
       "      <td>0.9153721332550049</td>\n",
       "      <td>Picture Her Dead (Rhona MacLeod #8)</td>\n",
       "      <td>0</td>\n",
       "      <td>4.04</td>\n",
       "      <td>85</td>\n",
       "      <td>17</td>\n",
       "    </tr>\n",
       "  </tbody>\n",
       "</table>\n",
       "</div>"
      ],
      "text/plain": [
       "             cosine score                               titles  is_ebook  \\\n",
       "69225  0.9309219717979431  Seizure                              0          \n",
       "49762  0.9274286031723022  Dear Mr. M                           1          \n",
       "198366 0.9250509738922119  Carrots (Shelby Nichols, #1)         0          \n",
       "171115 0.9231846928596497  Dead Is Better                       0          \n",
       "170228 0.9153721332550049  Picture Her Dead (Rhona MacLeod #8)  0          \n",
       "\n",
       "        average_rating  ratings_count  text_reviews_count  \n",
       "69225  4.16             7              4                   \n",
       "49762  3.29             220            19                  \n",
       "198366 3.75             16             7                   \n",
       "171115 4.12             18             7                   \n",
       "170228 4.04             85             17                  "
      ]
     },
     "execution_count": 259,
     "metadata": {},
     "output_type": "execute_result"
    }
   ],
   "source": [
    "sample_user_pred.sort_values('cosine score', ascending=False)[:5]"
   ]
  },
  {
   "cell_type": "code",
   "execution_count": 85,
   "metadata": {},
   "outputs": [],
   "source": [
    "sample_user_pred = sample_user_pred.reset_index()"
   ]
  },
  {
   "cell_type": "code",
   "execution_count": 87,
   "metadata": {},
   "outputs": [],
   "source": [
    "sample_user_pred.head()\n",
    "sample_user_pred.columns = ['old_book_id', 'cosine score', 'titles', 'is_ebook', 'average_rating', 'ratings_count', 'text_reviews_count']"
   ]
  },
  {
   "cell_type": "code",
   "execution_count": 82,
   "metadata": {},
   "outputs": [],
   "source": [
    "sample_user_actual = reviews[reviews.old_user_id == 'fca26c34be8fe623ee340061f1281796']"
   ]
  },
  {
   "cell_type": "code",
   "execution_count": 91,
   "metadata": {},
   "outputs": [
    {
     "data": {
      "text/html": [
       "<div>\n",
       "<style scoped>\n",
       "    .dataframe tbody tr th:only-of-type {\n",
       "        vertical-align: middle;\n",
       "    }\n",
       "\n",
       "    .dataframe tbody tr th {\n",
       "        vertical-align: top;\n",
       "    }\n",
       "\n",
       "    .dataframe thead th {\n",
       "        text-align: right;\n",
       "    }\n",
       "</style>\n",
       "<table border=\"1\" class=\"dataframe\">\n",
       "  <thead>\n",
       "    <tr style=\"text-align: right;\">\n",
       "      <th></th>\n",
       "      <th>review_id</th>\n",
       "      <th>user_id</th>\n",
       "      <th>book_id</th>\n",
       "      <th>rating</th>\n",
       "      <th>timestamp</th>\n",
       "      <th>n_votes</th>\n",
       "      <th>n_comments</th>\n",
       "      <th>old_user_id</th>\n",
       "      <th>old_book_id</th>\n",
       "    </tr>\n",
       "  </thead>\n",
       "  <tbody>\n",
       "    <tr>\n",
       "      <th>3765</th>\n",
       "      <td>fb89469b4f0bc239db8003b0989d0f9b</td>\n",
       "      <td>119717</td>\n",
       "      <td>23582</td>\n",
       "      <td>1</td>\n",
       "      <td>2007-08-06 06:06:11</td>\n",
       "      <td>0</td>\n",
       "      <td>0</td>\n",
       "      <td>fca26c34be8fe623ee340061f1281796</td>\n",
       "      <td>1653254</td>\n",
       "    </tr>\n",
       "    <tr>\n",
       "      <th>3844</th>\n",
       "      <td>714613442f497a577f9f5af133864142</td>\n",
       "      <td>119717</td>\n",
       "      <td>17437</td>\n",
       "      <td>4</td>\n",
       "      <td>2007-08-07 16:56:36</td>\n",
       "      <td>3</td>\n",
       "      <td>0</td>\n",
       "      <td>fca26c34be8fe623ee340061f1281796</td>\n",
       "      <td>149576</td>\n",
       "    </tr>\n",
       "    <tr>\n",
       "      <th>3846</th>\n",
       "      <td>0d9147c5c9f7fe6efd127743bd5b90fe</td>\n",
       "      <td>119717</td>\n",
       "      <td>12590</td>\n",
       "      <td>2</td>\n",
       "      <td>2007-08-07 16:58:55</td>\n",
       "      <td>1</td>\n",
       "      <td>0</td>\n",
       "      <td>fca26c34be8fe623ee340061f1281796</td>\n",
       "      <td>1328722</td>\n",
       "    </tr>\n",
       "    <tr>\n",
       "      <th>3847</th>\n",
       "      <td>bd0f80100980a41524fafc29cb41be20</td>\n",
       "      <td>119717</td>\n",
       "      <td>10680</td>\n",
       "      <td>5</td>\n",
       "      <td>2007-08-07 17:02:17</td>\n",
       "      <td>1</td>\n",
       "      <td>0</td>\n",
       "      <td>fca26c34be8fe623ee340061f1281796</td>\n",
       "      <td>1293660</td>\n",
       "    </tr>\n",
       "    <tr>\n",
       "      <th>3848</th>\n",
       "      <td>85eb8a30584cafb745d4df25b26a9ecf</td>\n",
       "      <td>119717</td>\n",
       "      <td>99148</td>\n",
       "      <td>3</td>\n",
       "      <td>2007-08-07 17:03:14</td>\n",
       "      <td>1</td>\n",
       "      <td>0</td>\n",
       "      <td>fca26c34be8fe623ee340061f1281796</td>\n",
       "      <td>84785</td>\n",
       "    </tr>\n",
       "  </tbody>\n",
       "</table>\n",
       "</div>"
      ],
      "text/plain": [
       "                             review_id  user_id  book_id  rating  \\\n",
       "3765  fb89469b4f0bc239db8003b0989d0f9b  119717   23582    1        \n",
       "3844  714613442f497a577f9f5af133864142  119717   17437    4        \n",
       "3846  0d9147c5c9f7fe6efd127743bd5b90fe  119717   12590    2        \n",
       "3847  bd0f80100980a41524fafc29cb41be20  119717   10680    5        \n",
       "3848  85eb8a30584cafb745d4df25b26a9ecf  119717   99148    3        \n",
       "\n",
       "                timestamp  n_votes  n_comments  \\\n",
       "3765  2007-08-06 06:06:11  0        0            \n",
       "3844  2007-08-07 16:56:36  3        0            \n",
       "3846  2007-08-07 16:58:55  1        0            \n",
       "3847  2007-08-07 17:02:17  1        0            \n",
       "3848  2007-08-07 17:03:14  1        0            \n",
       "\n",
       "                           old_user_id  old_book_id  \n",
       "3765  fca26c34be8fe623ee340061f1281796  1653254      \n",
       "3844  fca26c34be8fe623ee340061f1281796  149576       \n",
       "3846  fca26c34be8fe623ee340061f1281796  1328722      \n",
       "3847  fca26c34be8fe623ee340061f1281796  1293660      \n",
       "3848  fca26c34be8fe623ee340061f1281796  84785        "
      ]
     },
     "execution_count": 91,
     "metadata": {},
     "output_type": "execute_result"
    }
   ],
   "source": [
    "sample_user_actual.head()"
   ]
  },
  {
   "cell_type": "code",
   "execution_count": 92,
   "metadata": {},
   "outputs": [],
   "source": [
    "for_sample_user_model = sample_user_pred.merge(sample_user_actual, how='left', left_on='old_book_id', right_on = 'old_book_id')"
   ]
  },
  {
   "cell_type": "code",
   "execution_count": 93,
   "metadata": {},
   "outputs": [
    {
     "data": {
      "text/html": [
       "<div>\n",
       "<style scoped>\n",
       "    .dataframe tbody tr th:only-of-type {\n",
       "        vertical-align: middle;\n",
       "    }\n",
       "\n",
       "    .dataframe tbody tr th {\n",
       "        vertical-align: top;\n",
       "    }\n",
       "\n",
       "    .dataframe thead th {\n",
       "        text-align: right;\n",
       "    }\n",
       "</style>\n",
       "<table border=\"1\" class=\"dataframe\">\n",
       "  <thead>\n",
       "    <tr style=\"text-align: right;\">\n",
       "      <th></th>\n",
       "      <th>old_book_id</th>\n",
       "      <th>cosine score</th>\n",
       "      <th>titles</th>\n",
       "      <th>is_ebook</th>\n",
       "      <th>average_rating</th>\n",
       "      <th>ratings_count</th>\n",
       "      <th>text_reviews_count</th>\n",
       "      <th>review_id</th>\n",
       "      <th>user_id</th>\n",
       "      <th>book_id</th>\n",
       "      <th>rating</th>\n",
       "      <th>timestamp</th>\n",
       "      <th>n_votes</th>\n",
       "      <th>n_comments</th>\n",
       "      <th>old_user_id</th>\n",
       "    </tr>\n",
       "  </thead>\n",
       "  <tbody>\n",
       "    <tr>\n",
       "      <th>0</th>\n",
       "      <td>10000063</td>\n",
       "      <td>0.14918702840805054</td>\n",
       "      <td>The Two Deaths of Daniel Hayes</td>\n",
       "      <td>0</td>\n",
       "      <td>3.49</td>\n",
       "      <td>1698</td>\n",
       "      <td>297</td>\n",
       "      <td>NaN</td>\n",
       "      <td>nan</td>\n",
       "      <td>nan</td>\n",
       "      <td>nan</td>\n",
       "      <td>NaN</td>\n",
       "      <td>nan</td>\n",
       "      <td>nan</td>\n",
       "      <td>NaN</td>\n",
       "    </tr>\n",
       "    <tr>\n",
       "      <th>1</th>\n",
       "      <td>10000067</td>\n",
       "      <td>0.2064065933227539</td>\n",
       "      <td>Pressure</td>\n",
       "      <td>1</td>\n",
       "      <td>4.0</td>\n",
       "      <td>16</td>\n",
       "      <td>4</td>\n",
       "      <td>NaN</td>\n",
       "      <td>nan</td>\n",
       "      <td>nan</td>\n",
       "      <td>nan</td>\n",
       "      <td>NaN</td>\n",
       "      <td>nan</td>\n",
       "      <td>nan</td>\n",
       "      <td>NaN</td>\n",
       "    </tr>\n",
       "    <tr>\n",
       "      <th>2</th>\n",
       "      <td>10000114</td>\n",
       "      <td>0.023210614919662476</td>\n",
       "      <td>The Devil's Graveyard</td>\n",
       "      <td>0</td>\n",
       "      <td>3.94</td>\n",
       "      <td>38</td>\n",
       "      <td>7</td>\n",
       "      <td>NaN</td>\n",
       "      <td>nan</td>\n",
       "      <td>nan</td>\n",
       "      <td>nan</td>\n",
       "      <td>NaN</td>\n",
       "      <td>nan</td>\n",
       "      <td>nan</td>\n",
       "      <td>NaN</td>\n",
       "    </tr>\n",
       "    <tr>\n",
       "      <th>3</th>\n",
       "      <td>10000131</td>\n",
       "      <td>0.13956785202026367</td>\n",
       "      <td>The Taking</td>\n",
       "      <td>0</td>\n",
       "      <td>3.78</td>\n",
       "      <td>4</td>\n",
       "      <td>2</td>\n",
       "      <td>NaN</td>\n",
       "      <td>nan</td>\n",
       "      <td>nan</td>\n",
       "      <td>nan</td>\n",
       "      <td>NaN</td>\n",
       "      <td>nan</td>\n",
       "      <td>nan</td>\n",
       "      <td>NaN</td>\n",
       "    </tr>\n",
       "    <tr>\n",
       "      <th>4</th>\n",
       "      <td>10000267</td>\n",
       "      <td>0.4012167453765869</td>\n",
       "      <td>Die For Me (Romantic Suspense, #7; Daniel Vartanian, #1)</td>\n",
       "      <td>1</td>\n",
       "      <td>4.25</td>\n",
       "      <td>12</td>\n",
       "      <td>5</td>\n",
       "      <td>NaN</td>\n",
       "      <td>nan</td>\n",
       "      <td>nan</td>\n",
       "      <td>nan</td>\n",
       "      <td>NaN</td>\n",
       "      <td>nan</td>\n",
       "      <td>nan</td>\n",
       "      <td>NaN</td>\n",
       "    </tr>\n",
       "  </tbody>\n",
       "</table>\n",
       "</div>"
      ],
      "text/plain": [
       "   old_book_id         cosine score  \\\n",
       "0  10000063    0.14918702840805054    \n",
       "1  10000067    0.2064065933227539     \n",
       "2  10000114    0.023210614919662476   \n",
       "3  10000131    0.13956785202026367    \n",
       "4  10000267    0.4012167453765869     \n",
       "\n",
       "                                                     titles  is_ebook  \\\n",
       "0  The Two Deaths of Daniel Hayes                            0          \n",
       "1  Pressure                                                  1          \n",
       "2  The Devil's Graveyard                                     0          \n",
       "3  The Taking                                                0          \n",
       "4  Die For Me (Romantic Suspense, #7; Daniel Vartanian, #1)  1          \n",
       "\n",
       "   average_rating  ratings_count  text_reviews_count review_id  user_id  \\\n",
       "0 3.49             1698           297                 NaN      nan        \n",
       "1 4.0              16             4                   NaN      nan        \n",
       "2 3.94             38             7                   NaN      nan        \n",
       "3 3.78             4              2                   NaN      nan        \n",
       "4 4.25             12             5                   NaN      nan        \n",
       "\n",
       "   book_id  rating timestamp  n_votes  n_comments old_user_id  \n",
       "0 nan      nan      NaN      nan      nan          NaN         \n",
       "1 nan      nan      NaN      nan      nan          NaN         \n",
       "2 nan      nan      NaN      nan      nan          NaN         \n",
       "3 nan      nan      NaN      nan      nan          NaN         \n",
       "4 nan      nan      NaN      nan      nan          NaN         "
      ]
     },
     "execution_count": 93,
     "metadata": {},
     "output_type": "execute_result"
    }
   ],
   "source": [
    "for_sample_user_model.head()"
   ]
  },
  {
   "cell_type": "code",
   "execution_count": 62,
   "metadata": {},
   "outputs": [
    {
     "data": {
      "text/plain": [
       "old_user_id\n",
       "00009e46d18f223a82b22da38586b605    15\n",
       "0000c3d51aa099745e93a4e99c4856c8    4 \n",
       "000192962b87d560f00b06fdcbd71681    2 \n",
       "000253cf1077f203bca050637f2ec7f7    6 \n",
       "00048fe3297cbb92a6e9fb78a6dce421    2 \n",
       "Name: rating, dtype: int64"
      ]
     },
     "execution_count": 62,
     "metadata": {},
     "output_type": "execute_result"
    }
   ],
   "source": [
    "user_df = reviews.groupby('old_user_id').count()['rating']\n",
    "user_df.head()\n"
   ]
  },
  {
   "cell_type": "code",
   "execution_count": 69,
   "metadata": {},
   "outputs": [
    {
     "data": {
      "text/plain": [
       "0.08478319995384603"
      ]
     },
     "execution_count": 69,
     "metadata": {},
     "output_type": "execute_result"
    }
   ],
   "source": [
    "(user_df.sort_values(ascending=False) > 30).sum()/len(user_df)"
   ]
  },
  {
   "cell_type": "code",
   "execution_count": 70,
   "metadata": {},
   "outputs": [
    {
     "data": {
      "text/plain": [
       "old_user_id\n",
       "fca26c34be8fe623ee340061f1281796    True \n",
       "795595616d3dbd81bd16b617c9a1fa48    True \n",
       "da1e69dbd8e0016bc5d39a9de2c3c753    True \n",
       "a45fb5d39a6a9857ff8362900790510a    True \n",
       "ba7f50286295186a87feaeb42af2ebc1    True \n",
       "                                    ...  \n",
       "35e294edf62166c1e8ccfcef45c5f392    False\n",
       "215ef5505ff9ac2b7b2abdfe913e6d76    False\n",
       "215d9642849e73d67676431aa28516a0    False\n",
       "0d41532480bd79738e5ab52a705087ef    False\n",
       "21f61a8d0e5c0fabf6bf0dc1733311c0    False\n",
       "Name: rating, Length: 121333, dtype: bool"
      ]
     },
     "execution_count": 70,
     "metadata": {},
     "output_type": "execute_result"
    }
   ],
   "source": [
    "user_df.sort_values(ascending=False) > 30"
   ]
  },
  {
   "cell_type": "markdown",
   "metadata": {},
   "source": [
    "### get neighbors of a book which contains a given substring"
   ]
  },
  {
   "cell_type": "code",
   "execution_count": 276,
   "metadata": {},
   "outputs": [
    {
     "name": "stdout",
     "output_type": "stream",
     "text": [
      "Nearest neighbors of : Crowner's Crusade (Crowner John Mystery #15).\n",
      "[Found more than one matching book. Other candidates: Crowner's Quest (Crowner John Mystery #3), The Poisoned Chalice (Crowner John Mystery #2), The Grim Reaper (Crowner John Mystery #6), The Elixir of Death (Crowner John Mystery #10), Figure of Hate (Crowner John Mystery #9), The Manor of Death (Crowner John Mystery #12), A Plague of Heretics (Crowner John Mystery #14), The Witch Hunter (Crowner John Mystery #8), The Sanctuary Seeker (Crowner John Mystery #1), Fear in the Forest (Crowner John Mystery #7), The Noble Outlaw (Crowner John Mystery #11)]\n"
     ]
    },
    {
     "data": {
      "text/html": [
       "<div>\n",
       "<style scoped>\n",
       "    .dataframe tbody tr th:only-of-type {\n",
       "        vertical-align: middle;\n",
       "    }\n",
       "\n",
       "    .dataframe tbody tr th {\n",
       "        vertical-align: top;\n",
       "    }\n",
       "\n",
       "    .dataframe thead th {\n",
       "        text-align: right;\n",
       "    }\n",
       "</style>\n",
       "<table border=\"1\" class=\"dataframe\">\n",
       "  <thead>\n",
       "    <tr style=\"text-align: right;\">\n",
       "      <th></th>\n",
       "      <th>cosine score</th>\n",
       "      <th>titles</th>\n",
       "      <th>is_ebook</th>\n",
       "      <th>average_rating</th>\n",
       "      <th>ratings_count</th>\n",
       "    </tr>\n",
       "  </thead>\n",
       "  <tbody>\n",
       "    <tr>\n",
       "      <th>40489</th>\n",
       "      <td>0.9999999403953552</td>\n",
       "      <td>Obsession (Faces of Evil, #1)</td>\n",
       "      <td>1</td>\n",
       "      <td>4.07</td>\n",
       "      <td>529</td>\n",
       "    </tr>\n",
       "    <tr>\n",
       "      <th>99193</th>\n",
       "      <td>0.8655579090118408</td>\n",
       "      <td>Comeback (Parker, #17)</td>\n",
       "      <td>0</td>\n",
       "      <td>4.1</td>\n",
       "      <td>79</td>\n",
       "    </tr>\n",
       "    <tr>\n",
       "      <th>23598</th>\n",
       "      <td>0.8367605209350586</td>\n",
       "      <td>The Lithium Murder (Periodic Table, #3)</td>\n",
       "      <td>0</td>\n",
       "      <td>3.64</td>\n",
       "      <td>94</td>\n",
       "    </tr>\n",
       "    <tr>\n",
       "      <th>132161</th>\n",
       "      <td>0.8343894481658936</td>\n",
       "      <td>Death and Restoration (Jonathan Argyll, #6)</td>\n",
       "      <td>0</td>\n",
       "      <td>3.67</td>\n",
       "      <td>750</td>\n",
       "    </tr>\n",
       "    <tr>\n",
       "      <th>188204</th>\n",
       "      <td>0.8308665156364441</td>\n",
       "      <td>A Ghostly Light (Haunted Home Renovation Mystery, #7)</td>\n",
       "      <td>0</td>\n",
       "      <td>4.27</td>\n",
       "      <td>457</td>\n",
       "    </tr>\n",
       "    <tr>\n",
       "      <th>45208</th>\n",
       "      <td>0.8211731314659119</td>\n",
       "      <td>Scourge</td>\n",
       "      <td>1</td>\n",
       "      <td>3.93</td>\n",
       "      <td>467</td>\n",
       "    </tr>\n",
       "    <tr>\n",
       "      <th>83480</th>\n",
       "      <td>0.821016788482666</td>\n",
       "      <td>Privileged Information</td>\n",
       "      <td>0</td>\n",
       "      <td>3.93</td>\n",
       "      <td>23</td>\n",
       "    </tr>\n",
       "    <tr>\n",
       "      <th>7311</th>\n",
       "      <td>0.8208984136581421</td>\n",
       "      <td>One Fateful Summer</td>\n",
       "      <td>0</td>\n",
       "      <td>4.25</td>\n",
       "      <td>24</td>\n",
       "    </tr>\n",
       "    <tr>\n",
       "      <th>136998</th>\n",
       "      <td>0.8203662037849426</td>\n",
       "      <td>Syndrome E</td>\n",
       "      <td>0</td>\n",
       "      <td>3.83</td>\n",
       "      <td>17</td>\n",
       "    </tr>\n",
       "    <tr>\n",
       "      <th>134725</th>\n",
       "      <td>0.8201779127120972</td>\n",
       "      <td>The Last Bridge: A Novel</td>\n",
       "      <td>0</td>\n",
       "      <td>3.71</td>\n",
       "      <td>73</td>\n",
       "    </tr>\n",
       "  </tbody>\n",
       "</table>\n",
       "</div>"
      ],
      "text/plain": [
       "             cosine score  \\\n",
       "40489  0.9999999403953552   \n",
       "99193  0.8655579090118408   \n",
       "23598  0.8367605209350586   \n",
       "132161 0.8343894481658936   \n",
       "188204 0.8308665156364441   \n",
       "45208  0.8211731314659119   \n",
       "83480  0.821016788482666    \n",
       "7311   0.8208984136581421   \n",
       "136998 0.8203662037849426   \n",
       "134725 0.8201779127120972   \n",
       "\n",
       "                                                       titles  is_ebook  \\\n",
       "40489   Obsession (Faces of Evil, #1)                          1          \n",
       "99193   Comeback (Parker, #17)                                 0          \n",
       "23598   The Lithium Murder (Periodic Table, #3)                0          \n",
       "132161  Death and Restoration (Jonathan Argyll, #6)            0          \n",
       "188204  A Ghostly Light (Haunted Home Renovation Mystery, #7)  0          \n",
       "45208   Scourge                                                1          \n",
       "83480   Privileged Information                                 0          \n",
       "7311    One Fateful Summer                                     0          \n",
       "136998  Syndrome E                                             0          \n",
       "134725  The Last Bridge: A Novel                               0          \n",
       "\n",
       "        average_rating  ratings_count  \n",
       "40489  4.07             529            \n",
       "99193  4.1              79             \n",
       "23598  3.64             94             \n",
       "132161 3.67             750            \n",
       "188204 4.27             457            \n",
       "45208  3.93             467            \n",
       "83480  3.93             23             \n",
       "7311   4.25             24             \n",
       "136998 3.83             17             \n",
       "134725 3.71             73             "
      ]
     },
     "metadata": {},
     "output_type": "display_data"
    }
   ],
   "source": [
    "title_substring ='Crowner'\n",
    "book_neighbors(books, reviews, model_reg, title_substring, measure='cosine', k=10)"
   ]
  },
  {
   "cell_type": "markdown",
   "metadata": {},
   "source": [
    "### inspect neighbor clustering"
   ]
  },
  {
   "cell_type": "code",
   "execution_count": 101,
   "metadata": {},
   "outputs": [],
   "source": [
    "def book_embedding_norm(books, models):\n",
    "    \"\"\"\n",
    "    visualizes the norm and number of ratings of the book\n",
    "    Args:\n",
    "        model: a MFmodel object\n",
    "    \"\"\"\n",
    "    if not isinstance(models, list):\n",
    "        models = [models]\n",
    "    df=pd.DataFrame({\n",
    "        'title': books['title'],\n",
    "        'average_rating': books['average_rating'],\n",
    "        'ratings_count':books['ratings_count']\n",
    "    })\n",
    "    charts = []\n",
    "    brush = alt.selection_interval()\n",
    "    for i, model in enumerate(models):\n",
    "        norm_key = 'norm' +str(i)\n",
    "        df[norm_key] = np.linalg.norm(model.embeddings['book_id'], axis=1) #only included the first 1000 books for visualization\n",
    "        nearest = alt.selection(\n",
    "                type='single', encodings=['x', 'y'], on='mouseover', nearest=True,\n",
    "                empty='none')\n",
    "        base = alt.Chart().mark_circle().encode(\n",
    "                x='ratings_count',\n",
    "                y=norm_key,\n",
    "               color=alt.condition(brush, alt.value('#4c78a8'), alt.value('lightgray'))\n",
    "            ).properties(selection=nearest).add_selection(brush)\n",
    "        text = alt.Chart().mark_text(align='center', dx=5, dy=-5).encode(\n",
    "        x='ratings_count', y=norm_key,\n",
    "        text=alt.condition(nearest, 'title', alt.value('')))\n",
    "        charts.append(alt.layer(base, text))\n",
    "    return alt.hconcat(*charts, data=df[:1000])\n",
    "    \n",
    "    "
   ]
  },
  {
   "cell_type": "code",
   "execution_count": 127,
   "metadata": {},
   "outputs": [],
   "source": [
    "def visualize_movie_embeddings(data, x, y):\n",
    "    nearest = alt.selection(\n",
    "      type='single', encodings=['x', 'y'], on='mouseover', nearest=True,\n",
    "      empty='none')\n",
    "    base = alt.Chart().mark_circle().encode(\n",
    "      x=x,\n",
    "      y=y,\n",
    "      color=alt.condition(is_ebook_filter, \"is_ebook\", alt.value(\"whitesmoke\")),\n",
    "      ).properties(\n",
    "      width=600,\n",
    "      height=600,\n",
    "      selection=nearest)\n",
    "    text = alt.Chart().mark_text(align='left', dx=5, dy=-5).encode(\n",
    "      x=x,\n",
    "      y=y,\n",
    "      text=alt.condition(nearest, 'title', alt.value('')))\n",
    "    return alt.hconcat(alt.layer(base, text), is_ebook_chart, data=data[:5000])\n"
   ]
  },
  {
   "cell_type": "code",
   "execution_count": 126,
   "metadata": {},
   "outputs": [],
   "source": [
    "is_ebook_filter = alt.selection_multi(fields=['is_ebook'])\n",
    "is_ebook_chart = alt.Chart().mark_bar().encode(\n",
    "    x=\"count()\",\n",
    "    y=alt.Y('is_ebook'),\n",
    "    color=alt.condition(\n",
    "        is_ebook_filter,\n",
    "        alt.Color(\"is_ebook:N\"),\n",
    "        alt.value('lightgray'))\n",
    ").properties(height=300, selection=is_ebook_filter)"
   ]
  },
  {
   "cell_type": "code",
   "execution_count": 128,
   "metadata": {},
   "outputs": [],
   "source": [
    "def tsne_movie_embeddings(model, books):\n",
    "    \"\"\"Visualizes the movie embeddings, projected using t-SNE with Cosine measure.\n",
    "    Args:\n",
    "    model: A MFModel object.\n",
    "    \"\"\"\n",
    "    tsne = sklearn.manifold.TSNE(\n",
    "      n_components=2, perplexity=40, metric='cosine', early_exaggeration=10.0,\n",
    "      init='pca', verbose=True, n_iter=400)\n",
    "\n",
    "    print('Running t-SNE...')\n",
    "    V_proj = tsne.fit_transform(model.embeddings[\"book_id\"][:5000])\n",
    "    books.loc[:,'x'] = V_proj[:, 0]\n",
    "    books.loc[:,'y'] = V_proj[:, 1]\n",
    "    return visualize_movie_embeddings(books, 'x', 'y')"
   ]
  },
  {
   "cell_type": "code",
   "execution_count": 100,
   "metadata": {},
   "outputs": [
    {
     "data": {
      "text/plain": [
       "((105365, 30), 105365)"
      ]
     },
     "execution_count": 100,
     "metadata": {},
     "output_type": "execute_result"
    }
   ],
   "source": [
    "model.embeddings['book_id'].shape, len(books)"
   ]
  },
  {
   "cell_type": "code",
   "execution_count": 102,
   "metadata": {},
   "outputs": [
    {
     "data": {
      "application/vnd.vegalite.v3+json": {
       "$schema": "https://vega.github.io/schema/vega-lite/v3.4.0.json",
       "config": {
        "mark": {
         "tooltip": null
        },
        "view": {
         "height": 300,
         "width": 400
        }
       },
       "data": {
        "name": "data-2943b895ccf6501cf85781973bdda6d3"
       },
       "datasets": {
        "data-2943b895ccf6501cf85781973bdda6d3": [
         {
          "average_rating": 3.49,
          "norm0": 2.851109266281128,
          "ratings_count": 1698,
          "title": "The Two Deaths of Daniel Hayes"
         },
         {
          "average_rating": 4,
          "norm0": 1.3242213726043701,
          "ratings_count": 16,
          "title": "Pressure"
         },
         {
          "average_rating": 3.94,
          "norm0": 1.8818777799606323,
          "ratings_count": 38,
          "title": "The Devil's Graveyard"
         },
         {
          "average_rating": 3.78,
          "norm0": 1.0308083295822144,
          "ratings_count": 4,
          "title": "The Taking"
         },
         {
          "average_rating": 4.25,
          "norm0": 1.0338937044143677,
          "ratings_count": 12,
          "title": "Die For Me (Romantic Suspense, #7; Daniel Vartanian, #1)"
         },
         {
          "average_rating": 3.83,
          "norm0": 1.320680022239685,
          "ratings_count": 9,
          "title": "Crooked Little Vein"
         },
         {
          "average_rating": 3.8,
          "norm0": 1.6519927978515625,
          "ratings_count": 27,
          "title": "The Opposite of Dark"
         },
         {
          "average_rating": 4.14,
          "norm0": 1.3465126752853394,
          "ratings_count": 9,
          "title": "Hide (Detective D. D. Warren Series #2)"
         },
         {
          "average_rating": 3.92,
          "norm0": 1.411756157875061,
          "ratings_count": 262,
          "title": "Trojan Odyssey (Dirk Pitt, #17)"
         },
         {
          "average_rating": 3.74,
          "norm0": 0.9516052007675171,
          "ratings_count": 31,
          "title": "The Return"
         },
         {
          "average_rating": 4.09,
          "norm0": 1.7449458837509155,
          "ratings_count": 397,
          "title": "Persuader (Jack Reacher, #7)"
         },
         {
          "average_rating": 4.16,
          "norm0": 1.7806379795074463,
          "ratings_count": 330,
          "title": "The Enemy (Jack Reacher, #8)"
         },
         {
          "average_rating": 4.15,
          "norm0": 1.7586138248443604,
          "ratings_count": 286,
          "title": "The Hard Way (Jack Reacher, #10)"
         },
         {
          "average_rating": 3.55,
          "norm0": 1.5253970623016357,
          "ratings_count": 56,
          "title": "Villain"
         },
         {
          "average_rating": 3.95,
          "norm0": 1.3404979705810547,
          "ratings_count": 181,
          "title": "Tough Customer"
         },
         {
          "average_rating": 3.4,
          "norm0": 1.520216464996338,
          "ratings_count": 77,
          "title": "A Plunder by Pilgrims"
         },
         {
          "average_rating": 3.76,
          "norm0": 2.1747450828552246,
          "ratings_count": 286,
          "title": "Cold Fire"
         },
         {
          "average_rating": 3.9,
          "norm0": 1.9605106115341187,
          "ratings_count": 225,
          "title": "Whispers"
         },
         {
          "average_rating": 3.94,
          "norm0": 2.396517515182495,
          "ratings_count": 578,
          "title": "The Door to December"
         },
         {
          "average_rating": 3.61,
          "norm0": 0.850715696811676,
          "ratings_count": 4,
          "title": "Wolf to the Slaughter"
         },
         {
          "average_rating": 3.81,
          "norm0": 1.5350050926208496,
          "ratings_count": 184,
          "title": "Dumb Witness (Hercule Poirot, #16)"
         },
         {
          "average_rating": 3.75,
          "norm0": 0.8127918243408203,
          "ratings_count": 9,
          "title": "Very Bad Men"
         },
         {
          "average_rating": 3.61,
          "norm0": 1.9027230739593506,
          "ratings_count": 176,
          "title": "Lucidity"
         },
         {
          "average_rating": 3.84,
          "norm0": 1.0684523582458496,
          "ratings_count": 75,
          "title": "Under the Lake"
         },
         {
          "average_rating": 3.64,
          "norm0": 1.4366273880004883,
          "ratings_count": 61,
          "title": "The Hypnotist"
         },
         {
          "average_rating": 3.98,
          "norm0": 0.9702590703964233,
          "ratings_count": 21,
          "title": "Four Blind Mice"
         },
         {
          "average_rating": 3.54,
          "norm0": 0.9020650386810303,
          "ratings_count": 9,
          "title": "Killer on a Hot Tin Roof (A Delilah Dickinson Literary Tour Mystery #3)"
         },
         {
          "average_rating": 4.1,
          "norm0": 1.7897306680679321,
          "ratings_count": 471,
          "title": "A Mortal Terror (Billy Boyle World War II, #6)"
         },
         {
          "average_rating": 3.91,
          "norm0": 1.072076678276062,
          "ratings_count": 47,
          "title": "Carved in Bone (Body Farm, #1)"
         },
         {
          "average_rating": 3.66,
          "norm0": 0.8237705826759338,
          "ratings_count": 9,
          "title": "The Cemetery Yew (Martha's Vineyard Mystery, #3)"
         },
         {
          "average_rating": 3.67,
          "norm0": 1.1669996976852417,
          "ratings_count": 31,
          "title": "Hide and Seek"
         },
         {
          "average_rating": 3.86,
          "norm0": 1.512089729309082,
          "ratings_count": 31,
          "title": "Man And Wife"
         },
         {
          "average_rating": 3.53,
          "norm0": 1.0996042490005493,
          "ratings_count": 85,
          "title": "The Blackheath Poisonings: A Victorian Murder Mystery"
         },
         {
          "average_rating": 3.38,
          "norm0": 1.5689115524291992,
          "ratings_count": 20,
          "title": "The Players and The Game"
         },
         {
          "average_rating": 3.94,
          "norm0": 2.1898510456085205,
          "ratings_count": 315,
          "title": "The Honourable Schoolboy (The Karla Trilogy, #2)"
         },
         {
          "average_rating": 3.89,
          "norm0": 1.3886926174163818,
          "ratings_count": 123,
          "title": "The First Counsel"
         },
         {
          "average_rating": 3.82,
          "norm0": 2.186173677444458,
          "ratings_count": 43,
          "title": "HICKORY DICKORY SHOCK"
         },
         {
          "average_rating": 3.81,
          "norm0": 1.7701935768127441,
          "ratings_count": 163,
          "title": "The Millionaires"
         },
         {
          "average_rating": 3.89,
          "norm0": 1.168257474899292,
          "ratings_count": 16,
          "title": "The Zero Game"
         },
         {
          "average_rating": 3.89,
          "norm0": 1.7947161197662354,
          "ratings_count": 156,
          "title": "The Zero Game"
         },
         {
          "average_rating": 3.49,
          "norm0": 1.150313138961792,
          "ratings_count": 81,
          "title": "Mayhem (St. Cyr & Kohler, #1)"
         },
         {
          "average_rating": 3.72,
          "norm0": 1.1329199075698853,
          "ratings_count": 86,
          "title": "Cupid's Revenge (Chloe Boston Mystery #5)"
         },
         {
          "average_rating": 4.22,
          "norm0": 1.7236865758895874,
          "ratings_count": 15,
          "title": "Semisweet: A Maggie and Odessa Mystery"
         },
         {
          "average_rating": 4.01,
          "norm0": 1.2410720586776733,
          "ratings_count": 18,
          "title": "Dismissed With Prejudice (J.P. Beaumont, #7)"
         },
         {
          "average_rating": 3.84,
          "norm0": 0.880024790763855,
          "ratings_count": 11,
          "title": "April Fool Dead"
         },
         {
          "average_rating": 4.02,
          "norm0": 2.5588443279266357,
          "ratings_count": 697,
          "title": "The Hunt for Red October (Jack Ryan Universe, #4)"
         },
         {
          "average_rating": 3.92,
          "norm0": 3.0102908611297607,
          "ratings_count": 1894,
          "title": "The Firm"
         },
         {
          "average_rating": 3.99,
          "norm0": 1.609702706336975,
          "ratings_count": 253,
          "title": "The Sum of All Fears (Jack Ryan, #6)"
         },
         {
          "average_rating": 4.05,
          "norm0": 1.111004114151001,
          "ratings_count": 464,
          "title": "Executive Orders (Jack Ryan Universe, #9)"
         },
         {
          "average_rating": 3.68,
          "norm0": 0.8032284379005432,
          "ratings_count": 18,
          "title": "Bernard Spilsbury: His Life and Cases"
         },
         {
          "average_rating": 3.27,
          "norm0": 0.5451326370239258,
          "ratings_count": 2,
          "title": "No Murder Before Its Time (Esbeth Walters, #1)"
         },
         {
          "average_rating": 4.09,
          "norm0": 1.1099648475646973,
          "ratings_count": 47,
          "title": "Fever Dream"
         },
         {
          "average_rating": 3.67,
          "norm0": 1.602994441986084,
          "ratings_count": 277,
          "title": "Red Cat (John March, #3)"
         },
         {
          "average_rating": 4.07,
          "norm0": 1.917883038520813,
          "ratings_count": 105,
          "title": "The Woodcutter"
         },
         {
          "average_rating": 3.79,
          "norm0": 1.255170464515686,
          "ratings_count": 34,
          "title": "Max Finder Mystery Collected Casebook Volume 1"
         },
         {
          "average_rating": 3.39,
          "norm0": 1.2313005924224854,
          "ratings_count": 25,
          "title": "The Constantine Codex"
         },
         {
          "average_rating": 3.93,
          "norm0": 1.0045045614242554,
          "ratings_count": 271,
          "title": "What Mrs. McGillicudy Saw!"
         },
         {
          "average_rating": 3.5,
          "norm0": 1.6633294820785522,
          "ratings_count": 61,
          "title": "Bet Your Bones (A Dinah Pelerin Mystery, #2)"
         },
         {
          "average_rating": 4.06,
          "norm0": 1.887863278388977,
          "ratings_count": 232,
          "title": "Unbelievable (Pretty Little Liars, #4)"
         },
         {
          "average_rating": 3.96,
          "norm0": 1.6696456670761108,
          "ratings_count": 15,
          "title": "No One Can Hurt Him Anymore"
         },
         {
          "average_rating": 4.02,
          "norm0": 1.0905178785324097,
          "ratings_count": 58,
          "title": "6th Target (Women's Murder Club #6), The"
         },
         {
          "average_rating": 3.53,
          "norm0": 1.1687005758285522,
          "ratings_count": 95,
          "title": "Billingsgate Shoal"
         },
         {
          "average_rating": 3.35,
          "norm0": 2.8655011653900146,
          "ratings_count": 355,
          "title": "Timecaster"
         },
         {
          "average_rating": 3.92,
          "norm0": 2.5636916160583496,
          "ratings_count": 746,
          "title": "A Woman of Consequence (A Dido Kent Mystery #3)"
         },
         {
          "average_rating": 3.79,
          "norm0": 3.0915699005126953,
          "ratings_count": 801,
          "title": "A Pocketful of Eyes"
         },
         {
          "average_rating": 3.29,
          "norm0": 1.6226296424865723,
          "ratings_count": 12,
          "title": "All He Saw Was The Girl"
         },
         {
          "average_rating": 3.6,
          "norm0": 2.0462801456451416,
          "ratings_count": 395,
          "title": "The Thirty-Nine Steps"
         },
         {
          "average_rating": 4.08,
          "norm0": 4.1418843269348145,
          "ratings_count": 9710,
          "title": "Iron House"
         },
         {
          "average_rating": 3.81,
          "norm0": 1.247501254081726,
          "ratings_count": 8,
          "title": "The Summoner (Dominic Grey #1)"
         },
         {
          "average_rating": 3.43,
          "norm0": 3.7307093143463135,
          "ratings_count": 3278,
          "title": "Interred with Their Bones (Kate Stanley, #1)"
         },
         {
          "average_rating": 3.9,
          "norm0": 3.6212353706359863,
          "ratings_count": 2490,
          "title": "Midnight in the Garden of Good and Evil"
         },
         {
          "average_rating": 3.96,
          "norm0": 1.2599718570709229,
          "ratings_count": 93,
          "title": "Deadly Intent (Mindhunters, #4)"
         },
         {
          "average_rating": 3.64,
          "norm0": 0.8372183442115784,
          "ratings_count": 9,
          "title": "Spencerville"
         },
         {
          "average_rating": 3.72,
          "norm0": 1.4563654661178589,
          "ratings_count": 78,
          "title": "Murder at Willow Slough"
         },
         {
          "average_rating": 3.83,
          "norm0": 1.3269462585449219,
          "ratings_count": 52,
          "title": "Devil to Pay (Nick Kane, #1)"
         },
         {
          "average_rating": 3.63,
          "norm0": 1.3751797676086426,
          "ratings_count": 86,
          "title": "Nightjack"
         },
         {
          "average_rating": 3.64,
          "norm0": 1.5437939167022705,
          "ratings_count": 15,
          "title": "Choker"
         },
         {
          "average_rating": 3,
          "norm0": 1.1270228624343872,
          "ratings_count": 14,
          "title": "Dead Man's Tale"
         },
         {
          "average_rating": 3.89,
          "norm0": 1.610674262046814,
          "ratings_count": 111,
          "title": "A Test Of Wills (Inspector Ian Rutledge, #1)"
         },
         {
          "average_rating": 3.53,
          "norm0": 1.439287781715393,
          "ratings_count": 54,
          "title": "Secret Rage"
         },
         {
          "average_rating": 3.84,
          "norm0": 1.6477903127670288,
          "ratings_count": 250,
          "title": "After the Funeral (Hercule Poirot, #29)"
         },
         {
          "average_rating": 3.86,
          "norm0": 1.1368000507354736,
          "ratings_count": 47,
          "title": "Blood Heat (Dangerous Ground, #3)"
         },
         {
          "average_rating": 3.67,
          "norm0": 1.400686502456665,
          "ratings_count": 36,
          "title": "The Poison Tree"
         },
         {
          "average_rating": 3.87,
          "norm0": 1.4649957418441772,
          "ratings_count": 62,
          "title": "The Gemini Contenders"
         },
         {
          "average_rating": 3.98,
          "norm0": 0.9269512891769409,
          "ratings_count": 23,
          "title": "Both Ends of the Night (Sharon McCone, #18)"
         },
         {
          "average_rating": 4.08,
          "norm0": 0.7233942151069641,
          "ratings_count": 17,
          "title": "The Broken Promise Land (Sharon McCone, #16)"
         },
         {
          "average_rating": 3.82,
          "norm0": 0.918788731098175,
          "ratings_count": 40,
          "title": "The Dangerous Hour (Sharon McCone, #22)"
         },
         {
          "average_rating": 3.98,
          "norm0": 1.2670066356658936,
          "ratings_count": 1187,
          "title": "While Other People Sleep"
         },
         {
          "average_rating": 4.07,
          "norm0": 1.663973093032837,
          "ratings_count": 1806,
          "title": "A Wild and Lonely Place (Sharon McCone, #15)"
         },
         {
          "average_rating": 3.76,
          "norm0": 1.7355133295059204,
          "ratings_count": 77,
          "title": "The Case of the Man Who Died Laughing: From the Files of Vish Puri, Most Private Investigator"
         },
         {
          "average_rating": 3.9,
          "norm0": 1.966489315032959,
          "ratings_count": 4971,
          "title": "Edwin of the Iron Shoes"
         },
         {
          "average_rating": 3.84,
          "norm0": 1.3661000728607178,
          "ratings_count": 1026,
          "title": "Leave a Message for Willie"
         },
         {
          "average_rating": 3.93,
          "norm0": 1.0089573860168457,
          "ratings_count": 41,
          "title": "Listen to the Silence (Sharon McCone, #20)"
         },
         {
          "average_rating": 3.98,
          "norm0": 0.7421852350234985,
          "ratings_count": 32,
          "title": "While Other People Sleep (Sharon McCone, #18)"
         },
         {
          "average_rating": 4.07,
          "norm0": 0.9054492115974426,
          "ratings_count": 15,
          "title": "A Wild and Lonely Place (Sharon McCone, #15)"
         },
         {
          "average_rating": 3.97,
          "norm0": 2.1917357444763184,
          "ratings_count": 2328,
          "title": "The Wench Is Dead (Inspector Morse, #8)"
         },
         {
          "average_rating": 3.77,
          "norm0": 1.0188361406326294,
          "ratings_count": 70,
          "title": "Gun Before Butter"
         },
         {
          "average_rating": 3.76,
          "norm0": 1.669248104095459,
          "ratings_count": 149,
          "title": "Tragedy at Law (Francis Pettigrew, #1)"
         },
         {
          "average_rating": 3.9,
          "norm0": 0.9679413437843323,
          "ratings_count": 11,
          "title": "The Romanov Prophecy"
         },
         {
          "average_rating": 3.9,
          "norm0": 1.4192321300506592,
          "ratings_count": 190,
          "title": "Cards on the Table (Hercule Poirot, #15)"
         },
         {
          "average_rating": 3.7,
          "norm0": 1.376247763633728,
          "ratings_count": 3,
          "title": "Calamity Town"
         },
         {
          "average_rating": 4.08,
          "norm0": 0.8796439170837402,
          "ratings_count": 67,
          "title": "Dixie City Jam (Dave Robicheaux, #7)"
         },
         {
          "average_rating": 3.63,
          "norm0": 0.8661930561065674,
          "ratings_count": 109,
          "title": "Tourist Trap (Rebecca Schwartz, #3)"
         },
         {
          "average_rating": 3.9,
          "norm0": 0.8578784465789795,
          "ratings_count": 375,
          "title": "Vane Pursuit (Peter Shandy, #7)"
         },
         {
          "average_rating": 3.86,
          "norm0": 1.145728588104248,
          "ratings_count": 383,
          "title": "Pilgrim's Rest (Miss Silver, #10)"
         },
         {
          "average_rating": 3.86,
          "norm0": 1.2539520263671875,
          "ratings_count": 19,
          "title": "A Crafty Killing (Victoria Square, #1)"
         },
         {
          "average_rating": 3.87,
          "norm0": 1.0595499277114868,
          "ratings_count": 110,
          "title": "Mystery (Alex Delaware, #26)"
         },
         {
          "average_rating": 3.68,
          "norm0": 2.9516351222991943,
          "ratings_count": 296,
          "title": "You Believers"
         },
         {
          "average_rating": 3.97,
          "norm0": 0.6211274266242981,
          "ratings_count": 201,
          "title": "And Not a Penny More (Bay Tanner, #2)"
         },
         {
          "average_rating": 4.13,
          "norm0": 1.5776792764663696,
          "ratings_count": 28,
          "title": "The Cold Dish (Walt Longmire, #1)"
         },
         {
          "average_rating": 3.86,
          "norm0": 0.9126561880111694,
          "ratings_count": 94,
          "title": "The Paradiso Files: Exposing an Unknown Serial Killer"
         },
         {
          "average_rating": 3.63,
          "norm0": 0.5489230751991272,
          "ratings_count": 151,
          "title": "Biggie and the Mangled Mortician (Biggie Weatherford, #2)"
         },
         {
          "average_rating": 3.77,
          "norm0": 1.6545590162277222,
          "ratings_count": 336,
          "title": "The World on Blood"
         },
         {
          "average_rating": 3.84,
          "norm0": 2.6264004707336426,
          "ratings_count": 2177,
          "title": "The Hanging Shed (Douglas Brodie, #1)"
         },
         {
          "average_rating": 4.02,
          "norm0": 1.2602391242980957,
          "ratings_count": 18,
          "title": "The 6th Target"
         },
         {
          "average_rating": 3.91,
          "norm0": 1.778072476387024,
          "ratings_count": 82,
          "title": "Open Season (Joe Pickett, #1)"
         },
         {
          "average_rating": 4.03,
          "norm0": 2.874809980392456,
          "ratings_count": 476,
          "title": "Full Dark, No Stars"
         },
         {
          "average_rating": 3.63,
          "norm0": 0.8589127659797668,
          "ratings_count": 23,
          "title": "First Thrills: High-Octane Stories from the Hottest Thriller Authors"
         },
         {
          "average_rating": 3.52,
          "norm0": 1.4292137622833252,
          "ratings_count": 152,
          "title": "The Glassblower's Daughter"
         },
         {
          "average_rating": 3.32,
          "norm0": 0.6496835350990295,
          "ratings_count": 5,
          "title": "Mr. Fairlie's Final Journey"
         },
         {
          "average_rating": 3.7,
          "norm0": 1.3613560199737549,
          "ratings_count": 10,
          "title": "The Island of Dangerous Dreams"
         },
         {
          "average_rating": 4.17,
          "norm0": 1.8854953050613403,
          "ratings_count": 167,
          "title": "The God of the Hive (Mary Russell, #10)"
         },
         {
          "average_rating": 3.53,
          "norm0": 3.858720064163208,
          "ratings_count": 4191,
          "title": "30 Pieces of Silver (Betrayed, #1)"
         },
         {
          "average_rating": 3.93,
          "norm0": 1.6631537675857544,
          "ratings_count": 85,
          "title": "Duma Key"
         },
         {
          "average_rating": 4,
          "norm0": 1.4063646793365479,
          "ratings_count": 83,
          "title": "Playing with Fire (Inspector Banks, #14)"
         },
         {
          "average_rating": 3.53,
          "norm0": 0.6228569746017456,
          "ratings_count": 53,
          "title": "Touch"
         },
         {
          "average_rating": 3.78,
          "norm0": 1.2756108045578003,
          "ratings_count": 131,
          "title": "Maximum Bob"
         },
         {
          "average_rating": 3.78,
          "norm0": 1.4464222192764282,
          "ratings_count": 73,
          "title": "Maximum Bob"
         },
         {
          "average_rating": 3.96,
          "norm0": 1.4315752983093262,
          "ratings_count": 114,
          "title": "Skin Tight (Mick Stranahan, #1)"
         },
         {
          "average_rating": 4.04,
          "norm0": 2.2787020206451416,
          "ratings_count": 16,
          "title": "After the Cross"
         },
         {
          "average_rating": 3.45,
          "norm0": 1.2660942077636719,
          "ratings_count": 344,
          "title": "Cape Perdido (Cape Perdido, #3)"
         },
         {
          "average_rating": 3.85,
          "norm0": 1.0821974277496338,
          "ratings_count": 783,
          "title": "The Shape of Dread"
         },
         {
          "average_rating": 3.57,
          "norm0": 0.5927234888076782,
          "ratings_count": 10,
          "title": "The Anatomy of Deception"
         },
         {
          "average_rating": 3.51,
          "norm0": 1.097429633140564,
          "ratings_count": 5,
          "title": "Before the Fact"
         },
         {
          "average_rating": 4.06,
          "norm0": 1.2586143016815186,
          "ratings_count": 12,
          "title": "A Great Deliverance (Inspector Lynley #1)"
         },
         {
          "average_rating": 4.03,
          "norm0": 2.0252492427825928,
          "ratings_count": 232,
          "title": "Thrilled to Death"
         },
         {
          "average_rating": 4.1,
          "norm0": 1.3288465738296509,
          "ratings_count": 51,
          "title": "Cockfighter"
         },
         {
          "average_rating": 4.05,
          "norm0": 0.9401596784591675,
          "ratings_count": 28,
          "title": "Too Many Women: A Nero Wolfe Mystery"
         },
         {
          "average_rating": 4.07,
          "norm0": 1.4836006164550781,
          "ratings_count": 17,
          "title": "Might As Well Be Dead: A Nero Wolfe Mystery"
         },
         {
          "average_rating": 3.76,
          "norm0": 1.2158282995224,
          "ratings_count": 394,
          "title": "Double"
         },
         {
          "average_rating": 3.84,
          "norm0": 1.0197927951812744,
          "ratings_count": 1048,
          "title": "Games to Keep the Dark Away"
         },
         {
          "average_rating": 3.68,
          "norm0": 2.2550745010375977,
          "ratings_count": 206,
          "title": "Pocket-47 (Nicholas Colt, #2)"
         },
         {
          "average_rating": 4.26,
          "norm0": 1.3682359457015991,
          "ratings_count": 93,
          "title": "One Grave Less (Diane Fallon Forensic Investigation #9)"
         },
         {
          "average_rating": 3.37,
          "norm0": 1.9435079097747803,
          "ratings_count": 120,
          "title": "Hotel No Tell (Zephyr Zuckerman #2)"
         },
         {
          "average_rating": 3.51,
          "norm0": 0.9268193244934082,
          "ratings_count": 102,
          "title": "Sons and Princes"
         },
         {
          "average_rating": 3.48,
          "norm0": 1.8534191846847534,
          "ratings_count": 415,
          "title": "Deadly Sanctuary"
         },
         {
          "average_rating": 3.63,
          "norm0": 1.3192479610443115,
          "ratings_count": 66,
          "title": "Killing Mr. Griffin"
         },
         {
          "average_rating": 3.39,
          "norm0": 1.1866708993911743,
          "ratings_count": 68,
          "title": "A Cry From The Dark"
         },
         {
          "average_rating": 4.21,
          "norm0": 1.210390329360962,
          "ratings_count": 29,
          "title": "The Snake, the Crocodile and the Dog (Amelia Peabody Series #7)"
         },
         {
          "average_rating": 3.71,
          "norm0": 1.2391916513442993,
          "ratings_count": 100,
          "title": "The Devil's Cradle"
         },
         {
          "average_rating": 3.64,
          "norm0": 1.5558395385742188,
          "ratings_count": 147,
          "title": "The King of Diamonds (Inspector Trave, #2)"
         },
         {
          "average_rating": 3.84,
          "norm0": 1.4702869653701782,
          "ratings_count": 31,
          "title": "A Nail Through the Heart: With Bonus Content"
         },
         {
          "average_rating": 4.08,
          "norm0": 1.1283650398254395,
          "ratings_count": 10,
          "title": "One Step Behind (Kurt Wallander Series #7)"
         },
         {
          "average_rating": 3.96,
          "norm0": 0.9271770715713501,
          "ratings_count": 83,
          "title": "A Mist of Prophecies (Roma Sub Rosa, #9)"
         },
         {
          "average_rating": 3.82,
          "norm0": 1.0356804132461548,
          "ratings_count": 9,
          "title": "In the Midst of Death"
         },
         {
          "average_rating": 3.74,
          "norm0": 1.5214495658874512,
          "ratings_count": 20,
          "title": "The Lake Of Darkness"
         },
         {
          "average_rating": 3.38,
          "norm0": 2.1769521236419678,
          "ratings_count": 209,
          "title": "The Siege of Trencher's Farm"
         },
         {
          "average_rating": 2.9,
          "norm0": 1.3349355459213257,
          "ratings_count": 59,
          "title": "Amnesia Labyrinth, Vol. 2 (Amnesia Labyrinth, #2)"
         },
         {
          "average_rating": 3.44,
          "norm0": 1.0815736055374146,
          "ratings_count": 19,
          "title": "Fadeaway Girl"
         },
         {
          "average_rating": 3.88,
          "norm0": 0.960303008556366,
          "ratings_count": 176,
          "title": "Murder at the Savoy (Martin Beck, #6)"
         },
         {
          "average_rating": 3.96,
          "norm0": 1.8311880826950073,
          "ratings_count": 82,
          "title": "Serial: Uncut and Extended"
         },
         {
          "average_rating": 3.71,
          "norm0": 0.1681060791015625,
          "ratings_count": 50,
          "title": "Through a Glass, Darkly"
         },
         {
          "average_rating": 4.6,
          "norm0": 1.8647624254226685,
          "ratings_count": 173,
          "title": "The Chronicles of Young Dmitry Medlov 2 (The Chronicles of Young Dmitry Medlov, #2)"
         },
         {
          "average_rating": 4.01,
          "norm0": 1.5413917303085327,
          "ratings_count": 70,
          "title": "Fly Me To the Morgue"
         },
         {
          "average_rating": 3.18,
          "norm0": 1.6204499006271362,
          "ratings_count": 238,
          "title": "Her Secret Bodyguard"
         },
         {
          "average_rating": 3.79,
          "norm0": 1.3283032178878784,
          "ratings_count": 98,
          "title": "The Innocent Man: Murder and Injustice in a Small Town"
         },
         {
          "average_rating": 4.06,
          "norm0": 1.0340031385421753,
          "ratings_count": 116,
          "title": "The Alpha Deception (Blaine McCracken, #2)"
         },
         {
          "average_rating": 3.92,
          "norm0": 1.8043659925460815,
          "ratings_count": 1039,
          "title": "The Mystery of the Dead Man's Riddle (Alfred Hitchcock and The Three Investigators, #22)"
         },
         {
          "average_rating": 3.74,
          "norm0": 0.7819133400917053,
          "ratings_count": 138,
          "title": "Road to Purgatory (Road to Perdition, #3)"
         },
         {
          "average_rating": 3.74,
          "norm0": 0.9278954863548279,
          "ratings_count": 23,
          "title": "The Mystery of the Coughing Dragon (Alfred Hitchcock and The Three Investigators, #14)"
         },
         {
          "average_rating": 3.97,
          "norm0": 1.1010150909423828,
          "ratings_count": 32,
          "title": "The Complete Short Stories of Raffles--The Amateur Cracksman"
         },
         {
          "average_rating": 3.93,
          "norm0": 2.582688808441162,
          "ratings_count": 992,
          "title": "Basil of Baker Street (Basil of Baker Street, #1)"
         },
         {
          "average_rating": 3.77,
          "norm0": 1.112682580947876,
          "ratings_count": 28,
          "title": "London Boulevard"
         },
         {
          "average_rating": 4.03,
          "norm0": 1.1856157779693604,
          "ratings_count": 23,
          "title": "Blitz (Inspector Brant, #4)"
         },
         {
          "average_rating": 3.85,
          "norm0": 1.3956557512283325,
          "ratings_count": 26,
          "title": "Savage Season (Hap and Leonard, #1)"
         },
         {
          "average_rating": 3.86,
          "norm0": 1.630533218383789,
          "ratings_count": 110,
          "title": "The Midsummer Crown (Roger the Chapman #20)"
         },
         {
          "average_rating": 3.8,
          "norm0": 2.216615676879883,
          "ratings_count": 54,
          "title": "The Watchers from within Moments, Revealed"
         },
         {
          "average_rating": 3.88,
          "norm0": 1.5970536470413208,
          "ratings_count": 60,
          "title": "The Lost Stories of Sherlock Holmes"
         },
         {
          "average_rating": 3.75,
          "norm0": 1.3660277128219604,
          "ratings_count": 34,
          "title": "Murder with Mirrors"
         },
         {
          "average_rating": 3.79,
          "norm0": 0.8902204036712646,
          "ratings_count": 7,
          "title": "Devil's Food Cake Murder (Hannah Swensen, #14)"
         },
         {
          "average_rating": 3.1,
          "norm0": 0.7398767471313477,
          "ratings_count": 46,
          "title": "The Big Four"
         },
         {
          "average_rating": 3.6,
          "norm0": 1.52496337890625,
          "ratings_count": 46,
          "title": "The Big Four"
         },
         {
          "average_rating": 3.68,
          "norm0": 1.1119412183761597,
          "ratings_count": 269,
          "title": "Dead on Arrival (Pauline Sokol, #6)"
         },
         {
          "average_rating": 4.1,
          "norm0": 2.906822443008423,
          "ratings_count": 1243,
          "title": "Point Blanc (Alex Rider, #2)"
         },
         {
          "average_rating": 4.07,
          "norm0": 1.1643999814987183,
          "ratings_count": 15,
          "title": "A Lonely Death (Inspector Ian Rutledge, #13)"
         },
         {
          "average_rating": 3.17,
          "norm0": 1.285643219947815,
          "ratings_count": 31,
          "title": "Ding Dong the Diva's Dead"
         },
         {
          "average_rating": 3.8,
          "norm0": 1.4967358112335205,
          "ratings_count": 37,
          "title": "Fire And Ice (Liam Campbell, #1)"
         },
         {
          "average_rating": 4.23,
          "norm0": 1.5016652345657349,
          "ratings_count": 79,
          "title": "Buried Prey (Lucas Davenport, #21)"
         },
         {
          "average_rating": 3.97,
          "norm0": 1.3859479427337646,
          "ratings_count": 571,
          "title": "Love Me to Death (Lucy Kincaid, #1)"
         },
         {
          "average_rating": 4.17,
          "norm0": 1.074275255203247,
          "ratings_count": 241,
          "title": "Blowback (Scot Harvath, #4)"
         },
         {
          "average_rating": 3.99,
          "norm0": 1.6609256267547607,
          "ratings_count": 131,
          "title": "A Perfect Spy"
         },
         {
          "average_rating": 3.57,
          "norm0": 1.5084316730499268,
          "ratings_count": 52,
          "title": "A Perfect Canvas"
         },
         {
          "average_rating": 3,
          "norm0": 0.8055985569953918,
          "ratings_count": 15,
          "title": "A Childs Book of True Crime"
         },
         {
          "average_rating": 3.92,
          "norm0": 1.346192717552185,
          "ratings_count": 90,
          "title": "Aunt Dimity Digs In (An Aunt Dimity Mystery, #4)"
         },
         {
          "average_rating": 3.22,
          "norm0": 0.8465026617050171,
          "ratings_count": 22,
          "title": "The Hunt Ball Mystery"
         },
         {
          "average_rating": 3.83,
          "norm0": 2.341707706451416,
          "ratings_count": 169,
          "title": "Finding Amy: A True Story of Murder in Maine"
         },
         {
          "average_rating": 3.89,
          "norm0": 0.7837536334991455,
          "ratings_count": 100,
          "title": "Chosen for Death (Thea Kozak, #1)"
         },
         {
          "average_rating": 3.36,
          "norm0": 1.5075653791427612,
          "ratings_count": 15,
          "title": "Death For A Dietitian"
         },
         {
          "average_rating": 3.89,
          "norm0": 0.8622761964797974,
          "ratings_count": 224,
          "title": "The Passage (Dan Lenson, #4)"
         },
         {
          "average_rating": 3.24,
          "norm0": 1.0115762948989868,
          "ratings_count": 17,
          "title": "Silent Rage"
         },
         {
          "average_rating": 4.04,
          "norm0": 3.1378936767578125,
          "ratings_count": 1777,
          "title": "Tinker, Tailor, Soldier, Spy"
         },
         {
          "average_rating": 3.67,
          "norm0": 1.441157341003418,
          "ratings_count": 437,
          "title": "The Body in the Attic (Faith Fairchild, #14)"
         },
         {
          "average_rating": 3.65,
          "norm0": 1.421983003616333,
          "ratings_count": 514,
          "title": "The Body in the Bookcase (Faith Fairchild, #9)"
         },
         {
          "average_rating": 4.09,
          "norm0": 1.196253776550293,
          "ratings_count": 12,
          "title": "Mr. Monk on the Road"
         },
         {
          "average_rating": 3.71,
          "norm0": 0.8287186026573181,
          "ratings_count": 16,
          "title": "The Balkan Escape (Cotton Malone, #5.5)"
         },
         {
          "average_rating": 3.35,
          "norm0": 1.2334071397781372,
          "ratings_count": 25,
          "title": "Devil Wind (Sammy Greene, #2)"
         },
         {
          "average_rating": 3.82,
          "norm0": 1.3167154788970947,
          "ratings_count": 31,
          "title": "The Secret Adversary"
         },
         {
          "average_rating": 3.72,
          "norm0": 1.6661311388015747,
          "ratings_count": 47,
          "title": "A Deed Of Death"
         },
         {
          "average_rating": 3.57,
          "norm0": 0.9934958219528198,
          "ratings_count": 45,
          "title": "The Cobra"
         },
         {
          "average_rating": 4.2,
          "norm0": 1.129083514213562,
          "ratings_count": 47,
          "title": "The Sentry (Elvis Cole, #12, Joe Pike, #3)"
         },
         {
          "average_rating": 3.81,
          "norm0": 1.2323143482208252,
          "ratings_count": 43,
          "title": "The Templar Legacy (Cotton Malone, #1)"
         },
         {
          "average_rating": 4.12,
          "norm0": 1.767854928970337,
          "ratings_count": 78,
          "title": "Contagious (Infected, #2)"
         },
         {
          "average_rating": 3.86,
          "norm0": 1.9658902883529663,
          "ratings_count": 161,
          "title": "Trapped"
         },
         {
          "average_rating": 4.07,
          "norm0": 1.159967303276062,
          "ratings_count": 5,
          "title": "3 Lies"
         },
         {
          "average_rating": 4.13,
          "norm0": 1.0125705003738403,
          "ratings_count": 9,
          "title": "Black Orchids"
         },
         {
          "average_rating": 3.67,
          "norm0": 1.3586981296539307,
          "ratings_count": 33,
          "title": "In Harm's Way (Walt Fleming, #4)"
         },
         {
          "average_rating": 3.87,
          "norm0": 1.1619501113891602,
          "ratings_count": 27,
          "title": "Shakespeare's Christmas (Lily Bard, #3)"
         },
         {
          "average_rating": 3.66,
          "norm0": 1.544122576713562,
          "ratings_count": 4,
          "title": "The Haunted Bookshop"
         },
         {
          "average_rating": 3.68,
          "norm0": 1.661960244178772,
          "ratings_count": 63,
          "title": "Hawkeye Collins & Amy Adams in The Case of the Famous Chocolate Chip Cookies & 8 Other Mysteries (Can You Solve the Mystery?, #6)"
         },
         {
          "average_rating": 3.8,
          "norm0": 1.558054804801941,
          "ratings_count": 80,
          "title": "Hawkeye Collins & Amy Adams in The Case of the Video Game Smugglers & Other Mysteries (Can You Solve the Mystery?, #3)"
         },
         {
          "average_rating": 3.93,
          "norm0": 1.0225157737731934,
          "ratings_count": 21,
          "title": "The Dawn Patrol (Boone Daniels, #1)"
         },
         {
          "average_rating": 4.12,
          "norm0": 1.1245946884155273,
          "ratings_count": 111,
          "title": "The Diva Cooks a Goose (A Domestic Diva Mystery, #4)"
         },
         {
          "average_rating": 3.48,
          "norm0": 2.3943984508514404,
          "ratings_count": 557,
          "title": "Gerald's Game"
         },
         {
          "average_rating": 4.17,
          "norm0": 1.5565235614776611,
          "ratings_count": 312,
          "title": "All She Wrote (Holmes & Moriarity, #2)"
         },
         {
          "average_rating": 3.66,
          "norm0": 2.7196381092071533,
          "ratings_count": 594,
          "title": "Blaze"
         },
         {
          "average_rating": 3.24,
          "norm0": 2.420440912246704,
          "ratings_count": 436,
          "title": "Underneath"
         },
         {
          "average_rating": 3.57,
          "norm0": 1.2320597171783447,
          "ratings_count": 15,
          "title": "The Turtle Boy (Timmy Quinn #1)"
         },
         {
          "average_rating": 3.94,
          "norm0": 3.113034248352051,
          "ratings_count": 3154,
          "title": "Feast Day of Fools (Hackberry Holland, #3)"
         },
         {
          "average_rating": 3.82,
          "norm0": 1.5778125524520874,
          "ratings_count": 76,
          "title": "Ten Plagues"
         },
         {
          "average_rating": 3.9,
          "norm0": 1.2840980291366577,
          "ratings_count": 55,
          "title": "Mortal Remains"
         },
         {
          "average_rating": 3.87,
          "norm0": 1.3416334390640259,
          "ratings_count": 170,
          "title": "The Bad Beat (Burn Notice #5)"
         },
         {
          "average_rating": 4.03,
          "norm0": 1.3256117105484009,
          "ratings_count": 79,
          "title": "Tick Tock (Michael Bennett, #4)"
         },
         {
          "average_rating": 4.12,
          "norm0": 2.407231569290161,
          "ratings_count": 131,
          "title": "Double Indemnity"
         },
         {
          "average_rating": 3.13,
          "norm0": 1.331917643547058,
          "ratings_count": 694,
          "title": "If I Did It: Confessions of the Killer"
         },
         {
          "average_rating": 3.55,
          "norm0": 1.815536618232727,
          "ratings_count": 91,
          "title": "First Kill"
         },
         {
          "average_rating": 3.53,
          "norm0": 2.330508232116699,
          "ratings_count": 2008,
          "title": "Plain Jane: Brunettes Beware (Harbinger Mystery, #1)"
         },
         {
          "average_rating": 3.7,
          "norm0": 2.6548190116882324,
          "ratings_count": 504,
          "title": "Sugar & Spice"
         },
         {
          "average_rating": 3.39,
          "norm0": 1.6361777782440186,
          "ratings_count": 53,
          "title": "The Girl in the Green Raincoat (Tess Monaghan, #11)"
         },
         {
          "average_rating": 3.92,
          "norm0": 0.8241876363754272,
          "ratings_count": 40,
          "title": "The Bone House"
         },
         {
          "average_rating": 3.18,
          "norm0": 1.2889381647109985,
          "ratings_count": 34,
          "title": "The Diviner's Tale"
         },
         {
          "average_rating": 3.8,
          "norm0": 3.0823230743408203,
          "ratings_count": 2552,
          "title": "Snake Skin (Lucy Guardino FBI Thriller, #1)"
         },
         {
          "average_rating": 4.02,
          "norm0": 1.3816052675247192,
          "ratings_count": 70,
          "title": "The Curse of the Pharaohs (Amelia Peabody, #2)"
         },
         {
          "average_rating": 3.75,
          "norm0": 1.196543574333191,
          "ratings_count": 43,
          "title": "Splinter"
         },
         {
          "average_rating": 3.75,
          "norm0": 1.8389265537261963,
          "ratings_count": 257,
          "title": "Splinter"
         },
         {
          "average_rating": 3.53,
          "norm0": 1.5101709365844727,
          "ratings_count": 75,
          "title": "The Library of Gold"
         },
         {
          "average_rating": 3.78,
          "norm0": 1.6225357055664062,
          "ratings_count": 36,
          "title": "Head Cases"
         },
         {
          "average_rating": 3.72,
          "norm0": 1.7985608577728271,
          "ratings_count": 544,
          "title": "The Dogs of Riga (Wallander #2)"
         },
         {
          "average_rating": 3.68,
          "norm0": 1.587324619293213,
          "ratings_count": 95,
          "title": "The Cruel Stars of the Night (Ann Lindell, #6)"
         },
         {
          "average_rating": 3.99,
          "norm0": 2.4650704860687256,
          "ratings_count": 1214,
          "title": "Midnight (Jack Nightingale, #2)"
         },
         {
          "average_rating": 3.76,
          "norm0": 1.2438814640045166,
          "ratings_count": 6,
          "title": "Testament"
         },
         {
          "average_rating": 3.44,
          "norm0": 0.8002422451972961,
          "ratings_count": 236,
          "title": "Design on a Crime (Deadly Décor Mysteries #1)"
         },
         {
          "average_rating": 3.67,
          "norm0": 1.4007872343063354,
          "ratings_count": 32,
          "title": "Trail of Blood"
         },
         {
          "average_rating": 4.07,
          "norm0": 1.3109607696533203,
          "ratings_count": 111,
          "title": "The Terrorists"
         },
         {
          "average_rating": 3.8,
          "norm0": 1.0496801137924194,
          "ratings_count": 7,
          "title": "Exposure"
         },
         {
          "average_rating": 4.14,
          "norm0": 1.2324398756027222,
          "ratings_count": 33,
          "title": "The Apprentice (Rizzoli & Isles, #2)"
         },
         {
          "average_rating": 4.33,
          "norm0": 2.5513222217559814,
          "ratings_count": 1327,
          "title": "The Complete Stories of Sherlock Holmes, Volume 1"
         },
         {
          "average_rating": 3.77,
          "norm0": 1.4069055318832397,
          "ratings_count": 20,
          "title": "Gun, with Occasional Music"
         },
         {
          "average_rating": 3.98,
          "norm0": 1.1230844259262085,
          "ratings_count": 188,
          "title": "The Body At The Tower (The Agency, #2)"
         },
         {
          "average_rating": 3.73,
          "norm0": 3.9667208194732666,
          "ratings_count": 5189,
          "title": "Creep (Creep #1)"
         },
         {
          "average_rating": 3.51,
          "norm0": 2.5393917560577393,
          "ratings_count": 2542,
          "title": "Christmas in High Heels (High Heels, #3.5)"
         },
         {
          "average_rating": 4.21,
          "norm0": 1.4067192077636719,
          "ratings_count": 32,
          "title": "Seeing a Large Cat (Amelia Peabody Series #9)"
         },
         {
          "average_rating": 3.77,
          "norm0": 1.1986839771270752,
          "ratings_count": 146,
          "title": "Shadow of an Angel"
         },
         {
          "average_rating": 3.93,
          "norm0": 0.815496027469635,
          "ratings_count": 12,
          "title": "The Widening Gyre (Spenser, #10)"
         },
         {
          "average_rating": 3.43,
          "norm0": 1.3826265335083008,
          "ratings_count": 31,
          "title": "The Dead Women of Juárez"
         },
         {
          "average_rating": 3.43,
          "norm0": 1.171759009361267,
          "ratings_count": 63,
          "title": "The Dead Women of Juárez"
         },
         {
          "average_rating": 3.56,
          "norm0": 1.7751293182373047,
          "ratings_count": 282,
          "title": "Angel at Troublesome Creek (Augusta Goodnight #1)"
         },
         {
          "average_rating": 3.76,
          "norm0": 1.535204291343689,
          "ratings_count": 168,
          "title": "An Angel to Die For"
         },
         {
          "average_rating": 3.67,
          "norm0": 1.624703049659729,
          "ratings_count": 14,
          "title": "Lullaby and Goodnight"
         },
         {
          "average_rating": 3.78,
          "norm0": 1.2890464067459106,
          "ratings_count": 89,
          "title": "The Winter Garden Mystery (Daisy Dalrymple, #2)"
         },
         {
          "average_rating": 3.6,
          "norm0": 1.446164608001709,
          "ratings_count": 93,
          "title": "The Mall (Downside, #1)"
         },
         {
          "average_rating": 3.35,
          "norm0": 1.010148525238037,
          "ratings_count": 14,
          "title": "Echoes of Mercy"
         },
         {
          "average_rating": 4.01,
          "norm0": 0.9194916486740112,
          "ratings_count": 425,
          "title": "A Taste For Death (Adam Dalgliesh, #7)"
         },
         {
          "average_rating": 3.85,
          "norm0": 1.1868592500686646,
          "ratings_count": 58,
          "title": "Bruno, Chief of Police (Bruno, Chief of Police, #1)"
         },
         {
          "average_rating": 3.67,
          "norm0": 1.4357308149337769,
          "ratings_count": 215,
          "title": "The Second Son (Berlin Trilogy, #3)"
         },
         {
          "average_rating": 3.63,
          "norm0": 1.3093743324279785,
          "ratings_count": 24,
          "title": "The Sherlockian"
         },
         {
          "average_rating": 4.13,
          "norm0": 1.3610121011734009,
          "ratings_count": 23,
          "title": "Bryant & May Off the Rails (Bryant & May, #8)"
         },
         {
          "average_rating": 3.69,
          "norm0": 1.125873327255249,
          "ratings_count": 19,
          "title": "Sent to His Account"
         },
         {
          "average_rating": 3.47,
          "norm0": 1.5921555757522583,
          "ratings_count": 160,
          "title": "Blind Love"
         },
         {
          "average_rating": 3.34,
          "norm0": 1.5213795900344849,
          "ratings_count": 166,
          "title": "Who Killed Zebedee?"
         },
         {
          "average_rating": 3.74,
          "norm0": 2.2684566974639893,
          "ratings_count": 1038,
          "title": "The Dead Secret"
         },
         {
          "average_rating": 3.86,
          "norm0": 1.695664882659912,
          "ratings_count": 48,
          "title": "Mad Monkton And Other Stories"
         },
         {
          "average_rating": 3.44,
          "norm0": 2.17900013923645,
          "ratings_count": 387,
          "title": "The Frozen Deep"
         },
         {
          "average_rating": 3.95,
          "norm0": 0.7938651442527771,
          "ratings_count": 60,
          "title": "Hour Game (Sean King & Michelle Maxwell, #2)"
         },
         {
          "average_rating": 3.48,
          "norm0": 0.8900530338287354,
          "ratings_count": 18,
          "title": "Operation Napoleon"
         },
         {
          "average_rating": 4.03,
          "norm0": 1.2279361486434937,
          "ratings_count": 17,
          "title": "Last Man Standing"
         },
         {
          "average_rating": 3.6,
          "norm0": 2.947322130203247,
          "ratings_count": 721,
          "title": "Valley Of Death, Zombie Trailer Park"
         },
         {
          "average_rating": 3.56,
          "norm0": 1.5467004776000977,
          "ratings_count": 113,
          "title": "Ascension Day"
         },
         {
          "average_rating": 3.92,
          "norm0": 1.9724180698394775,
          "ratings_count": 332,
          "title": "Kula (Surfing Detective Mystery, #3)"
         },
         {
          "average_rating": 3.78,
          "norm0": 2.2944929599761963,
          "ratings_count": 605,
          "title": "Die Buying (A Mall Cop Mystery, #1)"
         },
         {
          "average_rating": 3.95,
          "norm0": 2.038740396499634,
          "ratings_count": 169,
          "title": "Sahara: A Dirk Pitt Adventure"
         },
         {
          "average_rating": 4.1,
          "norm0": 0.9766442775726318,
          "ratings_count": 27,
          "title": "The Chinese Maze Murders: A Judge Dee Mystery"
         },
         {
          "average_rating": 3.29,
          "norm0": 2.3402087688446045,
          "ratings_count": 401,
          "title": "Sherlock in Love"
         },
         {
          "average_rating": 3.31,
          "norm0": 1.137024998664856,
          "ratings_count": 17,
          "title": "Portobello"
         },
         {
          "average_rating": 3.79,
          "norm0": 1.0886993408203125,
          "ratings_count": 5,
          "title": "Kennedy for the Defense"
         },
         {
          "average_rating": 4.3,
          "norm0": 1.3741507530212402,
          "ratings_count": 43,
          "title": "1950s Omnibus"
         },
         {
          "average_rating": 4.07,
          "norm0": 3.065617561340332,
          "ratings_count": 1293,
          "title": "Death on the Nile (Hercule Poirot, #17)"
         },
         {
          "average_rating": 4.09,
          "norm0": 1.3790791034698486,
          "ratings_count": 77,
          "title": "Backflash (Parker, #18)"
         },
         {
          "average_rating": 3.76,
          "norm0": 0.7455437779426575,
          "ratings_count": 27,
          "title": "Partners in Crime"
         },
         {
          "average_rating": 3.71,
          "norm0": 1.4057844877243042,
          "ratings_count": 30,
          "title": "The Clocks"
         },
         {
          "average_rating": 4.07,
          "norm0": 1.3895281553268433,
          "ratings_count": 59,
          "title": "Cannibal Serial Killers: Profiles of Depraved Flesh-Eating Murderers"
         },
         {
          "average_rating": 3.31,
          "norm0": 2.059666633605957,
          "ratings_count": 653,
          "title": "From Barcelona, with Love"
         },
         {
          "average_rating": 3.98,
          "norm0": 1.7573338747024536,
          "ratings_count": 274,
          "title": "The Day Aberystwyth Stood Still (Aberystwyth Noir, #6)"
         },
         {
          "average_rating": 3.43,
          "norm0": 2.9269118309020996,
          "ratings_count": 1286,
          "title": "White Heat (Edie Kiglatuk Mystery, #1)"
         },
         {
          "average_rating": 3.85,
          "norm0": 3.6738715171813965,
          "ratings_count": 4065,
          "title": "Don't Say a Word"
         },
         {
          "average_rating": 3.94,
          "norm0": 2.793072462081909,
          "ratings_count": 1216,
          "title": "Taken (Deception Series, #1)"
         },
         {
          "average_rating": 3.49,
          "norm0": 1.5663816928863525,
          "ratings_count": 13,
          "title": "The Two Deaths of Daniel Hayes"
         },
         {
          "average_rating": 3.49,
          "norm0": 1.2629190683364868,
          "ratings_count": 91,
          "title": "Open Source"
         },
         {
          "average_rating": 3.94,
          "norm0": 1.7297508716583252,
          "ratings_count": 1104,
          "title": "L.A. Noir"
         },
         {
          "average_rating": 3.48,
          "norm0": 2.1344523429870605,
          "ratings_count": 1616,
          "title": "Brown's Requiem"
         },
         {
          "average_rating": 3.74,
          "norm0": 1.0125585794448853,
          "ratings_count": 6,
          "title": "Miss Julia Speaks Her Mind"
         },
         {
          "average_rating": 3.94,
          "norm0": 3.0189549922943115,
          "ratings_count": 5826,
          "title": "White Jazz (L.A. Quartet, #4)"
         },
         {
          "average_rating": 3.7,
          "norm0": 1.9829418659210205,
          "ratings_count": 2570,
          "title": "Clandestine"
         },
         {
          "average_rating": 3.76,
          "norm0": 2.3933522701263428,
          "ratings_count": 1901,
          "title": "Hollywood Nocturnes"
         },
         {
          "average_rating": 3.52,
          "norm0": 1.4592134952545166,
          "ratings_count": 93,
          "title": "The Best American Mystery Stories 2002"
         },
         {
          "average_rating": 4.15,
          "norm0": 1.949448585510254,
          "ratings_count": 107,
          "title": "Love You More (Detective D.D. Warren, #5)"
         },
         {
          "average_rating": 3.59,
          "norm0": 2.0673539638519287,
          "ratings_count": 109,
          "title": "The Badge: True and Terrifying Crime Stories That Could Not Be Presented on TV, from the Creator and Star of Dragnet"
         },
         {
          "average_rating": 3.45,
          "norm0": 0.6733304858207703,
          "ratings_count": 248,
          "title": "Dead Before Morning (Rafferty and Llewellyn Police Procedural Series - Book 1)"
         },
         {
          "average_rating": 3.97,
          "norm0": 1.1904550790786743,
          "ratings_count": 56,
          "title": "The Thin Man"
         },
         {
          "average_rating": 3.01,
          "norm0": 1.9232147932052612,
          "ratings_count": 142,
          "title": "The Maverick Experiment"
         },
         {
          "average_rating": 3.94,
          "norm0": 0.9808527231216431,
          "ratings_count": 30,
          "title": "Iron Lake (Cork O'Connor, #1)"
         },
         {
          "average_rating": 3.51,
          "norm0": 1.2751017808914185,
          "ratings_count": 57,
          "title": "Thick As Thieves"
         },
         {
          "average_rating": 3.68,
          "norm0": 1.928252935409546,
          "ratings_count": 242,
          "title": "Out of the Blackout"
         },
         {
          "average_rating": 4.21,
          "norm0": 2.288205862045288,
          "ratings_count": 30,
          "title": "Slices"
         },
         {
          "average_rating": 3.93,
          "norm0": 1.4056470394134521,
          "ratings_count": 141,
          "title": "The Possession of Paavo Deshin (Retrieval Artist, #7.5)"
         },
         {
          "average_rating": 3.87,
          "norm0": 1.5161755084991455,
          "ratings_count": 339,
          "title": "The Plain Old Man (Kelling & Bittersohn, #6)"
         },
         {
          "average_rating": 3.28,
          "norm0": 0.7608507871627808,
          "ratings_count": 111,
          "title": "The Cherry Blossom Corpse (Perry Trethowan, #5)"
         },
         {
          "average_rating": 3.88,
          "norm0": 1.1078423261642456,
          "ratings_count": 281,
          "title": "Cat in a Quicksilver Caper (Midnight Louie, #18)"
         },
         {
          "average_rating": 3.53,
          "norm0": 1.9718279838562012,
          "ratings_count": 90,
          "title": "Death Has a Name (Brodie Wade, #1)"
         },
         {
          "average_rating": 3.91,
          "norm0": 0.837856113910675,
          "ratings_count": 6,
          "title": "Nothing to Lose (Jack Reacher, #12)"
         },
         {
          "average_rating": 4.13,
          "norm0": 1.8449755907058716,
          "ratings_count": 435,
          "title": "Brimstone (Pendergast, #5/Diogenes, #1)"
         },
         {
          "average_rating": 3.92,
          "norm0": 1.5065687894821167,
          "ratings_count": 303,
          "title": "Till Death Do Us Bark (Dog Walker Mysteries, #5)"
         },
         {
          "average_rating": 4.07,
          "norm0": 1.188488245010376,
          "ratings_count": 51,
          "title": "Live Wire (Myron Bolitar, #10)"
         },
         {
          "average_rating": 3.61,
          "norm0": 1.4528958797454834,
          "ratings_count": 25,
          "title": "A Very Private Gentleman"
         },
         {
          "average_rating": 4.09,
          "norm0": 4.869288921356201,
          "ratings_count": 9852,
          "title": "The Devil All the Time"
         },
         {
          "average_rating": 4.34,
          "norm0": 1.3626190423965454,
          "ratings_count": 828,
          "title": "Ghost-in-Law Series 1-3 Boxset"
         },
         {
          "average_rating": 3.92,
          "norm0": 0.6714836955070496,
          "ratings_count": 521,
          "title": "Unlucky"
         },
         {
          "average_rating": 3.63,
          "norm0": 0.9585294127464294,
          "ratings_count": 8,
          "title": "Classical Whodunnits: Historical Crime"
         },
         {
          "average_rating": 3.84,
          "norm0": 2.132901668548584,
          "ratings_count": 336,
          "title": "The Rock Hole"
         },
         {
          "average_rating": 3.95,
          "norm0": 1.5000027418136597,
          "ratings_count": 42,
          "title": "An Ice Cold Grave"
         },
         {
          "average_rating": 4.13,
          "norm0": 1.7307422161102295,
          "ratings_count": 81,
          "title": "Sweet Little Lies"
         },
         {
          "average_rating": 3.65,
          "norm0": 2.82826566696167,
          "ratings_count": 378,
          "title": "The Paradise Prophecy"
         },
         {
          "average_rating": 4.05,
          "norm0": 1.150879144668579,
          "ratings_count": 22,
          "title": "Cross Fire (Alex Cross, #17)"
         },
         {
          "average_rating": 3.93,
          "norm0": 2.420870542526245,
          "ratings_count": 69,
          "title": "The Tanglewood Terror"
         },
         {
          "average_rating": 3.69,
          "norm0": 2.848010301589966,
          "ratings_count": 2351,
          "title": "Eyes Wide Open"
         },
         {
          "average_rating": 3.75,
          "norm0": 0.9987823367118835,
          "ratings_count": 116,
          "title": "Cut!: Hollywood Murders, Accidents, and Other Tragedies"
         },
         {
          "average_rating": 4.03,
          "norm0": 2.6514437198638916,
          "ratings_count": 1122,
          "title": "Island of Bones (Crowther and Westerman, #3)"
         },
         {
          "average_rating": 3.72,
          "norm0": 0.6233872175216675,
          "ratings_count": 13,
          "title": "Instruments of Darkness (Crowther and Westerman, #1)"
         },
         {
          "average_rating": 3.9,
          "norm0": 1.0786247253417969,
          "ratings_count": 92,
          "title": "Simple Genius (Sean King & Michelle Maxwell, #3)"
         },
         {
          "average_rating": 3.87,
          "norm0": 2.657135248184204,
          "ratings_count": 173,
          "title": "Black Orchid Blues"
         },
         {
          "average_rating": 4.19,
          "norm0": 2.4806618690490723,
          "ratings_count": 468,
          "title": "It"
         },
         {
          "average_rating": 4.22,
          "norm0": 1.6602654457092285,
          "ratings_count": 68,
          "title": "Lady Justice Gets Lei'd (Lady Justice#3)"
         },
         {
          "average_rating": 3.57,
          "norm0": 2.3243885040283203,
          "ratings_count": 1056,
          "title": "The Journals of Eleanor Druse: My Investigation of the Kingdom Hospital Incident"
         },
         {
          "average_rating": 3.76,
          "norm0": 0.9102452397346497,
          "ratings_count": 67,
          "title": "The Inner Circle (Culper Ring, #1)"
         },
         {
          "average_rating": 3.68,
          "norm0": 2.4277799129486084,
          "ratings_count": 148,
          "title": "Snow Angels (Inspector Kari Vaara, #1)"
         },
         {
          "average_rating": 3.78,
          "norm0": 5.143378257751465,
          "ratings_count": 25071,
          "title": "Night Film"
         },
         {
          "average_rating": 3.84,
          "norm0": 1.0449228286743164,
          "ratings_count": 16,
          "title": "The Pyramid: Kurt Wallander Series, Book 9"
         },
         {
          "average_rating": 3.98,
          "norm0": 1.3144532442092896,
          "ratings_count": 874,
          "title": "Night's Landing (Cold Ridge/U.S. Marshals, #2)"
         },
         {
          "average_rating": 3.88,
          "norm0": 1.407271385192871,
          "ratings_count": 299,
          "title": "The Crush"
         },
         {
          "average_rating": 4.25,
          "norm0": 1.9737961292266846,
          "ratings_count": 279,
          "title": "Smiley's People"
         },
         {
          "average_rating": 4.43,
          "norm0": 1.5959527492523193,
          "ratings_count": 46,
          "title": "Bloodlines (Infected, #2)"
         },
         {
          "average_rating": 3.88,
          "norm0": 1.4049594402313232,
          "ratings_count": 138,
          "title": "The Delta"
         },
         {
          "average_rating": 3.81,
          "norm0": 1.8208918571472168,
          "ratings_count": 480,
          "title": "Honeymoon (Honeymoon, #1)"
         },
         {
          "average_rating": 3.53,
          "norm0": 1.8996764421463013,
          "ratings_count": 34,
          "title": "From Vegas with Blood"
         },
         {
          "average_rating": 3.43,
          "norm0": 0.9730565547943115,
          "ratings_count": 62,
          "title": "Holy Terror"
         },
         {
          "average_rating": 3.67,
          "norm0": 2.040088176727295,
          "ratings_count": 1693,
          "title": "Over Her Dead Body (Bailey Weggins Mystery, #4)"
         },
         {
          "average_rating": 4.09,
          "norm0": 1.319894552230835,
          "ratings_count": 71,
          "title": "Lethal Affairs (Elite Operatives, #1)"
         },
         {
          "average_rating": 3.96,
          "norm0": 2.3398075103759766,
          "ratings_count": 241,
          "title": "The Affair of the Porcelain Dog (Ira Adler #1)"
         },
         {
          "average_rating": 3.57,
          "norm0": 0.6314329504966736,
          "ratings_count": 2,
          "title": "Sexurbia County"
         },
         {
          "average_rating": 4.07,
          "norm0": 1.743699312210083,
          "ratings_count": 99,
          "title": "The Burning Soul (Charlie Parker, #10)"
         },
         {
          "average_rating": 3.76,
          "norm0": 1.8369070291519165,
          "ratings_count": 120,
          "title": "Bangkok 8"
         },
         {
          "average_rating": 3.67,
          "norm0": 0.8369893431663513,
          "ratings_count": 22,
          "title": "Rose Madder"
         },
         {
          "average_rating": 3.67,
          "norm0": 1.8293488025665283,
          "ratings_count": 73,
          "title": "Rose Madder"
         },
         {
          "average_rating": 3.75,
          "norm0": 1.410475254058838,
          "ratings_count": 87,
          "title": "Spiral"
         },
         {
          "average_rating": 3.6,
          "norm0": 0.9508529305458069,
          "ratings_count": 95,
          "title": "Dark Water"
         },
         {
          "average_rating": 3.97,
          "norm0": 1.3114112615585327,
          "ratings_count": 18,
          "title": "The Client"
         },
         {
          "average_rating": 3.05,
          "norm0": 0.8338900804519653,
          "ratings_count": 35,
          "title": "A Stranger Like You"
         },
         {
          "average_rating": 3.43,
          "norm0": 1.6889384984970093,
          "ratings_count": 46,
          "title": "Invisible"
         },
         {
          "average_rating": 3.95,
          "norm0": 1.1825597286224365,
          "ratings_count": 295,
          "title": "Mrs. Jeffries Takes the Stage (Mrs. Jeffries, #10)"
         },
         {
          "average_rating": 4.25,
          "norm0": 1.724515676498413,
          "ratings_count": 859,
          "title": "Truth or Dare (You're Invited to a Creepover, #1)"
         },
         {
          "average_rating": 2.69,
          "norm0": 1.931496500968933,
          "ratings_count": 184,
          "title": "The Social Climber's Handbook"
         },
         {
          "average_rating": 3.42,
          "norm0": 1.5406901836395264,
          "ratings_count": 300,
          "title": "She Said/She Saw"
         },
         {
          "average_rating": 4.03,
          "norm0": 1.7163910865783691,
          "ratings_count": 101,
          "title": "The Gentlemen's Hour (Boone Daniels, #2)"
         },
         {
          "average_rating": 3.9,
          "norm0": 1.3382433652877808,
          "ratings_count": 210,
          "title": "Spider Bones (Temperance Brennan, #13)"
         },
         {
          "average_rating": 3.88,
          "norm0": 1.392838954925537,
          "ratings_count": 238,
          "title": "The Paradoxes of Mr. Pond"
         },
         {
          "average_rating": 3.45,
          "norm0": 2.1264870166778564,
          "ratings_count": 357,
          "title": "The Killer Is Dying"
         },
         {
          "average_rating": 3.67,
          "norm0": 1.676612138748169,
          "ratings_count": 132,
          "title": "The Trees of Pride"
         },
         {
          "average_rating": 3.9,
          "norm0": 1.5647614002227783,
          "ratings_count": 173,
          "title": "Murder in Plain Sight (The Brotherhood of the Raven #1)"
         },
         {
          "average_rating": 3.93,
          "norm0": 4.339754581451416,
          "ratings_count": 4926,
          "title": "Mildred Pierce"
         },
         {
          "average_rating": 4.1,
          "norm0": 2.4811019897460938,
          "ratings_count": 131,
          "title": "Dearly Departed (Secret Sisters Mystery #2)"
         },
         {
          "average_rating": 3.75,
          "norm0": 2.9779138565063477,
          "ratings_count": 1207,
          "title": "Vulture Peak (Sonchai Jitpleecheep #5)"
         },
         {
          "average_rating": 3.94,
          "norm0": 2.39349102973938,
          "ratings_count": 1889,
          "title": "The Third Deadly Sin (Deadly Sins #4)"
         },
         {
          "average_rating": 4,
          "norm0": 1.4174920320510864,
          "ratings_count": 101,
          "title": "The Grifters"
         },
         {
          "average_rating": 3.81,
          "norm0": 1.3076516389846802,
          "ratings_count": 54,
          "title": "The Matters at Mansfield: Or, The Crawford Affair (Mr. & Mrs. Darcy Mysteries, #4)"
         },
         {
          "average_rating": 3.82,
          "norm0": 2.2573513984680176,
          "ratings_count": 471,
          "title": "Three Act Tragedy (Hercule Poirot, #11)"
         },
         {
          "average_rating": 3.88,
          "norm0": 2.4139788150787354,
          "ratings_count": 811,
          "title": "Jane and the Canterbury Tale (Jane Austen Mysteries, #11)"
         },
         {
          "average_rating": 3.61,
          "norm0": 2.125249147415161,
          "ratings_count": 90,
          "title": "Beneath the Shadows"
         },
         {
          "average_rating": 4,
          "norm0": 1.8436024188995361,
          "ratings_count": 250,
          "title": "The Kill Artist (Gabriel Allon, #1)"
         },
         {
          "average_rating": 4.14,
          "norm0": 1.2346875667572021,
          "ratings_count": 31,
          "title": "The Lincoln Lawyer (Mickey Haller, #1)"
         },
         {
          "average_rating": 3.79,
          "norm0": 0.8699877262115479,
          "ratings_count": 10,
          "title": "Laguna Heat"
         },
         {
          "average_rating": 3.84,
          "norm0": 0.8425439596176147,
          "ratings_count": 9,
          "title": "By the Light of the Moon"
         },
         {
          "average_rating": 3.42,
          "norm0": 2.1800615787506104,
          "ratings_count": 61,
          "title": "The Rumblin'"
         },
         {
          "average_rating": 3.75,
          "norm0": 0.961394190788269,
          "ratings_count": 40,
          "title": "The Case of the Bigfoot Beast"
         },
         {
          "average_rating": 3.13,
          "norm0": 2.2880845069885254,
          "ratings_count": 394,
          "title": "The Dewey Decimal System (Dewey Decimal #1)"
         },
         {
          "average_rating": 3.91,
          "norm0": 1.439557433128357,
          "ratings_count": 81,
          "title": "Midnight Pleasures"
         },
         {
          "average_rating": 3.84,
          "norm0": 1.6968419551849365,
          "ratings_count": 90,
          "title": "A Dark Dividing"
         },
         {
          "average_rating": 3.48,
          "norm0": 1.1251411437988281,
          "ratings_count": 26,
          "title": "Before I Died"
         },
         {
          "average_rating": 3.93,
          "norm0": 1.693434715270996,
          "ratings_count": 137,
          "title": "Pentecost Alley (Charlotte & Thomas Pitt, #16)"
         },
         {
          "average_rating": 3.38,
          "norm0": 1.7513290643692017,
          "ratings_count": 224,
          "title": "Final Price (Paul Chang Mystery, #1)"
         },
         {
          "average_rating": 3.17,
          "norm0": 1.4234297275543213,
          "ratings_count": 39,
          "title": "The Mistress of Murder Hill: The Serial Killings of Belle Gunness"
         },
         {
          "average_rating": 3.57,
          "norm0": 1.1545894145965576,
          "ratings_count": 66,
          "title": "The Cobra"
         },
         {
          "average_rating": 4.43,
          "norm0": 1.7375919818878174,
          "ratings_count": 24,
          "title": "No Evidence of a Crime"
         },
         {
          "average_rating": 3.85,
          "norm0": 0.9192928671836853,
          "ratings_count": 36,
          "title": "When the Wind Blows"
         },
         {
          "average_rating": 3.73,
          "norm0": 1.2570774555206299,
          "ratings_count": 78,
          "title": "Death's Bright Angel (Wilson & McLeish, #1)"
         },
         {
          "average_rating": 4.16,
          "norm0": 0.5867565870285034,
          "ratings_count": 2,
          "title": "Rough Country (Virgil Flowers, #3)"
         },
         {
          "average_rating": 4.13,
          "norm0": 1.5469969511032104,
          "ratings_count": 55,
          "title": "Murder Mountain (CeeCee Gallagher #1)"
         },
         {
          "average_rating": 3.9,
          "norm0": 2.407684326171875,
          "ratings_count": 469,
          "title": "The Doorkeepers"
         },
         {
          "average_rating": 4.02,
          "norm0": 2.1912336349487305,
          "ratings_count": 288,
          "title": "Till Death Do Us Part (Nancy Drew Files, #24)"
         },
         {
          "average_rating": 4.07,
          "norm0": 1.5960825681686401,
          "ratings_count": 32,
          "title": "Death on the Nile (Hercule Poirot, #17)"
         },
         {
          "average_rating": 2.77,
          "norm0": 0.7029644250869751,
          "ratings_count": 14,
          "title": "Death Sentence"
         },
         {
          "average_rating": 3.63,
          "norm0": 2.126324415206909,
          "ratings_count": 933,
          "title": "Deadly Intent (The Nancy Drew Files, #2)"
         },
         {
          "average_rating": 3.41,
          "norm0": 1.284416913986206,
          "ratings_count": 20,
          "title": "Murder While I Smile (The Berkeley Brigade, #3)"
         },
         {
          "average_rating": 4.26,
          "norm0": 0.9194451570510864,
          "ratings_count": 68,
          "title": "Junkyard Dogs (Walt Longmire, #6)"
         },
         {
          "average_rating": 4.26,
          "norm0": 1.3702542781829834,
          "ratings_count": 216,
          "title": "Junkyard Dogs (Walt Longmire, #6)"
         },
         {
          "average_rating": 3.65,
          "norm0": 1.568813681602478,
          "ratings_count": 431,
          "title": "This Side of Evil (The Nancy Drew Files, #14)"
         },
         {
          "average_rating": 3.57,
          "norm0": 1.116687297821045,
          "ratings_count": 171,
          "title": "High Marks for Malice (Nancy Drew: Files, #32)"
         },
         {
          "average_rating": 3.76,
          "norm0": 1.1451001167297363,
          "ratings_count": 132,
          "title": "The Vampire of Venice Beach (McAffee Twins, #3)"
         },
         {
          "average_rating": 4.17,
          "norm0": 1.7780215740203857,
          "ratings_count": 102,
          "title": "Power Down (Dewey Andreas, #1)"
         },
         {
          "average_rating": 3.78,
          "norm0": 1.5660386085510254,
          "ratings_count": 129,
          "title": "Watcher in the Pine (Tejada, #3)"
         },
         {
          "average_rating": 4.02,
          "norm0": 2.944918155670166,
          "ratings_count": 4775,
          "title": "Back Of Beyond (A Highway Quartet Novel #1)"
         },
         {
          "average_rating": 3.52,
          "norm0": 1.1647002696990967,
          "ratings_count": 172,
          "title": "Mixed Signals (Nancy Drew: Files, #63)"
         },
         {
          "average_rating": 3.76,
          "norm0": 2.532524824142456,
          "ratings_count": 203,
          "title": "IM"
         },
         {
          "average_rating": 3.7,
          "norm0": 1.0123521089553833,
          "ratings_count": 292,
          "title": "Tall, Dark and Deadly (Nancy Drew: Files, #66)"
         },
         {
          "average_rating": 4.08,
          "norm0": 1.9382797479629517,
          "ratings_count": 38,
          "title": "The Leopard"
         },
         {
          "average_rating": 4.17,
          "norm0": 1.1598646640777588,
          "ratings_count": 86,
          "title": "The Tumbler"
         },
         {
          "average_rating": 3.08,
          "norm0": 2.032257318496704,
          "ratings_count": 123,
          "title": "Pitch Dark"
         },
         {
          "average_rating": 3.77,
          "norm0": 1.6333264112472534,
          "ratings_count": 37,
          "title": "Sister"
         },
         {
          "average_rating": 4.02,
          "norm0": 1.0263246297836304,
          "ratings_count": 38,
          "title": "Excavation"
         },
         {
          "average_rating": 3.81,
          "norm0": 1.9568876028060913,
          "ratings_count": 57,
          "title": "A Place in Time"
         },
         {
          "average_rating": 4.18,
          "norm0": 1.6380174160003662,
          "ratings_count": 80,
          "title": "Mystic River"
         },
         {
          "average_rating": 4,
          "norm0": 1.3631360530853271,
          "ratings_count": 33,
          "title": "Kill Me If You Can"
         },
         {
          "average_rating": 3.98,
          "norm0": 1.920098066329956,
          "ratings_count": 64,
          "title": "The ABC Murders (Hercule Poirot, #13)"
         },
         {
          "average_rating": 4.16,
          "norm0": 1.5531271696090698,
          "ratings_count": 142,
          "title": "Murder on the Orient Express (Hercule Poirot, #10)"
         },
         {
          "average_rating": 4.21,
          "norm0": 1.185318946838379,
          "ratings_count": 55,
          "title": "Shadow Force (Death Force, #3)"
         },
         {
          "average_rating": 3.78,
          "norm0": 2.729527235031128,
          "ratings_count": 747,
          "title": "The Second Messiah"
         },
         {
          "average_rating": 3.85,
          "norm0": 1.157244086265564,
          "ratings_count": 47,
          "title": "The Body in the Library (Miss Marple, #3)"
         },
         {
          "average_rating": 3.28,
          "norm0": 1.3248411417007446,
          "ratings_count": 17,
          "title": "The Raising"
         },
         {
          "average_rating": 3.28,
          "norm0": 1.626083254814148,
          "ratings_count": 66,
          "title": "The Raising"
         },
         {
          "average_rating": 4.06,
          "norm0": 1.7951678037643433,
          "ratings_count": 111,
          "title": "1st to Die (Women's Murder Club #1)"
         },
         {
          "average_rating": 3.71,
          "norm0": 3.1692445278167725,
          "ratings_count": 2494,
          "title": "Guilt by Association (Rachel Knight, #1)"
         },
         {
          "average_rating": 3.17,
          "norm0": 2.23679256439209,
          "ratings_count": 284,
          "title": "Chihuahua of the Baskervilles (Gigi Chihuahua Mystery #1)"
         },
         {
          "average_rating": 3.69,
          "norm0": 1.2558571100234985,
          "ratings_count": 60,
          "title": "The Moses Quest (Daniel Knox, #2)"
         },
         {
          "average_rating": 3.11,
          "norm0": 1.6489250659942627,
          "ratings_count": 30,
          "title": "The Razor Gate"
         },
         {
          "average_rating": 3.71,
          "norm0": 1.420926570892334,
          "ratings_count": 32,
          "title": "Black Flowers"
         },
         {
          "average_rating": 3.71,
          "norm0": 2.330286741256714,
          "ratings_count": 290,
          "title": "Black Flowers"
         },
         {
          "average_rating": 4.03,
          "norm0": 2.159134864807129,
          "ratings_count": 144,
          "title": "Wicked (Pretty Little Liars, #5)"
         },
         {
          "average_rating": 4.09,
          "norm0": 0.9831576943397522,
          "ratings_count": 54,
          "title": "Cold Vengeance (Pendergast, #11)"
         },
         {
          "average_rating": 3.45,
          "norm0": 2.859110116958618,
          "ratings_count": 2760,
          "title": "Those in Peril (Hector Cross, #1)"
         },
         {
          "average_rating": 3.94,
          "norm0": 1.323980689048767,
          "ratings_count": 35,
          "title": "Murder On The Ballarat Train (Phryne Fisher, #3)"
         },
         {
          "average_rating": 3.63,
          "norm0": 2.3228185176849365,
          "ratings_count": 1093,
          "title": "The Beast (Grens & Sundkvist #1)"
         },
         {
          "average_rating": 4.06,
          "norm0": 2.1578168869018555,
          "ratings_count": 120,
          "title": "The Traitor and the Tunnel (The Agency, #3)"
         },
         {
          "average_rating": 3.72,
          "norm0": 0.9472051858901978,
          "ratings_count": 26,
          "title": "The Dogs of Riga (Kurt Wallander Series #2)"
         },
         {
          "average_rating": 4.13,
          "norm0": 1.4518976211547852,
          "ratings_count": 40,
          "title": "The Devil's Bones: A Body Farm Novel"
         },
         {
          "average_rating": 3.68,
          "norm0": 1.1684364080429077,
          "ratings_count": 22,
          "title": "The Sittaford Mystery"
         },
         {
          "average_rating": 3.96,
          "norm0": 2.2059268951416016,
          "ratings_count": 211,
          "title": "Flawless (Pretty Little Liars, #2)"
         },
         {
          "average_rating": 3.68,
          "norm0": 1.2128702402114868,
          "ratings_count": 129,
          "title": "Shadows of a Down East Summer (Antique Print, #5)"
         },
         {
          "average_rating": 3.07,
          "norm0": 1.0427851676940918,
          "ratings_count": 58,
          "title": "The Claw"
         },
         {
          "average_rating": 3.9,
          "norm0": 2.293041467666626,
          "ratings_count": 326,
          "title": "Pretty Little Liars (Pretty Little Liars, #1)"
         },
         {
          "average_rating": 4.23,
          "norm0": 1.1415789127349854,
          "ratings_count": 32,
          "title": "The Falcon at the Portal (Amelia Peabody, #11)"
         },
         {
          "average_rating": 4.23,
          "norm0": 1.2762916088104248,
          "ratings_count": 3,
          "title": "The Falcon at the Portal"
         },
         {
          "average_rating": 3.56,
          "norm0": 0.9324232339859009,
          "ratings_count": 9,
          "title": "Congo"
         },
         {
          "average_rating": 3.56,
          "norm0": 1.794400930404663,
          "ratings_count": 177,
          "title": "Congo"
         },
         {
          "average_rating": 4.07,
          "norm0": 1.7885278463363647,
          "ratings_count": 622,
          "title": "The Butchered Man (Northminster Mysteries, #1)"
         },
         {
          "average_rating": 3.62,
          "norm0": 1.9316118955612183,
          "ratings_count": 37,
          "title": "Promise Not to Tell"
         },
         {
          "average_rating": 3.95,
          "norm0": 0.8952969908714294,
          "ratings_count": 12,
          "title": "A Personal Devil: Magdalene la Batarde Series, Book 2"
         },
         {
          "average_rating": 3.5,
          "norm0": 1.4307609796524048,
          "ratings_count": 36,
          "title": "Cold Dark Matter"
         },
         {
          "average_rating": 3.66,
          "norm0": 1.8781325817108154,
          "ratings_count": 64,
          "title": "Dark Matter"
         },
         {
          "average_rating": 3.6,
          "norm0": 0.9721338152885437,
          "ratings_count": 50,
          "title": "Public Anatomy"
         },
         {
          "average_rating": 3.9,
          "norm0": 1.4471484422683716,
          "ratings_count": 29,
          "title": "The Cat Who Ate Danish Modern"
         },
         {
          "average_rating": 3.92,
          "norm0": 1.1406233310699463,
          "ratings_count": 90,
          "title": "Until Proven Guilty (J.P. Beaumont, #1)"
         },
         {
          "average_rating": 4.43,
          "norm0": 2.637150287628174,
          "ratings_count": 3241,
          "title": "Fatal Flaw (Fatal, #4)"
         },
         {
          "average_rating": 3.55,
          "norm0": 1.2868077754974365,
          "ratings_count": 71,
          "title": "Koko"
         },
         {
          "average_rating": 3.86,
          "norm0": 1.9941529035568237,
          "ratings_count": 135,
          "title": "These Things Hidden"
         },
         {
          "average_rating": 3.62,
          "norm0": 2.1306562423706055,
          "ratings_count": 295,
          "title": "No Shelter (Holly Lin, #1)"
         },
         {
          "average_rating": 3.64,
          "norm0": 1.6818245649337769,
          "ratings_count": 77,
          "title": "The Black Widow Agency"
         },
         {
          "average_rating": 3.15,
          "norm0": 1.226889967918396,
          "ratings_count": 121,
          "title": "COMPELLED"
         },
         {
          "average_rating": 3.92,
          "norm0": 1.4806572198867798,
          "ratings_count": 11,
          "title": "Postcards from the Apocalypse"
         },
         {
          "average_rating": 4.5,
          "norm0": 3.6830763816833496,
          "ratings_count": 16821,
          "title": "The Complete Sherlock Holmes, Volume I"
         },
         {
          "average_rating": 3.95,
          "norm0": 2.1546471118927,
          "ratings_count": 631,
          "title": "Vanish in Plain Sight (The Brotherhood of the Raven #2)"
         },
         {
          "average_rating": 4.46,
          "norm0": 2.6743764877319336,
          "ratings_count": 734,
          "title": "The Complete Sherlock Holmes, Volume II"
         },
         {
          "average_rating": 4,
          "norm0": 1.1998130083084106,
          "ratings_count": 10,
          "title": "Stab in the Dark"
         },
         {
          "average_rating": 4,
          "norm0": 1.5318065881729126,
          "ratings_count": 33,
          "title": "A Stab in the Dark: A Novel of Suspense"
         },
         {
          "average_rating": 4.11,
          "norm0": 1.266229510307312,
          "ratings_count": 74,
          "title": "Champagne for Buzzards (Sherri Travis Mysteries, #4)"
         },
         {
          "average_rating": 3.53,
          "norm0": 1.0429867506027222,
          "ratings_count": 46,
          "title": "Small Town: A Novel"
         },
         {
          "average_rating": 4.56,
          "norm0": 1.454519271850586,
          "ratings_count": 9,
          "title": "Conflict of Interest"
         },
         {
          "average_rating": 3.9,
          "norm0": 3.684462308883667,
          "ratings_count": 6307,
          "title": "You're Next"
         },
         {
          "average_rating": 3.53,
          "norm0": 1.165519118309021,
          "ratings_count": 53,
          "title": "Seduced by Evil: The True Story of a Gorgeous Stripper-Turned-Suburban-Mom, Her Secret Past, and a Ruthless Murder"
         },
         {
          "average_rating": 3.66,
          "norm0": 1.0471888780593872,
          "ratings_count": 66,
          "title": "Jack the Ripper and Black Magic: Victorian Conspiracy Theories, Secret Societies and the Supernatural Mystique of the Whitechapel Murders"
         },
         {
          "average_rating": 3.55,
          "norm0": 1.629655361175537,
          "ratings_count": 37,
          "title": "Rainbow Drive"
         },
         {
          "average_rating": 3.39,
          "norm0": 1.1724313497543335,
          "ratings_count": 83,
          "title": "The Lola Cruz Christmas Story (Lola Cruz Mystery #0.5)"
         },
         {
          "average_rating": 3.52,
          "norm0": 1.5317829847335815,
          "ratings_count": 258,
          "title": "The Omega Theory (Final Theory, #2)"
         },
         {
          "average_rating": 4.2,
          "norm0": 1.3338513374328613,
          "ratings_count": 101,
          "title": "The Glass Rainbow (Dave Robicheaux, #18)"
         },
         {
          "average_rating": 3.75,
          "norm0": 0.8531476855278015,
          "ratings_count": 26,
          "title": "Florida Roadkill"
         },
         {
          "average_rating": 3.69,
          "norm0": 0.8691745400428772,
          "ratings_count": 34,
          "title": "Gator Kill"
         },
         {
          "average_rating": 3.94,
          "norm0": 1.2980588674545288,
          "ratings_count": 372,
          "title": "Never Sorry (Leigh Koslow Mystery #2)"
         },
         {
          "average_rating": 3.71,
          "norm0": 1.0730607509613037,
          "ratings_count": 26,
          "title": "Guilt by Association (Rachel Knight #1)"
         },
         {
          "average_rating": 4.06,
          "norm0": 1.5777246952056885,
          "ratings_count": 34,
          "title": "The Devotion of Suspect X (Detective Galileo, #3)"
         },
         {
          "average_rating": 4.17,
          "norm0": 0.8952640295028687,
          "ratings_count": 54,
          "title": "Eye Of The Needle"
         },
         {
          "average_rating": 3.4,
          "norm0": 2.1131296157836914,
          "ratings_count": 288,
          "title": "The Dead Saint"
         },
         {
          "average_rating": 3.81,
          "norm0": 2.119295358657837,
          "ratings_count": 194,
          "title": "Stolen Lives (Jade de Jong, #2)"
         },
         {
          "average_rating": 4.19,
          "norm0": 1.1663085222244263,
          "ratings_count": 47,
          "title": "Indelible (Grant County, #4)"
         },
         {
          "average_rating": 3.3,
          "norm0": 1.1162936687469482,
          "ratings_count": 32,
          "title": "One Deadly Sister (Sandy Reid Mysteries, #1)"
         },
         {
          "average_rating": 3.99,
          "norm0": 0.8251723647117615,
          "ratings_count": 75,
          "title": "Without Mercy: Obsession And Murder Under The Influence"
         },
         {
          "average_rating": 3.86,
          "norm0": 1.4342479705810547,
          "ratings_count": 106,
          "title": "The Rose of the World (Hawkenlye Mysteries #13)"
         },
         {
          "average_rating": 3.27,
          "norm0": 1.812315821647644,
          "ratings_count": 261,
          "title": "In Secret Service"
         },
         {
          "average_rating": 3.51,
          "norm0": 2.108581304550171,
          "ratings_count": 241,
          "title": "Take No More (James Blake, #1)"
         },
         {
          "average_rating": 3.89,
          "norm0": 1.327839970588684,
          "ratings_count": 19,
          "title": "The Mirror Crack'd from Side to Side: A Miss Marple Mystery"
         },
         {
          "average_rating": 4.17,
          "norm0": 1.6389085054397583,
          "ratings_count": 56,
          "title": "Darkness, Take My Hand (Kenzie & Gennaro #2)"
         },
         {
          "average_rating": 4.3,
          "norm0": 2.0732781887054443,
          "ratings_count": 20,
          "title": "Las aventuras de Sherlock Holmes (Sherlock Holmes, #3)"
         },
         {
          "average_rating": 3.58,
          "norm0": 1.6287182569503784,
          "ratings_count": 946,
          "title": "Gideon's Sword (Gideon's Crew #1)"
         },
         {
          "average_rating": 3.93,
          "norm0": 1.538473129272461,
          "ratings_count": 56,
          "title": "4:50 from Paddington (Miss Marple, #8)"
         },
         {
          "average_rating": 4.06,
          "norm0": 1.4559924602508545,
          "ratings_count": 122,
          "title": "Unbelievable (Pretty Little Liars, #4)"
         },
         {
          "average_rating": 4.02,
          "norm0": 1.73504638671875,
          "ratings_count": 155,
          "title": "Perfect (Pretty Little Liars, #3)"
         },
         {
          "average_rating": 3.34,
          "norm0": 1.2158221006393433,
          "ratings_count": 17,
          "title": "Never Tell a Lie"
         },
         {
          "average_rating": 4.07,
          "norm0": 1.5180304050445557,
          "ratings_count": 116,
          "title": "Broken Home"
         },
         {
          "average_rating": 3.85,
          "norm0": 1.4615504741668701,
          "ratings_count": 217,
          "title": "Note of Peril (Hideaway #4)"
         },
         {
          "average_rating": 3.83,
          "norm0": 0.9340105652809143,
          "ratings_count": 11,
          "title": "Moment of Truth"
         },
         {
          "average_rating": 3.83,
          "norm0": 1.3517986536026,
          "ratings_count": 103,
          "title": "Moment Of Truth (Rosato and Associates, #5)"
         },
         {
          "average_rating": 3.4,
          "norm0": 3.3613638877868652,
          "ratings_count": 1790,
          "title": "The White Devil"
         },
         {
          "average_rating": 3.97,
          "norm0": 1.3836020231246948,
          "ratings_count": 43,
          "title": "The Faithful Spy (John Wells, #1)"
         },
         {
          "average_rating": 3.75,
          "norm0": 1.635326862335205,
          "ratings_count": 33,
          "title": "Size 12 Is Not Fat (Heather Wells, #1)"
         },
         {
          "average_rating": 3.83,
          "norm0": 1.7881520986557007,
          "ratings_count": 57,
          "title": "Size 14 Is Not Fat Either (Heather Wells, #2)"
         },
         {
          "average_rating": 3.88,
          "norm0": 1.4327348470687866,
          "ratings_count": 30,
          "title": "Lord Edgware Dies (Hercule Poirot, #9)"
         },
         {
          "average_rating": 3.73,
          "norm0": 1.0791349411010742,
          "ratings_count": 30,
          "title": "The Last Kashmiri Rose: Introducing Detective Joe Sandilands"
         },
         {
          "average_rating": 2.58,
          "norm0": 0.6752784848213196,
          "ratings_count": 12,
          "title": "The President's Mystery Plot"
         },
         {
          "average_rating": 3.84,
          "norm0": 1.4219504594802856,
          "ratings_count": 43,
          "title": "The Cat Who Could Read Backwards (Cat Who..., #1)"
         },
         {
          "average_rating": 4.03,
          "norm0": 2.618076801300049,
          "ratings_count": 247,
          "title": "The Murder at the Vicarage (Miss Marple, #1)"
         },
         {
          "average_rating": 4.04,
          "norm0": 1.438653826713562,
          "ratings_count": 53,
          "title": "Stork Raving Mad (Meg Langslow #12)"
         },
         {
          "average_rating": 3.73,
          "norm0": 1.7644599676132202,
          "ratings_count": 14,
          "title": "The Republic of Night (Otto Penzler Books)"
         },
         {
          "average_rating": 3.88,
          "norm0": 3.15669322013855,
          "ratings_count": 4103,
          "title": "The Gray and Guilty Sea (Garrison Gage, #1)"
         },
         {
          "average_rating": 3.7,
          "norm0": 1.995780348777771,
          "ratings_count": 49,
          "title": "The Crack in the Lens"
         },
         {
          "average_rating": 4.26,
          "norm0": 2.336308479309082,
          "ratings_count": 120,
          "title": "Rapture in Death (In Death, #4)"
         },
         {
          "average_rating": 3.19,
          "norm0": 1.4933230876922607,
          "ratings_count": 124,
          "title": "They Don't Exist"
         },
         {
          "average_rating": 4.02,
          "norm0": 1.38852858543396,
          "ratings_count": 28,
          "title": "Free Range Institution"
         },
         {
          "average_rating": 3.77,
          "norm0": 1.6157339811325073,
          "ratings_count": 96,
          "title": "Origin"
         },
         {
          "average_rating": 3.66,
          "norm0": 3.4122824668884277,
          "ratings_count": 13277,
          "title": "Mr. Churchill's Secretary (Maggie Hope Mystery, #1)"
         },
         {
          "average_rating": 3.78,
          "norm0": 1.161213755607605,
          "ratings_count": 34,
          "title": "A Curtain Falls: A Novel"
         },
         {
          "average_rating": 3.72,
          "norm0": 2.4748127460479736,
          "ratings_count": 365,
          "title": "A New Kind of Monster: The Secret Life and Chilling Crimes of Colonel Russell Williams"
         },
         {
          "average_rating": 3.79,
          "norm0": 1.4366838932037354,
          "ratings_count": 67,
          "title": "Executive Privilege (Dana Cutler, #1)"
         },
         {
          "average_rating": 3.84,
          "norm0": 2.3790814876556396,
          "ratings_count": 1757,
          "title": "The Mystery of the Moaning Cave (Alfred Hitchcock and The Three Investigators, #10)"
         },
         {
          "average_rating": 3.79,
          "norm0": 1.3013105392456055,
          "ratings_count": 688,
          "title": "The Mystery of the Deadly Double (Alfred Hitchcock and The Three Investigators, #28)"
         },
         {
          "average_rating": 4.41,
          "norm0": 2.170609474182129,
          "ratings_count": 467,
          "title": "Alfred Hitchcock and the Three Investigators Series"
         },
         {
          "average_rating": 3.79,
          "norm0": 1.7289584875106812,
          "ratings_count": 1134,
          "title": "The Mystery of the Laughing Shadow (Alfred Hitchcock and the Three Investigators, #12)"
         },
         {
          "average_rating": 4.03,
          "norm0": 2.047559976577759,
          "ratings_count": 292,
          "title": "Dirty White Boys"
         },
         {
          "average_rating": 3.97,
          "norm0": 1.8283737897872925,
          "ratings_count": 114,
          "title": "Nemesis (Harry Hole, #4)"
         },
         {
          "average_rating": 3.62,
          "norm0": 2.2219221591949463,
          "ratings_count": 487,
          "title": "Dandy Gilver and the Proper Treatment of Bloodstains (Dandy Gilver, #5)"
         },
         {
          "average_rating": 3.82,
          "norm0": 1.3993862867355347,
          "ratings_count": 66,
          "title": "The Magnificent Spilsbury and the Case of the Brides In the Bath"
         },
         {
          "average_rating": 4.35,
          "norm0": 2.579918384552002,
          "ratings_count": 567,
          "title": "Hallowed Ground (PI Julie Collins, #2)"
         },
         {
          "average_rating": 3.56,
          "norm0": 0.705997109413147,
          "ratings_count": 11,
          "title": "No One Heard Her Scream (No One, #1)"
         },
         {
          "average_rating": 3.68,
          "norm0": 1.5256547927856445,
          "ratings_count": 54,
          "title": "Snow Angels (Inspector Kari Vaara, #1)"
         },
         {
          "average_rating": 3.92,
          "norm0": 1.648734211921692,
          "ratings_count": 150,
          "title": "Grievous Angel (Bob Skinner, #21)"
         },
         {
          "average_rating": 3.93,
          "norm0": 0.8879191279411316,
          "ratings_count": 4,
          "title": "Death at the Dolphin"
         },
         {
          "average_rating": 3.41,
          "norm0": 1.4145580530166626,
          "ratings_count": 14,
          "title": "Dark Detectives: Adventures of the Supernatural Sleuths"
         },
         {
          "average_rating": 3.94,
          "norm0": 1.388892650604248,
          "ratings_count": 24,
          "title": "Evil Under the Sun: A Hercule Poirot Mystery"
         },
         {
          "average_rating": 3.35,
          "norm0": 1.4880315065383911,
          "ratings_count": 72,
          "title": "Blood Crimes: Book One"
         },
         {
          "average_rating": 3.91,
          "norm0": 1.5232090950012207,
          "ratings_count": 7,
          "title": "Who Dares Wins"
         },
         {
          "average_rating": 3.73,
          "norm0": 2.174933910369873,
          "ratings_count": 673,
          "title": "The Sauvignon Secret (Wine Country Mysteries, #6)"
         },
         {
          "average_rating": 3.77,
          "norm0": 1.2486698627471924,
          "ratings_count": 46,
          "title": "Dead Man's Folly"
         },
         {
          "average_rating": 3.51,
          "norm0": 2.79461669921875,
          "ratings_count": 2901,
          "title": "Codex 632"
         },
         {
          "average_rating": 3.87,
          "norm0": 1.6866865158081055,
          "ratings_count": 34,
          "title": "Murder in Mesopotamia: A Hercule Poirot Mystery"
         },
         {
          "average_rating": 3.3,
          "norm0": 1.1789201498031616,
          "ratings_count": 22,
          "title": "Hawk Moon (Robert Payne, #2)"
         },
         {
          "average_rating": 4.07,
          "norm0": 1.2959027290344238,
          "ratings_count": 91,
          "title": "Live Wire (Myron Bolitar, #10)"
         },
         {
          "average_rating": 3.88,
          "norm0": 1.8409044742584229,
          "ratings_count": 526,
          "title": "House Divided (Joe DeMarco, #6)"
         },
         {
          "average_rating": 4.05,
          "norm0": 1.0867878198623657,
          "ratings_count": 74,
          "title": "All That Remains (Kay Scarpetta, #3)"
         },
         {
          "average_rating": 4.18,
          "norm0": 1.2633997201919556,
          "ratings_count": 42,
          "title": "The Bone Tree (Penn Cage, #5)"
         },
         {
          "average_rating": 3.85,
          "norm0": 4.198455333709717,
          "ratings_count": 16544,
          "title": "Never Knowing"
         },
         {
          "average_rating": 3.63,
          "norm0": 1.5092742443084717,
          "ratings_count": 89,
          "title": "The Railway Detective"
         },
         {
          "average_rating": 4,
          "norm0": 2.1261045932769775,
          "ratings_count": 634,
          "title": "Die Trying (Jack Reacher, #2)"
         },
         {
          "average_rating": 4.08,
          "norm0": 2.048617124557495,
          "ratings_count": 512,
          "title": "Tripwire (Jack Reacher, #3)"
         },
         {
          "average_rating": 4.08,
          "norm0": 1.9345805644989014,
          "ratings_count": 438,
          "title": "The Visitor (Jack Reacher, #4)"
         },
         {
          "average_rating": 4.16,
          "norm0": 1.711318016052246,
          "ratings_count": 287,
          "title": "Without Fail (Jack Reacher, #6)"
         },
         {
          "average_rating": 3.61,
          "norm0": 2.2062928676605225,
          "ratings_count": 1559,
          "title": "Trader of Secrets (Paul Madriani, #12)"
         },
         {
          "average_rating": 3.97,
          "norm0": 1.306321144104004,
          "ratings_count": 61,
          "title": "The Devil's in the Details (A Camilla MacPhee Mystery, #4)"
         },
         {
          "average_rating": 4.03,
          "norm0": 1.901485800743103,
          "ratings_count": 71,
          "title": "Turbulence"
         },
         {
          "average_rating": 3.58,
          "norm0": 1.897335171699524,
          "ratings_count": 93,
          "title": "Gideon's Sword"
         },
         {
          "average_rating": 3.97,
          "norm0": 1.2600215673446655,
          "ratings_count": 19,
          "title": "A Free Man of Color"
         },
         {
          "average_rating": 4.11,
          "norm0": 1.8836145401000977,
          "ratings_count": 330,
          "title": "Missing"
         },
         {
          "average_rating": 3.26,
          "norm0": 1.1517411470413208,
          "ratings_count": 8,
          "title": "Flashback"
         },
         {
          "average_rating": 4.42,
          "norm0": 1.2926639318466187,
          "ratings_count": 90,
          "title": "The Divine Circle of Ladies Tipping the Scales (A Cass Shipton Mystery #7)"
         },
         {
          "average_rating": 3.77,
          "norm0": 1.670861005783081,
          "ratings_count": 326,
          "title": "The Attenbury Emeralds (Lord Peter Wimsey/Harriet Vane, #3)"
         },
         {
          "average_rating": 3.39,
          "norm0": 1.3680506944656372,
          "ratings_count": 43,
          "title": "The Girl in the Green Raincoat (Tess Monaghan, #11)"
         },
         {
          "average_rating": 4.01,
          "norm0": 1.688804030418396,
          "ratings_count": 168,
          "title": "Of Blood and Sorrow (Tamara Hayle, #8)"
         },
         {
          "average_rating": 3.72,
          "norm0": 1.3104774951934814,
          "ratings_count": 80,
          "title": "Full Dress Gray"
         },
         {
          "average_rating": 3.75,
          "norm0": 1.3376812934875488,
          "ratings_count": 7,
          "title": "The Rainbird Pattern"
         },
         {
          "average_rating": 3.8,
          "norm0": 1.3062891960144043,
          "ratings_count": 43,
          "title": "Edge Of Evil (Ali Reynolds, #1)"
         },
         {
          "average_rating": 2.92,
          "norm0": 1.3357104063034058,
          "ratings_count": 12,
          "title": "The World's Most Evil Murderers; Real Life Stories Of Infamous Killers"
         },
         {
          "average_rating": 4.03,
          "norm0": 2.8314356803894043,
          "ratings_count": 663,
          "title": "Cold Fear"
         },
         {
          "average_rating": 4.04,
          "norm0": 2.231595754623413,
          "ratings_count": 35,
          "title": "Con Test: Double Life"
         },
         {
          "average_rating": 3.6,
          "norm0": 1.9270801544189453,
          "ratings_count": 67,
          "title": "The 39 Steps"
         },
         {
          "average_rating": 3.64,
          "norm0": 0.8872752785682678,
          "ratings_count": 47,
          "title": "The Lies That Bind (Neil Hamel, #5)"
         },
         {
          "average_rating": 3.72,
          "norm0": 1.7155351638793945,
          "ratings_count": 70,
          "title": "Justice: Crimes, Trials and Punishment"
         },
         {
          "average_rating": 3.8,
          "norm0": 1.8867932558059692,
          "ratings_count": 279,
          "title": "Everywhere That Mary Went (Rosato & Associates, #1)"
         },
         {
          "average_rating": 3.93,
          "norm0": 2.3480818271636963,
          "ratings_count": 543,
          "title": "Collecting Cooper (Theodore Tate, #2)"
         },
         {
          "average_rating": 4.07,
          "norm0": 2.0458264350891113,
          "ratings_count": 1627,
          "title": "Steps to the Altar (Benni Harper, #9)"
         },
         {
          "average_rating": 3.98,
          "norm0": 3.273861885070801,
          "ratings_count": 5018,
          "title": "Open and Shut (Andy Carpenter #1)"
         },
         {
          "average_rating": 3.7,
          "norm0": 1.032045602798462,
          "ratings_count": 31,
          "title": "Fatally Flaky"
         },
         {
          "average_rating": 3.66,
          "norm0": 1.1768932342529297,
          "ratings_count": 38,
          "title": "Hallowe'en Party"
         },
         {
          "average_rating": 4.01,
          "norm0": 1.2835808992385864,
          "ratings_count": 14,
          "title": "Brat Farrar"
         },
         {
          "average_rating": 3.69,
          "norm0": 1.628059983253479,
          "ratings_count": 171,
          "title": "Big Easy"
         },
         {
          "average_rating": 4.14,
          "norm0": 1.3408770561218262,
          "ratings_count": 90,
          "title": "A Deadly Game"
         },
         {
          "average_rating": 4.18,
          "norm0": 1.7714860439300537,
          "ratings_count": 139,
          "title": "Body of Evidence (Texas Ranger Justice, #2)"
         },
         {
          "average_rating": 3.27,
          "norm0": 1.972801685333252,
          "ratings_count": 185,
          "title": "The Phoenix Apostles (A Seneca Hunt Mystery #1)"
         },
         {
          "average_rating": 4.23,
          "norm0": 2.415714979171753,
          "ratings_count": 220,
          "title": "And Then There Were None"
         },
         {
          "average_rating": 3.63,
          "norm0": 2.662518262863159,
          "ratings_count": 787,
          "title": "Madeleine: Our Daughter's Disappearance and the Continuing Search for Her"
         },
         {
          "average_rating": 3.6,
          "norm0": 2.6450512409210205,
          "ratings_count": 1391,
          "title": "A Death in Summer (Quirke #4)"
         },
         {
          "average_rating": 3.41,
          "norm0": 1.5660433769226074,
          "ratings_count": 28,
          "title": "Deadly Deceit"
         },
         {
          "average_rating": 3.83,
          "norm0": 2.0456323623657227,
          "ratings_count": 1296,
          "title": "Love Is Murder (Lucy Kincaid, #0.5)"
         },
         {
          "average_rating": 3.85,
          "norm0": 0.8390094637870789,
          "ratings_count": 58,
          "title": "Dead Ringer (Laura Fleming, #2)"
         },
         {
          "average_rating": 3.38,
          "norm0": 0.6035026907920837,
          "ratings_count": 166,
          "title": "Twins: Dead Ringers"
         },
         {
          "average_rating": 4.08,
          "norm0": 2.605803966522217,
          "ratings_count": 3300,
          "title": "First Degree (Andy Carpenter #2)"
         },
         {
          "average_rating": 3.71,
          "norm0": 1.2100021839141846,
          "ratings_count": 260,
          "title": "The Mysterious Matter of I. M. Fine"
         },
         {
          "average_rating": 3.97,
          "norm0": 1.9497743844985962,
          "ratings_count": 475,
          "title": "Digging Up Trouble (Nina Quinn, #3)"
         },
         {
          "average_rating": 3.89,
          "norm0": 2.0075552463531494,
          "ratings_count": 50,
          "title": "A Test Of Wills (Inspector Ian Rutledge, #1)"
         },
         {
          "average_rating": 3.55,
          "norm0": 1.0994504690170288,
          "ratings_count": 38,
          "title": "Jury of One"
         },
         {
          "average_rating": 4.06,
          "norm0": 1.5968666076660156,
          "ratings_count": 67,
          "title": "Map of Bones: A Sigma Force Novel"
         },
         {
          "average_rating": 3.17,
          "norm0": 1.1481566429138184,
          "ratings_count": 19,
          "title": "Who Gets the Apartment?"
         },
         {
          "average_rating": 3.82,
          "norm0": 1.4959254264831543,
          "ratings_count": 43,
          "title": "Off Season"
         },
         {
          "average_rating": 3.81,
          "norm0": 0.7129461169242859,
          "ratings_count": 222,
          "title": "American Psycho"
         },
         {
          "average_rating": 3.91,
          "norm0": 1.0345017910003662,
          "ratings_count": 21,
          "title": "Devious"
         },
         {
          "average_rating": 3.84,
          "norm0": 0.9781823754310608,
          "ratings_count": 80,
          "title": "Ice Hunter (Woods Cop Mysteries #1)"
         },
         {
          "average_rating": 3.66,
          "norm0": 0.7580389380455017,
          "ratings_count": 114,
          "title": "The Majolica Murders (Antique Lover, #5)"
         },
         {
          "average_rating": 3.59,
          "norm0": 1.921376347541809,
          "ratings_count": 156,
          "title": "The Weedless Widow (Antique Lover, #2)"
         },
         {
          "average_rating": 3.73,
          "norm0": 0.7960100769996643,
          "ratings_count": 140,
          "title": "The Marriage Casket (Antique Lover, #3)"
         },
         {
          "average_rating": 3.86,
          "norm0": 0.8308932185173035,
          "ratings_count": 113,
          "title": "Four on the Floor (Antique Lover, #4)"
         },
         {
          "average_rating": 4.01,
          "norm0": 1.6754014492034912,
          "ratings_count": 470,
          "title": "Pushing Up Bluebonnets (A Yellow Rose Mystery, #5)"
         },
         {
          "average_rating": 4.1,
          "norm0": 1.8511801958084106,
          "ratings_count": 109,
          "title": "Blindsighted (Grant County, #1)"
         },
         {
          "average_rating": 3.58,
          "norm0": 1.30833101272583,
          "ratings_count": 62,
          "title": "Reluctant Detective"
         },
         {
          "average_rating": 3.71,
          "norm0": 2.162548065185547,
          "ratings_count": 278,
          "title": "The Clocks (Hercule Poirot, #34)"
         },
         {
          "average_rating": 3.76,
          "norm0": 2.208434581756592,
          "ratings_count": 335,
          "title": "The Scavenger's Daughter: A Tyler West Mystery"
         },
         {
          "average_rating": 3.88,
          "norm0": 1.4781337976455688,
          "ratings_count": 137,
          "title": "Lord Edgware Dies (Hercule Poirot #9)"
         },
         {
          "average_rating": 3.83,
          "norm0": 1.5456411838531494,
          "ratings_count": 306,
          "title": "Trust Me On This (Sara & Jack, #1)"
         },
         {
          "average_rating": 3.59,
          "norm0": 1.0816103219985962,
          "ratings_count": 79,
          "title": "Miami Noir"
         },
         {
          "average_rating": 4.01,
          "norm0": 1.3559436798095703,
          "ratings_count": 53,
          "title": "Postmortem (Kay Scarpetta, #1)"
         },
         {
          "average_rating": 3.52,
          "norm0": 2.111598014831543,
          "ratings_count": 389,
          "title": "The Value of Life"
         },
         {
          "average_rating": 3.5,
          "norm0": 1.4338492155075073,
          "ratings_count": 36,
          "title": "Dark Companion"
         },
         {
          "average_rating": 3.42,
          "norm0": 1.254823923110962,
          "ratings_count": 12,
          "title": "Evil"
         },
         {
          "average_rating": 4.18,
          "norm0": 1.9021403789520264,
          "ratings_count": 95,
          "title": "A Cop's Life: True Stories from the Heart Behind the Badge"
         },
         {
          "average_rating": 3.94,
          "norm0": 2.2150840759277344,
          "ratings_count": 76,
          "title": "Peekers"
         },
         {
          "average_rating": 3.87,
          "norm0": 1.3877689838409424,
          "ratings_count": 18,
          "title": "The Thirteen Problems (Miss Marple, #2)"
         },
         {
          "average_rating": 3.11,
          "norm0": 1.2523188591003418,
          "ratings_count": 92,
          "title": "The Cuckoo's Child"
         },
         {
          "average_rating": 3.84,
          "norm0": 2.0155835151672363,
          "ratings_count": 175,
          "title": "The Raven Mocker (Cades Cove #2)"
         },
         {
          "average_rating": 3.97,
          "norm0": 1.210551142692566,
          "ratings_count": 20,
          "title": "Love Me to Death (Lucy Kincaid, #1)"
         },
         {
          "average_rating": 4.01,
          "norm0": 1.656351089477539,
          "ratings_count": 21,
          "title": "The Perfect Husband"
         },
         {
          "average_rating": 4.49,
          "norm0": 1.6775645017623901,
          "ratings_count": 72,
          "title": "Myth Man"
         },
         {
          "average_rating": 3.93,
          "norm0": 1.4949631690979004,
          "ratings_count": 394,
          "title": "Mildred Pierce"
         },
         {
          "average_rating": 3.91,
          "norm0": 0.9992016553878784,
          "ratings_count": 22,
          "title": "The Janus Stone (Ruth Galloway, #2)"
         },
         {
          "average_rating": 3.79,
          "norm0": 1.5258840322494507,
          "ratings_count": 98,
          "title": "You Are Next"
         },
         {
          "average_rating": 3.73,
          "norm0": 1.4028551578521729,
          "ratings_count": 29,
          "title": "The Vintage Vendetta (Wine Country Mysteries #5)"
         },
         {
          "average_rating": 3.51,
          "norm0": 1.7790870666503906,
          "ratings_count": 26,
          "title": "Secrets Dark and Deep"
         },
         {
          "average_rating": 3.71,
          "norm0": 2.319723606109619,
          "ratings_count": 501,
          "title": "A Door in the River (Hazel Micallef Mystery #3)"
         },
         {
          "average_rating": 3.36,
          "norm0": 0.5514242053031921,
          "ratings_count": 39,
          "title": "The Doctor, His Wife, and the Clock"
         },
         {
          "average_rating": 3.76,
          "norm0": 3.332526683807373,
          "ratings_count": 1295,
          "title": "The Five"
         },
         {
          "average_rating": 3.61,
          "norm0": 3.0802431106567383,
          "ratings_count": 1056,
          "title": "The Shepherd (Shepherd #1)"
         },
         {
          "average_rating": 3.74,
          "norm0": 1.507246732711792,
          "ratings_count": 23,
          "title": "One, Two, Buckle my Shoe: A Hercule Poirot Mystery"
         },
         {
          "average_rating": 4.09,
          "norm0": 1.1173415184020996,
          "ratings_count": 14,
          "title": "Murder on a Girls' Night Out: A Southern Sisters Mystery"
         },
         {
          "average_rating": 3.85,
          "norm0": 0.9808354377746582,
          "ratings_count": 13,
          "title": "The Gladstone Bag (Sarah Kelling and Max Bittersohn Mystery #9)"
         },
         {
          "average_rating": 3.65,
          "norm0": 1.786062479019165,
          "ratings_count": 60,
          "title": "Codex"
         },
         {
          "average_rating": 3.87,
          "norm0": 0.7914639711380005,
          "ratings_count": 42,
          "title": "Bel-Air Dead (Stone Barrington, #20)"
         },
         {
          "average_rating": 3.98,
          "norm0": 1.5751972198486328,
          "ratings_count": 41,
          "title": "The Mysterious Affair At Styles (Hercule Poirot, #1)"
         },
         {
          "average_rating": 3.91,
          "norm0": 2.157585859298706,
          "ratings_count": 260,
          "title": "Heist Society (Heist Society, #1)"
         },
         {
          "average_rating": 4.06,
          "norm0": 1.6784664392471313,
          "ratings_count": 45,
          "title": "The Cutting"
         },
         {
          "average_rating": 4.07,
          "norm0": 1.27346670627594,
          "ratings_count": 76,
          "title": "Saturday Big Tent Wedding Party"
         },
         {
          "average_rating": 4.15,
          "norm0": 0.7155241966247559,
          "ratings_count": 25,
          "title": "Absolute Power"
         },
         {
          "average_rating": 3.9,
          "norm0": 1.6369688510894775,
          "ratings_count": 163,
          "title": "You're Next"
         },
         {
          "average_rating": 3.97,
          "norm0": 1.6661403179168701,
          "ratings_count": 170,
          "title": "Morality for Beautiful Girls"
         },
         {
          "average_rating": 3.97,
          "norm0": 1.5757383108139038,
          "ratings_count": 102,
          "title": "Morality For Beautiful Girls"
         },
         {
          "average_rating": 3.75,
          "norm0": 2.3227381706237793,
          "ratings_count": 130,
          "title": "Crime Beat"
         },
         {
          "average_rating": 3.06,
          "norm0": 2.975546360015869,
          "ratings_count": 967,
          "title": "Miss Timmins' School for Girls"
         },
         {
          "average_rating": 3.51,
          "norm0": 3.530909299850464,
          "ratings_count": 1650,
          "title": "Spies and Prejudice"
         },
         {
          "average_rating": 3.92,
          "norm0": 1.4135562181472778,
          "ratings_count": 29,
          "title": "Detour to Murder"
         },
         {
          "average_rating": 3.45,
          "norm0": 1.0300801992416382,
          "ratings_count": 33,
          "title": "24 Hours from Tulse Hill"
         },
         {
          "average_rating": 2.96,
          "norm0": 1.0231428146362305,
          "ratings_count": 11,
          "title": "A Dark Matter"
         },
         {
          "average_rating": 3.51,
          "norm0": 1.2466267347335815,
          "ratings_count": 63,
          "title": "Angel Death"
         },
         {
          "average_rating": 3.93,
          "norm0": 3.783278226852417,
          "ratings_count": 9815,
          "title": "The Accident"
         },
         {
          "average_rating": 4.23,
          "norm0": 1.5709589719772339,
          "ratings_count": 80,
          "title": "Fallen (Will Trent, #5)"
         },
         {
          "average_rating": 4.05,
          "norm0": 0.8334008455276489,
          "ratings_count": 37,
          "title": "The Emperor's Pearl: A Judge Dee Mystery"
         },
         {
          "average_rating": 3.38,
          "norm0": 1.2516213655471802,
          "ratings_count": 239,
          "title": "Midnight"
         },
         {
          "average_rating": 3.65,
          "norm0": 1.0646584033966064,
          "ratings_count": 25,
          "title": "Principal Suspect: The True Story of Dr. Jay Smith and the Main Line Murders"
         },
         {
          "average_rating": 3.39,
          "norm0": 2.401533603668213,
          "ratings_count": 306,
          "title": "Desert Angel"
         },
         {
          "average_rating": 4.09,
          "norm0": 2.3532114028930664,
          "ratings_count": 355,
          "title": "The Chemistry of Death (David Hunter, #1)"
         },
         {
          "average_rating": 3.8,
          "norm0": 1.3099087476730347,
          "ratings_count": 179,
          "title": "Young Cam Jansen and the Missing Cookie (Young Cam Jansen Mysteries, #2)"
         },
         {
          "average_rating": 3.86,
          "norm0": 1.8598194122314453,
          "ratings_count": 157,
          "title": "The Red Coffin (Inspector Pekkala #2)"
         },
         {
          "average_rating": 3.92,
          "norm0": 1.0108087062835693,
          "ratings_count": 13,
          "title": "T Is For Trespass"
         },
         {
          "average_rating": 3.8,
          "norm0": 2.173839807510376,
          "ratings_count": 814,
          "title": "The Erasers"
         },
         {
          "average_rating": 4.07,
          "norm0": 1.4603654146194458,
          "ratings_count": 74,
          "title": "Agent 21 (Agent 21, #1)"
         },
         {
          "average_rating": 3.96,
          "norm0": 2.5466115474700928,
          "ratings_count": 988,
          "title": "Nearly Departed in Deadwood (Deadwood, #1)"
         },
         {
          "average_rating": 4.03,
          "norm0": 2.824023962020874,
          "ratings_count": 185,
          "title": "Full Dark, No Stars"
         },
         {
          "average_rating": 3.79,
          "norm0": 1.8505645990371704,
          "ratings_count": 47,
          "title": "Morte nas nuvens"
         },
         {
          "average_rating": 3.8,
          "norm0": 1.6742348670959473,
          "ratings_count": 506,
          "title": "Killing Kate (Riley Spartz, #4)"
         },
         {
          "average_rating": 3.77,
          "norm0": 1.9456316232681274,
          "ratings_count": 91,
          "title": "Zero at the Bone"
         },
         {
          "average_rating": 3.58,
          "norm0": 0.8347263932228088,
          "ratings_count": 20,
          "title": "A Winter Haunting"
         },
         {
          "average_rating": 3.75,
          "norm0": 1.074533462524414,
          "ratings_count": 23,
          "title": "The Taint of Midas (The Greek Detective, #2)"
         },
         {
          "average_rating": 3.94,
          "norm0": 3.61953067779541,
          "ratings_count": 3101,
          "title": "Beg for Mercy (Dead Wrong, #1)"
         },
         {
          "average_rating": 3.96,
          "norm0": 0.9298748970031738,
          "ratings_count": 29,
          "title": "The Kingdom"
         },
         {
          "average_rating": 3.96,
          "norm0": 0.851271390914917,
          "ratings_count": 41,
          "title": "The Kingdom"
         },
         {
          "average_rating": 3.41,
          "norm0": 1.1235756874084473,
          "ratings_count": 19,
          "title": "Merely Players (Inspector Peach #15)"
         },
         {
          "average_rating": 3.66,
          "norm0": 1.4397151470184326,
          "ratings_count": 30,
          "title": "Wish List"
         },
         {
          "average_rating": 3.8,
          "norm0": 2.625762939453125,
          "ratings_count": 965,
          "title": "The Traitor's Emblem"
         },
         {
          "average_rating": 4.01,
          "norm0": 1.7703275680541992,
          "ratings_count": 314,
          "title": "The Laughing Policeman (Martin Beck #4)"
         },
         {
          "average_rating": 3.82,
          "norm0": 1.0301300287246704,
          "ratings_count": 32,
          "title": "Blue Christmas"
         },
         {
          "average_rating": 3.49,
          "norm0": 1.0410969257354736,
          "ratings_count": 84,
          "title": "Next"
         },
         {
          "average_rating": 3.6,
          "norm0": 1.329685091972351,
          "ratings_count": 3,
          "title": "Kastle Krags: A Story of Mystery"
         },
         {
          "average_rating": 3.47,
          "norm0": 1.2798765897750854,
          "ratings_count": 64,
          "title": "The Flying Stars: A Father Brown Mystery"
         },
         {
          "average_rating": 3.74,
          "norm0": 1.2642546892166138,
          "ratings_count": 9,
          "title": "The Black Tower: A Novel"
         },
         {
          "average_rating": 3.96,
          "norm0": 3.0147478580474854,
          "ratings_count": 2150,
          "title": "Rogue Male"
         },
         {
          "average_rating": 3.91,
          "norm0": 1.4131876230239868,
          "ratings_count": 31,
          "title": "Hercule Poirot's Christmas: A Hercule Poirot Mystery"
         },
         {
          "average_rating": 3.91,
          "norm0": 1.3130121231079102,
          "ratings_count": 256,
          "title": "L is for Lawless (Kinsey Millhone, #12)"
         },
         {
          "average_rating": 3.97,
          "norm0": 1.5492572784423828,
          "ratings_count": 327,
          "title": "N is for Noose"
         },
         {
          "average_rating": 4.01,
          "norm0": 1.6480991840362549,
          "ratings_count": 269,
          "title": "J is for Judgment (Kinsey Millhone #10)"
         },
         {
          "average_rating": 3.9,
          "norm0": 1.490904450416565,
          "ratings_count": 222,
          "title": "I is for Innocent"
         },
         {
          "average_rating": 4.07,
          "norm0": 1.5455892086029053,
          "ratings_count": 262,
          "title": "M is for Malice"
         },
         {
          "average_rating": 4.09,
          "norm0": 1.6581838130950928,
          "ratings_count": 33,
          "title": "Mr. Monk on the Road"
         },
         {
          "average_rating": 4.36,
          "norm0": 1.2774471044540405,
          "ratings_count": 34,
          "title": "Innocent in Death (In Death, #24)"
         },
         {
          "average_rating": 4.16,
          "norm0": 3.053713798522949,
          "ratings_count": 1275,
          "title": "Without a Doubt"
         },
         {
          "average_rating": 3.8,
          "norm0": 1.0540339946746826,
          "ratings_count": 10,
          "title": "Dark Tort"
         },
         {
          "average_rating": 3.85,
          "norm0": 0.13256540894508362,
          "ratings_count": 88,
          "title": "Jane and the Madness of Lord Byron (Jane Austen Mysteries, #10)"
         },
         {
          "average_rating": 3.77,
          "norm0": 1.370303750038147,
          "ratings_count": 52,
          "title": "Black Diamond (Anneke Haagen, #4)"
         },
         {
          "average_rating": 3.96,
          "norm0": 0.9290773272514343,
          "ratings_count": 20,
          "title": "A Fountain Filled with Blood (Clare Fergusson Series #2)"
         },
         {
          "average_rating": 3.96,
          "norm0": 2.3169562816619873,
          "ratings_count": 4120,
          "title": "Likely To Die (Alexandra Cooper, #2)"
         },
         {
          "average_rating": 3.16,
          "norm0": 4.2669596672058105,
          "ratings_count": 13067,
          "title": "The Night Strangers"
         },
         {
          "average_rating": 3.81,
          "norm0": 1.4197911024093628,
          "ratings_count": 469,
          "title": "Smoke Screen"
         },
         {
          "average_rating": 4.02,
          "norm0": 1.4925447702407837,
          "ratings_count": 56,
          "title": "Back Of Beyond"
         },
         {
          "average_rating": 3.52,
          "norm0": 1.7671177387237549,
          "ratings_count": 40,
          "title": "The Gray Zone"
         },
         {
          "average_rating": 3.76,
          "norm0": 2.947885274887085,
          "ratings_count": 1083,
          "title": "Lost Echoes"
         },
         {
          "average_rating": 3.49,
          "norm0": 1.4754836559295654,
          "ratings_count": 703,
          "title": "Elisha's Bones (Jack Hawthorne Adventure #1)"
         },
         {
          "average_rating": 3.64,
          "norm0": 1.54832124710083,
          "ratings_count": 140,
          "title": "Darkside"
         },
         {
          "average_rating": 3.67,
          "norm0": 1.6872674226760864,
          "ratings_count": 45,
          "title": "Where the Shadows Lie (Fire & Ice, #1)"
         },
         {
          "average_rating": 4.18,
          "norm0": 1.5759605169296265,
          "ratings_count": 66,
          "title": "Live To Tell (Detective D.D. Warren, #4)"
         },
         {
          "average_rating": 4.09,
          "norm0": 1.3901722431182861,
          "ratings_count": 144,
          "title": "Mad Dog Summer: And Other Stories"
         },
         {
          "average_rating": 4.15,
          "norm0": 3.7772011756896973,
          "ratings_count": 4165,
          "title": "The Bottoms"
         },
         {
          "average_rating": 3.85,
          "norm0": 2.982156753540039,
          "ratings_count": 3102,
          "title": "Savage Season (Hap and Leonard, #1)"
         },
         {
          "average_rating": 3.88,
          "norm0": 2.2832350730895996,
          "ratings_count": 1147,
          "title": "Sunset and Sawdust"
         },
         {
          "average_rating": 4.13,
          "norm0": 2.3967483043670654,
          "ratings_count": 2044,
          "title": "The Two-Bear Mambo (Hap and Leonard, #3)"
         },
         {
          "average_rating": 4.12,
          "norm0": 2.964988946914673,
          "ratings_count": 2808,
          "title": "Mucho Mojo (Hap and Leonard, #2)"
         },
         {
          "average_rating": 3.9,
          "norm0": 1.1149064302444458,
          "ratings_count": 79,
          "title": "Twinkle, Twinkle, Little Star, There's a Body in the Car (A Callie Parrish Mystery #4)"
         },
         {
          "average_rating": 4.08,
          "norm0": 1.28057062625885,
          "ratings_count": 28,
          "title": "Running Blind (Jack Reacher, #4)"
         },
         {
          "average_rating": 3.82,
          "norm0": 1.338767409324646,
          "ratings_count": 18,
          "title": "American Skin"
         },
         {
          "average_rating": 4.09,
          "norm0": 1.7601691484451294,
          "ratings_count": 57,
          "title": "The Brass Verdict"
         },
         {
          "average_rating": 3.02,
          "norm0": 1.2072184085845947,
          "ratings_count": 15,
          "title": "The Case of the Missing Books"
         },
         {
          "average_rating": 3.82,
          "norm0": 1.3050121068954468,
          "ratings_count": 41,
          "title": "The Adjustment"
         },
         {
          "average_rating": 4.15,
          "norm0": 2.668694496154785,
          "ratings_count": 644,
          "title": "High Cotton: Selected Stories"
         },
         {
          "average_rating": 3.31,
          "norm0": 1.9504026174545288,
          "ratings_count": 88,
          "title": "13 Drops of Blood"
         },
         {
          "average_rating": 3.97,
          "norm0": 1.1864866018295288,
          "ratings_count": 103,
          "title": "The Shadows, Kith and Kin"
         },
         {
          "average_rating": 3.98,
          "norm0": 1.2316941022872925,
          "ratings_count": 15,
          "title": "The Troubled Man A Kurt Wallander Mystery"
         },
         {
          "average_rating": 3.71,
          "norm0": 2.36588454246521,
          "ratings_count": 712,
          "title": "Freezer Burn"
         },
         {
          "average_rating": 3.95,
          "norm0": 1.1428008079528809,
          "ratings_count": 59,
          "title": "Mahu (Mahu #1)"
         },
         {
          "average_rating": 3.72,
          "norm0": 0.9869639277458191,
          "ratings_count": 32,
          "title": "Dancing With The Tide (Have Body, Will Guard, #2)"
         },
         {
          "average_rating": 3.33,
          "norm0": 1.9157688617706299,
          "ratings_count": 142,
          "title": "Bodies of Work (Avondale Stories, #1)"
         },
         {
          "average_rating": 3.93,
          "norm0": 1.0174751281738281,
          "ratings_count": 93,
          "title": "Phantoms"
         },
         {
          "average_rating": 3.92,
          "norm0": 1.6796995401382446,
          "ratings_count": 129,
          "title": "The Pot Thief Who Studied Einstein (A Pot Thief Murder Mystery #4)"
         },
         {
          "average_rating": 3.78,
          "norm0": 2.81717586517334,
          "ratings_count": 6293,
          "title": "Gallows View (Inspector Banks, #1)"
         },
         {
          "average_rating": 3.98,
          "norm0": 2.5022828578948975,
          "ratings_count": 1048,
          "title": "Brother Odd (Odd Thomas, #3)"
         },
         {
          "average_rating": 3.95,
          "norm0": 0.7136886715888977,
          "ratings_count": 22,
          "title": "The Emperor's Tomb (Cotton Malone, #6)"
         },
         {
          "average_rating": 3.78,
          "norm0": 0.990959882736206,
          "ratings_count": 23,
          "title": "Gallows View (Inspector Banks, #1)"
         },
         {
          "average_rating": 3.78,
          "norm0": 1.6340899467468262,
          "ratings_count": 189,
          "title": "Gallows View (Inspector Banks, #1)"
         },
         {
          "average_rating": 4.16,
          "norm0": 1.0058833360671997,
          "ratings_count": 31,
          "title": "The Hippopotamus Pool (Amelia Peabody, #8)"
         },
         {
          "average_rating": 3.88,
          "norm0": 1.1310824155807495,
          "ratings_count": 42,
          "title": "An Unhallowed Grave"
         },
         {
          "average_rating": 3.78,
          "norm0": 1.1046665906906128,
          "ratings_count": 21,
          "title": "Gallows View (Inspector Banks, #1)"
         },
         {
          "average_rating": 3.72,
          "norm0": 1.7859326601028442,
          "ratings_count": 480,
          "title": "A Double Death on the Black Isle"
         },
         {
          "average_rating": 4.24,
          "norm0": 2.182077646255493,
          "ratings_count": 1225,
          "title": "The Silenced (Jonathan Quinn, #4)"
         },
         {
          "average_rating": 3.4,
          "norm0": 1.2149802446365356,
          "ratings_count": 53,
          "title": "The White Crow (Beacon Hill, #3)"
         },
         {
          "average_rating": 3.59,
          "norm0": 2.179262161254883,
          "ratings_count": 64,
          "title": "On the Nickel"
         },
         {
          "average_rating": 3.53,
          "norm0": 1.8504159450531006,
          "ratings_count": 197,
          "title": "Listen to the Shadows"
         },
         {
          "average_rating": 3.76,
          "norm0": 2.694734573364258,
          "ratings_count": 3078,
          "title": "A Dedicated Man  (Inspector Banks, #2)"
         },
         {
          "average_rating": 3.62,
          "norm0": 1.7789673805236816,
          "ratings_count": 389,
          "title": "The Blood Royal (Joe Sandilands #9)"
         },
         {
          "average_rating": 3.98,
          "norm0": 2.8151278495788574,
          "ratings_count": 896,
          "title": "Mercy (Department Q, #1)"
         },
         {
          "average_rating": 3.87,
          "norm0": 2.1174116134643555,
          "ratings_count": 2573,
          "title": "A Necessary End (Inspector Banks, #3)"
         },
         {
          "average_rating": 4.11,
          "norm0": 0.8259202837944031,
          "ratings_count": 39,
          "title": "A Faint Cold Fear (Grant County, #3)"
         },
         {
          "average_rating": 3.95,
          "norm0": 2.5604794025421143,
          "ratings_count": 1300,
          "title": "Death in Kashmir"
         },
         {
          "average_rating": 3.56,
          "norm0": 1.182518720626831,
          "ratings_count": 32,
          "title": "The Magdalena Curse"
         },
         {
          "average_rating": 3.96,
          "norm0": 2.0040037631988525,
          "ratings_count": 3769,
          "title": "The Hanging Valley (Inspector Banks, #4)"
         },
         {
          "average_rating": 3.65,
          "norm0": 1.8175219297409058,
          "ratings_count": 263,
          "title": "Foul Play at the PTA  (Beth Kennedy #2)"
         },
         {
          "average_rating": 3.95,
          "norm0": 2.0055150985717773,
          "ratings_count": 2684,
          "title": "Past Reason Hated (Inspector Banks, #5)"
         },
         {
          "average_rating": 3.69,
          "norm0": 1.3082342147827148,
          "ratings_count": 87,
          "title": "State of Fear"
         },
         {
          "average_rating": 3.95,
          "norm0": 1.5429962873458862,
          "ratings_count": 127,
          "title": "Past Reason Hated (Inspector Banks, #5)"
         },
         {
          "average_rating": 4.1,
          "norm0": 1.5638114213943481,
          "ratings_count": 103,
          "title": "Secrets to the Grave"
         },
         {
          "average_rating": 3.79,
          "norm0": 1.5883127450942993,
          "ratings_count": 58,
          "title": "Sherlock Holmes: The Rediscovered Railway Mysteries: and Other Stories"
         },
         {
          "average_rating": 3.98,
          "norm0": 2.3303654193878174,
          "ratings_count": 2768,
          "title": "Wednesday's Child (Inspector Banks, #6)"
         },
         {
          "average_rating": 3.85,
          "norm0": 1.3313618898391724,
          "ratings_count": 69,
          "title": "The Cat Who Said Cheese (Cat Who... #18)"
         },
         {
          "average_rating": 3.46,
          "norm0": 1.3434959650039673,
          "ratings_count": 22,
          "title": "Wednesday's Child"
         },
         {
          "average_rating": 3.88,
          "norm0": 1.1172188520431519,
          "ratings_count": 62,
          "title": "The Cat Who Went into the Closet"
         },
         {
          "average_rating": 3.88,
          "norm0": 1.1935995817184448,
          "ratings_count": 74,
          "title": "The Cat Who Wasn't There (Cat Who..., #14)"
         },
         {
          "average_rating": 4.22,
          "norm0": 1.5161981582641602,
          "ratings_count": 109,
          "title": "The Lion"
         },
         {
          "average_rating": 3.94,
          "norm0": 1.8117598295211792,
          "ratings_count": 724,
          "title": "Death in the Andamans (Death In..., #6)"
         },
         {
          "average_rating": 3.76,
          "norm0": 2.221759080886841,
          "ratings_count": 1113,
          "title": "The Inner Circle (The Culper Ring Series Book 1)"
         },
         {
          "average_rating": 4,
          "norm0": 1.6652021408081055,
          "ratings_count": 205,
          "title": "Final Account (Inspector Banks, #7)"
         },
         {
          "average_rating": 3.86,
          "norm0": 1.0230244398117065,
          "ratings_count": 45,
          "title": "The Cat Who Knew a Cardinal (Cat Who..., #12)"
         },
         {
          "average_rating": 4,
          "norm0": 1.8689196109771729,
          "ratings_count": 452,
          "title": "First Frost (Detective Jack Frost Prequel, #1)"
         },
         {
          "average_rating": 3.92,
          "norm0": 1.968402624130249,
          "ratings_count": 1798,
          "title": "Innocent Graves (Inspector Banks, #8)"
         },
         {
          "average_rating": 3.6,
          "norm0": 1.3220363855361938,
          "ratings_count": 15,
          "title": "Notorious Jefferson County: Frontier Murder & Mayhem"
         },
         {
          "average_rating": 3.92,
          "norm0": 0.7812326550483704,
          "ratings_count": 134,
          "title": "Innocent Graves (Inspector Banks, #8)"
         },
         {
          "average_rating": 3.82,
          "norm0": 1.8537052869796753,
          "ratings_count": 38,
          "title": "Thalo Blue"
         },
         {
          "average_rating": 3.73,
          "norm0": 1.2663389444351196,
          "ratings_count": 5,
          "title": "Just Take My Heart"
         },
         {
          "average_rating": 3.87,
          "norm0": 2.033417224884033,
          "ratings_count": 751,
          "title": "Death in Berlin"
         },
         {
          "average_rating": 3.36,
          "norm0": 2.3524959087371826,
          "ratings_count": 1222,
          "title": "Call Me Princess"
         },
         {
          "average_rating": 3.82,
          "norm0": 1.2932716608047485,
          "ratings_count": 25,
          "title": "The Drowning Man"
         },
         {
          "average_rating": 4.11,
          "norm0": 1.3822506666183472,
          "ratings_count": 55,
          "title": "Play Dead (Andy Carpenter, #6)"
         },
         {
          "average_rating": 3.31,
          "norm0": 2.460604667663574,
          "ratings_count": 361,
          "title": "Wrecker"
         },
         {
          "average_rating": 4.2,
          "norm0": 1.1378130912780762,
          "ratings_count": 847,
          "title": "The Sentry (Elvis Cole, #12, Joe Pike, #3)"
         },
         {
          "average_rating": 4.03,
          "norm0": 0.819379448890686,
          "ratings_count": 119,
          "title": "Cold Is the Grave (Inspector Banks, #11)"
         },
         {
          "average_rating": 4.01,
          "norm0": 1.8482013940811157,
          "ratings_count": 2448,
          "title": "Close to Home (Inspector Banks, #13)"
         },
         {
          "average_rating": 3.75,
          "norm0": 1.7202728986740112,
          "ratings_count": 100,
          "title": "Promissory Payback"
         },
         {
          "average_rating": 3.16,
          "norm0": 1.484998345375061,
          "ratings_count": 108,
          "title": "Why Don't You Come For Me?"
         },
         {
          "average_rating": 3.64,
          "norm0": 1.347632646560669,
          "ratings_count": 26,
          "title": "L'Infiltré"
         },
         {
          "average_rating": 3.5,
          "norm0": 1.2098976373672485,
          "ratings_count": 23,
          "title": "Thief of Hearts: Tempted in Thailand"
         },
         {
          "average_rating": 4.13,
          "norm0": 1.4791889190673828,
          "ratings_count": 47,
          "title": "The Reversal"
         },
         {
          "average_rating": 4.67,
          "norm0": 1.707619547843933,
          "ratings_count": 9,
          "title": "Black Light of Day"
         },
         {
          "average_rating": 3.85,
          "norm0": 0.9396258592605591,
          "ratings_count": 7,
          "title": "Stalker (Peter Decker/Rina Lazarus, #12)"
         },
         {
          "average_rating": 3.27,
          "norm0": 0.9287626147270203,
          "ratings_count": 18,
          "title": "The Affair of the Wooden Boy"
         },
         {
          "average_rating": 4.08,
          "norm0": 0.9744459390640259,
          "ratings_count": 27,
          "title": "Area 7"
         },
         {
          "average_rating": 4.12,
          "norm0": 1.4456318616867065,
          "ratings_count": 23,
          "title": "The Concrete Blonde (Harry Bosch, #3)"
         },
         {
          "average_rating": 4.09,
          "norm0": 1.2053110599517822,
          "ratings_count": 25,
          "title": "The Black Echo (Harry Bosch, #1)"
         },
         {
          "average_rating": 4.13,
          "norm0": 1.1733601093292236,
          "ratings_count": 12,
          "title": "Angels Flight (Harry Bosch, #6)"
         },
         {
          "average_rating": 4.15,
          "norm0": 1.2180598974227905,
          "ratings_count": 8,
          "title": "Trunk Music (Harry Bosch"
         },
         {
          "average_rating": 4.05,
          "norm0": 1.2320525646209717,
          "ratings_count": 73,
          "title": "The Black Ice"
         },
         {
          "average_rating": 4.21,
          "norm0": 1.317835807800293,
          "ratings_count": 71,
          "title": "The Last Coyote (Harry Bosch, #4)"
         },
         {
          "average_rating": 3.95,
          "norm0": 2.334528684616089,
          "ratings_count": 2463,
          "title": "Strange Affair (Inspector Banks, #15)"
         },
         {
          "average_rating": 3.58,
          "norm0": 2.8856308460235596,
          "ratings_count": 1283,
          "title": "Cuckoo"
         },
         {
          "average_rating": 3.63,
          "norm0": 1.143635630607605,
          "ratings_count": 11,
          "title": "Arcadia Falls"
         },
         {
          "average_rating": 3.61,
          "norm0": 1.0787513256072998,
          "ratings_count": 16,
          "title": "Games Traitors Play (Legoland Trilogy, #2)"
         },
         {
          "average_rating": 3.98,
          "norm0": 1.043360710144043,
          "ratings_count": 25,
          "title": "The Dove of Death (Sister Fidelma, #20)"
         },
         {
          "average_rating": 3.79,
          "norm0": 2.0014426708221436,
          "ratings_count": 94,
          "title": "Bad Kitty (Bad Kitty, #1)"
         },
         {
          "average_rating": 3.87,
          "norm0": 2.2480380535125732,
          "ratings_count": 145,
          "title": "Becoming Bindy Mackenzie (Ashbury/Brookfield, #3)"
         },
         {
          "average_rating": 3.64,
          "norm0": 1.0196350812911987,
          "ratings_count": 16,
          "title": "The New Girl friend: And Other Stories"
         },
         {
          "average_rating": 4.29,
          "norm0": 1.9927634000778198,
          "ratings_count": 403,
          "title": "Scorpia Rising (Alex Rider, #9)"
         },
         {
          "average_rating": 3.76,
          "norm0": 1.7890933752059937,
          "ratings_count": 390,
          "title": "The Face of Trespass"
         },
         {
          "average_rating": 3.83,
          "norm0": 0.9271200299263,
          "ratings_count": 58,
          "title": "We'll Meet Again"
         },
         {
          "average_rating": 4.14,
          "norm0": 1.3137301206588745,
          "ratings_count": 65,
          "title": "The Apprentice (Rizzoli & Isles, #2)"
         },
         {
          "average_rating": 3.64,
          "norm0": 1.4152016639709473,
          "ratings_count": 119,
          "title": "Sun and Shadow (Inspector Winter, #3)"
         },
         {
          "average_rating": 4.16,
          "norm0": 1.0309889316558838,
          "ratings_count": 3,
          "title": "You Belong to Me (Romantic Suspense #12)"
         },
         {
          "average_rating": 3.24,
          "norm0": 0.9774261713027954,
          "ratings_count": 9,
          "title": "Dead Politician Society (Clare Vengel Undercover, #1)"
         },
         {
          "average_rating": 4.1,
          "norm0": 2.7237164974212646,
          "ratings_count": 476,
          "title": "The Surgeon (Jane Rizzoli & Maura Isles, #1)"
         },
         {
          "average_rating": 4.1,
          "norm0": 1.375989317893982,
          "ratings_count": 44,
          "title": "The Surgeon (Jane Rizzoli & Maura Isles, #1)"
         },
         {
          "average_rating": 3.98,
          "norm0": 2.1133368015289307,
          "ratings_count": 208,
          "title": "The Bourne Identity (Jason Bourne, #1)"
         },
         {
          "average_rating": 4.3,
          "norm0": 2.7961044311523438,
          "ratings_count": 287,
          "title": "A Gangster's Melody"
         },
         {
          "average_rating": 3.84,
          "norm0": 3.560260057449341,
          "ratings_count": 11063,
          "title": "Why Didn't They Ask Evans?"
         },
         {
          "average_rating": 3.6,
          "norm0": 1.1343780755996704,
          "ratings_count": 159,
          "title": "The Big Four"
         },
         {
          "average_rating": 3.62,
          "norm0": 1.1135438680648804,
          "ratings_count": 85,
          "title": "Bad Intentions"
         },
         {
          "average_rating": 3.59,
          "norm0": 0.8745222687721252,
          "ratings_count": 34,
          "title": "Fly Paper (Nolan, #3)"
         },
         {
          "average_rating": 4.17,
          "norm0": 1.4570022821426392,
          "ratings_count": 168,
          "title": "Buffalo West Wing (A White House Chef Mystery #4)"
         },
         {
          "average_rating": 3.24,
          "norm0": 2.564990282058716,
          "ratings_count": 5351,
          "title": "Postern of Fate (Tommy and Tuppence, #5)"
         },
         {
          "average_rating": 3.7,
          "norm0": 0.854284405708313,
          "ratings_count": 96,
          "title": "Many Deadly Returns"
         },
         {
          "average_rating": 3.56,
          "norm0": 0.95626300573349,
          "ratings_count": 79,
          "title": "Death on the Agenda"
         },
         {
          "average_rating": 3.8,
          "norm0": 1.322333812713623,
          "ratings_count": 195,
          "title": "Dead Men Don't Ski"
         },
         {
          "average_rating": 3.74,
          "norm0": 3.512739896774292,
          "ratings_count": 11760,
          "title": "N or M? (Tommy and Tuppence, #3)"
         },
         {
          "average_rating": 3.49,
          "norm0": 0.8176888227462769,
          "ratings_count": 90,
          "title": "Black Widower"
         },
         {
          "average_rating": 3.71,
          "norm0": 1.9680885076522827,
          "ratings_count": 182,
          "title": "By the Pricking of My Thumbs"
         },
         {
          "average_rating": 3.86,
          "norm0": 1.414581060409546,
          "ratings_count": 93,
          "title": "The Crow Trap (Vera Stanhope, #1)"
         },
         {
          "average_rating": 4.01,
          "norm0": 1.1342800855636597,
          "ratings_count": 35,
          "title": "Telling Tales (Vera Stanhope, #2)"
         },
         {
          "average_rating": 3.82,
          "norm0": 0.8097591996192932,
          "ratings_count": 65,
          "title": "The Secret Adversary"
         },
         {
          "average_rating": 3.13,
          "norm0": 1.0588626861572266,
          "ratings_count": 30,
          "title": "If I Did It: Confessions of the Killer"
         },
         {
          "average_rating": 3.76,
          "norm0": 1.0276602506637573,
          "ratings_count": 34,
          "title": "Partners in Crime"
         },
         {
          "average_rating": 3.76,
          "norm0": 1.1516956090927124,
          "ratings_count": 3,
          "title": "Sleep and His Brother (Jimmy Pibble #4)"
         },
         {
          "average_rating": 3.64,
          "norm0": 1.9058539867401123,
          "ratings_count": 65,
          "title": "Hard Press'd (Preston Andrews Mystery #1)"
         },
         {
          "average_rating": 4.17,
          "norm0": 1.3850703239440918,
          "ratings_count": 8,
          "title": "The Game (Mary Russell, #7)"
         },
         {
          "average_rating": 3.65,
          "norm0": 1.2257434129714966,
          "ratings_count": 4,
          "title": "Phone Kitten"
         },
         {
          "average_rating": 3.6,
          "norm0": 2.164602279663086,
          "ratings_count": 386,
          "title": "California Schemin' (A Bree MacGowan Mystery #2)"
         },
         {
          "average_rating": 4.03,
          "norm0": 1.6968837976455688,
          "ratings_count": 128,
          "title": "The Counterfeit Madam (Gil Cunningham, #8)"
         },
         {
          "average_rating": 3.32,
          "norm0": 1.46450674533844,
          "ratings_count": 5,
          "title": "The Keeper"
         },
         {
          "average_rating": 3.75,
          "norm0": 2.3670122623443604,
          "ratings_count": 41,
          "title": "Murder is a Family Business (The Alvarez Family Murder Mystery Series, #1)"
         },
         {
          "average_rating": 4.07,
          "norm0": 1.2198301553726196,
          "ratings_count": 32,
          "title": "The Unwanted (Jonathan Quinn, #3)"
         },
         {
          "average_rating": 3.95,
          "norm0": 1.39905846118927,
          "ratings_count": 17,
          "title": "Severed"
         },
         {
          "average_rating": 3.35,
          "norm0": 0.6476858854293823,
          "ratings_count": 394,
          "title": "Toys"
         },
         {
          "average_rating": 4.06,
          "norm0": 1.9885966777801514,
          "ratings_count": 3850,
          "title": "10th Anniversary (Women's Murder Club, #10)"
         },
         {
          "average_rating": 3.77,
          "norm0": 1.0089573860168457,
          "ratings_count": 9,
          "title": "Murder Has a Sweet Tooth (A Cooking Class Mystery, #5)"
         },
         {
          "average_rating": 4.1,
          "norm0": 1.7891384363174438,
          "ratings_count": 291,
          "title": "Looking Good Dead (Roy Grace, #2)"
         },
         {
          "average_rating": 3.69,
          "norm0": 1.9340983629226685,
          "ratings_count": 445,
          "title": "Sweet Heart"
         },
         {
          "average_rating": 3.82,
          "norm0": 1.3434377908706665,
          "ratings_count": 53,
          "title": "Pretty Little Devils"
         },
         {
          "average_rating": 3.82,
          "norm0": 1.6757075786590576,
          "ratings_count": 60,
          "title": "Pretty Little Devils"
         },
         {
          "average_rating": 3.77,
          "norm0": 2.199871301651001,
          "ratings_count": 674,
          "title": "Rip Tide (Liz Carlyle, #6)"
         },
         {
          "average_rating": 3.39,
          "norm0": 1.5750776529312134,
          "ratings_count": 22,
          "title": "City of the Absent"
         },
         {
          "average_rating": 3.97,
          "norm0": 2.4623427391052246,
          "ratings_count": 623,
          "title": "Mr. Monk on the Couch (Mr. Monk, #12)"
         },
         {
          "average_rating": 3.76,
          "norm0": 2.249000310897827,
          "ratings_count": 674,
          "title": "The Abduction (Theodore Boone, #2)"
         },
         {
          "average_rating": 3.82,
          "norm0": 0.8358253240585327,
          "ratings_count": 358,
          "title": "The September Society (Charles Lenox Mysteries, #2)"
         },
         {
          "average_rating": 4.31,
          "norm0": 2.3129642009735107,
          "ratings_count": 403,
          "title": "Heartstone (Matthew Shardlake, #5)"
         },
         {
          "average_rating": 3.8,
          "norm0": 1.074524998664856,
          "ratings_count": 31,
          "title": "The Pumpkin Muffin Murder (A Fresh-Baked Mystery #5)"
         },
         {
          "average_rating": 3.31,
          "norm0": 1.2909992933273315,
          "ratings_count": 49,
          "title": "City for Ransom"
         },
         {
          "average_rating": 3.88,
          "norm0": 2.240081310272217,
          "ratings_count": 2371,
          "title": "The Deer Leap (Richard Jury, #7)"
         },
         {
          "average_rating": 3.6,
          "norm0": 2.24460768699646,
          "ratings_count": 649,
          "title": "Life Penalty"
         },
         {
          "average_rating": 3.99,
          "norm0": 2.020866870880127,
          "ratings_count": 2837,
          "title": "Help the Poor Struggler (Richard Jury #6)"
         },
         {
          "average_rating": 3.93,
          "norm0": 1.7987462282180786,
          "ratings_count": 2986,
          "title": "I Am the Only Running Footman (Richard Jury, #8)"
         },
         {
          "average_rating": 3.99,
          "norm0": 2.431023597717285,
          "ratings_count": 2992,
          "title": "The Old Silent (Richard Jury, #10)"
         },
         {
          "average_rating": 3.79,
          "norm0": 1.4677934646606445,
          "ratings_count": 46,
          "title": "Devil's Food Cake Murder (Hannah Swensen, #14)"
         },
         {
          "average_rating": 3.62,
          "norm0": 4.256312370300293,
          "ratings_count": 5817,
          "title": "The Ritual"
         },
         {
          "average_rating": 4,
          "norm0": 2.3840019702911377,
          "ratings_count": 2785,
          "title": "The Old Contemptibles (Richard Jury, #11)"
         },
         {
          "average_rating": 3.36,
          "norm0": 1.0425435304641724,
          "ratings_count": 20,
          "title": "Blood Sisters; an Anna Pavesi investigation"
         },
         {
          "average_rating": 3.73,
          "norm0": 2.5126309394836426,
          "ratings_count": 687,
          "title": "The Stranger (Patrik Hedström, #4)"
         },
         {
          "average_rating": 3.83,
          "norm0": 1.7808300256729126,
          "ratings_count": 78,
          "title": "Death on a Galician Shore"
         },
         {
          "average_rating": 3.4,
          "norm0": 1.1957616806030273,
          "ratings_count": 175,
          "title": "Inquisition"
         },
         {
          "average_rating": 3.42,
          "norm0": 1.6932679414749146,
          "ratings_count": 149,
          "title": "The Dinosaur Feather"
         },
         {
          "average_rating": 3.84,
          "norm0": 1.6935702562332153,
          "ratings_count": 28,
          "title": "Sparkling Cyanide"
         },
         {
          "average_rating": 3.62,
          "norm0": 1.7597543001174927,
          "ratings_count": 88,
          "title": "Bitten"
         },
         {
          "average_rating": 3.51,
          "norm0": 1.2217520475387573,
          "ratings_count": 9,
          "title": "Lip Service: A Novel"
         },
         {
          "average_rating": 3.79,
          "norm0": 1.3185595273971558,
          "ratings_count": 52,
          "title": "The Vestal Vanishes (Libertus Mystery of Roman Britain, #12)"
         },
         {
          "average_rating": 4.03,
          "norm0": 1.4314219951629639,
          "ratings_count": 74,
          "title": "The Frog and the Scorpion (Fiddler and Fiora, #2)"
         },
         {
          "average_rating": 4,
          "norm0": 2.1748523712158203,
          "ratings_count": 754,
          "title": "Roast Mortem (Coffeehouse Mystery, #9)"
         },
         {
          "average_rating": 3.9,
          "norm0": 2.027684450149536,
          "ratings_count": 2099,
          "title": "The Case Has Altered (Richard Jury, #14)"
         },
         {
          "average_rating": 4.08,
          "norm0": 4.011413097381592,
          "ratings_count": 2525,
          "title": "The Beekeeper's Apprentice (Mary Russell, #1)"
         },
         {
          "average_rating": 4.17,
          "norm0": 1.418241024017334,
          "ratings_count": 7,
          "title": "The Game (Mary Russell, #7)"
         },
         {
          "average_rating": 4.08,
          "norm0": 1.197287917137146,
          "ratings_count": 18,
          "title": "Iron House"
         },
         {
          "average_rating": 3.79,
          "norm0": 0.5579314827919006,
          "ratings_count": 24,
          "title": "Death in the Clouds (Hercule Poirot, #12)"
         },
         {
          "average_rating": 4.17,
          "norm0": 1.032548427581787,
          "ratings_count": 43,
          "title": "The God of the Hive (Mary Russell, #10)"
         },
         {
          "average_rating": 3.74,
          "norm0": 1.3565791845321655,
          "ratings_count": 96,
          "title": "What the Night Knows"
         },
         {
          "average_rating": 3.74,
          "norm0": 0.8845649361610413,
          "ratings_count": 27,
          "title": "What The Night Knows"
         },
         {
          "average_rating": 3.43,
          "norm0": 1.1406810283660889,
          "ratings_count": 23,
          "title": "Rainbow's End"
         },
         {
          "average_rating": 3.77,
          "norm0": 1.2889870405197144,
          "ratings_count": 223,
          "title": "Rainbow's End (Felse, #13)"
         },
         {
          "average_rating": 3.86,
          "norm0": 1.5356221199035645,
          "ratings_count": 19,
          "title": "When Darkness Falls (Jack Swyteck, #6)"
         },
         {
          "average_rating": 3.77,
          "norm0": 1.538330078125,
          "ratings_count": 131,
          "title": "The Price of Candy (Sandy Reid Mysteries, #2)"
         },
         {
          "average_rating": 3.77,
          "norm0": 2.026109457015991,
          "ratings_count": 52,
          "title": "Soul Trapper"
         },
         {
          "average_rating": 4.15,
          "norm0": 1.7382949590682983,
          "ratings_count": 121,
          "title": "Wanted (Pretty Little Liars, #8)"
         },
         {
          "average_rating": 3.57,
          "norm0": 0.8245639801025391,
          "ratings_count": 23,
          "title": "The Company Man"
         },
         {
          "average_rating": 3.68,
          "norm0": 1.9064452648162842,
          "ratings_count": 34,
          "title": "Loss of Separation"
         },
         {
          "average_rating": 3.74,
          "norm0": 1.2716673612594604,
          "ratings_count": 13,
          "title": "Double, Double, Oil and Trouble (John Putnam Thatcher Mysteries, #17)"
         },
         {
          "average_rating": 3.19,
          "norm0": 0.9346171617507935,
          "ratings_count": 24,
          "title": "Murder on Naked Beach"
         },
         {
          "average_rating": 3.49,
          "norm0": 1.3036956787109375,
          "ratings_count": 56,
          "title": "Island of Lost Girls: A Novel"
         },
         {
          "average_rating": 3.87,
          "norm0": 1.9850084781646729,
          "ratings_count": 887,
          "title": "Evan Blessed (Constable Evans, #9)"
         },
         {
          "average_rating": 4.03,
          "norm0": 1.737374186515808,
          "ratings_count": 204,
          "title": "Michael Robotham Omnibus : The Drowning Man; Bombproof"
         },
         {
          "average_rating": 3.76,
          "norm0": 1.8796604871749878,
          "ratings_count": 475,
          "title": "Like A Hole In The Head"
         },
         {
          "average_rating": 3.78,
          "norm0": 1.4237936735153198,
          "ratings_count": 71,
          "title": "La senda oscura (Rebecka Martinsson, #3)"
         },
         {
          "average_rating": 3.74,
          "norm0": 1.8667049407958984,
          "ratings_count": 83,
          "title": "Dead Bad Things"
         },
         {
          "average_rating": 3.93,
          "norm0": 1.460988998413086,
          "ratings_count": 570,
          "title": "Fear Itself"
         },
         {
          "average_rating": 3.87,
          "norm0": 1.918390154838562,
          "ratings_count": 373,
          "title": "Green for Danger"
         },
         {
          "average_rating": 3.98,
          "norm0": 1.462087631225586,
          "ratings_count": 46,
          "title": "The Troubled Man"
         },
         {
          "average_rating": 3.8,
          "norm0": 1.4202988147735596,
          "ratings_count": 54,
          "title": "Tour de Force"
         },
         {
          "average_rating": 3.61,
          "norm0": 1.1131256818771362,
          "ratings_count": 65,
          "title": "Fog of Doubt"
         },
         {
          "average_rating": 3.92,
          "norm0": 2.227459192276001,
          "ratings_count": 2552,
          "title": "The Stargazey (Richard Jury, #15)"
         },
         {
          "average_rating": 3.77,
          "norm0": 0.8007022142410278,
          "ratings_count": 197,
          "title": "Silver Spire"
         },
         {
          "average_rating": 4,
          "norm0": 1.0266671180725098,
          "ratings_count": 29,
          "title": "Tombstone Courage (Joanna Brady, #2)"
         },
         {
          "average_rating": 3.89,
          "norm0": 1.327893614768982,
          "ratings_count": 48,
          "title": "Poison for the Prince (Sigismondo, #4)"
         },
         {
          "average_rating": 3.81,
          "norm0": 1.258341908454895,
          "ratings_count": 1059,
          "title": "Cold Flat Junction (Emma Graham, #2)"
         },
         {
          "average_rating": 3.54,
          "norm0": 1.3407080173492432,
          "ratings_count": 109,
          "title": "The Glass Sided Ant's Nest"
         },
         {
          "average_rating": 3.91,
          "norm0": 1.9072916507720947,
          "ratings_count": 19,
          "title": "Come vivono i morti"
         },
         {
          "average_rating": 3.26,
          "norm0": 1.2599009275436401,
          "ratings_count": 21,
          "title": "Flashback"
         },
         {
          "average_rating": 4.13,
          "norm0": 2.920003890991211,
          "ratings_count": 2466,
          "title": "Misery Bay (Alex McKnight, #8)"
         },
         {
          "average_rating": 3.88,
          "norm0": 2.18471097946167,
          "ratings_count": 2126,
          "title": "The Lamorna Wink (Richard Jury, #16)"
         },
         {
          "average_rating": 3.75,
          "norm0": 1.1965876817703247,
          "ratings_count": 101,
          "title": "Blunt Darts (John Francis Cuddy, #1)"
         },
         {
          "average_rating": 3.74,
          "norm0": 1.5201743841171265,
          "ratings_count": 16,
          "title": "The Cypress House"
         },
         {
          "average_rating": 3.8,
          "norm0": 1.4649866819381714,
          "ratings_count": 27,
          "title": "Lowlifes"
         },
         {
          "average_rating": 3.9,
          "norm0": 1.1080392599105835,
          "ratings_count": 29,
          "title": "He Who Whispers (Dr. Gideon Fell, #16)"
         },
         {
          "average_rating": 4.43,
          "norm0": 1.6383552551269531,
          "ratings_count": 6,
          "title": "U-TURN KiLLuR"
         },
         {
          "average_rating": 3.68,
          "norm0": 2.3786416053771973,
          "ratings_count": 1866,
          "title": "The Day is Dark (Þóra Guðmundsdóttir, #4)"
         },
         {
          "average_rating": 3.51,
          "norm0": 1.713360071182251,
          "ratings_count": 7,
          "title": "Transparent Lovers"
         },
         {
          "average_rating": 3.83,
          "norm0": 2.561570644378662,
          "ratings_count": 1030,
          "title": "The Case of the Sulky Girl"
         },
         {
          "average_rating": 4.09,
          "norm0": 0.7878973484039307,
          "ratings_count": 15,
          "title": "The League of Frightened Men"
         },
         {
          "average_rating": 3.82,
          "norm0": 1.1306496858596802,
          "ratings_count": 8,
          "title": "The Wheel Spins"
         },
         {
          "average_rating": 3.82,
          "norm0": 1.8463304042816162,
          "ratings_count": 452,
          "title": "The Lady Vanishes"
         },
         {
          "average_rating": 3.41,
          "norm0": 0.9638162851333618,
          "ratings_count": 9,
          "title": "The Last Best Friend"
         },
         {
          "average_rating": 4.02,
          "norm0": 2.333677291870117,
          "ratings_count": 3779,
          "title": "The Blue Last (Richard Jury, #17)"
         },
         {
          "average_rating": 3.38,
          "norm0": 0.9421844482421875,
          "ratings_count": 8,
          "title": "The Players and The Game"
         },
         {
          "average_rating": 3.91,
          "norm0": 3.9969141483306885,
          "ratings_count": 2823,
          "title": "The Boy Detective Fails"
         },
         {
          "average_rating": 3.85,
          "norm0": 2.447499990463257,
          "ratings_count": 1846,
          "title": "The Pardon (Jack Swyteck, #1)"
         },
         {
          "average_rating": 3.97,
          "norm0": 0.7471058368682861,
          "ratings_count": 55,
          "title": "Last To Die (Jack Swyteck, #3)"
         },
         {
          "average_rating": 3.75,
          "norm0": 1.7209702730178833,
          "ratings_count": 332,
          "title": "Dead Deceiver (A Loon Lake Mystery, #11)"
         },
         {
          "average_rating": 3.46,
          "norm0": 1.512745976448059,
          "ratings_count": 256,
          "title": "Assault with a Deadly Glue Gun (Anastasia Pollack Crafting Mystery #1)"
         },
         {
          "average_rating": 3.33,
          "norm0": 0.730994701385498,
          "ratings_count": 44,
          "title": "If Looks Could Kill"
         },
         {
          "average_rating": 4.14,
          "norm0": 2.2078311443328857,
          "ratings_count": 503,
          "title": "The Lincoln Lawyer (Mickey Haller, #1)"
         },
         {
          "average_rating": 3.52,
          "norm0": 1.599472165107727,
          "ratings_count": 89,
          "title": "The Delta Chain"
         },
         {
          "average_rating": 3.97,
          "norm0": 1.235705852508545,
          "ratings_count": 97,
          "title": "The Westies: Inside New York's Irish Mob"
         },
         {
          "average_rating": 4.41,
          "norm0": 2.2555291652679443,
          "ratings_count": 75,
          "title": "Practical Homicide Investigation: Tactics, Procedures, and Forensic Techniques"
         },
         {
          "average_rating": 3.89,
          "norm0": 2.776460886001587,
          "ratings_count": 22030,
          "title": "H is for Homicide (Kinsey Millhone, #8)"
         },
         {
          "average_rating": 4.04,
          "norm0": 1.9086531400680542,
          "ratings_count": 69,
          "title": "Targets Down"
         },
         {
          "average_rating": 4.11,
          "norm0": 1.7586021423339844,
          "ratings_count": 552,
          "title": "Sexual Homicide: Patterns and Motives"
         },
         {
          "average_rating": 3.37,
          "norm0": 1.0206499099731445,
          "ratings_count": 61,
          "title": "Homicide My Own (Quinn, #1)"
         },
         {
          "average_rating": 3.89,
          "norm0": 2.3433589935302734,
          "ratings_count": 270,
          "title": "Homicide Special: A Year with the LAPD's Elite Detective Unit"
         },
         {
          "average_rating": 3.31,
          "norm0": 1.0778415203094482,
          "ratings_count": 116,
          "title": "Double Homicide"
         },
         {
          "average_rating": 4.12,
          "norm0": 1.726712703704834,
          "ratings_count": 824,
          "title": "Fatal Judgment (Guardians of Justice, #1)"
         },
         {
          "average_rating": 3.8,
          "norm0": 1.1971919536590576,
          "ratings_count": 124,
          "title": "Maddon's Rock"
         },
         {
          "average_rating": 4.1,
          "norm0": 1.1840088367462158,
          "ratings_count": 10,
          "title": "Fever Season"
         },
         {
          "average_rating": 3.51,
          "norm0": 0.8424773812294006,
          "ratings_count": 88,
          "title": "Angels Of Death: Inside The Bikers' Global Crime Empire"
         },
         {
          "average_rating": 3.76,
          "norm0": 1.336714267730713,
          "ratings_count": 2,
          "title": "Half Moon Investigations"
         },
         {
          "average_rating": 4.02,
          "norm0": 1.5283122062683105,
          "ratings_count": 67,
          "title": "Verbrechen"
         },
         {
          "average_rating": 3.85,
          "norm0": 1.6562221050262451,
          "ratings_count": 292,
          "title": "Private (Private, #1)"
         },
         {
          "average_rating": 4.24,
          "norm0": 2.2153823375701904,
          "ratings_count": 302,
          "title": "Dangerous Mercy (Secrets of Roux River Bayou, #2)"
         },
         {
          "average_rating": 3.81,
          "norm0": 1.6712543964385986,
          "ratings_count": 167,
          "title": "The Eye of Horus"
         },
         {
          "average_rating": 3.89,
          "norm0": 0.6897241473197937,
          "ratings_count": 256,
          "title": "In Dublin's Fair City (Molly Murphy Mysteries, #6)"
         },
         {
          "average_rating": 3.85,
          "norm0": 1.222420573234558,
          "ratings_count": 901,
          "title": "Fool Me Twice (Jake Lassiter #6)"
         },
         {
          "average_rating": 3.87,
          "norm0": 1.783743143081665,
          "ratings_count": 36,
          "title": "The Sins of the Fathers"
         },
         {
          "average_rating": 4.17,
          "norm0": 1.142453908920288,
          "ratings_count": 29,
          "title": "The Game (Mary Russell, #7)"
         },
         {
          "average_rating": 3.95,
          "norm0": 1.612998127937317,
          "ratings_count": 44,
          "title": "The Daughter of Time"
         },
         {
          "average_rating": 3.58,
          "norm0": 0.8645158410072327,
          "ratings_count": 15,
          "title": "The Delta Factor"
         },
         {
          "average_rating": 4.07,
          "norm0": 1.6374386548995972,
          "ratings_count": 111,
          "title": "Live Wire (Myron Bolitar, #10)"
         },
         {
          "average_rating": 4.06,
          "norm0": 1.11971914768219,
          "ratings_count": 171,
          "title": "Silent Pledge (Er Trilogy, #3)"
         },
         {
          "average_rating": 4.13,
          "norm0": 1.282405972480774,
          "ratings_count": 12,
          "title": "My Dearest Holmes; A recently discovered memoir by John H. Watson, M.D."
         },
         {
          "average_rating": 3.71,
          "norm0": 1.8047163486480713,
          "ratings_count": 283,
          "title": "The Pledge"
         },
         {
          "average_rating": 3.36,
          "norm0": 1.701737403869629,
          "ratings_count": 138,
          "title": "Little Sister"
         },
         {
          "average_rating": 3.66,
          "norm0": 0.9024776220321655,
          "ratings_count": 18,
          "title": "Some Lie and Some Die"
         },
         {
          "average_rating": 3.67,
          "norm0": 1.8942519426345825,
          "ratings_count": 33,
          "title": "The Watchers"
         },
         {
          "average_rating": 3.83,
          "norm0": 1.554123044013977,
          "ratings_count": 67,
          "title": "Death by Drowning (Josiah Reynolds Mysteries, #2)"
         },
         {
          "average_rating": 3.98,
          "norm0": 1.9489200115203857,
          "ratings_count": 264,
          "title": "The Further Adventures of Sherlock Holmes: The Star of India"
         },
         {
          "average_rating": 4.1,
          "norm0": 1.3178606033325195,
          "ratings_count": 94,
          "title": "The Narrows"
         },
         {
          "average_rating": 4.09,
          "norm0": 1.0867505073547363,
          "ratings_count": 107,
          "title": "The Closers (Harry Bosch, #11; Harry Bosch Universe, #14)"
         }
        ]
       },
       "hconcat": [
        {
         "layer": [
          {
           "encoding": {
            "color": {
             "condition": {
              "selection": "selector004",
              "value": "#4c78a8"
             },
             "value": "lightgray"
            },
            "x": {
             "field": "ratings_count",
             "type": "quantitative"
            },
            "y": {
             "field": "norm0",
             "type": "quantitative"
            }
           },
           "mark": "circle",
           "selection": {
            "selector004": {
             "type": "interval"
            },
            "selector005": {
             "empty": "none",
             "encodings": [
              "x",
              "y"
             ],
             "nearest": true,
             "on": "mouseover",
             "type": "single"
            }
           }
          },
          {
           "encoding": {
            "text": {
             "condition": {
              "field": "title",
              "selection": "selector005",
              "type": "nominal"
             },
             "value": ""
            },
            "x": {
             "field": "ratings_count",
             "type": "quantitative"
            },
            "y": {
             "field": "norm0",
             "type": "quantitative"
            }
           },
           "mark": {
            "align": "center",
            "dx": 5,
            "dy": -5,
            "type": "text"
           }
          }
         ]
        }
       ]
      },
      "text/plain": [
       "<VegaLite 3 object>\n",
       "\n",
       "If you see this message, it means the renderer has not been properly enabled\n",
       "for the frontend that you are using. For more information, see\n",
       "https://altair-viz.github.io/user_guide/troubleshooting.html\n"
      ]
     },
     "execution_count": 102,
     "metadata": {},
     "output_type": "execute_result"
    }
   ],
   "source": [
    "book_embedding_norm(model)"
   ]
  },
  {
   "cell_type": "markdown",
   "metadata": {},
   "source": [
    "### softmax model"
   ]
  },
  {
   "cell_type": "code",
   "execution_count": 39,
   "metadata": {},
   "outputs": [
    {
     "data": {
      "text/html": [
       "<div>\n",
       "<style scoped>\n",
       "    .dataframe tbody tr th:only-of-type {\n",
       "        vertical-align: middle;\n",
       "    }\n",
       "\n",
       "    .dataframe tbody tr th {\n",
       "        vertical-align: top;\n",
       "    }\n",
       "\n",
       "    .dataframe thead th {\n",
       "        text-align: right;\n",
       "    }\n",
       "</style>\n",
       "<table border=\"1\" class=\"dataframe\">\n",
       "  <thead>\n",
       "    <tr style=\"text-align: right;\">\n",
       "      <th></th>\n",
       "      <th>user_id</th>\n",
       "      <th>book_id</th>\n",
       "    </tr>\n",
       "  </thead>\n",
       "  <tbody>\n",
       "    <tr>\n",
       "      <th>0</th>\n",
       "      <td>0</td>\n",
       "      <td>[82014, 83650, 20417, 84776, 65947, 3912, 1016, 23365, 2724, 12991, 21534, 44449, 41186, 95668, 93301]</td>\n",
       "    </tr>\n",
       "    <tr>\n",
       "      <th>1</th>\n",
       "      <td>1</td>\n",
       "      <td>[17124, 43808, 52912, 55484]</td>\n",
       "    </tr>\n",
       "    <tr>\n",
       "      <th>2</th>\n",
       "      <td>2</td>\n",
       "      <td>[23301, 87786]</td>\n",
       "    </tr>\n",
       "    <tr>\n",
       "      <th>3</th>\n",
       "      <td>3</td>\n",
       "      <td>[41186, 16813, 31831, 22647, 30562, 82014]</td>\n",
       "    </tr>\n",
       "    <tr>\n",
       "      <th>4</th>\n",
       "      <td>4</td>\n",
       "      <td>[41982, 76229]</td>\n",
       "    </tr>\n",
       "  </tbody>\n",
       "</table>\n",
       "</div>"
      ],
      "text/plain": [
       "   user_id  \\\n",
       "0  0         \n",
       "1  1         \n",
       "2  2         \n",
       "3  3         \n",
       "4  4         \n",
       "\n",
       "                                                                                                  book_id  \n",
       "0  [82014, 83650, 20417, 84776, 65947, 3912, 1016, 23365, 2724, 12991, 21534, 44449, 41186, 95668, 93301]  \n",
       "1  [17124, 43808, 52912, 55484]                                                                            \n",
       "2  [23301, 87786]                                                                                          \n",
       "3  [41186, 16813, 31831, 22647, 30562, 82014]                                                              \n",
       "4  [41982, 76229]                                                                                          "
      ]
     },
     "execution_count": 39,
     "metadata": {},
     "output_type": "execute_result"
    }
   ],
   "source": [
    "rated_books =(reviews[['user_id', 'book_id']].groupby('user_id', as_index=False).aggregate(lambda x: list(x)))\n",
    "rated_books.head()"
   ]
  },
  {
   "cell_type": "code",
   "execution_count": 53,
   "metadata": {},
   "outputs": [],
   "source": [
    "for book, average_rating in zip(books['book_id'].values(), books['average_rating'].values()):\n",
    "    print(book, average_rating)\n",
    "    break\n",
    "# book id is index in books df"
   ]
  },
  {
   "cell_type": "code",
   "execution_count": 54,
   "metadata": {},
   "outputs": [],
   "source": [
    "average_rating_dict ={book: average_rating for book, average_rating in zip(books['book_id'].values, books['average_rating'])}\n",
    "ratings_count_dict ={book: ratings_count for book, ratings_count in zip(books['book_id'], books['ratings_count'])}\n",
    "text_reviews_count_dict ={book: text_reviews_count for book, text_reviews_count in zip(books['book_id'], books['text_reviews_count'])}\n",
    "is_ebook_dict = {book: is_ebook for book, is_ebook in zip(books['book_id'], books['is_ebook'])}"
   ]
  },
  {
   "cell_type": "code",
   "execution_count": null,
   "metadata": {},
   "outputs": [],
   "source": [
    "def make_batch(reviews, batch_size):\n",
    "    \"\"\"build a tensor input pipeline\n",
    "    creates a batch of examples\n",
    "    Args:\n",
    "    ratings: A DataFrame of ratings such that examples[\"book_id\"] is a list of\n",
    "    movies rated by a user.\n",
    "    batch_size: The batch size.\n",
    "    \"\"\"\n",
    "    def pad(x, fill):\n",
    "        return pd.DataFrame.from_dict(x).fillna(fill).values\n",
    "    \n",
    "    book = []\n",
    "    average_rating = []\n",
    "    ratings_count = []\n",
    "    text_reviews_count = []\n",
    "    label = []\n",
    "    for book_ids in reviews[\"book_id\"].values:\n",
    "        book_ids_1 = reviews[reviews['book_id'] == book_ids].old_book_ids.values[0]\n",
    "        book.append(book_ids)\n",
    "        average_rating.append([x for book_id in book_ids for x in average_rating_dict[book_id]])\n",
    "        ratings_count.append([ratings_count_dict[book_id] for book_id in book_ids])\n",
    "        text_reviews_count.append([text_reviews_count_dict[book_id] for book_id in book_ids])\n",
    "        label.append([int(book_id) for book_id in book_ids])\n",
    "    features = {\n",
    "      \"book_id\": pad(book, \"\"),\n",
    "      \"average_rating\": pad(average_rating, \"\"),\n",
    "      \"ratings_count\": pad(ratings_count, \"\"),\n",
    "      \"text_reviews_count\": pad(text_reviews_count, \"\"),\n",
    "        \"label\": pad(label, -1)\n",
    "        }\n",
    "    batch = (\n",
    "      tf.data.Dataset.from_tensor_slices(features)\n",
    "      .shuffle(1000)\n",
    "      .repeat()\n",
    "      .batch(batch_size)\n",
    "      .make_one_shot_iterator()\n",
    "      .get_next())\n",
    "    return batch\n",
    "    "
   ]
  }
 ],
 "metadata": {
  "kernelspec": {
   "display_name": "Python 3",
   "language": "python",
   "name": "python3"
  },
  "language_info": {
   "codemirror_mode": {
    "name": "ipython",
    "version": 3
   },
   "file_extension": ".py",
   "mimetype": "text/x-python",
   "name": "python",
   "nbconvert_exporter": "python",
   "pygments_lexer": "ipython3",
   "version": "3.7.3"
  }
 },
 "nbformat": 4,
 "nbformat_minor": 2
}
