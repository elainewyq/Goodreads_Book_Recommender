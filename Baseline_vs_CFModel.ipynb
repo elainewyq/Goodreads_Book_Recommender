{
 "cells": [
  {
   "cell_type": "code",
   "execution_count": 22,
   "metadata": {},
   "outputs": [],
   "source": [
    "import gzip\n",
    "import json\n",
    "import re\n",
    "import os\n",
    "import sys\n",
    "import numpy as np\n",
    "import pandas as pd\n",
    "import matplotlib.pyplot as plt\n",
    "%matplotlib inline\n",
    "from IPython import display\n",
    "\n",
    "import tensorflow as tf\n",
    "import altair as alt\n",
    "import collections\n",
    "\n",
    "\n",
    "\n",
    "from src.load_data import read_tables\n",
    "from src.CFModel import CFModel, build_CF_model, compute_scores, book_neighbors, user_recommendations\n",
    "from src.Baseline_Model import build_baseline_model"
   ]
  },
  {
   "cell_type": "markdown",
   "metadata": {},
   "source": [
    "### load data"
   ]
  },
  {
   "cell_type": "code",
   "execution_count": 10,
   "metadata": {},
   "outputs": [],
   "source": [
    "# books, reviews = read_tables('data', )"
   ]
  },
  {
   "cell_type": "code",
   "execution_count": 11,
   "metadata": {},
   "outputs": [],
   "source": [
    "reviews = pd.read_csv('data/cleaned_reviews_mystery_1.csv')\n",
    "books = pd.read_csv('data/cleaned_books_mystery_1.csv')"
   ]
  },
  {
   "cell_type": "code",
   "execution_count": 6,
   "metadata": {},
   "outputs": [
    {
     "data": {
      "text/html": [
       "<div>\n",
       "<style scoped>\n",
       "    .dataframe tbody tr th:only-of-type {\n",
       "        vertical-align: middle;\n",
       "    }\n",
       "\n",
       "    .dataframe tbody tr th {\n",
       "        vertical-align: top;\n",
       "    }\n",
       "\n",
       "    .dataframe thead th {\n",
       "        text-align: right;\n",
       "    }\n",
       "</style>\n",
       "<table border=\"1\" class=\"dataframe\">\n",
       "  <thead>\n",
       "    <tr style=\"text-align: right;\">\n",
       "      <th></th>\n",
       "      <th>book_id</th>\n",
       "      <th>title</th>\n",
       "      <th>num_pages</th>\n",
       "      <th>is_ebook</th>\n",
       "      <th>link</th>\n",
       "      <th>average_rating</th>\n",
       "      <th>ratings_count</th>\n",
       "      <th>text_reviews_count</th>\n",
       "      <th>author_id</th>\n",
       "      <th>publisher</th>\n",
       "      <th>similar_books</th>\n",
       "      <th>old_book_id</th>\n",
       "    </tr>\n",
       "  </thead>\n",
       "  <tbody>\n",
       "    <tr>\n",
       "      <th>0</th>\n",
       "      <td>75512</td>\n",
       "      <td>The House of Memory (Pluto's Snitch #2)</td>\n",
       "      <td>318</td>\n",
       "      <td>1</td>\n",
       "      <td>https://www.goodreads.com/book/show/33394837-t...</td>\n",
       "      <td>4.33</td>\n",
       "      <td>269</td>\n",
       "      <td>60</td>\n",
       "      <td>242185</td>\n",
       "      <td>NaN</td>\n",
       "      <td>[]</td>\n",
       "      <td>33394837</td>\n",
       "    </tr>\n",
       "  </tbody>\n",
       "</table>\n",
       "</div>"
      ],
      "text/plain": [
       "   book_id                                    title  num_pages  is_ebook  \\\n",
       "0    75512  The House of Memory (Pluto's Snitch #2)        318         1   \n",
       "\n",
       "                                                link  average_rating  \\\n",
       "0  https://www.goodreads.com/book/show/33394837-t...            4.33   \n",
       "\n",
       "   ratings_count  text_reviews_count  author_id publisher similar_books  \\\n",
       "0            269                  60     242185       NaN            []   \n",
       "\n",
       "   old_book_id  \n",
       "0     33394837  "
      ]
     },
     "execution_count": 6,
     "metadata": {},
     "output_type": "execute_result"
    }
   ],
   "source": [
    "books.head(1)"
   ]
  },
  {
   "cell_type": "code",
   "execution_count": 7,
   "metadata": {},
   "outputs": [
    {
     "data": {
      "text/html": [
       "<div>\n",
       "<style scoped>\n",
       "    .dataframe tbody tr th:only-of-type {\n",
       "        vertical-align: middle;\n",
       "    }\n",
       "\n",
       "    .dataframe tbody tr th {\n",
       "        vertical-align: top;\n",
       "    }\n",
       "\n",
       "    .dataframe thead th {\n",
       "        text-align: right;\n",
       "    }\n",
       "</style>\n",
       "<table border=\"1\" class=\"dataframe\">\n",
       "  <thead>\n",
       "    <tr style=\"text-align: right;\">\n",
       "      <th></th>\n",
       "      <th>review_id</th>\n",
       "      <th>user_id</th>\n",
       "      <th>book_id</th>\n",
       "      <th>rating</th>\n",
       "      <th>timestamp</th>\n",
       "      <th>n_votes</th>\n",
       "      <th>n_comments</th>\n",
       "      <th>old_user_id</th>\n",
       "      <th>old_book_id</th>\n",
       "    </tr>\n",
       "  </thead>\n",
       "  <tbody>\n",
       "    <tr>\n",
       "      <th>0</th>\n",
       "      <td>d23dc89ab32cd864e54d18369751163b</td>\n",
       "      <td>102489</td>\n",
       "      <td>37120</td>\n",
       "      <td>3</td>\n",
       "      <td>2001-01-01 00:00:00</td>\n",
       "      <td>0</td>\n",
       "      <td>0</td>\n",
       "      <td>d889b42d9eb7b80e02f24830e27c6389</td>\n",
       "      <td>196084</td>\n",
       "    </tr>\n",
       "  </tbody>\n",
       "</table>\n",
       "</div>"
      ],
      "text/plain": [
       "                          review_id  user_id  book_id  rating  \\\n",
       "0  d23dc89ab32cd864e54d18369751163b   102489    37120       3   \n",
       "\n",
       "             timestamp  n_votes  n_comments                       old_user_id  \\\n",
       "0  2001-01-01 00:00:00        0           0  d889b42d9eb7b80e02f24830e27c6389   \n",
       "\n",
       "   old_book_id  \n",
       "0       196084  "
      ]
     },
     "execution_count": 7,
     "metadata": {},
     "output_type": "execute_result"
    }
   ],
   "source": [
    "reviews.head(1)"
   ]
  },
  {
   "cell_type": "markdown",
   "metadata": {},
   "source": [
    "## Models\n",
    "\n",
    "initially we wanted to use evaluation score: the mean of each user's top 5 recommended books' actual rating\n",
    "\n",
    "since 85% of the users in test data only have 1 ratings, the evaluation score is almost the same (3.865) no matter recommendations are based on which model. (will delete the score later)\n",
    "\n",
    "we will use mse as evaluation score considering our dataset is sparse"
   ]
  },
  {
   "cell_type": "markdown",
   "metadata": {},
   "source": [
    "### baseline model - global mean"
   ]
  },
  {
   "cell_type": "markdown",
   "metadata": {},
   "source": [
    "baseline estimate for r_xi = u + b_x + b_i\n",
    "\n",
    "u: global mean (overall mean book ratings)\n",
    "\n",
    "b_x: rating deviation of user x = (avg. rating of user x) - u\n",
    "\n",
    "b_i: rating deviation of book i = (avg. rating of book i) - u"
   ]
  },
  {
   "cell_type": "code",
   "execution_count": 12,
   "metadata": {},
   "outputs": [
    {
     "name": "stdout",
     "output_type": "stream",
     "text": [
      "train_data mean rating: 3.80621\n"
     ]
    },
    {
     "name": "stderr",
     "output_type": "stream",
     "text": [
      "/Users/elainewu/Documents/Projects/Assignments/Capstone/Capstone Three/Goodreads_Book_Recommender/src/Baseline_Model.py:74: SettingWithCopyWarning: \n",
      "A value is trying to be set on a copy of a slice from a DataFrame.\n",
      "Try using .loc[row_indexer,col_indexer] = value instead\n",
      "\n",
      "See the caveats in the documentation: http://pandas.pydata.org/pandas-docs/stable/user_guide/indexing.html#returning-a-view-versus-a-copy\n",
      "  reviews['prediction'] = np.zeros(len(reviews))\n"
     ]
    },
    {
     "name": "stdout",
     "output_type": "stream",
     "text": [
      "train mse: 15.53125 \n",
      " test_mse: 15.97210 \n",
      " evaluation_score: 3.86546\n"
     ]
    }
   ],
   "source": [
    "train_mse, test_mse, eval_score = build_baseline_model(reviews) \n",
    "#print out train dataset mean rating to confirm each model uses the same training data"
   ]
  },
  {
   "cell_type": "markdown",
   "metadata": {},
   "source": [
    "### CF model with adam optimizer"
   ]
  },
  {
   "cell_type": "code",
   "execution_count": 17,
   "metadata": {},
   "outputs": [
    {
     "name": "stdout",
     "output_type": "stream",
     "text": [
      "train_data mean rating: 3.80621\n",
      "WARNING:tensorflow:`tf.train.start_queue_runners()` was called when no queue runners were defined. You can safely remove the call to this deprecated function.\n"
     ]
    }
   ],
   "source": [
    "# matrix factorization without regularization with adam optimizer\n",
    "# adam optimizer -> adaptive moment estimation with changing learning rate \n",
    "# https://machinelearningmastery.com/adam-optimization-algorithm-for-deep-learning/\n",
    "\n",
    "model_adam = build_CF_model(reviews, embedding_dim=30, init_stddev=0.05)"
   ]
  },
  {
   "cell_type": "code",
   "execution_count": 18,
   "metadata": {
    "scrolled": true
   },
   "outputs": [
    {
     "name": "stdout",
     "output_type": "stream",
     "text": [
      " iteration 600: train_error=0.009831, regularization_error=0.000000, gravity_loss=0.000000, test_error=17.298426"
     ]
    },
    {
     "data": {
      "text/plain": [
       "[{'train_error': 0.0098310765,\n",
       "  'regularization_error': 0.0,\n",
       "  'gravity_loss': 0.0,\n",
       "  'test_error': 17.298426}]"
      ]
     },
     "execution_count": 18,
     "metadata": {},
     "output_type": "execute_result"
    },
    {
     "data": {
      "image/png": "[encoded data removed]",
      "text/plain": [
       "<Figure size 1440x576 with 1 Axes>"
      ]
     },
     "metadata": {
      "needs_background": "light"
     },
     "output_type": "display_data"
    }
   ],
   "source": [
    "model_adam.train(num_iterations=600)"
   ]
  },
  {
   "cell_type": "markdown",
   "metadata": {},
   "source": [
    "### CF model with regularization and adam optimizer"
   ]
  },
  {
   "cell_type": "code",
   "execution_count": 23,
   "metadata": {},
   "outputs": [
    {
     "name": "stdout",
     "output_type": "stream",
     "text": [
      "train_data mean rating: 3.80621\n",
      "WARNING:tensorflow:`tf.train.start_queue_runners()` was called when no queue runners were defined. You can safely remove the call to this deprecated function.\n"
     ]
    }
   ],
   "source": [
    "# A CFModel object that uses a regularized loss with adam optimizer\n",
    "model_reg = build_CF_model(reviews, embedding_dim=30, init_stddev=0.05, \n",
    "                    regularization_coeff=0.1)"
   ]
  },
  {
   "cell_type": "code",
   "execution_count": 24,
   "metadata": {},
   "outputs": [
    {
     "name": "stdout",
     "output_type": "stream",
     "text": [
      " iteration 50: train_error=0.138551, regularization_error=0.749615, test_error=6.2327694"
     ]
    },
    {
     "data": {
      "text/plain": [
       "[{'train_error': 0.13855116,\n",
       "  'regularization_error': 0.74961483,\n",
       "  'test_error': 6.2327695}]"
      ]
     },
     "execution_count": 24,
     "metadata": {},
     "output_type": "execute_result"
    },
    {
     "data": {
      "image/png": "[encoded data removed]",
      "text/plain": [
       "<Figure size 1440x576 with 1 Axes>"
      ]
     },
     "metadata": {
      "needs_background": "light"
     },
     "output_type": "display_data"
    }
   ],
   "source": [
    "model_reg.train(num_iterations=50)"
   ]
  },
  {
   "cell_type": "code",
   "execution_count": null,
   "metadata": {},
   "outputs": [],
   "source": [
    "# A CFModel object that uses a regularized loss, gravity loss with adam optimizer\n",
    "model_reg_grv = build_CF_model(reviews, embedding_dim=30, init_stddev=0.05, \n",
    "                    regularization_coeff=0.1,\n",
    "                    gravity_coeff=0.1)"
   ]
  },
  {
   "cell_type": "code",
   "execution_count": null,
   "metadata": {
    "scrolled": true
   },
   "outputs": [],
   "source": [
    "model_reg_grv.train(num_iterations=50)"
   ]
  },
  {
   "cell_type": "markdown",
   "metadata": {},
   "source": [
    "#### evaluation score is calculated based on  the mean of the top 5% recommended books' actual ratings\n",
    "\n",
    "since 85% of the users in test data only have 1 ratings, the evaluation score is almost the same (3.865) no matter recommendations are based on which model. (will delete the score later)"
   ]
  },
  {
   "cell_type": "code",
   "execution_count": null,
   "metadata": {
    "scrolled": true
   },
   "outputs": [],
   "source": [
    "eval_score(test_ratings, model_reg.embeddings['user_id'], model_reg.embeddings['book_id'] )"
   ]
  },
  {
   "cell_type": "code",
   "execution_count": null,
   "metadata": {},
   "outputs": [],
   "source": [
    "# 85% of the users in test data only have 1 ratings\n",
    "(test_ratings.user_id.value_counts() >1).sum()/len(test_ratings)"
   ]
  },
  {
   "cell_type": "code",
   "execution_count": null,
   "metadata": {},
   "outputs": [],
   "source": [
    "# save model_embeddings\n",
    "np.savez('model/model_reg_embeddings.npz', model_reg.embeddings['user_id'], model_reg.embeddings['book_id'])"
   ]
  },
  {
   "cell_type": "code",
   "execution_count": null,
   "metadata": {},
   "outputs": [],
   "source": [
    "# load model_embeddings\n",
    "\n",
    "# file = np.load('model/model_reg_embeddings.npz')\n",
    "# user_embeddings = file['arr_0']\n",
    "# book_embeddings = file['arr_1']"
   ]
  },
  {
   "cell_type": "markdown",
   "metadata": {},
   "source": [
    "### Explore model_reg performance"
   ]
  },
  {
   "cell_type": "markdown",
   "metadata": {},
   "source": [
    "#### get recommendations for a given user"
   ]
  },
  {
   "cell_type": "code",
   "execution_count": 25,
   "metadata": {},
   "outputs": [
    {
     "name": "stdout",
     "output_type": "stream",
     "text": [
      "The highest recommendations for user fca26c34be8fe623ee340061f1281796.\n"
     ]
    }
   ],
   "source": [
    "#example with user 'd889b42d9eb7b80e02f24830e27c6389'\n",
    "user_id = 'fca26c34be8fe623ee340061f1281796'\n",
    "sample_user_pred = user_recommendations(books, reviews, model_reg, user_id, measure='cosine', k=6)"
   ]
  },
  {
   "cell_type": "code",
   "execution_count": 26,
   "metadata": {},
   "outputs": [
    {
     "data": {
      "text/html": [
       "<div>\n",
       "<style scoped>\n",
       "    .dataframe tbody tr th:only-of-type {\n",
       "        vertical-align: middle;\n",
       "    }\n",
       "\n",
       "    .dataframe tbody tr th {\n",
       "        vertical-align: top;\n",
       "    }\n",
       "\n",
       "    .dataframe thead th {\n",
       "        text-align: right;\n",
       "    }\n",
       "</style>\n",
       "<table border=\"1\" class=\"dataframe\">\n",
       "  <thead>\n",
       "    <tr style=\"text-align: right;\">\n",
       "      <th></th>\n",
       "      <th>cosine score</th>\n",
       "      <th>titles</th>\n",
       "      <th>is_ebook</th>\n",
       "      <th>average_rating</th>\n",
       "      <th>ratings_count</th>\n",
       "      <th>text_reviews_count</th>\n",
       "    </tr>\n",
       "  </thead>\n",
       "  <tbody>\n",
       "    <tr>\n",
       "      <th>56044</th>\n",
       "      <td>0.9146417379379272</td>\n",
       "      <td>Sweet Reason</td>\n",
       "      <td>0</td>\n",
       "      <td>3.43</td>\n",
       "      <td>7</td>\n",
       "      <td>4</td>\n",
       "    </tr>\n",
       "    <tr>\n",
       "      <th>2755</th>\n",
       "      <td>0.9038723111152649</td>\n",
       "      <td>Justification for Murder (The Darcy Lynch Seri...</td>\n",
       "      <td>1</td>\n",
       "      <td>3.96</td>\n",
       "      <td>532</td>\n",
       "      <td>49</td>\n",
       "    </tr>\n",
       "    <tr>\n",
       "      <th>30664</th>\n",
       "      <td>0.8967753052711487</td>\n",
       "      <td>The Nightingale Before Christmas (Meg Langslow...</td>\n",
       "      <td>0</td>\n",
       "      <td>4.02</td>\n",
       "      <td>1312</td>\n",
       "      <td>193</td>\n",
       "    </tr>\n",
       "    <tr>\n",
       "      <th>18932</th>\n",
       "      <td>0.8938353657722473</td>\n",
       "      <td>The Father's Child</td>\n",
       "      <td>1</td>\n",
       "      <td>3.6</td>\n",
       "      <td>29</td>\n",
       "      <td>12</td>\n",
       "    </tr>\n",
       "    <tr>\n",
       "      <th>24024</th>\n",
       "      <td>0.8845371603965759</td>\n",
       "      <td>Dear Mr. M</td>\n",
       "      <td>1</td>\n",
       "      <td>3.29</td>\n",
       "      <td>220</td>\n",
       "      <td>19</td>\n",
       "    </tr>\n",
       "  </tbody>\n",
       "</table>\n",
       "</div>"
      ],
      "text/plain": [
       "            cosine score                                             titles  \\\n",
       "56044 0.9146417379379272                                       Sweet Reason   \n",
       "2755  0.9038723111152649  Justification for Murder (The Darcy Lynch Seri...   \n",
       "30664 0.8967753052711487  The Nightingale Before Christmas (Meg Langslow...   \n",
       "18932 0.8938353657722473                                 The Father's Child   \n",
       "24024 0.8845371603965759                                         Dear Mr. M   \n",
       "\n",
       "       is_ebook  average_rating  ratings_count  text_reviews_count  \n",
       "56044         0            3.43              7                   4  \n",
       "2755          1            3.96            532                  49  \n",
       "30664         0            4.02           1312                 193  \n",
       "18932         1             3.6             29                  12  \n",
       "24024         1            3.29            220                  19  "
      ]
     },
     "execution_count": 26,
     "metadata": {},
     "output_type": "execute_result"
    }
   ],
   "source": [
    "sample_user_pred.sort_values('cosine score', ascending=False)[:5]"
   ]
  },
  {
   "cell_type": "code",
   "execution_count": 27,
   "metadata": {},
   "outputs": [],
   "source": [
    "# explore the user_prediction (TODO: to delete later)\n",
    "\n",
    "\n",
    "sample_user_pred = sample_user_pred.reset_index()\n",
    "\n",
    "sample_user_pred.head()\n",
    "sample_user_pred.columns = ['old_book_id', 'cosine score', 'titles', 'is_ebook', 'average_rating', 'ratings_count', 'text_reviews_count']\n",
    "\n",
    "sample_user_actual = reviews[reviews.old_user_id == 'fca26c34be8fe623ee340061f1281796']\n",
    "\n",
    "for_sample_user_model = sample_user_pred.merge(sample_user_actual, how='left', left_on='old_book_id', right_on = 'old_book_id')\n",
    "\n",
    "user_df = reviews.groupby('old_user_id').count()['rating']\n",
    "user_df.head()\n"
   ]
  },
  {
   "cell_type": "code",
   "execution_count": 34,
   "metadata": {},
   "outputs": [
    {
     "data": {
      "text/plain": [
       "0.08478319995384603"
      ]
     },
     "execution_count": 34,
     "metadata": {},
     "output_type": "execute_result"
    }
   ],
   "source": [
    "(user_df.sort_values(ascending=False) > 30).sum()/len(user_df)"
   ]
  },
  {
   "cell_type": "markdown",
   "metadata": {},
   "source": [
    "### get neighbors of a book which contains a given substring"
   ]
  },
  {
   "cell_type": "code",
   "execution_count": 36,
   "metadata": {},
   "outputs": [
    {
     "name": "stdout",
     "output_type": "stream",
     "text": [
      "Nearest neighbors of : Crowner's Crusade (Crowner John Mystery #15).\n",
      "[Found more than one matching book. Other candidates: Crowner's Quest (Crowner John Mystery #3), The Poisoned Chalice (Crowner John Mystery #2), The Grim Reaper (Crowner John Mystery #6), The Elixir of Death (Crowner John Mystery #10), Figure of Hate (Crowner John Mystery #9), The Manor of Death (Crowner John Mystery #12), A Plague of Heretics (Crowner John Mystery #14), The Witch Hunter (Crowner John Mystery #8), The Sanctuary Seeker (Crowner John Mystery #1), Fear in the Forest (Crowner John Mystery #7), The Noble Outlaw (Crowner John Mystery #11)]\n"
     ]
    },
    {
     "data": {
      "text/html": [
       "<div>\n",
       "<style scoped>\n",
       "    .dataframe tbody tr th:only-of-type {\n",
       "        vertical-align: middle;\n",
       "    }\n",
       "\n",
       "    .dataframe tbody tr th {\n",
       "        vertical-align: top;\n",
       "    }\n",
       "\n",
       "    .dataframe thead th {\n",
       "        text-align: right;\n",
       "    }\n",
       "</style>\n",
       "<table border=\"1\" class=\"dataframe\">\n",
       "  <thead>\n",
       "    <tr style=\"text-align: right;\">\n",
       "      <th></th>\n",
       "      <th>cosine score</th>\n",
       "      <th>titles</th>\n",
       "      <th>is_ebook</th>\n",
       "      <th>average_rating</th>\n",
       "      <th>ratings_count</th>\n",
       "    </tr>\n",
       "  </thead>\n",
       "  <tbody>\n",
       "    <tr>\n",
       "      <th>19563</th>\n",
       "      <td>0.9999998807907104</td>\n",
       "      <td>Obsession (Faces of Evil, #1)</td>\n",
       "      <td>1</td>\n",
       "      <td>4.07</td>\n",
       "      <td>529</td>\n",
       "    </tr>\n",
       "    <tr>\n",
       "      <th>105305</th>\n",
       "      <td>0.9084354639053345</td>\n",
       "      <td>Pronto</td>\n",
       "      <td>0</td>\n",
       "      <td>3.74</td>\n",
       "      <td>5579</td>\n",
       "    </tr>\n",
       "    <tr>\n",
       "      <th>100513</th>\n",
       "      <td>0.8990375995635986</td>\n",
       "      <td>The Smell of the Night (The Inspector Montalba...</td>\n",
       "      <td>1</td>\n",
       "      <td>3.98</td>\n",
       "      <td>137</td>\n",
       "    </tr>\n",
       "    <tr>\n",
       "      <th>26365</th>\n",
       "      <td>0.889642596244812</td>\n",
       "      <td>An Aria of Omens</td>\n",
       "      <td>1</td>\n",
       "      <td>3.98</td>\n",
       "      <td>152</td>\n",
       "    </tr>\n",
       "    <tr>\n",
       "      <th>11662</th>\n",
       "      <td>0.8789119124412537</td>\n",
       "      <td>The Dead List</td>\n",
       "      <td>1</td>\n",
       "      <td>3.83</td>\n",
       "      <td>138</td>\n",
       "    </tr>\n",
       "    <tr>\n",
       "      <th>60481</th>\n",
       "      <td>0.8784198760986328</td>\n",
       "      <td>Sticks and Stones (Randy Craig Mystery #2)</td>\n",
       "      <td>0</td>\n",
       "      <td>3.78</td>\n",
       "      <td>39</td>\n",
       "    </tr>\n",
       "    <tr>\n",
       "      <th>69502</th>\n",
       "      <td>0.8780992031097412</td>\n",
       "      <td>Shrouded In Thought (Victorian Chicago Mystery...</td>\n",
       "      <td>1</td>\n",
       "      <td>3.84</td>\n",
       "      <td>28</td>\n",
       "    </tr>\n",
       "    <tr>\n",
       "      <th>28117</th>\n",
       "      <td>0.8731884956359863</td>\n",
       "      <td>Song of Solomon</td>\n",
       "      <td>0</td>\n",
       "      <td>4.29</td>\n",
       "      <td>108</td>\n",
       "    </tr>\n",
       "    <tr>\n",
       "      <th>50449</th>\n",
       "      <td>0.8725510835647583</td>\n",
       "      <td>The Thief</td>\n",
       "      <td>0</td>\n",
       "      <td>3.51</td>\n",
       "      <td>2477</td>\n",
       "    </tr>\n",
       "    <tr>\n",
       "      <th>56953</th>\n",
       "      <td>0.8719014525413513</td>\n",
       "      <td>A Taste for Death (Adam Dalgliesh #7)</td>\n",
       "      <td>0</td>\n",
       "      <td>4.01</td>\n",
       "      <td>8983</td>\n",
       "    </tr>\n",
       "  </tbody>\n",
       "</table>\n",
       "</div>"
      ],
      "text/plain": [
       "             cosine score                                             titles  \\\n",
       "19563  0.9999998807907104                      Obsession (Faces of Evil, #1)   \n",
       "105305 0.9084354639053345                                             Pronto   \n",
       "100513 0.8990375995635986  The Smell of the Night (The Inspector Montalba...   \n",
       "26365   0.889642596244812                                   An Aria of Omens   \n",
       "11662  0.8789119124412537                                      The Dead List   \n",
       "60481  0.8784198760986328         Sticks and Stones (Randy Craig Mystery #2)   \n",
       "69502  0.8780992031097412  Shrouded In Thought (Victorian Chicago Mystery...   \n",
       "28117  0.8731884956359863                                    Song of Solomon   \n",
       "50449  0.8725510835647583                                          The Thief   \n",
       "56953  0.8719014525413513              A Taste for Death (Adam Dalgliesh #7)   \n",
       "\n",
       "        is_ebook  average_rating  ratings_count  \n",
       "19563          1            4.07            529  \n",
       "105305         0            3.74           5579  \n",
       "100513         1            3.98            137  \n",
       "26365          1            3.98            152  \n",
       "11662          1            3.83            138  \n",
       "60481          0            3.78             39  \n",
       "69502          1            3.84             28  \n",
       "28117          0            4.29            108  \n",
       "50449          0            3.51           2477  \n",
       "56953          0            4.01           8983  "
      ]
     },
     "metadata": {},
     "output_type": "display_data"
    }
   ],
   "source": [
    "title_substring ='Crowner'\n",
    "book_neighbors(books, reviews, model_reg, title_substring, measure='cosine', k=10)"
   ]
  },
  {
   "cell_type": "markdown",
   "metadata": {},
   "source": [
    "### inspect neighbor clustering"
   ]
  },
  {
   "cell_type": "code",
   "execution_count": 37,
   "metadata": {},
   "outputs": [],
   "source": [
    "def book_embedding_norm(books, models):\n",
    "    \"\"\"\n",
    "    visualizes the norm and number of ratings of the book\n",
    "    Args:\n",
    "        model: a MFmodel object\n",
    "    \"\"\"\n",
    "    if not isinstance(models, list):\n",
    "        models = [models]\n",
    "    df=pd.DataFrame({\n",
    "        'title': books['title'],\n",
    "        'average_rating': books['average_rating'],\n",
    "        'ratings_count':books['ratings_count']\n",
    "    })\n",
    "    charts = []\n",
    "    brush = alt.selection_interval()\n",
    "    for i, model in enumerate(models):\n",
    "        norm_key = 'norm' +str(i)\n",
    "        df[norm_key] = np.linalg.norm(model.embeddings['book_id'], axis=1) #only included the first 1000 books for visualization\n",
    "        nearest = alt.selection(\n",
    "                type='single', encodings=['x', 'y'], on='mouseover', nearest=True,\n",
    "                empty='none')\n",
    "        base = alt.Chart().mark_circle().encode(\n",
    "                x='ratings_count',\n",
    "                y=norm_key,\n",
    "               color=alt.condition(brush, alt.value('#4c78a8'), alt.value('lightgray'))\n",
    "            ).properties(selection=nearest).add_selection(brush)\n",
    "        text = alt.Chart().mark_text(align='center', dx=5, dy=-5).encode(\n",
    "        x='ratings_count', y=norm_key,\n",
    "        text=alt.condition(nearest, 'title', alt.value('')))\n",
    "        charts.append(alt.layer(base, text))\n",
    "    return alt.hconcat(*charts, data=df[:1000])\n",
    "    \n",
    "    "
   ]
  },
  {
   "cell_type": "code",
   "execution_count": 38,
   "metadata": {},
   "outputs": [],
   "source": [
    "def visualize_movie_embeddings(data, x, y):\n",
    "    nearest = alt.selection(\n",
    "      type='single', encodings=['x', 'y'], on='mouseover', nearest=True,\n",
    "      empty='none')\n",
    "    base = alt.Chart().mark_circle().encode(\n",
    "      x=x,\n",
    "      y=y,\n",
    "      color=alt.condition(is_ebook_filter, \"is_ebook\", alt.value(\"whitesmoke\")),\n",
    "      ).properties(\n",
    "      width=600,\n",
    "      height=600,\n",
    "      selection=nearest)\n",
    "    text = alt.Chart().mark_text(align='left', dx=5, dy=-5).encode(\n",
    "      x=x,\n",
    "      y=y,\n",
    "      text=alt.condition(nearest, 'title', alt.value('')))\n",
    "    return alt.hconcat(alt.layer(base, text), is_ebook_chart, data=data[:5000])\n"
   ]
  },
  {
   "cell_type": "code",
   "execution_count": 39,
   "metadata": {},
   "outputs": [],
   "source": [
    "is_ebook_filter = alt.selection_multi(fields=['is_ebook'])\n",
    "is_ebook_chart = alt.Chart().mark_bar().encode(\n",
    "    x=\"count()\",\n",
    "    y=alt.Y('is_ebook'),\n",
    "    color=alt.condition(\n",
    "        is_ebook_filter,\n",
    "        alt.Color(\"is_ebook:N\"),\n",
    "        alt.value('lightgray'))\n",
    ").properties(height=300, selection=is_ebook_filter)"
   ]
  },
  {
   "cell_type": "code",
   "execution_count": 40,
   "metadata": {},
   "outputs": [],
   "source": [
    "def tsne_movie_embeddings(model, books):\n",
    "    \"\"\"Visualizes the movie embeddings, projected using t-SNE with Cosine measure.\n",
    "    Args:\n",
    "    model: A MFModel object.\n",
    "    \"\"\"\n",
    "    tsne = sklearn.manifold.TSNE(\n",
    "      n_components=2, perplexity=40, metric='cosine', early_exaggeration=10.0,\n",
    "      init='pca', verbose=True, n_iter=400)\n",
    "\n",
    "    print('Running t-SNE...')\n",
    "    V_proj = tsne.fit_transform(model.embeddings[\"book_id\"][:5000])\n",
    "    books.loc[:,'x'] = V_proj[:, 0]\n",
    "    books.loc[:,'y'] = V_proj[:, 1]\n",
    "    return visualize_movie_embeddings(books, 'x', 'y')"
   ]
  },
  {
   "cell_type": "code",
   "execution_count": 42,
   "metadata": {},
   "outputs": [
    {
     "data": {
      "text/plain": [
       "((105365, 30), 105365)"
      ]
     },
     "execution_count": 42,
     "metadata": {},
     "output_type": "execute_result"
    }
   ],
   "source": [
    "model_reg.embeddings['book_id'].shape, len(books)"
   ]
  },
  {
   "cell_type": "code",
   "execution_count": 45,
   "metadata": {},
   "outputs": [
    {
     "data": {
      "application/vnd.vegalite.v3+json": {
       "$schema": "https://vega.github.io/schema/vega-lite/v3.4.0.json",
       "config": {
        "mark": {
         "tooltip": null
        },
        "view": {
         "height": 300,
         "width": 400
        }
       },
       "data": {
        "name": "data-4bbdda96846cb73fcfe79f025a6534f9"
       },
       "datasets": {
        "data-4bbdda96846cb73fcfe79f025a6534f9": [
         {
          "average_rating": 4.33,
          "norm0": 2.7366280555725098,
          "ratings_count": 269,
          "title": "The House of Memory (Pluto's Snitch #2)"
         },
         {
          "average_rating": 3.3,
          "norm0": 1.7221593856811523,
          "ratings_count": 52,
          "title": "Dead in the Morning (Patrick Grant, #1)"
         },
         {
          "average_rating": 3.61,
          "norm0": 1.9797289371490479,
          "ratings_count": 58,
          "title": "Wycliffe and the Cycle of Death"
         },
         {
          "average_rating": 4.07,
          "norm0": 1.352262020111084,
          "ratings_count": 250,
          "title": "White Fire (Pendergast, #13)"
         },
         {
          "average_rating": 3.99,
          "norm0": 1.484885334968567,
          "ratings_count": 5376,
          "title": "Polar Star (Arkady Renko, #2)"
         },
         {
          "average_rating": 3.74,
          "norm0": 1.6399822235107422,
          "ratings_count": 290,
          "title": "Will to Murder: The True Story Behind the Crimes & Trials Surrounding the Glensheen Killings"
         },
         {
          "average_rating": 4.11,
          "norm0": 1.5939823389053345,
          "ratings_count": 15,
          "title": "Monkeewrench"
         },
         {
          "average_rating": 4.02,
          "norm0": 1.5483533143997192,
          "ratings_count": 28,
          "title": "Live Bait (Monkeewrench #2)"
         },
         {
          "average_rating": 4.14,
          "norm0": 1.598679542541504,
          "ratings_count": 1705,
          "title": "Triptych (Will Trent, #1)"
         },
         {
          "average_rating": 3.99,
          "norm0": 1.222392201423645,
          "ratings_count": 12,
          "title": "Beacon of Love (Hometown Heroes, #1)"
         },
         {
          "average_rating": 3.85,
          "norm0": 2.048201322555542,
          "ratings_count": 61,
          "title": "Out of Order (The Survivor's Club, #1)"
         },
         {
          "average_rating": 3.95,
          "norm0": 1.846864938735962,
          "ratings_count": 18,
          "title": "The Rest Will Come"
         },
         {
          "average_rating": 4.02,
          "norm0": 1.9508862495422363,
          "ratings_count": 16,
          "title": "Left To Die (To Die, #1)"
         },
         {
          "average_rating": 3.72,
          "norm0": 1.762618899345398,
          "ratings_count": 1371,
          "title": "To Shield the Queen (Ursula Blanchard, #1)"
         },
         {
          "average_rating": 3.91,
          "norm0": 1.4034931659698486,
          "ratings_count": 174,
          "title": "An Accidental Murder (A Yellow Cottage Vintage Mystery, #1)"
         },
         {
          "average_rating": 3.16,
          "norm0": 1.4959033727645874,
          "ratings_count": 114,
          "title": "Sherlock Holmes: Year One"
         },
         {
          "average_rating": 3.87,
          "norm0": 2.303555488586426,
          "ratings_count": 42,
          "title": "Flesh & Blood (Flesh, #2)"
         },
         {
          "average_rating": 4.38,
          "norm0": 1.925842523574829,
          "ratings_count": 32,
          "title": "Lie Catchers"
         },
         {
          "average_rating": 3.87,
          "norm0": 2.321417808532715,
          "ratings_count": 578,
          "title": "Fire in the Hole: Stories"
         },
         {
          "average_rating": 3.54,
          "norm0": 1.4078994989395142,
          "ratings_count": 106,
          "title": "The Grownup"
         },
         {
          "average_rating": 3.79,
          "norm0": 1.7707417011260986,
          "ratings_count": 491,
          "title": "The Art Whisperer (Alix London #3)"
         },
         {
          "average_rating": 3.71,
          "norm0": 1.1284111738204956,
          "ratings_count": 55,
          "title": "Moonraker (James Bond, #3)"
         },
         {
          "average_rating": 4.07,
          "norm0": 2.081132411956787,
          "ratings_count": 216,
          "title": "The Afrikaans"
         },
         {
          "average_rating": 3.86,
          "norm0": 1.2851495742797852,
          "ratings_count": 211,
          "title": "Donuts, Antiques and Murder (Bakery Detectives #2)"
         },
         {
          "average_rating": 3.95,
          "norm0": 1.6292259693145752,
          "ratings_count": 3,
          "title": "Never Coming Back (David Raker, #4)"
         },
         {
          "average_rating": 3.52,
          "norm0": 1.1563419103622437,
          "ratings_count": 113,
          "title": "Human Resources"
         },
         {
          "average_rating": 4.23,
          "norm0": 1.2369556427001953,
          "ratings_count": 128,
          "title": "The Secrets We Keep (A Letty Whittaker 12 Step Mystery #3)"
         },
         {
          "average_rating": 3.51,
          "norm0": 1.926464557647705,
          "ratings_count": 30,
          "title": "The Colombian Mule"
         },
         {
          "average_rating": 3.64,
          "norm0": 1.314765453338623,
          "ratings_count": 14,
          "title": "Death Minus Zero (Sam Turner, #2)"
         },
         {
          "average_rating": 4.3,
          "norm0": 1.1381572484970093,
          "ratings_count": 319,
          "title": "In These Words: Chapter 1"
         },
         {
          "average_rating": 3.77,
          "norm0": 1.433213233947754,
          "ratings_count": 32,
          "title": "Marriage Can Be Murder (Baby Boomer Mystery, #3)"
         },
         {
          "average_rating": 4.45,
          "norm0": 1.7815481424331665,
          "ratings_count": 21,
          "title": "Just.Another.Common.Killer"
         },
         {
          "average_rating": 4.58,
          "norm0": 1.6894290447235107,
          "ratings_count": 37,
          "title": "The Perfect Stranger (Los Santos Cartel #2)"
         },
         {
          "average_rating": 3.98,
          "norm0": 1.5800963640213013,
          "ratings_count": 51,
          "title": "Bloodlines (Irene Kelly #9)"
         },
         {
          "average_rating": 3.76,
          "norm0": 2.181138038635254,
          "ratings_count": 28,
          "title": "Vanished from Dust (Vanished from Dust #1)"
         },
         {
          "average_rating": 4.19,
          "norm0": 1.6098273992538452,
          "ratings_count": 1913,
          "title": "Shock Wave (Virgil Flowers, #5)"
         },
         {
          "average_rating": 3.88,
          "norm0": 2.3423686027526855,
          "ratings_count": 3396,
          "title": "Nocturnes"
         },
         {
          "average_rating": 4.18,
          "norm0": 1.8996144533157349,
          "ratings_count": 7324,
          "title": "Dark Hollow (Charlie Parker, #2)"
         },
         {
          "average_rating": 4.01,
          "norm0": 1.447307825088501,
          "ratings_count": 14640,
          "title": "Every Dead Thing (Charlie Parker, #1)"
         },
         {
          "average_rating": 4.12,
          "norm0": 1.9097280502319336,
          "ratings_count": 5963,
          "title": "The Unquiet (Charlie Parker, #6)"
         },
         {
          "average_rating": 4.22,
          "norm0": 1.3440786600112915,
          "ratings_count": 7682,
          "title": "The Killing Kind (Charlie Parker, #3)"
         },
         {
          "average_rating": 4.15,
          "norm0": 1.4815515279769897,
          "ratings_count": 5584,
          "title": "The Black Angel (Charlie Parker, #5)"
         },
         {
          "average_rating": 4.16,
          "norm0": 2.0309066772460938,
          "ratings_count": 5174,
          "title": "The White Road (Charlie Parker, #4)"
         },
         {
          "average_rating": 3.9,
          "norm0": 1.3785951137542725,
          "ratings_count": 43,
          "title": "Hallways in the Night"
         },
         {
          "average_rating": 3.13,
          "norm0": 1.2577940225601196,
          "ratings_count": 5164,
          "title": "Eyes on You"
         },
         {
          "average_rating": 3.83,
          "norm0": 2.4050240516662598,
          "ratings_count": 1018,
          "title": "One Mile Under (Ty Hauck, #4)"
         },
         {
          "average_rating": 4.12,
          "norm0": 2.8497936725616455,
          "ratings_count": 23,
          "title": "Send Lawyers, Guns, and Roses (Heart and Haven, #2)"
         },
         {
          "average_rating": 2.93,
          "norm0": 1.9005664587020874,
          "ratings_count": 29,
          "title": "Human Sacrifice: A Shocking Expose of Ritual Killing Worldwide"
         },
         {
          "average_rating": 3.66,
          "norm0": 1.2738637924194336,
          "ratings_count": 197,
          "title": "A Nun Walks into a Bar (Nun-Fiction #1)"
         },
         {
          "average_rating": 3.4,
          "norm0": 1.0053775310516357,
          "ratings_count": 45,
          "title": "Lt. Commander Mollie Sanders"
         },
         {
          "average_rating": 3.91,
          "norm0": 0.7804241180419922,
          "ratings_count": 3524,
          "title": "NYPD Red"
         },
         {
          "average_rating": 3.72,
          "norm0": 1.4071489572525024,
          "ratings_count": 67,
          "title": "Letters to Myself"
         },
         {
          "average_rating": 4.07,
          "norm0": 1.9708099365234375,
          "ratings_count": 201,
          "title": "Lone Wolf (FBI K-9 #1)"
         },
         {
          "average_rating": 3.82,
          "norm0": 2.2628467082977295,
          "ratings_count": 176,
          "title": "The Lost Codex (OPSIG Team Black #3)"
         },
         {
          "average_rating": 3.57,
          "norm0": 1.546973466873169,
          "ratings_count": 50,
          "title": "Three Days and a Life"
         },
         {
          "average_rating": 4.36,
          "norm0": 1.500419020652771,
          "ratings_count": 248,
          "title": "Secrets That Kill (Shelby Nichols #4)"
         },
         {
          "average_rating": 4.51,
          "norm0": 1.309201955795288,
          "ratings_count": 46,
          "title": "Post Mortem, Parish Mail #2"
         },
         {
          "average_rating": 3.69,
          "norm0": 1.6735895872116089,
          "ratings_count": 181,
          "title": "Before the Poison"
         },
         {
          "average_rating": 3.98,
          "norm0": 2.256305694580078,
          "ratings_count": 157,
          "title": "Every Bitter Thing (Chief Inspector Mario Silva #4)"
         },
         {
          "average_rating": 3.4,
          "norm0": 1.8537347316741943,
          "ratings_count": 392,
          "title": "Capital Crimes"
         },
         {
          "average_rating": 4.19,
          "norm0": 1.4372403621673584,
          "ratings_count": 736,
          "title": "Jackrabbit Junction Jitters (Jackrabbit Junction, #2)"
         },
         {
          "average_rating": 3.9,
          "norm0": 1.410689115524292,
          "ratings_count": 124,
          "title": "Winter Of The Wolf Moon (Alex McKnight, #2)"
         },
         {
          "average_rating": 3.54,
          "norm0": 2.476135730743408,
          "ratings_count": 196,
          "title": "Where Truth Lies"
         },
         {
          "average_rating": 3.55,
          "norm0": 2.7233200073242188,
          "ratings_count": 12,
          "title": "White Bodies"
         },
         {
          "average_rating": 3.93,
          "norm0": 2.920300245285034,
          "ratings_count": 272,
          "title": "The Heiress of Linn Hagh (The Detective Lavender Mysteries, #1)"
         },
         {
          "average_rating": 3.88,
          "norm0": 1.8090534210205078,
          "ratings_count": 61,
          "title": "The Devil in Maryvale (Maryvale #1)"
         },
         {
          "average_rating": 3.67,
          "norm0": 1.9809460639953613,
          "ratings_count": 115,
          "title": "The Pearl Harbor Murders (Disaster, #3)"
         },
         {
          "average_rating": 3.85,
          "norm0": 3.1188511848449707,
          "ratings_count": 66,
          "title": "Murder by the Seaside"
         },
         {
          "average_rating": 4.18,
          "norm0": 1.6564857959747314,
          "ratings_count": 173,
          "title": "Alternate (Gypsy Brothers, #7.5)"
         },
         {
          "average_rating": 4.21,
          "norm0": 3.5333919525146484,
          "ratings_count": 1125,
          "title": "Mermaid Moon (Sunset Cove, #2)"
         },
         {
          "average_rating": 4.06,
          "norm0": 3.0929906368255615,
          "ratings_count": 14,
          "title": "Semper Fidelis: A Novel of the Roman Empire"
         },
         {
          "average_rating": 4.17,
          "norm0": 1.4198096990585327,
          "ratings_count": 935,
          "title": "Detective Camp (A to Z Mysteries: Super Edition, #1)"
         },
         {
          "average_rating": 4.04,
          "norm0": 1.0712101459503174,
          "ratings_count": 1894,
          "title": "The Kidnapped King (A to Z Mysteries, #11)"
         },
         {
          "average_rating": 3.92,
          "norm0": 1.9549964666366577,
          "ratings_count": 197,
          "title": "His Brother's Wife"
         },
         {
          "average_rating": 3.12,
          "norm0": 1.6952942609786987,
          "ratings_count": 274,
          "title": "A Cup of Cozy"
         },
         {
          "average_rating": 3.41,
          "norm0": 1.6522384881973267,
          "ratings_count": 119,
          "title": "Make Out With Murder (Chip Harrison, #3)"
         },
         {
          "average_rating": 4.27,
          "norm0": 1.6857686042785645,
          "ratings_count": 50,
          "title": "Price of Justice"
         },
         {
          "average_rating": 3.21,
          "norm0": 1.5161069631576538,
          "ratings_count": 61,
          "title": "The Darkening"
         },
         {
          "average_rating": 3.41,
          "norm0": 1.876341462135315,
          "ratings_count": 4,
          "title": "Impulse"
         },
         {
          "average_rating": 3.92,
          "norm0": 1.4611424207687378,
          "ratings_count": 122,
          "title": "The Alexandria Link (Cotton Malone, #2)"
         },
         {
          "average_rating": 3.78,
          "norm0": 1.851804494857788,
          "ratings_count": 348,
          "title": "Hard Fall"
         },
         {
          "average_rating": 3.47,
          "norm0": 1.4480584859848022,
          "ratings_count": 41,
          "title": "Decompression"
         },
         {
          "average_rating": 2.8,
          "norm0": 1.6512978076934814,
          "ratings_count": 5,
          "title": "If Only for a Moment"
         },
         {
          "average_rating": 3.7,
          "norm0": 1.649043083190918,
          "ratings_count": 12,
          "title": "The Passenger"
         },
         {
          "average_rating": 3.78,
          "norm0": 1.139201283454895,
          "ratings_count": 15,
          "title": "Crashing Waves (The Warfield Hotel Mysteries, #2)"
         },
         {
          "average_rating": 4.31,
          "norm0": 0.9695634841918945,
          "ratings_count": 3878,
          "title": "Pretty Dead"
         },
         {
          "average_rating": 3.76,
          "norm0": 1.1259498596191406,
          "ratings_count": 8,
          "title": "The Murder Stone"
         },
         {
          "average_rating": 3.92,
          "norm0": 1.6372350454330444,
          "ratings_count": 94,
          "title": "All the Colors of Darkness"
         },
         {
          "average_rating": 3.93,
          "norm0": 1.820172905921936,
          "ratings_count": 191,
          "title": "And The Earth Moved"
         },
         {
          "average_rating": 3.78,
          "norm0": 1.814274787902832,
          "ratings_count": 546,
          "title": "An Isolated Incident"
         },
         {
          "average_rating": 3.79,
          "norm0": 2.0638718605041504,
          "ratings_count": 54,
          "title": "Ace Lacewing, Bug Detective: The Big Swat"
         },
         {
          "average_rating": 3.89,
          "norm0": 1.74853515625,
          "ratings_count": 545,
          "title": "The Bubble Gum Thief (Dagny Gray Book 1)"
         },
         {
          "average_rating": 3.38,
          "norm0": 1.5075491666793823,
          "ratings_count": 327,
          "title": "The Librarian"
         },
         {
          "average_rating": 3.02,
          "norm0": 0.9058820605278015,
          "ratings_count": 147,
          "title": "The Case of the Missing Books (Mobile Library Mystery #1)"
         },
         {
          "average_rating": 3.47,
          "norm0": 1.1555696725845337,
          "ratings_count": 734,
          "title": "Sock"
         },
         {
          "average_rating": 3.83,
          "norm0": 2.2140324115753174,
          "ratings_count": 4181,
          "title": "Echoes from the Dead (The Öland Quartet, #1)"
         },
         {
          "average_rating": 3.67,
          "norm0": 1.3434064388275146,
          "ratings_count": 8638,
          "title": "Flesh and Blood (Kay Scarpetta, #22)"
         },
         {
          "average_rating": 4.01,
          "norm0": 1.892408847808838,
          "ratings_count": 921,
          "title": "Deadly Coast (Tom Dugan, #2)"
         },
         {
          "average_rating": 4.53,
          "norm0": 1.3744332790374756,
          "ratings_count": 30,
          "title": "Mr. Either/Or"
         },
         {
          "average_rating": 3.32,
          "norm0": 1.6797583103179932,
          "ratings_count": 67,
          "title": "Death at the Voyager Hotel"
         },
         {
          "average_rating": 3.55,
          "norm0": 1.6569515466690063,
          "ratings_count": 4,
          "title": "The Seance"
         },
         {
          "average_rating": 3.9,
          "norm0": 1.1440339088439941,
          "ratings_count": 26,
          "title": "Midnight in the Garden of Good and Evil"
         },
         {
          "average_rating": 3.26,
          "norm0": 1.1029157638549805,
          "ratings_count": 200,
          "title": "Poison Most Vial"
         },
         {
          "average_rating": 3.81,
          "norm0": 1.4111450910568237,
          "ratings_count": 217,
          "title": "13 Hangmen"
         },
         {
          "average_rating": 4.36,
          "norm0": 1.5238351821899414,
          "ratings_count": 466,
          "title": "Women's Murder Club Box Set, Volume 1"
         },
         {
          "average_rating": 3.39,
          "norm0": 1.5176303386688232,
          "ratings_count": 63,
          "title": "Body Count"
         },
         {
          "average_rating": 4.24,
          "norm0": 1.2496120929718018,
          "ratings_count": 48,
          "title": "The Protectors"
         },
         {
          "average_rating": 3.37,
          "norm0": 2.6423940658569336,
          "ratings_count": 18,
          "title": "Unprotected Sax"
         },
         {
          "average_rating": 4.5,
          "norm0": 1.165755033493042,
          "ratings_count": 4,
          "title": "Misled (The Knox Mission #3)"
         },
         {
          "average_rating": 4.24,
          "norm0": 1.7522488832473755,
          "ratings_count": 82,
          "title": "Protect and Serve (Rookie K-9 Unit #1)"
         },
         {
          "average_rating": 4.24,
          "norm0": 1.4596408605575562,
          "ratings_count": 34,
          "title": "Case Closed, Vol. 55"
         },
         {
          "average_rating": 3.65,
          "norm0": 0.9355435371398926,
          "ratings_count": 156,
          "title": "Bodyguard To A Sex God (Bodyguards Inc. #1)"
         },
         {
          "average_rating": 3.49,
          "norm0": 1.8237029314041138,
          "ratings_count": 11,
          "title": "The Shining Girls"
         },
         {
          "average_rating": 3.74,
          "norm0": 2.6647286415100098,
          "ratings_count": 58,
          "title": "Soldier No More"
         },
         {
          "average_rating": 3.81,
          "norm0": 1.7633998394012451,
          "ratings_count": 113,
          "title": "Mrs. McGinty's Dead"
         },
         {
          "average_rating": 3.92,
          "norm0": 1.772742509841919,
          "ratings_count": 137,
          "title": "Sam The Cat Detective (Sam the Cat Mystery, #1)"
         },
         {
          "average_rating": 4.04,
          "norm0": 2.926043748855591,
          "ratings_count": 52,
          "title": "Revive (RedZone, #1)"
         },
         {
          "average_rating": 3.88,
          "norm0": 1.1608030796051025,
          "ratings_count": 56,
          "title": "The Silence"
         },
         {
          "average_rating": 4.44,
          "norm0": 1.8311930894851685,
          "ratings_count": 50,
          "title": "Twice Baked Murder (Rita Reincarnated #1)"
         },
         {
          "average_rating": 3.78,
          "norm0": 0.6896488070487976,
          "ratings_count": 1122,
          "title": "The Alehouse Murders (Templar Knight Mystery, #1)"
         },
         {
          "average_rating": 3.78,
          "norm0": 1.48202645778656,
          "ratings_count": 88,
          "title": "Involuntary Witness"
         },
         {
          "average_rating": 4.3,
          "norm0": 1.8632150888442993,
          "ratings_count": 226,
          "title": "Dead End Fix (Mort Grant #6)"
         },
         {
          "average_rating": 4.04,
          "norm0": 3.232334852218628,
          "ratings_count": 55,
          "title": "The Abduction"
         },
         {
          "average_rating": 3.92,
          "norm0": 1.7025384902954102,
          "ratings_count": 73,
          "title": "Scapegoat"
         },
         {
          "average_rating": 4.34,
          "norm0": 1.6315091848373413,
          "ratings_count": 106,
          "title": "Tea and Primroses (Legley Bay, #2)"
         },
         {
          "average_rating": 3.91,
          "norm0": 1.0501468181610107,
          "ratings_count": 6,
          "title": "Swimming at Night Swimming at Night"
         },
         {
          "average_rating": 3.8,
          "norm0": 1.6564830541610718,
          "ratings_count": 9278,
          "title": "Hide and Seek (Inspector Rebus, #2)"
         },
         {
          "average_rating": 3.72,
          "norm0": 1.6984953880310059,
          "ratings_count": 3429,
          "title": "Our Game"
         },
         {
          "average_rating": 4.22,
          "norm0": 1.684605598449707,
          "ratings_count": 6276,
          "title": "Cross Justice (Alex Cross, #23)"
         },
         {
          "average_rating": 3.29,
          "norm0": 2.004256010055542,
          "ratings_count": 314,
          "title": "A Catered Christmas Cookie Exchange (A Mystery with Recipes, #9)"
         },
         {
          "average_rating": 3.72,
          "norm0": 1.519612193107605,
          "ratings_count": 48,
          "title": "Designed for Death"
         },
         {
          "average_rating": 3.21,
          "norm0": 1.5967390537261963,
          "ratings_count": 61,
          "title": "Justice Delayed: The Catherine Janet Walsh Story"
         },
         {
          "average_rating": 3.49,
          "norm0": 0.9457640647888184,
          "ratings_count": 100,
          "title": "The Mysterious Key and What It Opened"
         },
         {
          "average_rating": 3.6,
          "norm0": 1.507622480392456,
          "ratings_count": 161,
          "title": "Third Girl (Hercule Poirot, #35)"
         },
         {
          "average_rating": 4.07,
          "norm0": 1.5123260021209717,
          "ratings_count": 11,
          "title": "The Woodcutter: A Novel"
         },
         {
          "average_rating": 4.07,
          "norm0": 1.9473984241485596,
          "ratings_count": 87,
          "title": "Last Seen in Massilia (Roma Sub Rosa, #8)"
         },
         {
          "average_rating": 4.28,
          "norm0": 1.5665159225463867,
          "ratings_count": 86,
          "title": "Much Ado About Felines (Whales and Tails #4)"
         },
         {
          "average_rating": 3.78,
          "norm0": 1.0985530614852905,
          "ratings_count": 157,
          "title": "Murder on the Minnesota (George Porter Dillman & Genevieve Masefield, #3)"
         },
         {
          "average_rating": 3.71,
          "norm0": 1.998937964439392,
          "ratings_count": 80,
          "title": "No Safe House"
         },
         {
          "average_rating": 3.96,
          "norm0": 1.6321265697479248,
          "ratings_count": 813,
          "title": "Meet Your Baker (A Bakeshop Mystery, #1)"
         },
         {
          "average_rating": 3.91,
          "norm0": 1.5976767539978027,
          "ratings_count": 5031,
          "title": "The Patriot Threat (Cotton Malone, #10)"
         },
         {
          "average_rating": 4.35,
          "norm0": 2.283348560333252,
          "ratings_count": 17,
          "title": "Criminal Negligence (A Sydney Valentine Mystery Book 2)"
         },
         {
          "average_rating": 4.44,
          "norm0": 1.6744433641433716,
          "ratings_count": 306,
          "title": "When I'm Old and Grey (DI Ted Darling #3)"
         },
         {
          "average_rating": 4,
          "norm0": 1.9292851686477661,
          "ratings_count": 1702,
          "title": "File M for Murder (Cat in the Stacks, #3)"
         },
         {
          "average_rating": 4.03,
          "norm0": 1.5137553215026855,
          "ratings_count": 334,
          "title": "The Big Sleep (Philip Marlowe, #1)"
         },
         {
          "average_rating": 3.33,
          "norm0": 1.9819016456604004,
          "ratings_count": 29,
          "title": "The Codex File"
         },
         {
          "average_rating": 3.54,
          "norm0": 1.607301950454712,
          "ratings_count": 331,
          "title": "Crucifixion Creek (The Belltree Trilogy, #1)"
         },
         {
          "average_rating": 3.86,
          "norm0": 1.428754210472107,
          "ratings_count": 1321,
          "title": "Tropic of Night (Jimmy Paz, #1)"
         },
         {
          "average_rating": 3.76,
          "norm0": 1.6580415964126587,
          "ratings_count": 854,
          "title": "Valley of Bones (Jimmy Paz, #2)"
         },
         {
          "average_rating": 3.96,
          "norm0": 1.3966100215911865,
          "ratings_count": 1092,
          "title": "Encyclopedia Brown Sets The Pace (Encyclopedia Brown, #15)"
         },
         {
          "average_rating": 4.04,
          "norm0": 1.8182742595672607,
          "ratings_count": 60,
          "title": "A Monstrous Regiment of Women (Mary Russell, #2)"
         },
         {
          "average_rating": 3.68,
          "norm0": 1.797068476676941,
          "ratings_count": 11,
          "title": "The Cure Hotel"
         },
         {
          "average_rating": 4.72,
          "norm0": 1.3451292514801025,
          "ratings_count": 53,
          "title": "Tracing the Contours"
         },
         {
          "average_rating": 3.1,
          "norm0": 1.0869331359863281,
          "ratings_count": 924,
          "title": "What We Saw at Night (What We Saw at Night, #1)"
         },
         {
          "average_rating": 3.76,
          "norm0": 1.164033055305481,
          "ratings_count": 52,
          "title": "Night Rounds"
         },
         {
          "average_rating": 3.51,
          "norm0": 1.71670401096344,
          "ratings_count": 74,
          "title": "The Thief"
         },
         {
          "average_rating": 3.75,
          "norm0": 2.0282585620880127,
          "ratings_count": 111,
          "title": "QUICK (A Hunter Kincaid Novel)"
         },
         {
          "average_rating": 3.51,
          "norm0": 1.7435153722763062,
          "ratings_count": 266,
          "title": "Road Dogs"
         },
         {
          "average_rating": 4.5,
          "norm0": 1.6095032691955566,
          "ratings_count": 18,
          "title": "Zodiac Lives"
         },
         {
          "average_rating": 3.14,
          "norm0": 1.4681355953216553,
          "ratings_count": 425,
          "title": "The Way of All Fish"
         },
         {
          "average_rating": 4.61,
          "norm0": 2.0886151790618896,
          "ratings_count": 84,
          "title": "Survival (Stronger #2)"
         },
         {
          "average_rating": 4.1,
          "norm0": 0.0410161055624485,
          "ratings_count": 25,
          "title": "Strangled by Silk (A Poppy Cove Mystery, #1)"
         },
         {
          "average_rating": 3.83,
          "norm0": 2.1578071117401123,
          "ratings_count": 119,
          "title": "Jacks and Jokers"
         },
         {
          "average_rating": 3.53,
          "norm0": 1.721767783164978,
          "ratings_count": 820,
          "title": "The Righteous"
         },
         {
          "average_rating": 3.68,
          "norm0": 1.6721456050872803,
          "ratings_count": 95,
          "title": "Assassination of a Dignitary"
         },
         {
          "average_rating": 3.9,
          "norm0": 1.7150566577911377,
          "ratings_count": 22,
          "title": "The Moonstone"
         },
         {
          "average_rating": 4.07,
          "norm0": 1.4327809810638428,
          "ratings_count": 162,
          "title": "Willow Point (A Harbour Falls Mystery, #2)"
         },
         {
          "average_rating": 4.8,
          "norm0": 2.081015110015869,
          "ratings_count": 15,
          "title": "The Runaway"
         },
         {
          "average_rating": 3.56,
          "norm0": 1.2133469581604004,
          "ratings_count": 46,
          "title": "The Doctor and the Dead Man's Chest (Dr. Fenimore, #3)"
         },
         {
          "average_rating": 3.33,
          "norm0": 1.1761677265167236,
          "ratings_count": 110,
          "title": "The Doctor Digs a Grave (Dr. Fenimore, #1)"
         },
         {
          "average_rating": 3.4,
          "norm0": 1.2674872875213623,
          "ratings_count": 49,
          "title": "The Doctor Dines in Prague (Dr. Fenimore, #4)"
         },
         {
          "average_rating": 3.49,
          "norm0": 2.3364853858947754,
          "ratings_count": 79,
          "title": "The Doctor Makes a Dollhouse Call (Dr. Fenimore, #2)"
         },
         {
          "average_rating": 3.44,
          "norm0": 1.425545334815979,
          "ratings_count": 34,
          "title": "The Doctor Rocks the Boat (Dr. Fenimore Mysteries, #5)"
         },
         {
          "average_rating": 3.88,
          "norm0": 1.3468286991119385,
          "ratings_count": 18,
          "title": "Sweet Damage"
         },
         {
          "average_rating": 3.91,
          "norm0": 1.540334701538086,
          "ratings_count": 144,
          "title": "The Extraordinary Adventures of Arsene Lupin"
         },
         {
          "average_rating": 3.77,
          "norm0": 1.891937255859375,
          "ratings_count": 28,
          "title": "London Boulevard"
         },
         {
          "average_rating": 3.54,
          "norm0": 2.086094617843628,
          "ratings_count": 181,
          "title": "Lost Girls: An Unsolved American Mystery"
         },
         {
          "average_rating": 3.43,
          "norm0": 1.8869634866714478,
          "ratings_count": 60,
          "title": "Before We Met"
         },
         {
          "average_rating": 4.15,
          "norm0": 1.5421022176742554,
          "ratings_count": 70,
          "title": "Second Watch: A J. P. Beaumont Novel"
         },
         {
          "average_rating": 4.07,
          "norm0": 1.0831756591796875,
          "ratings_count": 40,
          "title": "The Cryptic Lines"
         },
         {
          "average_rating": 4.15,
          "norm0": 0.8187930583953857,
          "ratings_count": 528,
          "title": "Proof (Bloodline Trilogy, #1)"
         },
         {
          "average_rating": 4.03,
          "norm0": 1.6176320314407349,
          "ratings_count": 952,
          "title": "Jade and Jeopardy (Gems and Espionage, #7)"
         },
         {
          "average_rating": 2.86,
          "norm0": 1.113627314567566,
          "ratings_count": 256,
          "title": "Death by Chick Lit"
         },
         {
          "average_rating": 3.48,
          "norm0": 2.751063108444214,
          "ratings_count": 664,
          "title": "June Bug (Murder-by-Month Mystery #2)"
         },
         {
          "average_rating": 3.89,
          "norm0": 1.4974193572998047,
          "ratings_count": 113,
          "title": "Shit Happens"
         },
         {
          "average_rating": 3.86,
          "norm0": 1.4631692171096802,
          "ratings_count": 305,
          "title": "The Secrets of Moonshine (Moonshine, #1)"
         },
         {
          "average_rating": 3.93,
          "norm0": 1.7604607343673706,
          "ratings_count": 1919,
          "title": "U is for Undertow (Kinsey Millhone, #21)"
         },
         {
          "average_rating": 3.93,
          "norm0": 1.8190339803695679,
          "ratings_count": 86,
          "title": "Deadly Decisions (Temperance Brennan, #3)"
         },
         {
          "average_rating": 4.07,
          "norm0": 1.7917298078536987,
          "ratings_count": 208,
          "title": "Remorseless (Doc Powers & D.I. Carver Investigate, #1)"
         },
         {
          "average_rating": 3.97,
          "norm0": 1.1229065656661987,
          "ratings_count": 11,
          "title": "Love may kill you"
         },
         {
          "average_rating": 4.12,
          "norm0": 1.809191107749939,
          "ratings_count": 277,
          "title": "Contagious (Infected, #2)"
         },
         {
          "average_rating": 3.71,
          "norm0": 1.7208760976791382,
          "ratings_count": 17,
          "title": "Never Tell"
         },
         {
          "average_rating": 4,
          "norm0": 1.0987420082092285,
          "ratings_count": 239,
          "title": "Helter Skelter: The True Story of the Manson Murders"
         },
         {
          "average_rating": 4,
          "norm0": 1.5468610525131226,
          "ratings_count": 196,
          "title": "Helter Skelter: The True Story of the Manson Murders"
         },
         {
          "average_rating": 4.12,
          "norm0": 1.0958476066589355,
          "ratings_count": 171,
          "title": "A Body to Spare (Odelia Gray Mystery, #10)"
         },
         {
          "average_rating": 3.57,
          "norm0": 2.3458104133605957,
          "ratings_count": 704,
          "title": "Almost Missed You"
         },
         {
          "average_rating": 4.83,
          "norm0": 1.2154359817504883,
          "ratings_count": 6,
          "title": "Blood Phase - Book 2 of the G.O.D.s Series"
         },
         {
          "average_rating": 3.44,
          "norm0": 1.964969277381897,
          "ratings_count": 31,
          "title": "An Englishman's Guide to Infidelity"
         },
         {
          "average_rating": 3.62,
          "norm0": 1.0519651174545288,
          "ratings_count": 36,
          "title": "The Waiting Time"
         },
         {
          "average_rating": 4.31,
          "norm0": 1.165593147277832,
          "ratings_count": 6,
          "title": "Deadly Legacy: The Inheritance"
         },
         {
          "average_rating": 3.61,
          "norm0": 2.975653648376465,
          "ratings_count": 39,
          "title": "Hand and Ring"
         },
         {
          "average_rating": 3.63,
          "norm0": 1.658603549003601,
          "ratings_count": 12,
          "title": "The Amateur"
         },
         {
          "average_rating": 3.82,
          "norm0": 1.6011369228363037,
          "ratings_count": 5,
          "title": "Behind the Shattered Glass"
         },
         {
          "average_rating": 4.41,
          "norm0": 1.4738178253173828,
          "ratings_count": 135,
          "title": "Double Chocolate Pistachio Murder (Donut Hole Mystery #27)"
         },
         {
          "average_rating": 3.38,
          "norm0": 1.2628350257873535,
          "ratings_count": 88,
          "title": "Skulduggery"
         },
         {
          "average_rating": 2.23,
          "norm0": 1.4805976152420044,
          "ratings_count": 77,
          "title": "The Extinction Event"
         },
         {
          "average_rating": 3.81,
          "norm0": 1.638128638267517,
          "ratings_count": 731,
          "title": "Ultimate Weapon"
         },
         {
          "average_rating": 2.79,
          "norm0": 1.9012638330459595,
          "ratings_count": 60,
          "title": "Prayer"
         },
         {
          "average_rating": 3.6,
          "norm0": 1.406124234199524,
          "ratings_count": 42,
          "title": "The Socorro Blast (A Sasha Solomon Mystery #3)"
         },
         {
          "average_rating": 3.42,
          "norm0": 1.5099278688430786,
          "ratings_count": 76,
          "title": "The Jesus Thief (The Jesus Thief, #1)"
         },
         {
          "average_rating": 3.71,
          "norm0": 1.3715240955352783,
          "ratings_count": 446,
          "title": "Unnatural Deeds"
         },
         {
          "average_rating": 4.1,
          "norm0": 2.197197914123535,
          "ratings_count": 1071,
          "title": "The Final Deduction (Nero Wolfe, #35)"
         },
         {
          "average_rating": 4,
          "norm0": 2.1330833435058594,
          "ratings_count": 9148,
          "title": "Fer-de-Lance (Nero Wolfe, #1)"
         },
         {
          "average_rating": 4.16,
          "norm0": 1.5593148469924927,
          "ratings_count": 1747,
          "title": "Homicide Trinity (Nero Wolfe, #36)"
         },
         {
          "average_rating": 4.07,
          "norm0": 1.3476784229278564,
          "ratings_count": 2608,
          "title": "The Golden Spiders (Nero Wolfe, #22)"
         },
         {
          "average_rating": 4.05,
          "norm0": 1.575083613395691,
          "ratings_count": 847,
          "title": "Death Times Three (Nero Wolfe, #47)"
         },
         {
          "average_rating": 3.94,
          "norm0": 1.3951009511947632,
          "ratings_count": 1347,
          "title": "Death of a Dude (Nero Wolfe, #44)"
         },
         {
          "average_rating": 4,
          "norm0": 1.8046348094940186,
          "ratings_count": 1207,
          "title": "The Father Hunt (Nero Wolfe, #43)"
         },
         {
          "average_rating": 4.21,
          "norm0": 2.0556979179382324,
          "ratings_count": 3083,
          "title": "The Doorbell Rang (Nero Wolfe, #41)"
         },
         {
          "average_rating": 4.09,
          "norm0": 1.8415037393569946,
          "ratings_count": 3844,
          "title": "The League of Frightened Men (Nero Wolfe, #2)"
         },
         {
          "average_rating": 4.21,
          "norm0": 1.406427025794983,
          "ratings_count": 2218,
          "title": "In the Best Families (Nero Wolfe, #17)"
         },
         {
          "average_rating": 3.57,
          "norm0": 1.503259539604187,
          "ratings_count": 62,
          "title": "A Corpse in the Soup (Silver Sisters Mysteries #1)"
         },
         {
          "average_rating": 3.44,
          "norm0": 2.380666971206665,
          "ratings_count": 4148,
          "title": "There's Someone Inside Your House"
         },
         {
          "average_rating": 3.76,
          "norm0": 1.8215904235839844,
          "ratings_count": 406,
          "title": "The Escape Diaries (Life and Love on the Lam, #1)"
         },
         {
          "average_rating": 4.1,
          "norm0": 2.5392165184020996,
          "ratings_count": 5512,
          "title": "Fear Nothing (Detective D.D. Warren, #7)"
         },
         {
          "average_rating": 3.39,
          "norm0": 2.2816953659057617,
          "ratings_count": 163,
          "title": "Innocent Little Crimes"
         },
         {
          "average_rating": 3.93,
          "norm0": 1.5139663219451904,
          "ratings_count": 5,
          "title": "Piece Of My Heart (Inspector Banks, #16)"
         },
         {
          "average_rating": 4.23,
          "norm0": 2.695435047149658,
          "ratings_count": 4171,
          "title": "Furious (Faith McMann Trilogy #1)"
         },
         {
          "average_rating": 3.23,
          "norm0": 1.7562280893325806,
          "ratings_count": 538,
          "title": "The Secret Adventures of Charlotte Brontë (The Secret Adventures of Charlotte Brontë #1)"
         },
         {
          "average_rating": 3.33,
          "norm0": 1.632331371307373,
          "ratings_count": 715,
          "title": "The Long Drop"
         },
         {
          "average_rating": 4,
          "norm0": 1.6906224489212036,
          "ratings_count": 293,
          "title": "Mini Mysteries: 20 Tricky Tales to Untangle"
         },
         {
          "average_rating": 3.79,
          "norm0": 1.7772507667541504,
          "ratings_count": 44,
          "title": "A Gilded Grave"
         },
         {
          "average_rating": 3.91,
          "norm0": 2.4590249061584473,
          "ratings_count": 466,
          "title": "Heist Society (Heist Society, #1)"
         },
         {
          "average_rating": 3.92,
          "norm0": 1.5961110591888428,
          "ratings_count": 102,
          "title": "Bad Boy (Inspector Banks, #19)"
         },
         {
          "average_rating": 3.74,
          "norm0": 1.8431389331817627,
          "ratings_count": 199,
          "title": "Broken Places (Rachel Goddard Mystery #3)"
         },
         {
          "average_rating": 3.97,
          "norm0": 2.2237560749053955,
          "ratings_count": 242,
          "title": "The Impossible Dead (Malcolm Fox, #2)"
         },
         {
          "average_rating": 4.12,
          "norm0": 2.5014050006866455,
          "ratings_count": 216,
          "title": "A Mansion, A Drag Queen, And A New Job (Deanna Oscar Paranormal Mystery #1)"
         },
         {
          "average_rating": 4.36,
          "norm0": 1.7257035970687866,
          "ratings_count": 25,
          "title": "Poor Boy Road: A Gritty Hard-Hitting Thriller Series Book # 1"
         },
         {
          "average_rating": 2.89,
          "norm0": 1.4150521755218506,
          "ratings_count": 461,
          "title": "Little Black Dress"
         },
         {
          "average_rating": 3.5,
          "norm0": 1.5603172779083252,
          "ratings_count": 75,
          "title": "Dying for a Change"
         },
         {
          "average_rating": 3.86,
          "norm0": 2.65482759475708,
          "ratings_count": 17,
          "title": "The Wimbledon Common Murder"
         },
         {
          "average_rating": 4.1,
          "norm0": 1.6724432706832886,
          "ratings_count": 16,
          "title": "Big Shoes"
         },
         {
          "average_rating": 4.16,
          "norm0": 1.4270765781402588,
          "ratings_count": 2258,
          "title": "The Lonely Silver Rain (Travis McGee #21)"
         },
         {
          "average_rating": 4.45,
          "norm0": 2.0690276622772217,
          "ratings_count": 176,
          "title": "Red Hot Velvet Murder (Frosted Love Cozy Mystery #32)"
         },
         {
          "average_rating": 3.96,
          "norm0": 1.6484637260437012,
          "ratings_count": 2825,
          "title": "Bad Men"
         },
         {
          "average_rating": 3.73,
          "norm0": 2.00972843170166,
          "ratings_count": 76,
          "title": "A Body to Dye For (Stan Kraychik Mystery #1)"
         },
         {
          "average_rating": 3.99,
          "norm0": 1.9833828210830688,
          "ratings_count": 35369,
          "title": "Strangers"
         },
         {
          "average_rating": 3.82,
          "norm0": 1.7816072702407837,
          "ratings_count": 10121,
          "title": "Strangers on a Train"
         },
         {
          "average_rating": 3.79,
          "norm0": 2.3298404216766357,
          "ratings_count": 592,
          "title": "The Strangers in the House"
         },
         {
          "average_rating": 3.7,
          "norm0": 1.4127192497253418,
          "ratings_count": 324,
          "title": "Dan Leno and the Limehouse Golem"
         },
         {
          "average_rating": 4.04,
          "norm0": 1.0812439918518066,
          "ratings_count": 241,
          "title": "A Heartbeat Away"
         },
         {
          "average_rating": 4.06,
          "norm0": 1.6000432968139648,
          "ratings_count": 34,
          "title": "The Spy Who Came in from the Cold (George Smiley #3)"
         },
         {
          "average_rating": 3.82,
          "norm0": 1.7835708856582642,
          "ratings_count": 155,
          "title": "The Dumas Club"
         },
         {
          "average_rating": 3.69,
          "norm0": 1.1731853485107422,
          "ratings_count": 176,
          "title": "Black Out"
         },
         {
          "average_rating": 4.12,
          "norm0": 1.498171091079712,
          "ratings_count": 15,
          "title": "Courage Matters: (Ray Courage, #1)"
         },
         {
          "average_rating": 4.18,
          "norm0": 2.453118085861206,
          "ratings_count": 27,
          "title": "Gathering Prey (Lucas Davenport, #25)"
         },
         {
          "average_rating": 3.76,
          "norm0": 1.6183271408081055,
          "ratings_count": 106,
          "title": "Pendulum: The explosive thriller you won't be able to put down (John Wallace 1)"
         },
         {
          "average_rating": 3.63,
          "norm0": 1.3685102462768555,
          "ratings_count": 5,
          "title": "No Substitute for Murder (Subbing isn't for Sissies #1)"
         },
         {
          "average_rating": 3.99,
          "norm0": 2.903226375579834,
          "ratings_count": 6,
          "title": "Forbidden Fruit"
         },
         {
          "average_rating": 4.15,
          "norm0": 2.47182035446167,
          "ratings_count": 82,
          "title": "Ghost of a Flea (Lew Griffin, #6)"
         },
         {
          "average_rating": 3.43,
          "norm0": 1.831674575805664,
          "ratings_count": 34,
          "title": "The Birth of M.E. Meegs (Emmie Reese Mysteries, #1)"
         },
         {
          "average_rating": 4.27,
          "norm0": 1.513116478919983,
          "ratings_count": 34,
          "title": "The Rembrandt Affair (Gabriel Allon, #10)"
         },
         {
          "average_rating": 3.61,
          "norm0": 1.0537441968917847,
          "ratings_count": 52,
          "title": "Posted to Death (Simon Kirby-Jones Mysteries Book 1)"
         },
         {
          "average_rating": 3.84,
          "norm0": 1.6389139890670776,
          "ratings_count": 30,
          "title": "Sherlock Holmes and the Case of the Sword Princess (The Great Detective in Love #1)"
         },
         {
          "average_rating": 3.36,
          "norm0": 1.354013204574585,
          "ratings_count": 61,
          "title": "Fell Down (Fell, #3)"
         },
         {
          "average_rating": 3.85,
          "norm0": 1.79457688331604,
          "ratings_count": 1281,
          "title": "William Wilson"
         },
         {
          "average_rating": 3.68,
          "norm0": 1.6032094955444336,
          "ratings_count": 1582,
          "title": "I Think I Love You"
         },
         {
          "average_rating": 3.76,
          "norm0": 1.857981562614441,
          "ratings_count": 646,
          "title": "Whole Lotta Trouble"
         },
         {
          "average_rating": 3.99,
          "norm0": 1.5395305156707764,
          "ratings_count": 6601,
          "title": "2 Bodies for the Price of 1 (Body Movers, #2)"
         },
         {
          "average_rating": 4.2,
          "norm0": 1.782444715499878,
          "ratings_count": 543,
          "title": "An Eye for an Eye (Santorno, #2)"
         },
         {
          "average_rating": 4.01,
          "norm0": 1.5305612087249756,
          "ratings_count": 276,
          "title": "The Devil's Hunt (Hugh Corbett, #10)"
         },
         {
          "average_rating": 3.81,
          "norm0": 1.0836023092269897,
          "ratings_count": 121,
          "title": "Grind Their Bones (DCI Wade, #1)"
         },
         {
          "average_rating": 3.91,
          "norm0": 1.4556032419204712,
          "ratings_count": 61,
          "title": "Q Is For Quarry (Kinsey Millhone #17)"
         },
         {
          "average_rating": 3.82,
          "norm0": 1.571343183517456,
          "ratings_count": 507,
          "title": "Revenge"
         },
         {
          "average_rating": 3.66,
          "norm0": 1.5979509353637695,
          "ratings_count": 89,
          "title": "Blaze"
         },
         {
          "average_rating": 3.67,
          "norm0": 1.6199232339859009,
          "ratings_count": 478,
          "title": "Thinner"
         },
         {
          "average_rating": 3.58,
          "norm0": 1.5139811038970947,
          "ratings_count": 81,
          "title": "The Dalius Cure"
         },
         {
          "average_rating": 3.87,
          "norm0": 2.044072151184082,
          "ratings_count": 44,
          "title": "Fear The Worst"
         },
         {
          "average_rating": 4.52,
          "norm0": 1.8024910688400269,
          "ratings_count": 42,
          "title": "Death of a Scavenger (Juniper Grove Mystery #2)"
         },
         {
          "average_rating": 3.7,
          "norm0": 2.2706875801086426,
          "ratings_count": 20,
          "title": "Nightmare at Camp Forrestwood: A Young Adult Whodunit"
         },
         {
          "average_rating": 4.31,
          "norm0": 1.9533945322036743,
          "ratings_count": 16,
          "title": "Reading The Dead (The Sarah Milton Chronicles, #1)"
         },
         {
          "average_rating": 3.71,
          "norm0": 2.1272780895233154,
          "ratings_count": 30,
          "title": "Mistress of the Just Land (Jean Brash Mystery #1)"
         },
         {
          "average_rating": 3.97,
          "norm0": 1.3205366134643555,
          "ratings_count": 154,
          "title": "Last Resort (A Moose River Mystery Book 2)"
         },
         {
          "average_rating": 4.07,
          "norm0": 1.161283254623413,
          "ratings_count": 32,
          "title": "The Redeemer"
         },
         {
          "average_rating": 4.1,
          "norm0": 1.510179877281189,
          "ratings_count": 487,
          "title": "Bad Guys Get Caught (Janet Maple #3)"
         },
         {
          "average_rating": 3.84,
          "norm0": 2.6914355754852295,
          "ratings_count": 61,
          "title": "Death Comes as the End"
         },
         {
          "average_rating": 4.19,
          "norm0": 1.612703561782837,
          "ratings_count": 120,
          "title": "Deadline (Virgil Flowers, #8)"
         },
         {
          "average_rating": 3.22,
          "norm0": 1.9713118076324463,
          "ratings_count": 474,
          "title": "The Objects of Her Affection"
         },
         {
          "average_rating": 3.62,
          "norm0": 2.2504217624664307,
          "ratings_count": 30,
          "title": "The Woods Are Dark"
         },
         {
          "average_rating": 3.71,
          "norm0": 2.242640256881714,
          "ratings_count": 7,
          "title": "A Door in the River"
         },
         {
          "average_rating": 4.22,
          "norm0": 1.286929726600647,
          "ratings_count": 111,
          "title": "The Girl Who Played With Fire (Millennium, #2)"
         },
         {
          "average_rating": 3.58,
          "norm0": 2.4588122367858887,
          "ratings_count": 73,
          "title": "Embassy Row (Mycroft Holmes, #2)"
         },
         {
          "average_rating": 3.86,
          "norm0": 1.5571917295455933,
          "ratings_count": 395,
          "title": "Velocity"
         },
         {
          "average_rating": 3.94,
          "norm0": 1.3931175470352173,
          "ratings_count": 586,
          "title": "Odd Thomas (Odd Thomas, #1)"
         },
         {
          "average_rating": 3.56,
          "norm0": 1.6880195140838623,
          "ratings_count": 52,
          "title": "Pearls of Deception,  A Short Story"
         },
         {
          "average_rating": 3.88,
          "norm0": 2.873100996017456,
          "ratings_count": 443,
          "title": "Dull Knife (Joe Pickett, #4.5)"
         },
         {
          "average_rating": 3.93,
          "norm0": 1.6729950904846191,
          "ratings_count": 67,
          "title": "The Startling Story of the Stolen Statue (Goofballs #2)"
         },
         {
          "average_rating": 3.26,
          "norm0": 0.9881282448768616,
          "ratings_count": 70,
          "title": "Deus Ex: Hard Line"
         },
         {
          "average_rating": 4.23,
          "norm0": 1.6666009426116943,
          "ratings_count": 465,
          "title": "End Game (Jack Noble #12)"
         },
         {
          "average_rating": 3.79,
          "norm0": 1.456619143486023,
          "ratings_count": 8,
          "title": "Death In The Clouds"
         },
         {
          "average_rating": 3.33,
          "norm0": 2.1478989124298096,
          "ratings_count": 15,
          "title": "Death Over Easy"
         },
         {
          "average_rating": 3.92,
          "norm0": 2.0393896102905273,
          "ratings_count": 46,
          "title": "The Study of Murder (Muirteach MacPhee Mystery #3)"
         },
         {
          "average_rating": 3.93,
          "norm0": 2.9860646724700928,
          "ratings_count": 83,
          "title": "Hazardous Duty"
         },
         {
          "average_rating": 3.98,
          "norm0": 2.896608352661133,
          "ratings_count": 47359,
          "title": "Pop Goes the Weasel (Alex Cross, #5)"
         },
         {
          "average_rating": 3.65,
          "norm0": 2.51312255859375,
          "ratings_count": 9070,
          "title": "Black Friday"
         },
         {
          "average_rating": 3.92,
          "norm0": 1.705747365951538,
          "ratings_count": 225,
          "title": "My Sweet Angel: The True Story of Lacey Spears, the Seemingly Perfect Mother Who Murdered Her Son in Cold Blood"
         },
         {
          "average_rating": 3.9,
          "norm0": 1.588883638381958,
          "ratings_count": 29,
          "title": "You're Next"
         },
         {
          "average_rating": 3.16,
          "norm0": 1.9467577934265137,
          "ratings_count": 194,
          "title": "The Story of Her Holding an Orange"
         },
         {
          "average_rating": 4.1,
          "norm0": 2.203434705734253,
          "ratings_count": 56,
          "title": "Doctor Sleep (The Shining, #2)"
         },
         {
          "average_rating": 4.05,
          "norm0": 1.4543578624725342,
          "ratings_count": 1490,
          "title": "Six"
         },
         {
          "average_rating": 3.69,
          "norm0": 2.9854698181152344,
          "ratings_count": 12,
          "title": "The Double Eagle (Tom Kirk, #1)"
         },
         {
          "average_rating": 3.37,
          "norm0": 2.102787971496582,
          "ratings_count": 30,
          "title": "Phoning a Dead Man"
         },
         {
          "average_rating": 3.51,
          "norm0": 2.363039255142212,
          "ratings_count": 44,
          "title": "The Case of the Murdered Muckraker (Daisy Dalrymple, #10)"
         },
         {
          "average_rating": 3.79,
          "norm0": 1.9439626932144165,
          "ratings_count": 72,
          "title": "TARGETED: A Deputy, Her Love Affairs, A Brutal Murder"
         },
         {
          "average_rating": 4.5,
          "norm0": 2.022933006286621,
          "ratings_count": 185,
          "title": "Witch Chocolate Bites (Bewitched by Chocolate, #4)"
         },
         {
          "average_rating": 3.51,
          "norm0": 2.0594048500061035,
          "ratings_count": 47,
          "title": "Robin Kane: The Mystery of the Phantom"
         },
         {
          "average_rating": 3.69,
          "norm0": 1.0014855861663818,
          "ratings_count": 165,
          "title": "Mourners (Nameless Detective, #30)"
         },
         {
          "average_rating": 3.64,
          "norm0": 1.4557855129241943,
          "ratings_count": 316,
          "title": "Out of the Black"
         },
         {
          "average_rating": 4,
          "norm0": 1.8798081874847412,
          "ratings_count": 417,
          "title": "The Inside Dark"
         },
         {
          "average_rating": 3.75,
          "norm0": 1.4229542016983032,
          "ratings_count": 44,
          "title": "Nefarious Doings (Nell Forrest Mystery #1)"
         },
         {
          "average_rating": 3.73,
          "norm0": 1.801023006439209,
          "ratings_count": 16,
          "title": "Law of Attraction (Anna Curtis, #1)"
         },
         {
          "average_rating": 3.44,
          "norm0": 2.1960067749023438,
          "ratings_count": 327,
          "title": "Clam Wake (Bed-and-Breakfast Mysteries, #29)"
         },
         {
          "average_rating": 3.98,
          "norm0": 2.320209264755249,
          "ratings_count": 111,
          "title": "Sycamore Row"
         },
         {
          "average_rating": 3.98,
          "norm0": 1.6417465209960938,
          "ratings_count": 198,
          "title": "Sycamore Row"
         },
         {
          "average_rating": 4.02,
          "norm0": 1.6891573667526245,
          "ratings_count": 1829,
          "title": "Witch Hunt (Ophelia & Abby, #4)"
         },
         {
          "average_rating": 3.67,
          "norm0": 1.0244745016098022,
          "ratings_count": 9,
          "title": "Dead Men's Dust (Joe Hunter, #1)"
         },
         {
          "average_rating": 3.62,
          "norm0": 1.396904468536377,
          "ratings_count": 33,
          "title": "The Hiding Place"
         },
         {
          "average_rating": 3.62,
          "norm0": 2.2312309741973877,
          "ratings_count": 56,
          "title": "Duce (World's End #1)"
         },
         {
          "average_rating": 3.98,
          "norm0": 1.3359137773513794,
          "ratings_count": 50,
          "title": "The Prophet Conspiracy"
         },
         {
          "average_rating": 3.47,
          "norm0": 1.9744805097579956,
          "ratings_count": 12,
          "title": "Sex On Tuesdays"
         },
         {
          "average_rating": 4.06,
          "norm0": 1.7265148162841797,
          "ratings_count": 289,
          "title": "The Burning Edge"
         },
         {
          "average_rating": 3.73,
          "norm0": 1.5677956342697144,
          "ratings_count": 228,
          "title": "Murder With Sarcastic Intent (Mary Cooper Mystery, #2)"
         },
         {
          "average_rating": 3.67,
          "norm0": 1.6944575309753418,
          "ratings_count": 73,
          "title": "Rose Madder"
         },
         {
          "average_rating": 3.75,
          "norm0": 3.5198490619659424,
          "ratings_count": 87,
          "title": "Spiral"
         },
         {
          "average_rating": 3.6,
          "norm0": 1.659599781036377,
          "ratings_count": 95,
          "title": "Dark Water"
         },
         {
          "average_rating": 4.04,
          "norm0": 1.0778498649597168,
          "ratings_count": 54,
          "title": "Target Shy & Sexy: The Repairman Series"
         },
         {
          "average_rating": 4.09,
          "norm0": 1.0401766300201416,
          "ratings_count": 33,
          "title": "Fog of War (Justin Hall, #3)"
         },
         {
          "average_rating": 3.69,
          "norm0": 2.274542808532715,
          "ratings_count": 254,
          "title": "The Pretender"
         },
         {
          "average_rating": 4.02,
          "norm0": 1.9736683368682861,
          "ratings_count": 47,
          "title": "A Suitable Vengeance"
         },
         {
          "average_rating": 4.14,
          "norm0": 1.9945963621139526,
          "ratings_count": 21,
          "title": "Ashes Of Berlin, The (Gregor Reinhardt 3)"
         },
         {
          "average_rating": 4.27,
          "norm0": 2.515810966491699,
          "ratings_count": 32,
          "title": "One Defining Second (Survivors’ Justice, #2)"
         },
         {
          "average_rating": 3.64,
          "norm0": 1.3308933973312378,
          "ratings_count": 213,
          "title": "Where the Truth Lies: A Novel"
         },
         {
          "average_rating": 3.2,
          "norm0": 2.5289673805236816,
          "ratings_count": 294,
          "title": "Psychopath"
         },
         {
          "average_rating": 3.89,
          "norm0": 2.599074125289917,
          "ratings_count": 72,
          "title": "Going to the Bad (Lilly Hawkins, #3)"
         },
         {
          "average_rating": 3.84,
          "norm0": 1.100454568862915,
          "ratings_count": 339,
          "title": "Savages"
         },
         {
          "average_rating": 3.82,
          "norm0": 2.9267170429229736,
          "ratings_count": 183,
          "title": "The Templeton Twins Make a Scene (Templeton Twins, #2)"
         },
         {
          "average_rating": 3.59,
          "norm0": 0.7687704563140869,
          "ratings_count": 339,
          "title": "Ice Tomb"
         },
         {
          "average_rating": 3.38,
          "norm0": 1.3272937536239624,
          "ratings_count": 107,
          "title": "Normal"
         },
         {
          "average_rating": 3.8,
          "norm0": 2.4853336811065674,
          "ratings_count": 76,
          "title": "Murder on the Links"
         },
         {
          "average_rating": 4.04,
          "norm0": 2.5908493995666504,
          "ratings_count": 231,
          "title": "The Silkworm"
         },
         {
          "average_rating": 3.7,
          "norm0": 1.865201711654663,
          "ratings_count": 96,
          "title": "Secret, Vol. 3"
         },
         {
          "average_rating": 3.5,
          "norm0": 2.313112258911133,
          "ratings_count": 78,
          "title": "House of Pleasure (There Was a House #1)"
         },
         {
          "average_rating": 3.97,
          "norm0": 1.40645432472229,
          "ratings_count": 109,
          "title": "Zero Separation (Donovan Nash #3)"
         },
         {
          "average_rating": 3.77,
          "norm0": 2.3082327842712402,
          "ratings_count": 124,
          "title": "Heart Burn"
         },
         {
          "average_rating": 3.82,
          "norm0": 3.713562250137329,
          "ratings_count": 811,
          "title": "A Terrible Beauty (Katie Maguire, #1)"
         },
         {
          "average_rating": 4.15,
          "norm0": 1.2092779874801636,
          "ratings_count": 72,
          "title": "The Contrite Duet Series"
         },
         {
          "average_rating": 4.22,
          "norm0": 1.6077187061309814,
          "ratings_count": 38,
          "title": "Girl on Point"
         },
         {
          "average_rating": 3.73,
          "norm0": 1.5230532884597778,
          "ratings_count": 70,
          "title": "The Devil's Stepdaughter (Bell Elkins #3.6)"
         },
         {
          "average_rating": 3.94,
          "norm0": 2.080703020095825,
          "ratings_count": 37,
          "title": "Poseidon's Arrow (Dirk Pitt, #22)"
         },
         {
          "average_rating": 4.15,
          "norm0": 1.635241985321045,
          "ratings_count": 165,
          "title": "Praise the Lard (The Rachael O'Brien Chronicles Book 7)"
         },
         {
          "average_rating": 3.74,
          "norm0": 1.5912351608276367,
          "ratings_count": 603,
          "title": "The Call of the Mild (Psych, #3)"
         },
         {
          "average_rating": 3.86,
          "norm0": 2.0456466674804688,
          "ratings_count": 56,
          "title": "Catnip (The Dunbarton Mysteries Series, #1)"
         },
         {
          "average_rating": 3.96,
          "norm0": 1.9892635345458984,
          "ratings_count": 340,
          "title": "13 Minutes"
         },
         {
          "average_rating": 4.06,
          "norm0": 1.0616041421890259,
          "ratings_count": 5,
          "title": "The Diehard"
         },
         {
          "average_rating": 3.38,
          "norm0": 2.198603391647339,
          "ratings_count": 89,
          "title": "Soft Centre"
         },
         {
          "average_rating": 3.41,
          "norm0": 1.3430159091949463,
          "ratings_count": 146,
          "title": "Lady Here's Your Wreath"
         },
         {
          "average_rating": 3.79,
          "norm0": 2.3868582248687744,
          "ratings_count": 44,
          "title": "Evil Under the Sun"
         },
         {
          "average_rating": 2.9,
          "norm0": 1.0375466346740723,
          "ratings_count": 28,
          "title": "Steel Witches"
         },
         {
          "average_rating": 4.06,
          "norm0": 1.8753784894943237,
          "ratings_count": 234,
          "title": "Agatha Raisin The Curious Curate and The Buried Treasure"
         },
         {
          "average_rating": 3.7,
          "norm0": 2.0696187019348145,
          "ratings_count": 3061,
          "title": "The Cut"
         },
         {
          "average_rating": 4.2,
          "norm0": 1.1873912811279297,
          "ratings_count": 261,
          "title": "The Blackest Crimson (Shades of Death #0.5)"
         },
         {
          "average_rating": 4.2,
          "norm0": 2.0223281383514404,
          "ratings_count": 597,
          "title": "All the Dead Girls (Graveyard Falls, #3)"
         },
         {
          "average_rating": 4.35,
          "norm0": 1.6638944149017334,
          "ratings_count": 24,
          "title": "Targeted (Callahan & McLane, #4)"
         },
         {
          "average_rating": 3.64,
          "norm0": 1.2577378749847412,
          "ratings_count": 20,
          "title": "Mrs. McGinty's Dead: A BBC Radio 4 Full-Cast Dramatisation"
         },
         {
          "average_rating": 4,
          "norm0": 1.6559298038482666,
          "ratings_count": 17,
          "title": "A Wicked Design (A Belinda Lawrence Mystery #5)"
         },
         {
          "average_rating": 4.14,
          "norm0": 1.242877721786499,
          "ratings_count": 124,
          "title": "Ultra Deep"
         },
         {
          "average_rating": 4.03,
          "norm0": 1.8746343851089478,
          "ratings_count": 239,
          "title": "Ripped From the Pages (A Bibliophile Mystery, #9)"
         },
         {
          "average_rating": 4.09,
          "norm0": 1.569616436958313,
          "ratings_count": 244,
          "title": "Murder in the Paperback Parlor (Book Retreat Mysteries, #2)"
         },
         {
          "average_rating": 3.59,
          "norm0": 1.8576672077178955,
          "ratings_count": 219,
          "title": "The Abbey Court Murder (Inspector Furnival, #1)"
         },
         {
          "average_rating": 3.98,
          "norm0": 2.143221378326416,
          "ratings_count": 210,
          "title": "Black Water Lilies"
         },
         {
          "average_rating": 3.84,
          "norm0": 1.7249153852462769,
          "ratings_count": 120,
          "title": "Murder in the Adirondacks: An American Tragedy Revisited"
         },
         {
          "average_rating": 3.8,
          "norm0": 1.8595019578933716,
          "ratings_count": 69,
          "title": "Blood And Circuses (Phryne Fisher, #6)"
         },
         {
          "average_rating": 3.98,
          "norm0": 1.7467007637023926,
          "ratings_count": 56,
          "title": "Death By Water (Phryne Fisher, #15)"
         },
         {
          "average_rating": 2.99,
          "norm0": 1.7000828981399536,
          "ratings_count": 106,
          "title": "Tres abuelas y un cocinero muerto (Trilogía de Helsinki, #1)"
         },
         {
          "average_rating": 3.93,
          "norm0": 2.250089645385742,
          "ratings_count": 170,
          "title": "The Shadow Broker"
         },
         {
          "average_rating": 3.89,
          "norm0": 1.9227023124694824,
          "ratings_count": 1089,
          "title": "Night Visions 5"
         },
         {
          "average_rating": 4.03,
          "norm0": 1.7652000188827515,
          "ratings_count": 662,
          "title": "The Color of Law"
         },
         {
          "average_rating": 3.83,
          "norm0": 3.596829414367676,
          "ratings_count": 40,
          "title": "The Killer of Little Shepherds: A True Crime Story and the Birth of Forensic Science"
         },
         {
          "average_rating": 3.96,
          "norm0": 2.5528922080993652,
          "ratings_count": 276,
          "title": "Night School (Jack Reacher, #21)"
         },
         {
          "average_rating": 3.96,
          "norm0": 2.934990406036377,
          "ratings_count": 272,
          "title": "Night School (Jack Reacher, #21)"
         },
         {
          "average_rating": 4.23,
          "norm0": 2.539707899093628,
          "ratings_count": 67,
          "title": "Vanquished"
         },
         {
          "average_rating": 4,
          "norm0": 1.5979663133621216,
          "ratings_count": 84,
          "title": "The Last Puzzle (Cherringham, #16)"
         },
         {
          "average_rating": 3.87,
          "norm0": 1.4868913888931274,
          "ratings_count": 1033,
          "title": "Omega Dog (Joe Venn, #1)"
         },
         {
          "average_rating": 4.12,
          "norm0": 2.2416465282440186,
          "ratings_count": 37,
          "title": "Delayed Death (Temptation in Florence #1)"
         },
         {
          "average_rating": 4.12,
          "norm0": 2.546576738357544,
          "ratings_count": 36,
          "title": "The Missing Ones"
         },
         {
          "average_rating": 3.1,
          "norm0": 2.0196144580841064,
          "ratings_count": 28,
          "title": "Delayed Justice: Inside Stories from America's Best Cold Case Investigations"
         },
         {
          "average_rating": 3.61,
          "norm0": 1.9692660570144653,
          "ratings_count": 118,
          "title": "Three Bags Full"
         },
         {
          "average_rating": 3.63,
          "norm0": 1.4711469411849976,
          "ratings_count": 45,
          "title": "In Guilty Night (Michael McKenna, #2)"
         },
         {
          "average_rating": 3.9,
          "norm0": 1.0206713676452637,
          "ratings_count": 274,
          "title": "The Chocolate Box"
         },
         {
          "average_rating": 3.92,
          "norm0": 1.054902195930481,
          "ratings_count": 307,
          "title": "Left for Dead (Maeve Kerrigan, #0.5)"
         },
         {
          "average_rating": 3.65,
          "norm0": 1.9044264554977417,
          "ratings_count": 65,
          "title": "Drone: A Thriller"
         },
         {
          "average_rating": 3.61,
          "norm0": 1.148418664932251,
          "ratings_count": 185,
          "title": "Trouble Vision (Raven's Nest, #3)"
         },
         {
          "average_rating": 3.55,
          "norm0": 2.129091739654541,
          "ratings_count": 470,
          "title": "A Most Extraordinary Pursuit (Emmaline Truelove, #1)"
         },
         {
          "average_rating": 4.06,
          "norm0": 1.7567657232284546,
          "ratings_count": 2269,
          "title": "The Bitter Season (Kovac and Liska, #5)"
         },
         {
          "average_rating": 3.11,
          "norm0": 1.9317476749420166,
          "ratings_count": 137,
          "title": "Panama"
         },
         {
          "average_rating": 4.22,
          "norm0": 1.2774921655654907,
          "ratings_count": 409,
          "title": "A Brace of Bloodhounds"
         },
         {
          "average_rating": 4.09,
          "norm0": 2.029250144958496,
          "ratings_count": 41,
          "title": "Persuader (Jack Reacher, #7)"
         },
         {
          "average_rating": 4.18,
          "norm0": 1.99344801902771,
          "ratings_count": 127,
          "title": "After the Fire (Maeve Kerrigan, #6)"
         },
         {
          "average_rating": 4.21,
          "norm0": 1.594875693321228,
          "ratings_count": 143,
          "title": "Murder in Paradise (Paradise, #4)"
         },
         {
          "average_rating": 3.79,
          "norm0": 1.5317625999450684,
          "ratings_count": 1695,
          "title": "Rainbow's End (Richard Jury, #13)"
         },
         {
          "average_rating": 3.6,
          "norm0": 1.903847336769104,
          "ratings_count": 8,
          "title": "Black Bird"
         },
         {
          "average_rating": 3.92,
          "norm0": 1.1598056554794312,
          "ratings_count": 5885,
          "title": "Phantom Evil (Krewe of Hunters, #1)"
         },
         {
          "average_rating": 3.88,
          "norm0": 1.577616810798645,
          "ratings_count": 293,
          "title": "Polar Shift (Numa Files, #6)"
         },
         {
          "average_rating": 3.69,
          "norm0": 0.9782581329345703,
          "ratings_count": 197,
          "title": "The Trouble with Goats and Sheep"
         },
         {
          "average_rating": 3.53,
          "norm0": 1.7102398872375488,
          "ratings_count": 248,
          "title": "The Contradiction of Solitude"
         },
         {
          "average_rating": 4.46,
          "norm0": 2.3087072372436523,
          "ratings_count": 26,
          "title": "Kelsey the Spy (Curious Cat Spy Club, #3)"
         },
         {
          "average_rating": 4.34,
          "norm0": 2.2571146488189697,
          "ratings_count": 174,
          "title": "Mint Cookie Murder (Merry Wrath, #2)"
         },
         {
          "average_rating": 4.06,
          "norm0": 1.8764309883117676,
          "ratings_count": 509,
          "title": "Lightning"
         },
         {
          "average_rating": 4.19,
          "norm0": 0.9406504034996033,
          "ratings_count": 23,
          "title": "The Beautiful Mystery"
         },
         {
          "average_rating": 4.28,
          "norm0": 2.253523349761963,
          "ratings_count": 422,
          "title": "Rotten to the Core"
         },
         {
          "average_rating": 3.08,
          "norm0": 1.5464825630187988,
          "ratings_count": 265,
          "title": "A Serial Killer in Nazi Berlin: The Chilling True Story of the S-Bahn Murderer"
         },
         {
          "average_rating": 3.29,
          "norm0": 1.3512630462646484,
          "ratings_count": 199,
          "title": "Shortcut Man"
         },
         {
          "average_rating": 3.29,
          "norm0": 1.557993769645691,
          "ratings_count": 171,
          "title": "The Girl Next Door"
         },
         {
          "average_rating": 3.55,
          "norm0": 1.6390666961669922,
          "ratings_count": 116,
          "title": "In The Rosary Garden"
         },
         {
          "average_rating": 3.99,
          "norm0": 1.3227022886276245,
          "ratings_count": 383,
          "title": "Little Black Lies"
         },
         {
          "average_rating": 3.54,
          "norm0": 1.5198932886123657,
          "ratings_count": 36,
          "title": "Murder for Christmas"
         },
         {
          "average_rating": 3.77,
          "norm0": 2.1061794757843018,
          "ratings_count": 178,
          "title": "PRIMAL Origin (PRIMAL, #0.5)"
         },
         {
          "average_rating": 3.5,
          "norm0": 1.9424453973770142,
          "ratings_count": 106,
          "title": "The Black Abbot"
         },
         {
          "average_rating": 3.56,
          "norm0": 2.4162888526916504,
          "ratings_count": 224,
          "title": "Edgewise"
         },
         {
          "average_rating": 3.69,
          "norm0": 1.4950610399246216,
          "ratings_count": 40,
          "title": "Redemption Day"
         },
         {
          "average_rating": 4.08,
          "norm0": 2.2527642250061035,
          "ratings_count": 30,
          "title": "Last Dance in Phoenix"
         },
         {
          "average_rating": 3.59,
          "norm0": 1.263672947883606,
          "ratings_count": 275,
          "title": "Cradle Lake"
         },
         {
          "average_rating": 3.74,
          "norm0": 1.9846539497375488,
          "ratings_count": 3009,
          "title": "Ties That Bind (Madison Knight, #1)"
         },
         {
          "average_rating": 3.63,
          "norm0": 1.4200137853622437,
          "ratings_count": 50,
          "title": "Los crímenes de Van Gogh"
         },
         {
          "average_rating": 3.63,
          "norm0": 1.8971363306045532,
          "ratings_count": 27,
          "title": "Extreme Liquidation (Caitlin Diggs, #2)"
         },
         {
          "average_rating": 3.57,
          "norm0": 1.5998313426971436,
          "ratings_count": 94,
          "title": "A Can Of Worms"
         },
         {
          "average_rating": 3.73,
          "norm0": 1.1848021745681763,
          "ratings_count": 128,
          "title": "I Hold The Four Aces"
         },
         {
          "average_rating": 3.42,
          "norm0": 2.094672679901123,
          "ratings_count": 159,
          "title": "The Dead Stay Dumb"
         },
         {
          "average_rating": 3.91,
          "norm0": 1.927828311920166,
          "ratings_count": 413,
          "title": "Spider Mountain (Cam Richter, #2)"
         },
         {
          "average_rating": 3.86,
          "norm0": 1.68669855594635,
          "ratings_count": 515,
          "title": "The Cat Dancers (Cam Richter, #1)"
         },
         {
          "average_rating": 3.94,
          "norm0": 2.0576834678649902,
          "ratings_count": 249,
          "title": "Sweepers"
         },
         {
          "average_rating": 3.66,
          "norm0": 1.7993979454040527,
          "ratings_count": 1275,
          "title": "The Tiger Warrior (Jack Howard, #4)"
         },
         {
          "average_rating": 3.79,
          "norm0": 1.5827491283416748,
          "ratings_count": 31,
          "title": "Icon (Persona, #2)"
         },
         {
          "average_rating": 3.48,
          "norm0": 2.59894061088562,
          "ratings_count": 72,
          "title": "Los Angeles"
         },
         {
          "average_rating": 4.02,
          "norm0": 1.4321544170379639,
          "ratings_count": 377,
          "title": "The Price of Murder (Sir John Fielding, Book 10)"
         },
         {
          "average_rating": 3.74,
          "norm0": 1.5704442262649536,
          "ratings_count": 61,
          "title": "Predator (Hector Cross, #3)"
         },
         {
          "average_rating": 3.64,
          "norm0": 1.7446393966674805,
          "ratings_count": 668,
          "title": "Extraordinary People (The Enzo Files, #1)"
         },
         {
          "average_rating": 3.4,
          "norm0": 1.9283682107925415,
          "ratings_count": 71,
          "title": "31 Bond Street"
         },
         {
          "average_rating": 3.75,
          "norm0": 2.664013385772705,
          "ratings_count": 360,
          "title": "Pale Horses (Jade de Jong, #4)"
         },
         {
          "average_rating": 3.35,
          "norm0": 2.2001194953918457,
          "ratings_count": 197,
          "title": "Fate's Past"
         },
         {
          "average_rating": 3.65,
          "norm0": 1.5535794496536255,
          "ratings_count": 364,
          "title": "Table 21"
         },
         {
          "average_rating": 3.64,
          "norm0": 1.81256902217865,
          "ratings_count": 26,
          "title": "L.A. Secret Police: Inside the LAPD Elite Spy Network"
         },
         {
          "average_rating": 3.65,
          "norm0": 1.8554235696792603,
          "ratings_count": 177,
          "title": "Madhattan Mystery"
         },
         {
          "average_rating": 3.71,
          "norm0": 2.3857192993164062,
          "ratings_count": 173,
          "title": "Ashes and Bones (An Emma Fielding Mystery, #6)"
         },
         {
          "average_rating": 4.76,
          "norm0": 2.3077189922332764,
          "ratings_count": 17,
          "title": "Dark Heart, Heavy Soul (Konstantin Book 4)"
         },
         {
          "average_rating": 3.87,
          "norm0": 1.2049684524536133,
          "ratings_count": 46,
          "title": "Birdman"
         },
         {
          "average_rating": 3.67,
          "norm0": 2.6118459701538086,
          "ratings_count": 108,
          "title": "The Savannah Project"
         },
         {
          "average_rating": 4.38,
          "norm0": 1.7396248579025269,
          "ratings_count": 163,
          "title": "Hopscotch Homicide (Zoe Donovan Mystery #16)"
         },
         {
          "average_rating": 3.23,
          "norm0": 2.560798406600952,
          "ratings_count": 47,
          "title": "Dare Me"
         },
         {
          "average_rating": 3.76,
          "norm0": 2.265265464782715,
          "ratings_count": 221,
          "title": "No Place Like Holmes (No Place Like Holmes, #1)"
         },
         {
          "average_rating": 3.95,
          "norm0": 0.9936949014663696,
          "ratings_count": 43,
          "title": "اتاق قرمز"
         },
         {
          "average_rating": 4.19,
          "norm0": 1.6889939308166504,
          "ratings_count": 74,
          "title": "Night Work (Michael Cassidy, #2)"
         },
         {
          "average_rating": 4.1,
          "norm0": 1.328031063079834,
          "ratings_count": 832,
          "title": "Blood Memory"
         },
         {
          "average_rating": 4.09,
          "norm0": 2.2635602951049805,
          "ratings_count": 878,
          "title": "A Hard Day's Fright (Pepper Martin #7)"
         },
         {
          "average_rating": 3.91,
          "norm0": 1.6036044359207153,
          "ratings_count": 18,
          "title": "Depraved: The Definitive True Story of H.H. Holmes, Whose Grotesque Crimes Shattered Turn-of-the-Century Chicago"
         },
         {
          "average_rating": 4.16,
          "norm0": 1.406192421913147,
          "ratings_count": 45,
          "title": "The Doomsday Key: A Sigma Force Novel"
         },
         {
          "average_rating": 3.78,
          "norm0": 2.282815456390381,
          "ratings_count": 290,
          "title": "I'll Walk Alone"
         },
         {
          "average_rating": 3.52,
          "norm0": 1.5596075057983398,
          "ratings_count": 240,
          "title": "Death In Lacquer Red (Hilda Johansson, #1)"
         },
         {
          "average_rating": 4.2,
          "norm0": 1.5454500913619995,
          "ratings_count": 50,
          "title": "One Shot (Jack Reacher, #9)"
         },
         {
          "average_rating": 3.74,
          "norm0": 1.2149624824523926,
          "ratings_count": 96,
          "title": "Man Who Liked Slow Tomatoes"
         },
         {
          "average_rating": 4.27,
          "norm0": 2.0296013355255127,
          "ratings_count": 47,
          "title": "Key to the Treasure"
         },
         {
          "average_rating": 4.14,
          "norm0": 1.8119628429412842,
          "ratings_count": 7,
          "title": "The Silicon Mind"
         },
         {
          "average_rating": 3.95,
          "norm0": 2.0334956645965576,
          "ratings_count": 317,
          "title": "Ghost Story"
         },
         {
          "average_rating": 3.83,
          "norm0": 1.1233822107315063,
          "ratings_count": 163,
          "title": "Multiple Wounds"
         },
         {
          "average_rating": 4.2,
          "norm0": 1.7147021293640137,
          "ratings_count": 36,
          "title": "Down a Dark Road (Kate Burkholder, #9)"
         },
         {
          "average_rating": 3.44,
          "norm0": 1.965469241142273,
          "ratings_count": 686,
          "title": "The Little Friend"
         },
         {
          "average_rating": 3.32,
          "norm0": 1.082602620124817,
          "ratings_count": 37,
          "title": "False Light: A Novel of Suspense"
         },
         {
          "average_rating": 3.93,
          "norm0": 1.5967686176300049,
          "ratings_count": 529,
          "title": "Behind Closed Doors"
         },
         {
          "average_rating": 3.92,
          "norm0": 1.4152976274490356,
          "ratings_count": 18,
          "title": "The Chase"
         },
         {
          "average_rating": 3.95,
          "norm0": 2.5193898677825928,
          "ratings_count": 121,
          "title": "Heart To Hart (Gaslight Mysteries, #1)"
         },
         {
          "average_rating": 3.82,
          "norm0": 1.4273868799209595,
          "ratings_count": 748,
          "title": "Eggs in a Casket (Cackleberry Club, #5)"
         },
         {
          "average_rating": 3.78,
          "norm0": 2.1693010330200195,
          "ratings_count": 19,
          "title": "Gallows View (Inspector Banks, #1)"
         },
         {
          "average_rating": 3.77,
          "norm0": 1.983319640159607,
          "ratings_count": 68,
          "title": "Five Days to Die"
         },
         {
          "average_rating": 3.68,
          "norm0": 1.5899173021316528,
          "ratings_count": 7933,
          "title": "The Ghost"
         },
         {
          "average_rating": 3.85,
          "norm0": 1.4917937517166138,
          "ratings_count": 77,
          "title": "The Cat Who Sang for the Birds (Cat Who..., #20)"
         },
         {
          "average_rating": 4.45,
          "norm0": 1.7507685422897339,
          "ratings_count": 39,
          "title": "Cashing Out (Nadia Wolf #3)"
         },
         {
          "average_rating": 3.96,
          "norm0": 3.2467405796051025,
          "ratings_count": 139,
          "title": "Lassiter (Jake Lassiter, #8)"
         },
         {
          "average_rating": 3.93,
          "norm0": 2.0938796997070312,
          "ratings_count": 107,
          "title": "You're Nobody 'Til Somebody Kills You (Rat Pack Mysteries #4)"
         },
         {
          "average_rating": 3.68,
          "norm0": 2.7376420497894287,
          "ratings_count": 1282,
          "title": "The Harrowing"
         },
         {
          "average_rating": 3.61,
          "norm0": 1.705129623413086,
          "ratings_count": 123,
          "title": "Crow Stone"
         },
         {
          "average_rating": 4.09,
          "norm0": 1.7836928367614746,
          "ratings_count": 105,
          "title": "Crying Blood: An Alafair Tucker Mystery"
         },
         {
          "average_rating": 3.49,
          "norm0": 1.5640491247177124,
          "ratings_count": 166,
          "title": "The Prophecy of Bees"
         },
         {
          "average_rating": 3.89,
          "norm0": 1.3775907754898071,
          "ratings_count": 69,
          "title": "H is for Homicide"
         },
         {
          "average_rating": 3.46,
          "norm0": 1.833662748336792,
          "ratings_count": 1833,
          "title": "An Expert in Murder (Josephine Tey, #1)"
         },
         {
          "average_rating": 4.09,
          "norm0": 3.1484215259552,
          "ratings_count": 67,
          "title": "The Last Good Kiss"
         },
         {
          "average_rating": 4.04,
          "norm0": 1.426019549369812,
          "ratings_count": 840,
          "title": "The 5th Horseman (Women's Murder Club, #5)"
         },
         {
          "average_rating": 3.11,
          "norm0": 1.1389065980911255,
          "ratings_count": 1175,
          "title": "Filthy Rich"
         },
         {
          "average_rating": 3.44,
          "norm0": 1.9082043170928955,
          "ratings_count": 16,
          "title": "Cat Burglar in Training"
         },
         {
          "average_rating": 3.64,
          "norm0": 1.5692429542541504,
          "ratings_count": 117,
          "title": "Swimsuit"
         },
         {
          "average_rating": 4.74,
          "norm0": 1.7059385776519775,
          "ratings_count": 38,
          "title": "Love, A Foot Above the Ground (Jessica Huntington, #0.5)"
         },
         {
          "average_rating": 2.89,
          "norm0": 1.664564847946167,
          "ratings_count": 25,
          "title": "Bloody Royal Prints (Coleman and Dinah Greene Mysteries #3)"
         },
         {
          "average_rating": 3.85,
          "norm0": 1.0242713689804077,
          "ratings_count": 24,
          "title": "Maxine Wore Black"
         },
         {
          "average_rating": 3.17,
          "norm0": 1.3160628080368042,
          "ratings_count": 19,
          "title": "Who Gets the Apartment?"
         },
         {
          "average_rating": 3.92,
          "norm0": 1.3980122804641724,
          "ratings_count": 40,
          "title": "Heresy"
         },
         {
          "average_rating": 4.45,
          "norm0": 1.3875157833099365,
          "ratings_count": 43,
          "title": "The Dead Of Winter"
         },
         {
          "average_rating": 3.98,
          "norm0": 2.11920428276062,
          "ratings_count": 37,
          "title": "Deliver Us From Evil (A. Shaw, #2)"
         },
         {
          "average_rating": 3.81,
          "norm0": 1.5038915872573853,
          "ratings_count": 79,
          "title": "The Voice and Other Stories"
         },
         {
          "average_rating": 4.48,
          "norm0": 2.1532552242279053,
          "ratings_count": 159,
          "title": "Tales Around the Jack O'Lantern II - A Mary O'Reilly Series Short Story (Mary O'Reilly Series Short Stories)"
         },
         {
          "average_rating": 4.14,
          "norm0": 2.0581610202789307,
          "ratings_count": 2893,
          "title": "Three to Get Deadly (Stephanie Plum, #3)"
         },
         {
          "average_rating": 3.97,
          "norm0": 1.8058117628097534,
          "ratings_count": 26,
          "title": "Hunted (Reeve LeClaire, #2)"
         },
         {
          "average_rating": 3.7,
          "norm0": 1.412488341331482,
          "ratings_count": 26,
          "title": "Birthdays Can Be Murder"
         },
         {
          "average_rating": 4.11,
          "norm0": 1.326284408569336,
          "ratings_count": 333,
          "title": "Pennies from Burger Heaven (Burger Heaven Series, #1)"
         },
         {
          "average_rating": 4.59,
          "norm0": 1.667481541633606,
          "ratings_count": 81,
          "title": "Hollywood Rage (Hollywood Alphabet, #18)"
         },
         {
          "average_rating": 3.98,
          "norm0": 1.8846864700317383,
          "ratings_count": 64,
          "title": "Foreign Identity"
         },
         {
          "average_rating": 4.03,
          "norm0": 2.1162216663360596,
          "ratings_count": 202,
          "title": "Two Graves"
         },
         {
          "average_rating": 2.85,
          "norm0": 1.9778996706008911,
          "ratings_count": 293,
          "title": "Her"
         },
         {
          "average_rating": 3.73,
          "norm0": 1.94318425655365,
          "ratings_count": 346,
          "title": "Tanner's Twelve Swingers (Evan Tanner #3)"
         },
         {
          "average_rating": 3.91,
          "norm0": 2.2612524032592773,
          "ratings_count": 56,
          "title": "Open Season"
         },
         {
          "average_rating": 3.91,
          "norm0": 1.7026549577713013,
          "ratings_count": 54,
          "title": "Open Season"
         },
         {
          "average_rating": 2.81,
          "norm0": 1.788702130317688,
          "ratings_count": 5303,
          "title": "Maestra (Maestra #1)"
         },
         {
          "average_rating": 4.24,
          "norm0": 1.806502103805542,
          "ratings_count": 167,
          "title": "The Emperor's Revenge (The Oregon Files, #11)"
         },
         {
          "average_rating": 4.02,
          "norm0": 1.8726884126663208,
          "ratings_count": 2676,
          "title": "Fearless Fourteen (Stephanie Plum, #14)"
         },
         {
          "average_rating": 4.38,
          "norm0": 1.5377986431121826,
          "ratings_count": 35,
          "title": "Ring Around the Rosie (Hostage Negotiation Team #4)"
         },
         {
          "average_rating": 3.23,
          "norm0": 1.7731773853302002,
          "ratings_count": 45,
          "title": "The Vanishing"
         },
         {
          "average_rating": 4.42,
          "norm0": 1.768644094467163,
          "ratings_count": 36,
          "title": "Married to Mayhem (Kate Ryan, #11)"
         },
         {
          "average_rating": 3.47,
          "norm0": 1.0925432443618774,
          "ratings_count": 141,
          "title": "The Woof in the Wedding Plans (Silver State Romance, #2)"
         },
         {
          "average_rating": 3.89,
          "norm0": 1.5400073528289795,
          "ratings_count": 1349,
          "title": "Cry Baby (Callum Doyle #4)"
         },
         {
          "average_rating": 3.81,
          "norm0": 3.0728063583374023,
          "ratings_count": 289,
          "title": "Checking Out"
         },
         {
          "average_rating": 4.17,
          "norm0": 1.7485123872756958,
          "ratings_count": 238,
          "title": "Tsunami Storm"
         },
         {
          "average_rating": 3.57,
          "norm0": 1.8372001647949219,
          "ratings_count": 3216,
          "title": "The Manual of Detection"
         },
         {
          "average_rating": 2.98,
          "norm0": 1.8348171710968018,
          "ratings_count": 187,
          "title": "Deceptions"
         },
         {
          "average_rating": 3.58,
          "norm0": 1.5353196859359741,
          "ratings_count": 49,
          "title": "Straight Lies (Grant and Chase, #1)"
         },
         {
          "average_rating": 3.28,
          "norm0": 1.3614256381988525,
          "ratings_count": 63,
          "title": "To Know My Crime"
         },
         {
          "average_rating": 3.87,
          "norm0": 0.8736450672149658,
          "ratings_count": 1753,
          "title": "Deranged: The Shocking True Story of America's Most Fiendish Killer"
         },
         {
          "average_rating": 4.14,
          "norm0": 1.6141409873962402,
          "ratings_count": 807,
          "title": "Prime (Chess Team Adventure, #0.5)"
         },
         {
          "average_rating": 3.67,
          "norm0": 2.451519727706909,
          "ratings_count": 16587,
          "title": "The Scarpetta Factor (Kay Scarpetta, #17)"
         },
         {
          "average_rating": 4.38,
          "norm0": 1.8318378925323486,
          "ratings_count": 109,
          "title": "Sweet Wicked of Mine (Paranormal in Manhattan #5)"
         },
         {
          "average_rating": 4.38,
          "norm0": 1.9853562116622925,
          "ratings_count": 84,
          "title": "Sunset Killer (EJB Crime Thriller #1)"
         },
         {
          "average_rating": 3.01,
          "norm0": 2.5330910682678223,
          "ratings_count": 255,
          "title": "Gene"
         },
         {
          "average_rating": 3.91,
          "norm0": 2.09365177154541,
          "ratings_count": 569,
          "title": "Devious"
         },
         {
          "average_rating": 3.38,
          "norm0": 2.2444403171539307,
          "ratings_count": 32,
          "title": "Book Club"
         },
         {
          "average_rating": 3.71,
          "norm0": 1.5136749744415283,
          "ratings_count": 3,
          "title": "Lights Out Tonight"
         },
         {
          "average_rating": 3.36,
          "norm0": 1.6366382837295532,
          "ratings_count": 111,
          "title": "The Mission Song"
         },
         {
          "average_rating": 3.79,
          "norm0": 1.8311182260513306,
          "ratings_count": 40,
          "title": "Dead Over Heels (Aurora Teagarden Mysteries #5)"
         },
         {
          "average_rating": 3.74,
          "norm0": 2.7852230072021484,
          "ratings_count": 93,
          "title": "A Raucous Time (The Celtic Cousins' Adventures #1)"
         },
         {
          "average_rating": 4.22,
          "norm0": 1.8900593519210815,
          "ratings_count": 4594,
          "title": "Nowhere Child (DCI Tom Douglas 4.5#)"
         },
         {
          "average_rating": 3.88,
          "norm0": 2.335954427719116,
          "ratings_count": 162,
          "title": "Burn Marks (V.I. Warshawski, #6)"
         },
         {
          "average_rating": 3.7,
          "norm0": 1.4155274629592896,
          "ratings_count": 206,
          "title": "Murder Can Ruin Your Looks (Desiree Shapiro Mystery, #2)"
         },
         {
          "average_rating": 3.66,
          "norm0": 2.399935483932495,
          "ratings_count": 127,
          "title": "Murder Can Depress Your Dachshund (Desiree Shapiro Mystery, #14)"
         },
         {
          "average_rating": 3.73,
          "norm0": 1.607803225517273,
          "ratings_count": 135,
          "title": "Murder Can Singe Your Old Flame (Desiree Shapiro Mystery, #6)"
         },
         {
          "average_rating": 3.89,
          "norm0": 2.2962279319763184,
          "ratings_count": 47,
          "title": "Serenity Springs, Ohio"
         },
         {
          "average_rating": 3.9,
          "norm0": 1.924723505973816,
          "ratings_count": 220,
          "title": "Brewing Love (Tree's Hollow Witches, #1)"
         },
         {
          "average_rating": 3.62,
          "norm0": 2.113799571990967,
          "ratings_count": 19,
          "title": "Trailer"
         },
         {
          "average_rating": 4.06,
          "norm0": 1.942465901374817,
          "ratings_count": 16,
          "title": "Murder Most Fowl (Local Foods Mystery,#4)"
         },
         {
          "average_rating": 3.76,
          "norm0": 2.316336154937744,
          "ratings_count": 116,
          "title": "Looking for JJ (Jennifer Jones, #1)"
         },
         {
          "average_rating": 3.51,
          "norm0": 1.6077439785003662,
          "ratings_count": 34,
          "title": "The Inheritance of Ivorie Hammer"
         },
         {
          "average_rating": 4,
          "norm0": 2.6409482955932617,
          "ratings_count": 8,
          "title": "Working With The Enemy (Remnant #0.9)"
         },
         {
          "average_rating": 3.68,
          "norm0": 1.014790654182434,
          "ratings_count": 40,
          "title": "The Murder Pit"
         },
         {
          "average_rating": 3.43,
          "norm0": 1.8017683029174805,
          "ratings_count": 493,
          "title": "Fed Up (A Gourmet Girl Mystery, #4)"
         },
         {
          "average_rating": 3.22,
          "norm0": 1.7481966018676758,
          "ratings_count": 50,
          "title": "A Catch in Time"
         },
         {
          "average_rating": 3.63,
          "norm0": 1.3229628801345825,
          "ratings_count": 170,
          "title": "The Hole"
         },
         {
          "average_rating": 3.7,
          "norm0": 1.5850907564163208,
          "ratings_count": 48,
          "title": "The Dark Lady"
         },
         {
          "average_rating": 3.85,
          "norm0": 1.6973098516464233,
          "ratings_count": 142,
          "title": "Private (Private, #1)"
         },
         {
          "average_rating": 3.71,
          "norm0": 1.6507004499435425,
          "ratings_count": 2371,
          "title": "Just Desserts (Bed-and-Breakfast Mysteries, #1)"
         },
         {
          "average_rating": 3.21,
          "norm0": 1.7538106441497803,
          "ratings_count": 92,
          "title": "False Truth: Part One (Jordan Fox Mystery, #1)"
         },
         {
          "average_rating": 3.87,
          "norm0": 2.210174322128296,
          "ratings_count": 350,
          "title": "Mixed Blood (Cape Town #1)"
         },
         {
          "average_rating": 3.88,
          "norm0": 1.6437495946884155,
          "ratings_count": 114,
          "title": "Arizona Dreams: A David Mapstone Mystery"
         },
         {
          "average_rating": 4.01,
          "norm0": 2.5770158767700195,
          "ratings_count": 96,
          "title": "Cactus Heart"
         },
         {
          "average_rating": 3.76,
          "norm0": 1.8515405654907227,
          "ratings_count": 119,
          "title": "Cécile is Dead"
         },
         {
          "average_rating": 3.3,
          "norm0": 1.5014991760253906,
          "ratings_count": 31,
          "title": "Nobody Move"
         },
         {
          "average_rating": 3.57,
          "norm0": 1.6204732656478882,
          "ratings_count": 53,
          "title": "Death and the Walking Stick (Trudy Roundtree Mystery, #4)"
         },
         {
          "average_rating": 3.55,
          "norm0": 2.0275936126708984,
          "ratings_count": 506,
          "title": "Miss Dimple Disappears (Miss Dimple Kilpatrick #1)"
         },
         {
          "average_rating": 3.85,
          "norm0": 1.407310962677002,
          "ratings_count": 152,
          "title": "The Eyes of Darkness"
         },
         {
          "average_rating": 3.34,
          "norm0": 1.617332935333252,
          "ratings_count": 1559,
          "title": "A Murder of Magpies"
         },
         {
          "average_rating": 3.77,
          "norm0": 3.0908284187316895,
          "ratings_count": 56,
          "title": "The Wicked Wives"
         },
         {
          "average_rating": 4.17,
          "norm0": 1.7096143960952759,
          "ratings_count": 15,
          "title": "Daemon (Daemon, #1)"
         },
         {
          "average_rating": 3.78,
          "norm0": 2.363734483718872,
          "ratings_count": 45,
          "title": "Running from the Devil (Emma Caldridge, #1)"
         },
         {
          "average_rating": 3.48,
          "norm0": 2.2090208530426025,
          "ratings_count": 6,
          "title": "The Fat Man: A Tale of North Pole Noir"
         },
         {
          "average_rating": 3.71,
          "norm0": 2.1295628547668457,
          "ratings_count": 1451,
          "title": "The Melted Coins (Hardy Boys, #23)"
         },
         {
          "average_rating": 3.47,
          "norm0": 1.958999514579773,
          "ratings_count": 1818,
          "title": "The Monster in the Box (Inspector Wexford, #22)"
         },
         {
          "average_rating": 4.26,
          "norm0": 2.2498927116394043,
          "ratings_count": 5,
          "title": "The Bequest: A Mystery"
         },
         {
          "average_rating": 4,
          "norm0": 1.5356944799423218,
          "ratings_count": 40,
          "title": "A Certain Justice (Abe Glitsky, #1)"
         },
         {
          "average_rating": 3.61,
          "norm0": 2.0726516246795654,
          "ratings_count": 40,
          "title": "Perfidia"
         },
         {
          "average_rating": 3.45,
          "norm0": 1.869523286819458,
          "ratings_count": 458,
          "title": "Banana Cream Pie Murder (Hannah Swensen #21)"
         },
         {
          "average_rating": 3.45,
          "norm0": 1.68353271484375,
          "ratings_count": 134,
          "title": "Blackwater (DI Nick Lowry, #1)"
         },
         {
          "average_rating": 4.12,
          "norm0": 2.004904270172119,
          "ratings_count": 18,
          "title": "The Guns of Retribution"
         },
         {
          "average_rating": 3.87,
          "norm0": 1.4448943138122559,
          "ratings_count": 129,
          "title": "Shelf Ice (Ray Elkins Mystery #4)"
         },
         {
          "average_rating": 3.86,
          "norm0": 1.7713022232055664,
          "ratings_count": 106,
          "title": "The Rose of the World (Hawkenlye Mysteries #13)"
         },
         {
          "average_rating": 3.41,
          "norm0": 1.9705111980438232,
          "ratings_count": 26,
          "title": "Familiar Spirits (Joan & Matthew Stock, #3)"
         },
         {
          "average_rating": 4.2,
          "norm0": 1.6734068393707275,
          "ratings_count": 1873,
          "title": "Use of Force (Scot Harvath, #16)"
         },
         {
          "average_rating": 3.91,
          "norm0": 1.7976983785629272,
          "ratings_count": 78,
          "title": "Some Like It in Handcuffs"
         },
         {
          "average_rating": 3.59,
          "norm0": 1.4667996168136597,
          "ratings_count": 95,
          "title": "Ashley Bell"
         },
         {
          "average_rating": 4.16,
          "norm0": 1.6387311220169067,
          "ratings_count": 111,
          "title": "What Sarah Saw (Without A Trace #1)"
         },
         {
          "average_rating": 3.68,
          "norm0": 1.4450451135635376,
          "ratings_count": 12,
          "title": "Never End"
         },
         {
          "average_rating": 4.02,
          "norm0": 1.5212914943695068,
          "ratings_count": 714,
          "title": "When the Bough Breaks (Alex Delaware, #1)"
         },
         {
          "average_rating": 3.99,
          "norm0": 2.4533023834228516,
          "ratings_count": 1570,
          "title": "Motion To Kill"
         },
         {
          "average_rating": 3.63,
          "norm0": 2.206345796585083,
          "ratings_count": 51,
          "title": "Killing Mr. Griffin"
         },
         {
          "average_rating": 3.51,
          "norm0": 2.0701844692230225,
          "ratings_count": 8481,
          "title": "I Know What You Did Last Summer"
         },
         {
          "average_rating": 3.8,
          "norm0": 1.0944284200668335,
          "ratings_count": 1589,
          "title": "Who Killed My Daughter?: The True Story of a Mother's Search for Her Daughter's Murderer"
         },
         {
          "average_rating": 2.91,
          "norm0": 1.7165223360061646,
          "ratings_count": 22,
          "title": "Daddy Issues"
         },
         {
          "average_rating": 3.85,
          "norm0": 2.114753484725952,
          "ratings_count": 18,
          "title": "The Pope of Greenwich Village"
         },
         {
          "average_rating": 3.77,
          "norm0": 2.4609246253967285,
          "ratings_count": 522,
          "title": "A Reason To Stay (Heroes #1)"
         },
         {
          "average_rating": 3.9,
          "norm0": 1.9290488958358765,
          "ratings_count": 43,
          "title": "Cards on the Table (Hercule Poirot #15)"
         },
         {
          "average_rating": 4.44,
          "norm0": 2.882622718811035,
          "ratings_count": 95,
          "title": "The Dark Tide (The Adrien English Mysteries, #5)"
         },
         {
          "average_rating": 3.67,
          "norm0": 1.3747470378875732,
          "ratings_count": 7,
          "title": "Death Check (The Destroyer, #2)"
         },
         {
          "average_rating": 3.76,
          "norm0": 1.3186386823654175,
          "ratings_count": 6379,
          "title": "Supreme Justice (Reeder and Rogers #1)"
         },
         {
          "average_rating": 3.86,
          "norm0": 1.6006765365600586,
          "ratings_count": 2438,
          "title": "The Crow Trap (Vera Stanhope, #1)"
         },
         {
          "average_rating": 3.43,
          "norm0": 1.6008296012878418,
          "ratings_count": 51,
          "title": "A Slight Trick of the Mind"
         },
         {
          "average_rating": 3.51,
          "norm0": 1.6219743490219116,
          "ratings_count": 98,
          "title": "Hiding in Sunshine"
         },
         {
          "average_rating": 4.31,
          "norm0": 2.0804927349090576,
          "ratings_count": 61,
          "title": "All Good Things"
         },
         {
          "average_rating": 3.81,
          "norm0": 2.02443528175354,
          "ratings_count": 21,
          "title": "Scaring the Crows: 21 Tales for Noon or Midnight"
         },
         {
          "average_rating": 4.19,
          "norm0": 2.3380744457244873,
          "ratings_count": 59,
          "title": "Make Quilts Not War (Harriet Truman / Loose Threads Mystery #6)"
         },
         {
          "average_rating": 4.11,
          "norm0": 2.7265617847442627,
          "ratings_count": 28,
          "title": "When the Carny Comes to Town (A Jolie Gentil Cozy Mystery, #3)"
         },
         {
          "average_rating": 3.91,
          "norm0": 2.5583291053771973,
          "ratings_count": 1326,
          "title": "The Business"
         },
         {
          "average_rating": 3.61,
          "norm0": 1.731824517250061,
          "ratings_count": 55,
          "title": "The Ultimate Submission"
         },
         {
          "average_rating": 3.88,
          "norm0": 1.9648011922836304,
          "ratings_count": 33,
          "title": "Doctored Evidence"
         },
         {
          "average_rating": 3.92,
          "norm0": 1.1209558248519897,
          "ratings_count": 21,
          "title": "Rachel's Guard (The O-Line, #2)"
         },
         {
          "average_rating": 3.82,
          "norm0": 0.6028392910957336,
          "ratings_count": 15,
          "title": "Agatha Raisin and the Murderous Marriage (Agatha Raisin #5)"
         },
         {
          "average_rating": 3.92,
          "norm0": 2.29829478263855,
          "ratings_count": 113,
          "title": "Heartsick (Gretchen Lowell, #1)"
         },
         {
          "average_rating": 4.35,
          "norm0": 1.3329578638076782,
          "ratings_count": 247,
          "title": "Dead Eye (Tiger's Eye Mystery, #1)"
         },
         {
          "average_rating": 3.47,
          "norm0": 2.0869674682617188,
          "ratings_count": 23,
          "title": "Paradime"
         },
         {
          "average_rating": 4.17,
          "norm0": 2.0051348209381104,
          "ratings_count": 605,
          "title": "Beyond a Doubt (Rock Harbor Series #2)"
         },
         {
          "average_rating": 3.62,
          "norm0": 1.72125244140625,
          "ratings_count": 402,
          "title": "The Hills of Homicide"
         },
         {
          "average_rating": 3.81,
          "norm0": 2.0179457664489746,
          "ratings_count": 24,
          "title": "The Accident Man (Samuel Carver, #1)"
         },
         {
          "average_rating": 4.22,
          "norm0": 1.8711349964141846,
          "ratings_count": 255,
          "title": "Touching Evil (Evil, #1) (Bishop/Special Crimes Unit, #4)"
         },
         {
          "average_rating": 4.16,
          "norm0": 1.7661144733428955,
          "ratings_count": 306,
          "title": "Blood Sins (Blood, #2) (Bishop/Special Crimes Unit, #11)"
         },
         {
          "average_rating": 4.36,
          "norm0": 0.7664327621459961,
          "ratings_count": 39,
          "title": "Lady Justice and the Geriatric Gumshoes"
         },
         {
          "average_rating": 3.89,
          "norm0": 1.5456085205078125,
          "ratings_count": 5,
          "title": "Split Second"
         },
         {
          "average_rating": 4.15,
          "norm0": 1.189241886138916,
          "ratings_count": 15,
          "title": "Lethal Greed (Greed, #2)"
         },
         {
          "average_rating": 3.06,
          "norm0": 1.097904086112976,
          "ratings_count": 15,
          "title": "Chamber Music (Henry Bane, #2)"
         },
         {
          "average_rating": 3.99,
          "norm0": 2.0587687492370605,
          "ratings_count": 406,
          "title": "Bake, Battle & Roll (Lexy Baker #6)"
         },
         {
          "average_rating": 3.91,
          "norm0": 1.101110577583313,
          "ratings_count": 27,
          "title": "The Rainmaker"
         },
         {
          "average_rating": 3.68,
          "norm0": 0.8964878916740417,
          "ratings_count": 59,
          "title": "Illegal Procedure (Hardy Boys: Casefiles, #95)"
         },
         {
          "average_rating": 3.84,
          "norm0": 1.98080575466156,
          "ratings_count": 532,
          "title": "Lost Island"
         },
         {
          "average_rating": 3.94,
          "norm0": 2.09407114982605,
          "ratings_count": 167,
          "title": "A Mersey Killing: When Liverpool Rocked, And The Music Died (Mersey Murder Mysteries Book 1)"
         },
         {
          "average_rating": 4.21,
          "norm0": 1.6970542669296265,
          "ratings_count": 8,
          "title": "Wicked Greed (Greed, #3)"
         },
         {
          "average_rating": 3.69,
          "norm0": 2.3316612243652344,
          "ratings_count": 35,
          "title": "Another Little Piece"
         },
         {
          "average_rating": 4.35,
          "norm0": 2.1685800552368164,
          "ratings_count": 14,
          "title": "A Slaying in the Orchard (Danger Cove Farmers' Market Mystery #2)"
         },
         {
          "average_rating": 3.9,
          "norm0": 1.6650358438491821,
          "ratings_count": 156,
          "title": "Sacrifice"
         },
         {
          "average_rating": 4.35,
          "norm0": 1.7374664545059204,
          "ratings_count": 31,
          "title": "Desperate Deception (Dark Mountain #2)"
         },
         {
          "average_rating": 3.85,
          "norm0": 1.519049882888794,
          "ratings_count": 253,
          "title": "The Stonecutter (Patrik Hedström, #3)"
         },
         {
          "average_rating": 4.04,
          "norm0": 1.8399486541748047,
          "ratings_count": 2184,
          "title": "The 5th Horseman (Women's Murder Club #5)"
         },
         {
          "average_rating": 4.09,
          "norm0": 2.1335675716400146,
          "ratings_count": 301,
          "title": "Private L.A.: by James Patterson and Mark Sullivan -- Review"
         },
         {
          "average_rating": 3.77,
          "norm0": 1.619301676750183,
          "ratings_count": 23,
          "title": "Her Royal Spyness (Her Royal Spyness Mysteries #1)"
         },
         {
          "average_rating": 4.11,
          "norm0": 1.5267549753189087,
          "ratings_count": 42,
          "title": "Next of Kin"
         },
         {
          "average_rating": 4.09,
          "norm0": 2.038517713546753,
          "ratings_count": 32,
          "title": "I Am Half-Sick of Shadows (Flavia de Luce, #4)"
         },
         {
          "average_rating": 3.68,
          "norm0": 2.301949977874756,
          "ratings_count": 10,
          "title": "The 9th Hour (The Detective Temeke Crime Series #1)"
         },
         {
          "average_rating": 4.05,
          "norm0": 1.4677681922912598,
          "ratings_count": 19403,
          "title": "The Burning Room (Harry Bosch, #19; Harry Bosch Universe, #26)"
         },
         {
          "average_rating": 3.7,
          "norm0": 1.364059329032898,
          "ratings_count": 1108,
          "title": "Never Come Back"
         },
         {
          "average_rating": 3.72,
          "norm0": 1.991353154182434,
          "ratings_count": 14,
          "title": "L.A. Outlaws (Charlie Hood, #1)"
         },
         {
          "average_rating": 4.13,
          "norm0": 1.4036785364151,
          "ratings_count": 69,
          "title": "Bryant and May Off the Rails (Bryant & May, #8)"
         },
         {
          "average_rating": 3.59,
          "norm0": 1.869141697883606,
          "ratings_count": 77,
          "title": "Vanishing Girls"
         },
         {
          "average_rating": 3.8,
          "norm0": 1.791343331336975,
          "ratings_count": 2190,
          "title": "Proof of Guilt (Inspector Ian Rutledge, #15)"
         },
         {
          "average_rating": 3.68,
          "norm0": 1.5497468709945679,
          "ratings_count": 40,
          "title": "The Soul of the Matter"
         },
         {
          "average_rating": 3.64,
          "norm0": 1.1641875505447388,
          "ratings_count": 11,
          "title": "Absolute Certainty"
         },
         {
          "average_rating": 3.65,
          "norm0": 1.7174195051193237,
          "ratings_count": 27,
          "title": "Lies"
         },
         {
          "average_rating": 3.87,
          "norm0": 1.6492754220962524,
          "ratings_count": 105,
          "title": "Riley Park"
         },
         {
          "average_rating": 3.9,
          "norm0": 1.98797607421875,
          "ratings_count": 592,
          "title": "Deadly Disco in Las Vegas (Tiffany Black Mysteries, #6)"
         },
         {
          "average_rating": 3.6,
          "norm0": 2.48905611038208,
          "ratings_count": 37,
          "title": "The Thirty-Nine Steps"
         },
         {
          "average_rating": 4.2,
          "norm0": 0.8941370844841003,
          "ratings_count": 5,
          "title": "Nightingale, Sing"
         },
         {
          "average_rating": 3.67,
          "norm0": 3.212254047393799,
          "ratings_count": 15,
          "title": "Memory Book: A Miranda Corbie Story"
         },
         {
          "average_rating": 4.14,
          "norm0": 3.1160292625427246,
          "ratings_count": 3083,
          "title": "ICE (Dr. Leah Andrews and Jack Hobson Thrillers, #1)"
         },
         {
          "average_rating": 3.54,
          "norm0": 1.8106945753097534,
          "ratings_count": 63,
          "title": "The Last Song Dogs"
         },
         {
          "average_rating": 4.03,
          "norm0": 1.2433167695999146,
          "ratings_count": 19,
          "title": "Forgive Me (Xanadu Marx #2)"
         },
         {
          "average_rating": 3.73,
          "norm0": 1.2931184768676758,
          "ratings_count": 89,
          "title": "The President's Shadow (Culper Ring, #3)"
         },
         {
          "average_rating": 3.4,
          "norm0": 1.814008355140686,
          "ratings_count": 5,
          "title": "The Waiting Sands"
         },
         {
          "average_rating": 3.67,
          "norm0": 1.1632437705993652,
          "ratings_count": 77,
          "title": "'Til Death Do Us Part (Bailey Weggins Mystery, #3)"
         },
         {
          "average_rating": 4.11,
          "norm0": 1.8327815532684326,
          "ratings_count": 261,
          "title": "You Can't Get Blood Out of Shag Carpet (A Study Club Cozy Murder Mystery #1)"
         },
         {
          "average_rating": 3.66,
          "norm0": 2.302917003631592,
          "ratings_count": 237,
          "title": "Munster's Case"
         },
         {
          "average_rating": 3.82,
          "norm0": 1.8547966480255127,
          "ratings_count": 1076,
          "title": "Mint Julep Murder (Death on Demand, #9)"
         },
         {
          "average_rating": 3.89,
          "norm0": 1.6362210512161255,
          "ratings_count": 160,
          "title": "Careless in Red (Inspector Lynley #15)"
         },
         {
          "average_rating": 3.64,
          "norm0": 0.7720142602920532,
          "ratings_count": 228,
          "title": "Rough Draft"
         },
         {
          "average_rating": 3.94,
          "norm0": 2.020812749862671,
          "ratings_count": 89,
          "title": "As Chimney Sweepers Come to Dust (Flavia de Luce, #7)"
         },
         {
          "average_rating": 3.74,
          "norm0": 1.971740961074829,
          "ratings_count": 21,
          "title": "Death of the Blue Flower"
         },
         {
          "average_rating": 3.32,
          "norm0": 1.8979871273040771,
          "ratings_count": 11,
          "title": "Death on Ibiza"
         },
         {
          "average_rating": 3.85,
          "norm0": 2.3501415252685547,
          "ratings_count": 466,
          "title": "Bronson"
         },
         {
          "average_rating": 4.14,
          "norm0": 2.809230089187622,
          "ratings_count": 9,
          "title": "Hide (Detective D. D. Warren Series #2)"
         },
         {
          "average_rating": 3.31,
          "norm0": 3.1663625240325928,
          "ratings_count": 16,
          "title": "Opium Warfare"
         },
         {
          "average_rating": 3.66,
          "norm0": 1.5871070623397827,
          "ratings_count": 21,
          "title": "Whisper in the Dark"
         },
         {
          "average_rating": 3.39,
          "norm0": 1.3018492460250854,
          "ratings_count": 101,
          "title": "In for a Penny (Cleopatra Jones, #1)"
         },
         {
          "average_rating": 3.92,
          "norm0": 1.2363382577896118,
          "ratings_count": 94,
          "title": "206 Bones (Temperance Brennan #12)"
         },
         {
          "average_rating": 4.47,
          "norm0": 1.5239866971969604,
          "ratings_count": 10,
          "title": "The Accidental Killer Complete Series"
         },
         {
          "average_rating": 3.6,
          "norm0": 3.1102805137634277,
          "ratings_count": 26,
          "title": "Corpse Diplomatique"
         },
         {
          "average_rating": 4.01,
          "norm0": 1.6255977153778076,
          "ratings_count": 62,
          "title": "Haven"
         },
         {
          "average_rating": 3.78,
          "norm0": 1.2281619310379028,
          "ratings_count": 61,
          "title": "The Takeover"
         },
         {
          "average_rating": 4.04,
          "norm0": 1.8650949001312256,
          "ratings_count": 107,
          "title": "Here Comes Charlie M (Charlie Muffin, #2)"
         },
         {
          "average_rating": 3.86,
          "norm0": 1.3230212926864624,
          "ratings_count": 4,
          "title": "The Fire and the Veil (Veronica Barry, #2)"
         },
         {
          "average_rating": 3.97,
          "norm0": 2.4817705154418945,
          "ratings_count": 152,
          "title": "Nemesis (Oslo Sequence 2)"
         },
         {
          "average_rating": 3.91,
          "norm0": 2.304150104522705,
          "ratings_count": 444,
          "title": "Scion"
         },
         {
          "average_rating": 3.69,
          "norm0": 1.6405984163284302,
          "ratings_count": 65,
          "title": "According to Their Deeds"
         },
         {
          "average_rating": 4.21,
          "norm0": 2.0194919109344482,
          "ratings_count": 52,
          "title": "Escape Clause (Virgil Flowers, #9)"
         },
         {
          "average_rating": 4.54,
          "norm0": 1.259229302406311,
          "ratings_count": 41,
          "title": "Action: Pulse Pounding Tales Volume 1"
         },
         {
          "average_rating": 3.74,
          "norm0": 2.359421968460083,
          "ratings_count": 79847,
          "title": "The Couple Next Door"
         },
         {
          "average_rating": 3.93,
          "norm0": 1.714961051940918,
          "ratings_count": 25,
          "title": "Delsyn's Blues (Vasquez & James Series)"
         },
         {
          "average_rating": 4.05,
          "norm0": 2.5949220657348633,
          "ratings_count": 312,
          "title": "Another Man's Treasure (Palmyrton Estate Sale Mystery, #1)"
         },
         {
          "average_rating": 3.71,
          "norm0": 2.9752960205078125,
          "ratings_count": 446,
          "title": "Dial Om for Murder (Mantra for Murder, #2)"
         },
         {
          "average_rating": 3.72,
          "norm0": 2.003896713256836,
          "ratings_count": 1016,
          "title": "Anonymous Sources"
         },
         {
          "average_rating": 4.2,
          "norm0": 1.9867703914642334,
          "ratings_count": 8,
          "title": "The Missing Heir"
         },
         {
          "average_rating": 3.95,
          "norm0": 2.1460986137390137,
          "ratings_count": 38,
          "title": "Phoebe and the Ghost of Chagall"
         },
         {
          "average_rating": 3.8,
          "norm0": 1.1349234580993652,
          "ratings_count": 80,
          "title": "Hawkeye Collins & Amy Adams in The Case of the Video Game Smugglers & Other Mysteries (Can You Solve the Mystery?, #3)"
         },
         {
          "average_rating": 3.24,
          "norm0": 1.543336033821106,
          "ratings_count": 89,
          "title": "Kamen Tantei, Volume 1"
         },
         {
          "average_rating": 3.88,
          "norm0": 2.9018476009368896,
          "ratings_count": 1047,
          "title": "Grave Surprise (Harper Connelly, #2)"
         },
         {
          "average_rating": 3.94,
          "norm0": 1.3608925342559814,
          "ratings_count": 14,
          "title": "The Hunt: An Andy Hayes Mystery"
         },
         {
          "average_rating": 4.18,
          "norm0": 1.0546067953109741,
          "ratings_count": 1427,
          "title": "Messiah"
         },
         {
          "average_rating": 3.86,
          "norm0": 1.304023265838623,
          "ratings_count": 295,
          "title": "Anything for a Story (Nosy Neighbor Mystery #1)"
         },
         {
          "average_rating": 3.73,
          "norm0": 1.581591010093689,
          "ratings_count": 1358,
          "title": "Black Fridays (Jason Stafford, #1)"
         },
         {
          "average_rating": 4.02,
          "norm0": 2.486832857131958,
          "ratings_count": 6885,
          "title": "Seconds Away (Mickey Bolitar, #2)"
         },
         {
          "average_rating": 3.86,
          "norm0": 1.9849070310592651,
          "ratings_count": 3764,
          "title": "Severe Clear (Stone Barrington, #24)"
         },
         {
          "average_rating": 4.15,
          "norm0": 1.3467411994934082,
          "ratings_count": 148,
          "title": "Blowout (FBI Thriller, #9)"
         },
         {
          "average_rating": 3.62,
          "norm0": 1.2764381170272827,
          "ratings_count": 3,
          "title": "The Lost Gallows (Henri Bencolin, #3)"
         },
         {
          "average_rating": 3.78,
          "norm0": 1.7083313465118408,
          "ratings_count": 94,
          "title": "Tennessee Smash (The Executioner, #32)"
         },
         {
          "average_rating": 3.85,
          "norm0": 1.5540684461593628,
          "ratings_count": 363,
          "title": "The Stonecutter (Patrik Hedström, #3)"
         },
         {
          "average_rating": 3.78,
          "norm0": 1.3146110773086548,
          "ratings_count": 282,
          "title": "Guilty as Sin (Knight & Culverhouse, #2)"
         },
         {
          "average_rating": 3.7,
          "norm0": 2.7991089820861816,
          "ratings_count": 13,
          "title": "Past Praying For"
         },
         {
          "average_rating": 4.14,
          "norm0": 1.735490083694458,
          "ratings_count": 5,
          "title": "Crossings"
         },
         {
          "average_rating": 3.33,
          "norm0": 1.717969298362732,
          "ratings_count": 12,
          "title": "Act of Deceit (Harlan Donnally #1)"
         },
         {
          "average_rating": 3.33,
          "norm0": 1.9347680807113647,
          "ratings_count": 59,
          "title": "Act of Deceit (Harlan Donnally  #1)"
         },
         {
          "average_rating": 3.88,
          "norm0": 1.8684217929840088,
          "ratings_count": 30,
          "title": "Spy Games"
         },
         {
          "average_rating": 3.61,
          "norm0": 1.660623550415039,
          "ratings_count": 1000,
          "title": "The First Horseman"
         },
         {
          "average_rating": 4.27,
          "norm0": 1.655735731124878,
          "ratings_count": 101,
          "title": "The Last Refuge (Dewey Andreas, #3)"
         },
         {
          "average_rating": 4.15,
          "norm0": 2.1227235794067383,
          "ratings_count": 458,
          "title": "Assassin's Game: A David Slaton Novel"
         },
         {
          "average_rating": 4.21,
          "norm0": 1.5352020263671875,
          "ratings_count": 110,
          "title": "Big Little Lies"
         },
         {
          "average_rating": 3.14,
          "norm0": 2.8190810680389404,
          "ratings_count": 41,
          "title": "Twig"
         },
         {
          "average_rating": 3.57,
          "norm0": 1.3124898672103882,
          "ratings_count": 242,
          "title": "The Big Goodbye"
         },
         {
          "average_rating": 4.31,
          "norm0": 0.04125150665640831,
          "ratings_count": 1241,
          "title": "Betrayal in Death (In Death, #12)"
         },
         {
          "average_rating": 3.89,
          "norm0": 1.814949631690979,
          "ratings_count": 1923,
          "title": "Hurricane Bay"
         },
         {
          "average_rating": 4.21,
          "norm0": 1.4894192218780518,
          "ratings_count": 342,
          "title": "The Girl Who Kicked the Hornet's Nest"
         },
         {
          "average_rating": 3.73,
          "norm0": 2.185299873352051,
          "ratings_count": 30,
          "title": "Christmas Canapés & Sabotage (Culinary Competition, #2.5)"
         },
         {
          "average_rating": 4.03,
          "norm0": 3.222663402557373,
          "ratings_count": 624,
          "title": "Death Of a Temptress (DS Dave Slater, #1)"
         },
         {
          "average_rating": 4.62,
          "norm0": 1.5357954502105713,
          "ratings_count": 77,
          "title": "Ghostsitter"
         },
         {
          "average_rating": 3.88,
          "norm0": 1.5533465147018433,
          "ratings_count": 299,
          "title": "Golden Buddha (Oregon Files, #1)"
         },
         {
          "average_rating": 4.01,
          "norm0": 1.957065463066101,
          "ratings_count": 1272,
          "title": "Deadly Stillwater (McRyan Mystery Series, #2)"
         },
         {
          "average_rating": 4.08,
          "norm0": 3.0291197299957275,
          "ratings_count": 76,
          "title": "A Shred of Truth (Aramis Black Mystery Series #2)"
         },
         {
          "average_rating": 4.3,
          "norm0": 1.593528151512146,
          "ratings_count": 5,
          "title": "Killing Weeds"
         },
         {
          "average_rating": 3.55,
          "norm0": 1.776810646057129,
          "ratings_count": 51,
          "title": "Sherlock Holmes Revenant"
         },
         {
          "average_rating": 3.48,
          "norm0": 1.876091480255127,
          "ratings_count": 47,
          "title": "A Most Wanted Man"
         },
         {
          "average_rating": 3.77,
          "norm0": 1.7473937273025513,
          "ratings_count": 153,
          "title": "The Quiet Don: The Untold Story of Mafia Kingpin Russell Bufalino"
         },
         {
          "average_rating": 3.6,
          "norm0": 1.7769393920898438,
          "ratings_count": 6,
          "title": "The Twilight Wife"
         },
         {
          "average_rating": 3.47,
          "norm0": 3.307119131088257,
          "ratings_count": 273,
          "title": "I'd Know You Anywhere"
         },
         {
          "average_rating": 3.87,
          "norm0": 2.8767459392547607,
          "ratings_count": 224,
          "title": "Sticks and Scones (Goldy Bear Culinary Mystery, Book 10)"
         },
         {
          "average_rating": 3.84,
          "norm0": 2.485189437866211,
          "ratings_count": 5372,
          "title": "Chopping Spree (A Goldy Bear Culinary Mystery, #11)"
         },
         {
          "average_rating": 3.63,
          "norm0": 2.48929762840271,
          "ratings_count": 8,
          "title": "Load the Boat"
         },
         {
          "average_rating": 4.23,
          "norm0": 2.5198304653167725,
          "ratings_count": 24987,
          "title": "Buried Prey (Lucas Davenport, #21)"
         },
         {
          "average_rating": 3.6,
          "norm0": 1.4176918268203735,
          "ratings_count": 127,
          "title": "The A26"
         },
         {
          "average_rating": 3.79,
          "norm0": 1.6200153827667236,
          "ratings_count": 134,
          "title": "Chasing the Ghost"
         },
         {
          "average_rating": 3.84,
          "norm0": 1.6914029121398926,
          "ratings_count": 98,
          "title": "Why Didn't They Ask Evans?"
         },
         {
          "average_rating": 3.2,
          "norm0": 1.7892674207687378,
          "ratings_count": 180,
          "title": "Keep Me Close"
         },
         {
          "average_rating": 3.46,
          "norm0": 1.5806446075439453,
          "ratings_count": 167,
          "title": "Deceit"
         },
         {
          "average_rating": 3.74,
          "norm0": 1.6707758903503418,
          "ratings_count": 125,
          "title": "My Soul To Take (Þóra Guðmundsdóttir, #2)"
         },
         {
          "average_rating": 3.94,
          "norm0": 2.6494858264923096,
          "ratings_count": 15,
          "title": "Bold Blood"
         },
         {
          "average_rating": 3.88,
          "norm0": 1.9141545295715332,
          "ratings_count": 10,
          "title": "The Lost"
         },
         {
          "average_rating": 4.43,
          "norm0": 1.5349925756454468,
          "ratings_count": 387,
          "title": "Never Say Die (Alex Rider, #11)"
         },
         {
          "average_rating": 3.67,
          "norm0": 1.788572907447815,
          "ratings_count": 32,
          "title": "Dead Sea Cipher"
         },
         {
          "average_rating": 3.84,
          "norm0": 2.1462182998657227,
          "ratings_count": 136,
          "title": "Watching the Ghosts (Joe Plantagent, #4)"
         },
         {
          "average_rating": 3.8,
          "norm0": 1.3896070718765259,
          "ratings_count": 69,
          "title": "Arisa, Vol. 12"
         },
         {
          "average_rating": 2.78,
          "norm0": 1.2559279203414917,
          "ratings_count": 9,
          "title": "A Passing Advantage"
         },
         {
          "average_rating": 4.3,
          "norm0": 2.084364414215088,
          "ratings_count": 317,
          "title": "Lost"
         },
         {
          "average_rating": 4.11,
          "norm0": 1.3300622701644897,
          "ratings_count": 98,
          "title": "The Girl with the Dragon Tattoo (Millennium, #1)"
         },
         {
          "average_rating": 3.65,
          "norm0": 1.9402867555618286,
          "ratings_count": 20,
          "title": "Capricious"
         },
         {
          "average_rating": 3.23,
          "norm0": 2.5557141304016113,
          "ratings_count": 545,
          "title": "The Art of Peeling an Orange"
         },
         {
          "average_rating": 4.01,
          "norm0": 2.466933012008667,
          "ratings_count": 1353,
          "title": "Postmortem (Kay Scarpetta, #1)"
         },
         {
          "average_rating": 4.57,
          "norm0": 0.8030669093132019,
          "ratings_count": 35,
          "title": "Honeybun One and Done (Honeybun Heat #8)"
         },
         {
          "average_rating": 4.12,
          "norm0": 1.2688273191452026,
          "ratings_count": 34,
          "title": "A Cold Treachery (Inspector Ian Rutledge, #7)"
         },
         {
          "average_rating": 3.86,
          "norm0": 1.871016263961792,
          "ratings_count": 1222,
          "title": "Cellar of Horror: The Story of Gary Heidnik"
         },
         {
          "average_rating": 2.98,
          "norm0": 1.2542792558670044,
          "ratings_count": 63,
          "title": "The Scroll Lawyers"
         },
         {
          "average_rating": 4.15,
          "norm0": 1.2681522369384766,
          "ratings_count": 9,
          "title": "Hidden Betrayal"
         },
         {
          "average_rating": 3.52,
          "norm0": 1.3693788051605225,
          "ratings_count": 282,
          "title": "Missing Witness"
         },
         {
          "average_rating": 4.12,
          "norm0": 2.0446391105651855,
          "ratings_count": 1137,
          "title": "Random Acts (Joanna Brady, #16.6; Ali Reynolds, #11.5)"
         },
         {
          "average_rating": 4.18,
          "norm0": 2.2194483280181885,
          "ratings_count": 1194,
          "title": "Downfall (Joanna Brady, #17)"
         },
         {
          "average_rating": 4,
          "norm0": 1.5832419395446777,
          "ratings_count": 1250,
          "title": "Deadly Proof (A Victorian San Francisco Mystery #4)"
         },
         {
          "average_rating": 3.93,
          "norm0": 1.887892723083496,
          "ratings_count": 67,
          "title": "The Halston Hit (Joanna Hayworth Vintage Clothing mysteries Book 4)"
         },
         {
          "average_rating": 3.88,
          "norm0": 1.9176265001296997,
          "ratings_count": 6718,
          "title": "Penpal"
         },
         {
          "average_rating": 3.77,
          "norm0": 2.459601879119873,
          "ratings_count": 131,
          "title": "The Price of Candy (Sandy Reid Mysteries, #2)"
         },
         {
          "average_rating": 4.06,
          "norm0": 1.951067566871643,
          "ratings_count": 38,
          "title": "Scheduled to Die (A Carter Mays Mystery #2)"
         },
         {
          "average_rating": 3.94,
          "norm0": 2.791264057159424,
          "ratings_count": 8,
          "title": "A Christmas to Die For (The Three Sisters Inn, #2)"
         },
         {
          "average_rating": 3.91,
          "norm0": 2.1716177463531494,
          "ratings_count": 487,
          "title": "Perfect Poison: A Female Serial Killer's Deadly Medicine"
         },
         {
          "average_rating": 4.1,
          "norm0": 1.1968190670013428,
          "ratings_count": 324,
          "title": "Hidden Prey (Lucas Davenport, #15)"
         },
         {
          "average_rating": 3.78,
          "norm0": 2.413188934326172,
          "ratings_count": 7,
          "title": "Montgomery Vale: Scorched"
         },
         {
          "average_rating": 4.21,
          "norm0": 1.555556058883667,
          "ratings_count": 14,
          "title": "Coda to Murder"
         },
         {
          "average_rating": 4.41,
          "norm0": 2.0861120223999023,
          "ratings_count": 72,
          "title": "Outsourced"
         },
         {
          "average_rating": 3.77,
          "norm0": 2.0719213485717773,
          "ratings_count": 494,
          "title": "Family Skeletons (Torie O'Shea, #1)"
         },
         {
          "average_rating": 3.48,
          "norm0": 2.223461389541626,
          "ratings_count": 8,
          "title": "Death and the Lit Chick (St. Just Mystery #2)"
         },
         {
          "average_rating": 4.17,
          "norm0": 1.5463006496429443,
          "ratings_count": 32,
          "title": "The Siege"
         },
         {
          "average_rating": 3.83,
          "norm0": 1.6406924724578857,
          "ratings_count": 13,
          "title": "Forty Words for Sorrow"
         },
         {
          "average_rating": 3.93,
          "norm0": 1.730796456336975,
          "ratings_count": 10,
          "title": "Finding Sheba"
         },
         {
          "average_rating": 4.08,
          "norm0": 1.855912446975708,
          "ratings_count": 243,
          "title": "Vampire Requiem (Vampire for Hire, #10.5)"
         },
         {
          "average_rating": 4.27,
          "norm0": 2.2540132999420166,
          "ratings_count": 20,
          "title": "The Thing About Scorpions (Scorpions, #1)"
         },
         {
          "average_rating": 3.66,
          "norm0": 1.4971321821212769,
          "ratings_count": 1063,
          "title": "Old City Hall (Detective Greene, #1)"
         },
         {
          "average_rating": 4.07,
          "norm0": 1.4212311506271362,
          "ratings_count": 83,
          "title": "With A Bullet: Shadow of the Templar"
         },
         {
          "average_rating": 3.97,
          "norm0": 1.5722944736480713,
          "ratings_count": 3608,
          "title": "Mortal Arts (Lady Darby Mystery, #2)"
         },
         {
          "average_rating": 4.46,
          "norm0": 1.4094759225845337,
          "ratings_count": 132,
          "title": "Enigma of Life (Enigma #1)"
         },
         {
          "average_rating": 3.73,
          "norm0": 1.7768008708953857,
          "ratings_count": 32,
          "title": "The Corpse with the Ruby Lips (Cait Morgan #8)"
         },
         {
          "average_rating": 4.48,
          "norm0": 1.9519221782684326,
          "ratings_count": 27,
          "title": "Marriage before Death"
         },
         {
          "average_rating": 4.05,
          "norm0": 1.986962080001831,
          "ratings_count": 649,
          "title": "The Likeness (Dublin Murder Squad, #2)"
         },
         {
          "average_rating": 3.75,
          "norm0": 1.8400850296020508,
          "ratings_count": 1127,
          "title": "In the Woods (Dublin Murder Squad, #1)"
         },
         {
          "average_rating": 3.85,
          "norm0": 1.2549242973327637,
          "ratings_count": 90,
          "title": "The Absent One"
         },
         {
          "average_rating": 3.76,
          "norm0": 2.086331844329834,
          "ratings_count": 2089,
          "title": "Queenpin"
         },
         {
          "average_rating": 3.9,
          "norm0": 2.3067750930786133,
          "ratings_count": 30,
          "title": "The Street Was Mine: White Masculinity in Hardboiled Fiction and Film Noir"
         },
         {
          "average_rating": 3.73,
          "norm0": 1.5462607145309448,
          "ratings_count": 889,
          "title": "The Song Is You"
         },
         {
          "average_rating": 3.69,
          "norm0": 0.9831206798553467,
          "ratings_count": 1604,
          "title": "Die a Little"
         },
         {
          "average_rating": 3.78,
          "norm0": 2.050002336502075,
          "ratings_count": 366,
          "title": "A Witch's Guide to Murder (A Book & Candle Mystery Book 1)"
         },
         {
          "average_rating": 3.85,
          "norm0": 1.5356221199035645,
          "ratings_count": 145,
          "title": "Flying Too High (Miss Fisher's Murder Mystery #2)"
         },
         {
          "average_rating": 3.34,
          "norm0": 2.1656007766723633,
          "ratings_count": 2609,
          "title": "1222 (Hanne Wilhelmsen, #8)"
         },
         {
          "average_rating": 3.84,
          "norm0": 2.51155948638916,
          "ratings_count": 38,
          "title": "The Forgotten Affairs of Youth"
         },
         {
          "average_rating": 4.13,
          "norm0": 1.604480504989624,
          "ratings_count": 51,
          "title": "The Book of the Dead (Pendergast, #7/Diogenes, #3)"
         },
         {
          "average_rating": 3.89,
          "norm0": 1.4924111366271973,
          "ratings_count": 36,
          "title": "Hekate's Chalice (Adept Solutions, #1)"
         },
         {
          "average_rating": 3.77,
          "norm0": 2.1358113288879395,
          "ratings_count": 1765,
          "title": "Camino Island"
         },
         {
          "average_rating": 4.34,
          "norm0": 1.527675986289978,
          "ratings_count": 13,
          "title": "Catastrophic"
         },
         {
          "average_rating": 3.8,
          "norm0": 1.0588793754577637,
          "ratings_count": 70,
          "title": "Dirty Little Secret (Legoland Trilogy #3)"
         },
         {
          "average_rating": 4.55,
          "norm0": 2.2311525344848633,
          "ratings_count": 22,
          "title": "Secrets and Pies (Callie's Kitchen Mystery #3)"
         },
         {
          "average_rating": 3.34,
          "norm0": 1.7670916318893433,
          "ratings_count": 67,
          "title": "Paris Spring"
         },
         {
          "average_rating": 3.89,
          "norm0": 1.8708558082580566,
          "ratings_count": 92,
          "title": "The Missing Element (James Becker, #2)"
         },
         {
          "average_rating": 3.62,
          "norm0": 1.6284427642822266,
          "ratings_count": 15,
          "title": "Death of a Nightingale"
         },
         {
          "average_rating": 3.81,
          "norm0": 1.4358670711517334,
          "ratings_count": 60,
          "title": "Saving Max"
         },
         {
          "average_rating": 4.28,
          "norm0": 1.6601684093475342,
          "ratings_count": 121,
          "title": "The Beautiful Thief (Stolen Hearts. #2)"
         },
         {
          "average_rating": 4.24,
          "norm0": 2.085414171218872,
          "ratings_count": 249,
          "title": "Running (PAVAD: FBI Romantic Suspense, #6)"
         },
         {
          "average_rating": 3.88,
          "norm0": 1.0997201204299927,
          "ratings_count": 447,
          "title": "Crescent City Connection (Skip Langdon, #7)"
         },
         {
          "average_rating": 3.85,
          "norm0": 1.1611814498901367,
          "ratings_count": 2320,
          "title": "Tell Me, Pretty Maiden (Molly Murphy Mysteries, #7)"
         },
         {
          "average_rating": 3.83,
          "norm0": 1.3224408626556396,
          "ratings_count": 43,
          "title": "Evan and Elle"
         },
         {
          "average_rating": 3.65,
          "norm0": 1.7453340291976929,
          "ratings_count": 410,
          "title": "The Lazarus Trap"
         },
         {
          "average_rating": 3.45,
          "norm0": 1.5616049766540527,
          "ratings_count": 24,
          "title": "We Are Here"
         },
         {
          "average_rating": 3.8,
          "norm0": 1.4625170230865479,
          "ratings_count": 71,
          "title": "The Strangler Vine (The Blake and Avery Mystery Series #1)"
         },
         {
          "average_rating": 4.31,
          "norm0": 1.70399808883667,
          "ratings_count": 9,
          "title": "A Song of Shadows (Charlie Parker, #13)"
         },
         {
          "average_rating": 3.98,
          "norm0": 1.4697227478027344,
          "ratings_count": 225,
          "title": "Too Late to Say Goodbye: A True Story of Murder and Betrayal"
         },
         {
          "average_rating": 3.92,
          "norm0": 1.6048952341079712,
          "ratings_count": 256,
          "title": "A Fatal Appraisal (A Collectible Mystery, #2)"
         },
         {
          "average_rating": 3.95,
          "norm0": 2.2779366970062256,
          "ratings_count": 62,
          "title": "STARR FALL (Starr Fall, #1)"
         },
         {
          "average_rating": 3.73,
          "norm0": 2.800541877746582,
          "ratings_count": 20,
          "title": "George Gently Omnibus (Books 1 to 4)"
         },
         {
          "average_rating": 4.07,
          "norm0": 1.3715487718582153,
          "ratings_count": 59,
          "title": "The Executioner's Song"
         },
         {
          "average_rating": 3.44,
          "norm0": 1.3122984170913696,
          "ratings_count": 404,
          "title": "The Edge of Desire"
         },
         {
          "average_rating": 3.71,
          "norm0": 1.300661325454712,
          "ratings_count": 105,
          "title": "Shanghai Redemption"
         },
         {
          "average_rating": 3.64,
          "norm0": 2.1071550846099854,
          "ratings_count": 179,
          "title": "The Madoff Chronicles: Inside the Secret World of Bernie and Ruth"
         },
         {
          "average_rating": 3.34,
          "norm0": 2.426647663116455,
          "ratings_count": 204,
          "title": "Belfast Girls"
         },
         {
          "average_rating": 4.26,
          "norm0": 1.244932770729065,
          "ratings_count": 123,
          "title": "Ceremony in Death (In Death, #5)"
         },
         {
          "average_rating": 3.61,
          "norm0": 1.9651685953140259,
          "ratings_count": 43,
          "title": "The Ward (Downside, #2)"
         },
         {
          "average_rating": 4.24,
          "norm0": 2.1282734870910645,
          "ratings_count": 1225,
          "title": "The Silenced (Jonathan Quinn, #4)"
         },
         {
          "average_rating": 3.61,
          "norm0": 1.4635578393936157,
          "ratings_count": 5,
          "title": "Double Take (Hank Hammond P.I., #1)"
         },
         {
          "average_rating": 3.7,
          "norm0": 1.418044090270996,
          "ratings_count": 14,
          "title": "Requiem for a Mezzo (Daisy Dalrymple #3)"
         },
         {
          "average_rating": 3.81,
          "norm0": 1.6860164403915405,
          "ratings_count": 178,
          "title": "Pill City: How Two Honor Roll Students Foiled the Feds and Built a Drug Empire"
         },
         {
          "average_rating": 3.57,
          "norm0": 1.3605101108551025,
          "ratings_count": 155,
          "title": "Snowblind (Dark Iceland #1)"
         },
         {
          "average_rating": 4.05,
          "norm0": 1.5172990560531616,
          "ratings_count": 6,
          "title": "Homecoming (Talbott & Burns Mystery 1)"
         },
         {
          "average_rating": 3.81,
          "norm0": 2.9071390628814697,
          "ratings_count": 95,
          "title": "Joe Café"
         },
         {
          "average_rating": 4.32,
          "norm0": 1.7971872091293335,
          "ratings_count": 278,
          "title": "Exploited (Kate Lange #4)"
         },
         {
          "average_rating": 4.17,
          "norm0": 2.295482873916626,
          "ratings_count": 55,
          "title": "Gwendolyn vs. the Band of Barren Hearts (Monster 1)"
         },
         {
          "average_rating": 3.67,
          "norm0": 2.7622578144073486,
          "ratings_count": 169,
          "title": "The Anatomy of Death (Dr Dody McCleland, #1)"
         },
         {
          "average_rating": 3.88,
          "norm0": 2.9983274936676025,
          "ratings_count": 16,
          "title": "In Gallup, Greed (Cinnamon/Burro New Mexico Mysteries #6)"
         },
         {
          "average_rating": 3.99,
          "norm0": 1.2740565538406372,
          "ratings_count": 191,
          "title": "Havana Black"
         },
         {
          "average_rating": 3.74,
          "norm0": 1.2332743406295776,
          "ratings_count": 107,
          "title": "The Third Woman (Stephanie Patrick #4)"
         },
         {
          "average_rating": 3.96,
          "norm0": 1.624775767326355,
          "ratings_count": 788,
          "title": "Encyclopedia Brown Shows the Way (Encyclopedia Brown, #9)"
         },
         {
          "average_rating": 3.47,
          "norm0": 1.7285250425338745,
          "ratings_count": 624,
          "title": "The Edible Exile"
         },
         {
          "average_rating": 3.58,
          "norm0": 2.5861997604370117,
          "ratings_count": 216,
          "title": "Accidents Waiting to Happen"
         },
         {
          "average_rating": 3.9,
          "norm0": 1.3084691762924194,
          "ratings_count": 567,
          "title": "The Green Line"
         },
         {
          "average_rating": 3.95,
          "norm0": 1.410585641860962,
          "ratings_count": 167,
          "title": "Private:  #1 Suspect"
         },
         {
          "average_rating": 3.99,
          "norm0": 1.7372705936431885,
          "ratings_count": 668,
          "title": "Dark Secret (DS Ava Merry and DI Jim Neal, #2)"
         },
         {
          "average_rating": 3.65,
          "norm0": 3.0296428203582764,
          "ratings_count": 592,
          "title": "The Amun Chamber"
         },
         {
          "average_rating": 3.77,
          "norm0": 1.2446571588516235,
          "ratings_count": 129,
          "title": "Riding the Rap (Raylan Givens, #2)"
         },
         {
          "average_rating": 3.69,
          "norm0": 2.003340244293213,
          "ratings_count": 166,
          "title": "Bob Moore: No Hero  (Bob Moore, #1)"
         },
         {
          "average_rating": 4.24,
          "norm0": 1.6371958255767822,
          "ratings_count": 42,
          "title": "Calculated in Death (In Death, #36)"
         },
         {
          "average_rating": 4.04,
          "norm0": 1.376120686531067,
          "ratings_count": 281,
          "title": "Until Proven Innocent: Political Correctness and the Shameful Injustices of the Duke Lacrosse Rape Case"
         },
         {
          "average_rating": 4.11,
          "norm0": 0.9409237504005432,
          "ratings_count": 7271,
          "title": "Lullaby Town (Elvis Cole, #3)"
         },
         {
          "average_rating": 4.58,
          "norm0": 1.2806426286697388,
          "ratings_count": 58,
          "title": "Vanished! (T.O.A.S.T. Mystery #2)"
         },
         {
          "average_rating": 4.01,
          "norm0": 1.441509485244751,
          "ratings_count": 115,
          "title": "Grab"
         },
         {
          "average_rating": 3.58,
          "norm0": 1.3087354898452759,
          "ratings_count": 55,
          "title": "Art of Deception (Kate Hanson #2)"
         },
         {
          "average_rating": 3.59,
          "norm0": 2.013134479522705,
          "ratings_count": 29,
          "title": "Castaways"
         },
         {
          "average_rating": 3.75,
          "norm0": 1.6758670806884766,
          "ratings_count": 3452,
          "title": "The Good Nurse: A True Story of Medicine, Madness, and Murder"
         },
         {
          "average_rating": 3.65,
          "norm0": 1.3678237199783325,
          "ratings_count": 27,
          "title": "Final Seconds"
         },
         {
          "average_rating": 3.56,
          "norm0": 2.040616273880005,
          "ratings_count": 354,
          "title": "Mother Knows Best"
         },
         {
          "average_rating": 3.92,
          "norm0": 1.9523060321807861,
          "ratings_count": 180,
          "title": "Drop Shot (Myron Bolitar, #2)"
         },
         {
          "average_rating": 4.11,
          "norm0": 1.692448377609253,
          "ratings_count": 9,
          "title": "Crescent Moon"
         },
         {
          "average_rating": 3.97,
          "norm0": 2.1748061180114746,
          "ratings_count": 316,
          "title": "The Faithful Spy (John Wells, #1)"
         },
         {
          "average_rating": 3.49,
          "norm0": 1.4307680130004883,
          "ratings_count": 1149,
          "title": "The Infatuations"
         },
         {
          "average_rating": 4.04,
          "norm0": 1.734534740447998,
          "ratings_count": 191,
          "title": "Atonement of Blood (Sister Fidelma, #24)"
         },
         {
          "average_rating": 4.37,
          "norm0": 1.0815919637680054,
          "ratings_count": 27,
          "title": "A Note Before Dying (A Ghostwriter Mystery Book 6)"
         },
         {
          "average_rating": 3.58,
          "norm0": 1.9452669620513916,
          "ratings_count": 39,
          "title": "Tipping Point"
         },
         {
          "average_rating": 3.56,
          "norm0": 1.4245179891586304,
          "ratings_count": 302,
          "title": "The Magdalena Curse"
         },
         {
          "average_rating": 3.74,
          "norm0": 1.9244587421417236,
          "ratings_count": 1890,
          "title": "Trigger Mortis"
         },
         {
          "average_rating": 3.8,
          "norm0": 2.1331980228424072,
          "ratings_count": 53,
          "title": "Beneath"
         },
         {
          "average_rating": 3.76,
          "norm0": 1.534958839416504,
          "ratings_count": 257,
          "title": "Death Sits Down to Dinner (Lady Montfort Mystery, #2)"
         },
         {
          "average_rating": 3.7,
          "norm0": 1.9630314111709595,
          "ratings_count": 15,
          "title": "A Gift for Murder"
         },
         {
          "average_rating": 4.06,
          "norm0": 2.11527156829834,
          "ratings_count": 43,
          "title": "Thirteenth Night (Fools' Guild, #1)"
         },
         {
          "average_rating": 3.6,
          "norm0": 1.9431294202804565,
          "ratings_count": 500,
          "title": "Twenty Seven Bones"
         },
         {
          "average_rating": 4.18,
          "norm0": 2.486196756362915,
          "ratings_count": 43,
          "title": "Broken Allegiance (Tom Kagan, #1)"
         },
         {
          "average_rating": 4.29,
          "norm0": 2.2375009059906006,
          "ratings_count": 33,
          "title": "Strangers in Death"
         },
         {
          "average_rating": 4.3,
          "norm0": 1.0179353952407837,
          "ratings_count": 182,
          "title": "Blackout (Callsign: King - Book 3 - A Jack Sigler - Chess Team Novella)"
         },
         {
          "average_rating": 3.15,
          "norm0": 2.4481112957000732,
          "ratings_count": 8,
          "title": "Triangle"
         },
         {
          "average_rating": 4.3,
          "norm0": 1.3337231874465942,
          "ratings_count": 44,
          "title": "Beyond A Doubt (The Carol Childs Mysteries, #2)"
         },
         {
          "average_rating": 4.56,
          "norm0": 1.6254239082336426,
          "ratings_count": 16,
          "title": "Goodbye Nothing"
         },
         {
          "average_rating": 4.2,
          "norm0": 2.126922607421875,
          "ratings_count": 51,
          "title": "The Power of a Woman: A Mafia Erotic Romance"
         },
         {
          "average_rating": 3.92,
          "norm0": 2.1434009075164795,
          "ratings_count": 163,
          "title": "Killer Instinct (Jessica Coran #1)"
         },
         {
          "average_rating": 2.59,
          "norm0": 2.192680597305298,
          "ratings_count": 11,
          "title": "The Man Behind the Mask"
         },
         {
          "average_rating": 3.93,
          "norm0": 2.1243057250976562,
          "ratings_count": 4656,
          "title": "The Heiress of Linn Hagh (Detective Lavender Mysteries, #1)"
         },
         {
          "average_rating": 4.14,
          "norm0": 2.3228647708892822,
          "ratings_count": 22,
          "title": "The Unexpected Mrs. Pollifax (Mrs. Pollifax, #1)"
         },
         {
          "average_rating": 3.56,
          "norm0": 1.6517797708511353,
          "ratings_count": 536,
          "title": "The Wimbledon Poisoner"
         },
         {
          "average_rating": 3.77,
          "norm0": 3.46239972114563,
          "ratings_count": 365,
          "title": "The Case of the Cautious Coquette"
         },
         {
          "average_rating": 3.91,
          "norm0": 2.53523850440979,
          "ratings_count": 11,
          "title": "The Sleeping Beauty Killer (Under Suspicion, #4)"
         },
         {
          "average_rating": 3.67,
          "norm0": 1.509055256843567,
          "ratings_count": 65,
          "title": "Dinner with the Cannibal Sisters"
         },
         {
          "average_rating": 3.75,
          "norm0": 2.398972511291504,
          "ratings_count": 247,
          "title": "Night of the Living Deb (Debutante Dropout, #4)"
         },
         {
          "average_rating": 3.89,
          "norm0": 1.8899446725845337,
          "ratings_count": 35,
          "title": "Grave Mistake"
         },
         {
          "average_rating": 3.61,
          "norm0": 1.5057491064071655,
          "ratings_count": 51,
          "title": "The Nursing Home Murder"
         },
         {
          "average_rating": 3.27,
          "norm0": 1.6916558742523193,
          "ratings_count": 52,
          "title": "Claudine"
         },
         {
          "average_rating": 4.12,
          "norm0": 2.089761257171631,
          "ratings_count": 283,
          "title": "The Last Confession of Thomas Hawkins (Tom Hawkins, #2)"
         },
         {
          "average_rating": 4.22,
          "norm0": 1.7885795831680298,
          "ratings_count": 65,
          "title": "Lord of Misrule Vol. Two"
         },
         {
          "average_rating": 4,
          "norm0": 1.2845675945281982,
          "ratings_count": 7,
          "title": "Godbomb!"
         },
         {
          "average_rating": 3.79,
          "norm0": 1.6543773412704468,
          "ratings_count": 471,
          "title": "Created, The Destroyer (The Destroyer, #1)"
         },
         {
          "average_rating": 3.51,
          "norm0": 1.8040035963058472,
          "ratings_count": 28,
          "title": "Spicy Murder"
         },
         {
          "average_rating": 3.72,
          "norm0": 2.1059751510620117,
          "ratings_count": 842,
          "title": "Hannibal (Hannibal Lecter, #3)"
         },
         {
          "average_rating": 4.01,
          "norm0": 2.243852376937866,
          "ratings_count": 37,
          "title": "The Falls (Inspector Rebus, #12)"
         },
         {
          "average_rating": 3.91,
          "norm0": 3.264875888824463,
          "ratings_count": 1287,
          "title": "White is the Coldest Colour (Dr David Galbraith, #1)"
         },
         {
          "average_rating": 3.72,
          "norm0": 1.708842158317566,
          "ratings_count": 234,
          "title": "Murderous Minds: Exploring the Criminal Psychopathic Brain: Neurological Imaging and the Manifestation of Evil"
         },
         {
          "average_rating": 3.71,
          "norm0": 1.6495108604431152,
          "ratings_count": 154,
          "title": "Death in Sardinia"
         },
         {
          "average_rating": 3.56,
          "norm0": 0.7786381244659424,
          "ratings_count": 373,
          "title": "The Weight"
         },
         {
          "average_rating": 4.19,
          "norm0": 1.4285662174224854,
          "ratings_count": 930,
          "title": "Beyond A Reasonable Death (Thaddeus Murfee Legal Thriller, #2)"
         },
         {
          "average_rating": 3.86,
          "norm0": 1.6934778690338135,
          "ratings_count": 15,
          "title": "Frogs, Snails, And A Lot Of Wails (Mellow Summers, #2)"
         },
         {
          "average_rating": 4.08,
          "norm0": 1.2601499557495117,
          "ratings_count": 154,
          "title": "Undertow (The Julesburg Mysteries #3)"
         },
         {
          "average_rating": 3.91,
          "norm0": 1.3920170068740845,
          "ratings_count": 10142,
          "title": "Silent Partner (Alex Delaware, #4)"
         },
         {
          "average_rating": 3.28,
          "norm0": 1.7537610530853271,
          "ratings_count": 84,
          "title": "Black Valley"
         },
         {
          "average_rating": 4.08,
          "norm0": 1.8057135343551636,
          "ratings_count": 554,
          "title": "The Callsign (Pike Logan, #2.5)"
         },
         {
          "average_rating": 3.57,
          "norm0": 1.8356679677963257,
          "ratings_count": 475,
          "title": "Eva's Eye (Inspector Konrad Sejer, #1)"
         },
         {
          "average_rating": 3.86,
          "norm0": 2.2327756881713867,
          "ratings_count": 577,
          "title": "The Homecoming"
         },
         {
          "average_rating": 4.1,
          "norm0": 2.046091079711914,
          "ratings_count": 208,
          "title": "Doom with a View (Psychic Eye Mystery, #7)"
         },
         {
          "average_rating": 3.74,
          "norm0": 1.2268614768981934,
          "ratings_count": 1645,
          "title": "Angel's Tip (Ellie Hatcher #2)"
         },
         {
          "average_rating": 3.77,
          "norm0": 2.13543438911438,
          "ratings_count": 114,
          "title": "Can't Find My Way Home"
         },
         {
          "average_rating": 3.99,
          "norm0": 1.3689628839492798,
          "ratings_count": 115,
          "title": "White Butterfly (Easy Rawlins, #3)"
         },
         {
          "average_rating": 4.12,
          "norm0": 1.2054202556610107,
          "ratings_count": 296,
          "title": "Hush Little Baby (A Jefferson Winter Thriller #0.6; The Jefferson Winter Chronicles #2)"
         },
         {
          "average_rating": 3.74,
          "norm0": 1.5354671478271484,
          "ratings_count": 202,
          "title": "People Who Eat Darkness: The True Story of a Young Woman Who Vanished from the Streets of Tokyo - and the Evil That Swallowed Her Up"
         },
         {
          "average_rating": 3.6,
          "norm0": 2.253946542739868,
          "ratings_count": 53,
          "title": "With Full Malice"
         },
         {
          "average_rating": 4.12,
          "norm0": 2.0656237602233887,
          "ratings_count": 25,
          "title": "Witness the Dead"
         },
         {
          "average_rating": 3.96,
          "norm0": 1.9824912548065186,
          "ratings_count": 43,
          "title": "Whispers of the Dead (Zoë Delante Thrillers, #1)"
         },
         {
          "average_rating": 3.88,
          "norm0": 1.6845202445983887,
          "ratings_count": 6,
          "title": "The Devil's Vial"
         },
         {
          "average_rating": 4.46,
          "norm0": 1.7812156677246094,
          "ratings_count": 43,
          "title": "The Mystery of the Hidden Jewels (Skylar Robbins #2)"
         },
         {
          "average_rating": 3.93,
          "norm0": 1.6252527236938477,
          "ratings_count": 322,
          "title": "The Warrior"
         },
         {
          "average_rating": 4.5,
          "norm0": 2.242058753967285,
          "ratings_count": 966,
          "title": "Shyt List"
         },
         {
          "average_rating": 3.96,
          "norm0": 1.8911312818527222,
          "ratings_count": 187,
          "title": "If We Were Villains"
         },
         {
          "average_rating": 3.69,
          "norm0": 1.6187328100204468,
          "ratings_count": 183,
          "title": "Forty Days Without Shadow"
         },
         {
          "average_rating": 3.62,
          "norm0": 1.5599327087402344,
          "ratings_count": 67,
          "title": "The Teeth Of The Tiger"
         },
         {
          "average_rating": 3.78,
          "norm0": 2.4011037349700928,
          "ratings_count": 47,
          "title": "Almost Midnight: An American Story of Murder and Redemption"
         },
         {
          "average_rating": 3.41,
          "norm0": 1.0114409923553467,
          "ratings_count": 182,
          "title": "Cold Day In July (Bayou, #2)"
         },
         {
          "average_rating": 4.04,
          "norm0": 1.2997686862945557,
          "ratings_count": 3,
          "title": "Death In A White Tie"
         },
         {
          "average_rating": 3.91,
          "norm0": 1.4334551095962524,
          "ratings_count": 25,
          "title": "Let It Bleed (Lucy Collins #2)"
         },
         {
          "average_rating": 3.55,
          "norm0": 1.535893440246582,
          "ratings_count": 53,
          "title": "First Fruits"
         },
         {
          "average_rating": 3.64,
          "norm0": 1.564191460609436,
          "ratings_count": 44,
          "title": "The Bridesmaid"
         },
         {
          "average_rating": 3.33,
          "norm0": 2.1315159797668457,
          "ratings_count": 102,
          "title": "Immunity"
         },
         {
          "average_rating": 4.27,
          "norm0": 1.5130521059036255,
          "ratings_count": 95,
          "title": "Confiscated (South Hills Sidekicks, #2)"
         },
         {
          "average_rating": 3.69,
          "norm0": 2.838331937789917,
          "ratings_count": 55,
          "title": "False Hearts"
         },
         {
          "average_rating": 4.23,
          "norm0": 2.5391316413879395,
          "ratings_count": 29,
          "title": "Strange Lies (Strange Truth, #2)"
         },
         {
          "average_rating": 3.78,
          "norm0": 1.5018491744995117,
          "ratings_count": 1510,
          "title": "The Mask Of Troy (Jack Howard, #5)"
         },
         {
          "average_rating": 3.78,
          "norm0": 1.5963772535324097,
          "ratings_count": 21,
          "title": "The Mask Of Troy (Jack Howard, #5)"
         },
         {
          "average_rating": 3.59,
          "norm0": 1.7507905960083008,
          "ratings_count": 65,
          "title": "Playmates"
         },
         {
          "average_rating": 4.55,
          "norm0": 1.737053632736206,
          "ratings_count": 181,
          "title": "NOLA (Haunted Series Book 14)"
         },
         {
          "average_rating": 3.07,
          "norm0": 1.773638367652893,
          "ratings_count": 53,
          "title": "Amnesia"
         },
         {
          "average_rating": 3.79,
          "norm0": 2.1723721027374268,
          "ratings_count": 3169,
          "title": "Always Time to Die (St. Kilda Consulting, #1)"
         },
         {
          "average_rating": 3.9,
          "norm0": 1.9218401908874512,
          "ratings_count": 277,
          "title": "The Mystery of Nevermore (Snow & Winter Book 1)"
         },
         {
          "average_rating": 3.74,
          "norm0": 2.370859146118164,
          "ratings_count": 608,
          "title": "The Couple Next Door"
         },
         {
          "average_rating": 4.19,
          "norm0": 1.0637516975402832,
          "ratings_count": 41,
          "title": "Nothing Stays Buried (Monkeewrench, #8)"
         },
         {
          "average_rating": 4.02,
          "norm0": 1.396914005279541,
          "ratings_count": 228,
          "title": "Heroes Proved (Peter Newman, #4)"
         },
         {
          "average_rating": 3.96,
          "norm0": 2.0318105220794678,
          "ratings_count": 401,
          "title": "Rosemary's Baby"
         },
         {
          "average_rating": 4.03,
          "norm0": 1.094552993774414,
          "ratings_count": 558,
          "title": "A Spy for the Redeemer (Owen Archer, #7)"
         },
         {
          "average_rating": 3.7,
          "norm0": 2.308457851409912,
          "ratings_count": 517,
          "title": "Death Cloud (Sherlock Holmes: The Legend Begins, #1)"
         },
         {
          "average_rating": 3.55,
          "norm0": 1.2552989721298218,
          "ratings_count": 14,
          "title": "Speak Now (Charley Fairfax Mystery #1)"
         },
         {
          "average_rating": 3.75,
          "norm0": 3.430196762084961,
          "ratings_count": 4,
          "title": "The Tokyo Cover Girls"
         },
         {
          "average_rating": 3.78,
          "norm0": 2.332843542098999,
          "ratings_count": 125,
          "title": "In the Still of the Night: The Strange Death of Ronda Reynolds and Her Mother's Unceasing Quest for the Truth"
         },
         {
          "average_rating": 3.99,
          "norm0": 1.3091057538986206,
          "ratings_count": 140,
          "title": "Gone Ballistic: A Robin Starling Courtroom Mystery (Robin Starling Legal Thriller Series)"
         },
         {
          "average_rating": 3.43,
          "norm0": 1.8947418928146362,
          "ratings_count": 45,
          "title": "The Reincarnationist (Reincarnationist #1)"
         },
         {
          "average_rating": 3.76,
          "norm0": 1.8743691444396973,
          "ratings_count": 807,
          "title": "Malicious Intent (Dr. Anya Crichton, #1)"
         },
         {
          "average_rating": 4.19,
          "norm0": 1.0688927173614502,
          "ratings_count": 63,
          "title": "Peete and Repeat (The Frannie Shoemaker Campground Mysteries #3)"
         },
         {
          "average_rating": 3.45,
          "norm0": 2.2708699703216553,
          "ratings_count": 366,
          "title": "Rock Bottom (A.J. Palladino, #1)"
         },
         {
          "average_rating": 3.07,
          "norm0": 1.8194823265075684,
          "ratings_count": 151,
          "title": "The Doomsday Equation"
         },
         {
          "average_rating": 3.96,
          "norm0": 1.622955083847046,
          "ratings_count": 992,
          "title": "Death Du Jour (Temperance Brennan, #2)"
         },
         {
          "average_rating": 4.05,
          "norm0": 2.548654794692993,
          "ratings_count": 2930,
          "title": "In Cold Blood"
         },
         {
          "average_rating": 3.98,
          "norm0": 2.726120710372925,
          "ratings_count": 122,
          "title": "The Kaiser's Navigator"
         },
         {
          "average_rating": 4.46,
          "norm0": 2.032318115234375,
          "ratings_count": 12,
          "title": "Fast Track to a Honeybun (Honeybun Heat #3)"
         },
         {
          "average_rating": 3.87,
          "norm0": 1.9281110763549805,
          "ratings_count": 209,
          "title": "Lemon Meringue Pie Murder (Hannah Swensen, #4)"
         },
         {
          "average_rating": 3.31,
          "norm0": 1.224307894706726,
          "ratings_count": 59,
          "title": "Foul Matter"
         },
         {
          "average_rating": 3.82,
          "norm0": 2.5482776165008545,
          "ratings_count": 123,
          "title": "Killer Smile (Rosato and Associates, #9)"
         },
         {
          "average_rating": 2.53,
          "norm0": 1.3659480810165405,
          "ratings_count": 127,
          "title": "The Magic Circle"
         },
         {
          "average_rating": 3.8,
          "norm0": 1.8189245462417603,
          "ratings_count": 18,
          "title": "Therapy (Alex Delaware, #18)"
         },
         {
          "average_rating": 3.67,
          "norm0": 1.4834680557250977,
          "ratings_count": 6537,
          "title": "The Shadow of Your Smile"
         },
         {
          "average_rating": 3.73,
          "norm0": 1.811955451965332,
          "ratings_count": 312,
          "title": "Dead Tease (A Loon Lake Mystery, #12)"
         },
         {
          "average_rating": 3.76,
          "norm0": 0.9578643441200256,
          "ratings_count": 33,
          "title": "The Last of the Smoking Bartenders"
         },
         {
          "average_rating": 3.87,
          "norm0": 1.5038636922836304,
          "ratings_count": 527,
          "title": "Cross Bones (Temperance Brennan, #8)"
         },
         {
          "average_rating": 3.66,
          "norm0": 1.8155832290649414,
          "ratings_count": 376,
          "title": "Seven Days From Sunday"
         },
         {
          "average_rating": 3.74,
          "norm0": 1.7608598470687866,
          "ratings_count": 29,
          "title": "Hell to Pay: Die Hard for Girls"
         },
         {
          "average_rating": 3.79,
          "norm0": 2.126237154006958,
          "ratings_count": 704,
          "title": "Compulsion (Frank Clevenger, #3)"
         },
         {
          "average_rating": 3.58,
          "norm0": 2.1045546531677246,
          "ratings_count": 3,
          "title": "The Hunted"
         },
         {
          "average_rating": 4.24,
          "norm0": 0.8995621204376221,
          "ratings_count": 12,
          "title": "How to Lose a Client: A Kate Williams Mystery"
         },
         {
          "average_rating": 3.83,
          "norm0": 1.6774455308914185,
          "ratings_count": 181,
          "title": "The Warlord's Son"
         },
         {
          "average_rating": 4.17,
          "norm0": 1.9141802787780762,
          "ratings_count": 279,
          "title": "Kiss and Tell (Truth or Dare #3)"
         },
         {
          "average_rating": 3.13,
          "norm0": 1.3081731796264648,
          "ratings_count": 80,
          "title": "Murder in Lascaux (Nora Barnes & Toby Sandler Mystery #1)"
         },
         {
          "average_rating": 3.82,
          "norm0": 1.914840817451477,
          "ratings_count": 2564,
          "title": "The Last Victim: A True-Life Journey into the Mind of the Serial Killer"
         },
         {
          "average_rating": 4.2,
          "norm0": 1.2525863647460938,
          "ratings_count": 24,
          "title": "Glory's Last Victim"
         },
         {
          "average_rating": 3.4,
          "norm0": 1.7192440032958984,
          "ratings_count": 1790,
          "title": "The White Devil"
         },
         {
          "average_rating": 3.37,
          "norm0": 1.5130459070205688,
          "ratings_count": 72,
          "title": "Going Organic Can Kill You (A Blossom Valley Mystery #1)"
         },
         {
          "average_rating": 4.13,
          "norm0": 1.5208559036254883,
          "ratings_count": 109,
          "title": "The Burying Place (Jonathan Stride, #5)"
         },
         {
          "average_rating": 3.77,
          "norm0": 1.9229918718338013,
          "ratings_count": 97,
          "title": "Camino Island"
         },
         {
          "average_rating": 3.93,
          "norm0": 2.0315308570861816,
          "ratings_count": 22,
          "title": "The Skin Collector"
         },
         {
          "average_rating": 3.66,
          "norm0": 1.3457754850387573,
          "ratings_count": 26,
          "title": "To Catch a Killer (Erin Blake #1)"
         },
         {
          "average_rating": 4.18,
          "norm0": 2.022116184234619,
          "ratings_count": 23,
          "title": "Live To Tell (Detective D.D. Warren, #4)"
         },
         {
          "average_rating": 3.35,
          "norm0": 1.6747543811798096,
          "ratings_count": 15,
          "title": "Wicked Games (Wicked Games, #1)"
         },
         {
          "average_rating": 3.62,
          "norm0": 2.1416690349578857,
          "ratings_count": 86,
          "title": "Live and Let Die (James Bond, #2)"
         },
         {
          "average_rating": 3.44,
          "norm0": 1.5605095624923706,
          "ratings_count": 73,
          "title": "A Brisket, a Casket (A Deadly Deli Mystery, #1)"
         },
         {
          "average_rating": 3.39,
          "norm0": 1.356668472290039,
          "ratings_count": 872,
          "title": "Don't Try to Find Me"
         }
        ]
       },
       "hconcat": [
        {
         "layer": [
          {
           "encoding": {
            "color": {
             "condition": {
              "selection": "selector002",
              "value": "#4c78a8"
             },
             "value": "lightgray"
            },
            "x": {
             "field": "ratings_count",
             "type": "quantitative"
            },
            "y": {
             "field": "norm0",
             "type": "quantitative"
            }
           },
           "mark": "circle",
           "selection": {
            "selector002": {
             "type": "interval"
            },
            "selector003": {
             "empty": "none",
             "encodings": [
              "x",
              "y"
             ],
             "nearest": true,
             "on": "mouseover",
             "type": "single"
            }
           }
          },
          {
           "encoding": {
            "text": {
             "condition": {
              "field": "title",
              "selection": "selector003",
              "type": "nominal"
             },
             "value": ""
            },
            "x": {
             "field": "ratings_count",
             "type": "quantitative"
            },
            "y": {
             "field": "norm0",
             "type": "quantitative"
            }
           },
           "mark": {
            "align": "center",
            "dx": 5,
            "dy": -5,
            "type": "text"
           }
          }
         ]
        }
       ]
      },
      "text/plain": [
       "<VegaLite 3 object>\n",
       "\n",
       "If you see this message, it means the renderer has not been properly enabled\n",
       "for the frontend that you are using. For more information, see\n",
       "https://altair-viz.github.io/user_guide/troubleshooting.html\n"
      ]
     },
     "execution_count": 45,
     "metadata": {},
     "output_type": "execute_result"
    }
   ],
   "source": [
    "book_embedding_norm(books, model_reg)"
   ]
  }
 ],
 "metadata": {
  "kernelspec": {
   "display_name": "Python 3",
   "language": "python",
   "name": "python3"
  },
  "language_info": {
   "codemirror_mode": {
    "name": "ipython",
    "version": 3
   },
   "file_extension": ".py",
   "mimetype": "text/x-python",
   "name": "python",
   "nbconvert_exporter": "python",
   "pygments_lexer": "ipython3",
   "version": "3.7.3"
  }
 },
 "nbformat": 4,
 "nbformat_minor": 2
}
